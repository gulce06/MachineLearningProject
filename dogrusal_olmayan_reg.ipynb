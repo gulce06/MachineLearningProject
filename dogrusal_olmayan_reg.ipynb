{
 "cells": [
  {
   "cell_type": "markdown",
   "metadata": {},
   "source": [
    " # Doğrusal Olmayan Regrasyon "
   ]
  },
  {
   "cell_type": "markdown",
   "metadata": {},
   "source": [
    "# KNN En Yakın Komşu "
   ]
  },
  {
   "cell_type": "code",
   "execution_count": 1,
   "metadata": {},
   "outputs": [],
   "source": [
    "import numpy as np\n",
    "import pandas as pd \n",
    "from sklearn.model_selection import train_test_split, GridSearchCV,cross_val_score\n",
    "from sklearn.metrics import mean_squared_error, r2_score\n",
    "import matplotlib.pyplot as plt\n",
    "from sklearn.preprocessing import scale \n",
    "from sklearn import model_selection\n",
    "from sklearn.tree import DecisionTreeRegressor, DecisionTreeClassifier\n",
    "from sklearn.neighbors import KNeighborsRegressor\n",
    "from sklearn.ensemble import BaggingRegressor\n",
    "\n",
    "#Aldığımız kırmızı uyarılar görünmesin diye \n",
    "from warnings import filterwarnings\n",
    "filterwarnings('ignore')"
   ]
  },
  {
   "cell_type": "code",
   "execution_count": 2,
   "metadata": {},
   "outputs": [],
   "source": [
    "hit = pd.read_csv(\"Hitters.csv\")\n",
    "df = hit.copy()\n",
    "df = df.dropna()\n",
    "dms = pd.get_dummies(df[['League', 'Division', 'NewLeague']])\n",
    "y = df[\"Salary\"]\n",
    "X_ = df.drop(['Salary', 'League', 'Division', 'NewLeague'], axis=1).astype('float64')\n",
    "X = pd.concat([X_, dms[['League_N', 'Division_W', 'NewLeague_N']]], axis=1)\n",
    "X_train, X_test, y_train, y_test = train_test_split(X, y, \n",
    "                                                    test_size=0.25, \n",
    "                                                    random_state=42)"
   ]
  },
  {
   "cell_type": "code",
   "execution_count": 3,
   "metadata": {},
   "outputs": [],
   "source": [
    "knn_model= KNeighborsRegressor().fit(X_train, y_train)"
   ]
  },
  {
   "cell_type": "code",
   "execution_count": 4,
   "metadata": {},
   "outputs": [
    {
     "data": {
      "text/plain": [
       "KNeighborsRegressor()"
      ]
     },
     "execution_count": 4,
     "metadata": {},
     "output_type": "execute_result"
    }
   ],
   "source": [
    "knn_model\n",
    "# KNN farklı komşuluk sayılarına göre farklı değerler verir. Bunu optimize edceğiz. "
   ]
  },
  {
   "cell_type": "code",
   "execution_count": 5,
   "metadata": {},
   "outputs": [
    {
     "data": {
      "text/plain": [
       "5"
      ]
     },
     "execution_count": 5,
     "metadata": {},
     "output_type": "execute_result"
    }
   ],
   "source": [
    "knn_model.n_neighbors"
   ]
  },
  {
   "cell_type": "code",
   "execution_count": 6,
   "metadata": {},
   "outputs": [
    {
     "data": {
      "text/plain": [
       "'euclidean'"
      ]
     },
     "execution_count": 6,
     "metadata": {},
     "output_type": "execute_result"
    }
   ],
   "source": [
    "knn_model.effective_metric_"
   ]
  },
  {
   "cell_type": "markdown",
   "metadata": {},
   "source": [
    "## KNN TAHMİN "
   ]
  },
  {
   "cell_type": "code",
   "execution_count": 7,
   "metadata": {},
   "outputs": [],
   "source": [
    "y_pred = knn_model.predict(X_test)"
   ]
  },
  {
   "cell_type": "code",
   "execution_count": 8,
   "metadata": {},
   "outputs": [
    {
     "data": {
      "text/plain": [
       "426.6570764525201"
      ]
     },
     "execution_count": 8,
     "metadata": {},
     "output_type": "execute_result"
    }
   ],
   "source": [
    "np.sqrt(mean_squared_error(y_test,y_pred))"
   ]
  },
  {
   "cell_type": "code",
   "execution_count": 9,
   "metadata": {},
   "outputs": [
    {
     "name": "stdout",
     "output_type": "stream",
     "text": [
      "k = 1 için RMSE değeri:  0.0\n",
      "k = 2 için RMSE değeri:  179.52761335480352\n",
      "k = 3 için RMSE değeri:  205.20157172291863\n",
      "k = 4 için RMSE değeri:  220.5139794876305\n",
      "k = 5 için RMSE değeri:  239.6467132541376\n",
      "k = 6 için RMSE değeri:  243.5904190007242\n",
      "k = 7 için RMSE değeri:  258.1478781634636\n",
      "k = 8 için RMSE değeri:  266.05374203349805\n",
      "k = 9 için RMSE değeri:  269.73782093553376\n",
      "k = 10 için RMSE değeri:  271.2798300436963\n"
     ]
    }
   ],
   "source": [
    "RMSE = [] \n",
    "\n",
    "for k in range(10):\n",
    "    k = k+1\n",
    "    knn_model = KNeighborsRegressor(n_neighbors = k).fit(X_train, y_train)\n",
    "    y_pred = knn_model.predict(X_train) \n",
    "    rmse = np.sqrt(mean_squared_error(y_train,y_pred)) \n",
    "    RMSE.append(rmse) \n",
    "    print(\"k =\" , k , \"için RMSE değeri: \", rmse)\n"
   ]
  },
  {
   "cell_type": "markdown",
   "metadata": {},
   "source": [
    "## KNN model Tunning "
   ]
  },
  {
   "cell_type": "code",
   "execution_count": 10,
   "metadata": {},
   "outputs": [],
   "source": [
    "# GridSearchCV methodu ile optimum K belirleme işlemi \n",
    "from sklearn.model_selection import GridSearchCV"
   ]
  },
  {
   "cell_type": "code",
   "execution_count": 11,
   "metadata": {},
   "outputs": [],
   "source": [
    "knn_params={\"n_neighbors\": np.arange(1,30,1)}\n",
    "# 1 den 30 a kadar bak hangi komşu daha iyi bunu bul . "
   ]
  },
  {
   "cell_type": "code",
   "execution_count": 12,
   "metadata": {},
   "outputs": [],
   "source": [
    "knn=KNeighborsRegressor()"
   ]
  },
  {
   "cell_type": "code",
   "execution_count": 13,
   "metadata": {},
   "outputs": [],
   "source": [
    "knn_cv_model= GridSearchCV(knn, knn_params, cv=10 )"
   ]
  },
  {
   "cell_type": "code",
   "execution_count": 14,
   "metadata": {},
   "outputs": [
    {
     "data": {
      "text/plain": [
       "GridSearchCV(cv=10, estimator=KNeighborsRegressor(),\n",
       "             param_grid={'n_neighbors': array([ 1,  2,  3,  4,  5,  6,  7,  8,  9, 10, 11, 12, 13, 14, 15, 16, 17,\n",
       "       18, 19, 20, 21, 22, 23, 24, 25, 26, 27, 28, 29])})"
      ]
     },
     "execution_count": 14,
     "metadata": {},
     "output_type": "execute_result"
    }
   ],
   "source": [
    "knn_cv_model.fit(X_train, y_train)"
   ]
  },
  {
   "cell_type": "code",
   "execution_count": 15,
   "metadata": {},
   "outputs": [
    {
     "data": {
      "text/plain": [
       "8"
      ]
     },
     "execution_count": 15,
     "metadata": {},
     "output_type": "execute_result"
    }
   ],
   "source": [
    "# En uygun parametre değerini bulmak için \n",
    "knn_cv_model.best_params_[\"n_neighbors\"]"
   ]
  },
  {
   "cell_type": "code",
   "execution_count": 16,
   "metadata": {},
   "outputs": [
    {
     "name": "stdout",
     "output_type": "stream",
     "text": [
      "k = 1 için RMSE değeri:  0.0 RMSE_CV değeri:  325.3947514706382\n",
      "k = 2 için RMSE değeri:  179.52761335480352 RMSE_CV değeri:  293.24000183333817\n",
      "k = 3 için RMSE değeri:  205.20157172291863 RMSE_CV değeri:  283.7486667487823\n",
      "k = 4 için RMSE değeri:  220.5139794876305 RMSE_CV değeri:  286.3240222024089\n",
      "k = 5 için RMSE değeri:  239.6467132541376 RMSE_CV değeri:  290.0705466132226\n",
      "k = 6 için RMSE değeri:  243.5904190007242 RMSE_CV değeri:  298.1263115575851\n",
      "k = 7 için RMSE değeri:  258.1478781634636 RMSE_CV değeri:  294.77070479194987\n",
      "k = 8 için RMSE değeri:  266.05374203349805 RMSE_CV değeri:  291.98672028891235\n",
      "k = 9 için RMSE değeri:  269.73782093553376 RMSE_CV değeri:  295.7162739573105\n",
      "k = 10 için RMSE değeri:  271.2798300436963 RMSE_CV değeri:  301.31047022701154\n"
     ]
    }
   ],
   "source": [
    "# Valide edilmiş ve valide edilmemiş iki tane rmse değeri oluşturup gözmeleyelim.\n",
    "RMSE = [] \n",
    "RMSE_CV = []\n",
    "for k in range(10):\n",
    "    k = k+1\n",
    "    knn_model = KNeighborsRegressor(n_neighbors = k).fit(X_train, y_train)\n",
    "    y_pred = knn_model.predict(X_train) \n",
    "    rmse = np.sqrt(mean_squared_error(y_train,y_pred)) \n",
    "    rmse_cv = np.sqrt(-1*cross_val_score(knn_model, X_train, y_train, cv=10, \n",
    "                                         scoring = \"neg_mean_squared_error\").mean())\n",
    "    RMSE.append(rmse) \n",
    "    RMSE_CV.append(rmse_cv)\n",
    "    print(\"k =\" , k , \"için RMSE değeri: \", rmse, \"RMSE_CV değeri: \", rmse_cv )\n",
    "\n",
    "# ilk değerler test ve train üzernden direk hesaplanmış , İkinci taraftakiler valide edilmiş değerlerle \n",
    "#hesaplanmış ve hepsi train hataları \n",
    "# RMSE_CV değerleri doğrulanmıştır. Modelimizin hatasını eğitim üzerinde alacağımız hata değerlendirmesini\n",
    "#ve test hatasını mutlaka valide edilmiş model üzerinden değerlendir. "
   ]
  },
  {
   "cell_type": "code",
   "execution_count": 17,
   "metadata": {},
   "outputs": [],
   "source": [
    "# final modeli kuralım\n",
    "knn_tuned = KNeighborsRegressor(n_neighbors= knn_cv_model.best_params_[\"n_neighbors\"])"
   ]
  },
  {
   "cell_type": "code",
   "execution_count": 18,
   "metadata": {},
   "outputs": [
    {
     "data": {
      "text/plain": [
       "KNeighborsRegressor(n_neighbors=8)"
      ]
     },
     "execution_count": 18,
     "metadata": {},
     "output_type": "execute_result"
    }
   ],
   "source": [
    "knn_tuned.fit(X_train,y_train)\n",
    "# n_neighbors değeri 8 olarak geldi . "
   ]
  },
  {
   "cell_type": "code",
   "execution_count": 19,
   "metadata": {},
   "outputs": [
    {
     "data": {
      "text/plain": [
       "413.7094731463598"
      ]
     },
     "execution_count": 19,
     "metadata": {},
     "output_type": "execute_result"
    }
   ],
   "source": [
    "#Tune edilmiş modelin test hatasını hesaplama\n",
    "np.sqrt(mean_squared_error(y_test,knn_tuned.predict(X_test))) \n",
    "# Tune edilmemiş test hatası 426 \n",
    "# Tune edilmiş test hatası 413 \n",
    "# yani tune ettiklten sonra test hatamız düştü. "
   ]
  },
  {
   "cell_type": "markdown",
   "metadata": {},
   "source": [
    "# SVR - Doğrusal"
   ]
  },
  {
   "cell_type": "code",
   "execution_count": 20,
   "metadata": {},
   "outputs": [],
   "source": [
    "hit = pd.read_csv(\"Hitters.csv\")\n",
    "df = hit.copy()\n",
    "df = df.dropna()\n",
    "dms = pd.get_dummies(df[['League', 'Division', 'NewLeague']])\n",
    "y = df[\"Salary\"]\n",
    "X_ = df.drop(['Salary', 'League', 'Division', 'NewLeague'], axis=1).astype('float64')\n",
    "X = pd.concat([X_, dms[['League_N', 'Division_W', 'NewLeague_N']]], axis=1)\n",
    "X_train, X_test, y_train, y_test = train_test_split(X, y, \n",
    "                                                    test_size=0.25, \n",
    "                                                    random_state=42)"
   ]
  },
  {
   "cell_type": "code",
   "execution_count": 21,
   "metadata": {},
   "outputs": [],
   "source": [
    "X_train= pd.DataFrame(X_train[\"Hits\"])\n",
    "X_test= pd.DataFrame(X_test[\"Hits\"])"
   ]
  },
  {
   "cell_type": "code",
   "execution_count": 22,
   "metadata": {},
   "outputs": [],
   "source": [
    "from sklearn.preprocessing import StandardScaler"
   ]
  },
  {
   "cell_type": "code",
   "execution_count": 23,
   "metadata": {},
   "outputs": [],
   "source": [
    "from sklearn.svm import SVR"
   ]
  },
  {
   "cell_type": "code",
   "execution_count": 24,
   "metadata": {},
   "outputs": [],
   "source": [
    "svr_model= SVR( kernel=\"linear\").fit(X_train, y_train)"
   ]
  },
  {
   "cell_type": "code",
   "execution_count": 25,
   "metadata": {},
   "outputs": [
    {
     "data": {
      "text/plain": [
       "array([403.52804878, 666.91219512, 706.66829268, 194.80853659,\n",
       "       423.40609756])"
      ]
     },
     "execution_count": 25,
     "metadata": {},
     "output_type": "execute_result"
    }
   ],
   "source": [
    "svr_model.predict(X_train)[0:5]"
   ]
  },
  {
   "cell_type": "code",
   "execution_count": 26,
   "metadata": {},
   "outputs": [
    {
     "data": {
      "text/plain": [
       "183    91.0\n",
       "Name: Hits, dtype: float64"
      ]
     },
     "execution_count": 26,
     "metadata": {},
     "output_type": "execute_result"
    }
   ],
   "source": [
    "X_train[\"Hits\"][0:1]"
   ]
  },
  {
   "cell_type": "code",
   "execution_count": 27,
   "metadata": {},
   "outputs": [
    {
     "name": "stdout",
     "output_type": "stream",
     "text": [
      "y = -48.69756097561513 + 4.969512195122093 x\n"
     ]
    }
   ],
   "source": [
    "print (\"y = {0} + {1} x\".format(svr_model.intercept_[0], \n",
    "                                svr_model.coef_[0][0])) "
   ]
  },
  {
   "cell_type": "code",
   "execution_count": 28,
   "metadata": {},
   "outputs": [
    {
     "data": {
      "text/plain": [
       "403.5280487804953"
      ]
     },
     "execution_count": 28,
     "metadata": {},
     "output_type": "execute_result"
    }
   ],
   "source": [
    "-48.69756097561513 + 4.969512195122093 *91\n",
    "\n",
    "# Çıkan denkleme Hits 1 değerimi yerleştirince tahmini arraydeki 1. değer geliyor. "
   ]
  },
  {
   "cell_type": "code",
   "execution_count": 29,
   "metadata": {},
   "outputs": [],
   "source": [
    "y_pred = svr_model.predict(X_train)"
   ]
  },
  {
   "cell_type": "code",
   "execution_count": 30,
   "metadata": {},
   "outputs": [
    {
     "data": {
      "image/png": "[encoded data removed]",
      "text/plain": [
       "<Figure size 432x288 with 1 Axes>"
      ]
     },
     "metadata": {
      "needs_background": "light"
     },
     "output_type": "display_data"
    }
   ],
   "source": [
    "plt.scatter(X_train, y_train)\n",
    "plt.plot(X_train, y_pred, color=\"r\");"
   ]
  },
  {
   "cell_type": "code",
   "execution_count": 31,
   "metadata": {},
   "outputs": [
    {
     "name": "stdout",
     "output_type": "stream",
     "text": [
      "y = -8.814095480334572 + 5.1724561354706875 x\n"
     ]
    }
   ],
   "source": [
    "#LinearRegression\n",
    "from sklearn.linear_model import LinearRegression\n",
    "lm_model = LinearRegression().fit(X_train, y_train)\n",
    "lm_pred  = lm_model.predict(X_train)\n",
    "print(\"y = {0} + {1} x\".format(lm_model.intercept_, lm_model.coef_[0]))"
   ]
  },
  {
   "cell_type": "code",
   "execution_count": 32,
   "metadata": {},
   "outputs": [
    {
     "data": {
      "text/plain": [
       "461.879412847498"
      ]
     },
     "execution_count": 32,
     "metadata": {},
     "output_type": "execute_result"
    }
   ],
   "source": [
    "-8.814095480334572 + 5.1724561354706875*91"
   ]
  },
  {
   "cell_type": "code",
   "execution_count": 33,
   "metadata": {},
   "outputs": [
    {
     "data": {
      "text/plain": [
       "Text(0, 0.5, 'Maaş (Salary)')"
      ]
     },
     "execution_count": 33,
     "metadata": {},
     "output_type": "execute_result"
    },
    {
     "data": {
      "image/png": "[encoded data removed]",
      "text/plain": [
       "<Figure size 432x288 with 1 Axes>"
      ]
     },
     "metadata": {
      "needs_background": "light"
     },
     "output_type": "display_data"
    }
   ],
   "source": [
    "plt.scatter(X_train, y_train, alpha=0.5, s=23)\n",
    "plt.plot(X_train, lm_pred, 'g')\n",
    "plt.plot(X_train, y_pred, color='r')\n",
    "\n",
    "plt.xlabel(\"Atış Sayısı(Hits)\")\n",
    "plt.ylabel(\"Maaş (Salary)\")\n",
    "\n",
    "#SVR çizgisi (kırmızı) neden Linear model çizgisinden (yeşil) daha aşağıda?\n",
    "#SVR aykırı gözlmelerden daha az etkilenir. Yani görselde göründüğü gibi yukarıda iki çok büyük değer var.\n",
    "#Bu aykırı gözlmeler LM'i yukarı doğru çekmektedir. EKK(En Küçük Kareler) dolayı  \n",
    "#Aykırı Gmzlemlerin etkisi SVRda daha düşük old. için çizgi daha aşağıdadır."
   ]
  },
  {
   "cell_type": "markdown",
   "metadata": {},
   "source": [
    "# SVR TAHMİN"
   ]
  },
  {
   "cell_type": "code",
   "execution_count": 34,
   "metadata": {},
   "outputs": [
    {
     "name": "stdout",
     "output_type": "stream",
     "text": [
      "y = -8.814095480334572 + 5.1724561354706875 x\n"
     ]
    }
   ],
   "source": [
    "print(\"y = {0} + {1} x\".format(lm_model.intercept_, lm_model.coef_[0]))"
   ]
  },
  {
   "cell_type": "code",
   "execution_count": 35,
   "metadata": {},
   "outputs": [
    {
     "data": {
      "text/plain": [
       "array([403.52804878])"
      ]
     },
     "execution_count": 35,
     "metadata": {},
     "output_type": "execute_result"
    }
   ],
   "source": [
    "svr_model.predict([[91]])"
   ]
  },
  {
   "cell_type": "code",
   "execution_count": 36,
   "metadata": {},
   "outputs": [],
   "source": [
    "y_pred= svr_model.predict(X_test)"
   ]
  },
  {
   "cell_type": "code",
   "execution_count": 37,
   "metadata": {},
   "outputs": [
    {
     "data": {
      "text/plain": [
       "459.0187960365147"
      ]
     },
     "execution_count": 37,
     "metadata": {},
     "output_type": "execute_result"
    }
   ],
   "source": [
    "np.sqrt(mean_squared_error(y_test,y_pred))\n",
    "#Test hatası 459\n",
    "#tune edilmemiş bir modeldir. "
   ]
  },
  {
   "cell_type": "markdown",
   "metadata": {},
   "source": [
    "# SVR Model Tunning "
   ]
  },
  {
   "cell_type": "code",
   "execution_count": 38,
   "metadata": {},
   "outputs": [
    {
     "data": {
      "text/plain": [
       "SVR(kernel='linear')"
      ]
     },
     "execution_count": 38,
     "metadata": {},
     "output_type": "execute_result"
    }
   ],
   "source": [
    "#Tune etmemiz gereken C karmaşıklık parametresidir. \n",
    "svr_model"
   ]
  },
  {
   "cell_type": "code",
   "execution_count": 39,
   "metadata": {},
   "outputs": [],
   "source": [
    "svr_params={\"C\": np.arange(0.1,2,0.1)}\n",
    "svr_cv_model=GridSearchCV(svr_model,svr_params, cv= 10).fit(X_train,y_train)"
   ]
  },
  {
   "cell_type": "code",
   "execution_count": 40,
   "metadata": {},
   "outputs": [
    {
     "data": {
      "text/plain": [
       "{'C': 0.1}"
      ]
     },
     "execution_count": 40,
     "metadata": {},
     "output_type": "execute_result"
    }
   ],
   "source": [
    "#Bize önerdiği parametreyi inceleyelim. \n",
    "svr_cv_model.best_params_"
   ]
  },
  {
   "cell_type": "code",
   "execution_count": 41,
   "metadata": {},
   "outputs": [
    {
     "data": {
      "text/plain": [
       "0.1"
      ]
     },
     "execution_count": 41,
     "metadata": {},
     "output_type": "execute_result"
    }
   ],
   "source": [
    "pd.Series(svr_cv_model.best_params_)[0]"
   ]
  },
  {
   "cell_type": "code",
   "execution_count": 42,
   "metadata": {},
   "outputs": [],
   "source": [
    "# Final modeli oluşturalım. \n",
    "svr_tuned =SVR( kernel=\"linear\", C = pd.Series(svr_cv_model.best_params_)[0]).fit(X_train,y_train)"
   ]
  },
  {
   "cell_type": "code",
   "execution_count": 43,
   "metadata": {},
   "outputs": [],
   "source": [
    "y_pred= svr_tuned.predict(X_test)"
   ]
  },
  {
   "cell_type": "code",
   "execution_count": 44,
   "metadata": {},
   "outputs": [
    {
     "data": {
      "text/plain": [
       "458.198966781116"
      ]
     },
     "execution_count": 44,
     "metadata": {},
     "output_type": "execute_result"
    }
   ],
   "source": [
    "#tune edilmiş modelde test hatasını hesaplama \n",
    "np.sqrt(mean_squared_error(y_test,y_pred))\n"
   ]
  },
  {
   "cell_type": "markdown",
   "metadata": {},
   "source": [
    "# Doğrusal Olmayan SVR "
   ]
  },
  {
   "cell_type": "code",
   "execution_count": 45,
   "metadata": {},
   "outputs": [],
   "source": [
    "np.random.seed(3)\n",
    "\n",
    "x_sim = np.random.uniform(2, 10, 145)\n",
    "y_sim = np.sin(x_sim) + np.random.normal(0, 0.4, 145)\n",
    "\n",
    "x_outliers = np.arange(2.5, 5, 0.5)\n",
    "y_outliers = -5*np.ones(5)\n",
    "\n",
    "x_sim_idx = np.argsort(np.concatenate([x_sim, x_outliers]))\n",
    "x_sim = np.concatenate([x_sim, x_outliers])[x_sim_idx]\n",
    "y_sim = np.concatenate([y_sim, y_outliers])[x_sim_idx]"
   ]
  },
  {
   "cell_type": "code",
   "execution_count": 46,
   "metadata": {},
   "outputs": [],
   "source": [
    "\n",
    "from sklearn.linear_model import LinearRegression\n",
    "ols = LinearRegression()\n",
    "ols.fit(np.sin(x_sim[:, np.newaxis]), y_sim)\n",
    "ols_pred = ols.predict(np.sin(x_sim[:, np.newaxis]))\n",
    "\n",
    "from sklearn.svm import SVR\n",
    "eps = 0.1\n",
    "svr = SVR( kernel='rbf', epsilon = eps)\n",
    "svr.fit(x_sim[:, np.newaxis], y_sim)\n",
    "svr_pred = svr.predict(x_sim[:, np.newaxis])"
   ]
  },
  {
   "cell_type": "code",
   "execution_count": 47,
   "metadata": {},
   "outputs": [
    {
     "data": {
      "image/png": "[encoded data removed]",
      "text/plain": [
       "<Figure size 432x288 with 1 Axes>"
      ]
     },
     "metadata": {
      "needs_background": "light"
     },
     "output_type": "display_data"
    }
   ],
   "source": [
    "plt.scatter(x_sim, y_sim, alpha=0.5, s=26)\n",
    "plt_ols, = plt.plot(x_sim, ols_pred, 'g')\n",
    "plt_svr, = plt.plot(x_sim, svr_pred, color='r')\n",
    "plt.xlabel(\"Bağımsız Değişken\")\n",
    "plt.ylabel(\"Bağımlı Değişken\")\n",
    "plt.ylim(-5.2, 2.2)\n",
    "plt.legend([plt_ols, plt_svr], ['EKK', 'SVR'], loc = 4);"
   ]
  },
  {
   "cell_type": "code",
   "execution_count": 48,
   "metadata": {},
   "outputs": [],
   "source": [
    "hit = pd.read_csv(\"Hitters.csv\")\n",
    "df = hit.copy()\n",
    "df = df.dropna()\n",
    "dms = pd.get_dummies(df[['League', 'Division', 'NewLeague']])\n",
    "y = df[\"Salary\"]\n",
    "X_ = df.drop(['Salary', 'League', 'Division', 'NewLeague'], axis=1).astype('float64')\n",
    "X = pd.concat([X_, dms[['League_N', 'Division_W', 'NewLeague_N']]], axis=1)\n",
    "X_train, X_test, y_train, y_test = train_test_split(X, y, \n",
    "                                                    test_size=0.25, \n",
    "                                                    random_state=42)"
   ]
  },
  {
   "cell_type": "code",
   "execution_count": 49,
   "metadata": {},
   "outputs": [],
   "source": [
    "#Model kurma\n",
    "svr_rbf= SVR( kernel=\"rbf\").fit(X_train,y_train)"
   ]
  },
  {
   "cell_type": "markdown",
   "metadata": {},
   "source": [
    "# Doğrusal Olmayan SVR Tahmin "
   ]
  },
  {
   "cell_type": "code",
   "execution_count": 50,
   "metadata": {},
   "outputs": [],
   "source": [
    "y_pred = svr_rbf.predict(X_test)"
   ]
  },
  {
   "cell_type": "code",
   "execution_count": 51,
   "metadata": {},
   "outputs": [
    {
     "data": {
      "text/plain": [
       "460.0032657244849"
      ]
     },
     "execution_count": 51,
     "metadata": {},
     "output_type": "execute_result"
    }
   ],
   "source": [
    "np.sqrt(mean_squared_error(y_test,y_pred))"
   ]
  },
  {
   "cell_type": "markdown",
   "metadata": {},
   "source": [
    "# Doğrusal Olmayan SVR Model Tunning "
   ]
  },
  {
   "cell_type": "code",
   "execution_count": 52,
   "metadata": {},
   "outputs": [
    {
     "data": {
      "text/plain": [
       "SVR()"
      ]
     },
     "execution_count": 52,
     "metadata": {},
     "output_type": "execute_result"
    }
   ],
   "source": [
    "svr_rbf\n",
    "#C karmaşıklık parametresi bizim optimize etmemiz gereken parametremiz. "
   ]
  },
  {
   "cell_type": "code",
   "execution_count": 53,
   "metadata": {},
   "outputs": [
    {
     "data": {
      "text/plain": [
       "GridSearchCV(cv=10, estimator=SVR(),\n",
       "             param_grid={'C': [0.1, 0.4, 5, 10, 20, 30, 40, 50]})"
      ]
     },
     "execution_count": 53,
     "metadata": {},
     "output_type": "execute_result"
    }
   ],
   "source": [
    "svr_params = {\"C\": [0.1,0.4,5,10,20,30,40,50]}\n",
    "svr_cv_model= GridSearchCV(svr_rbf,svr_params, cv=10)\n",
    "svr_cv_model.fit(X_train,y_train)"
   ]
  },
  {
   "cell_type": "code",
   "execution_count": 54,
   "metadata": {},
   "outputs": [
    {
     "data": {
      "text/plain": [
       "{'C': 50}"
      ]
     },
     "execution_count": 54,
     "metadata": {},
     "output_type": "execute_result"
    }
   ],
   "source": [
    "svr_cv_model.best_params_"
   ]
  },
  {
   "cell_type": "code",
   "execution_count": 55,
   "metadata": {},
   "outputs": [
    {
     "data": {
      "text/plain": [
       "SVR(C=50)"
      ]
     },
     "execution_count": 55,
     "metadata": {},
     "output_type": "execute_result"
    }
   ],
   "source": [
    "#Final Model\n",
    "svr_tuned= SVR( kernel=\"rbf\", C=pd.Series(svr_cv_model.best_params_)[0]).fit(X_train,y_train)\n",
    "svr_tuned"
   ]
  },
  {
   "cell_type": "code",
   "execution_count": 56,
   "metadata": {},
   "outputs": [],
   "source": [
    "y_pred = svr_tuned.predict(X_test)"
   ]
  },
  {
   "cell_type": "code",
   "execution_count": 57,
   "metadata": {},
   "outputs": [
    {
     "data": {
      "text/plain": [
       "428.00406888095694"
      ]
     },
     "execution_count": 57,
     "metadata": {},
     "output_type": "execute_result"
    }
   ],
   "source": [
    "np.sqrt(mean_squared_error(y_test,y_pred))"
   ]
  },
  {
   "cell_type": "markdown",
   "metadata": {},
   "source": [
    "# YAPAY SİNİR AĞLARI "
   ]
  },
  {
   "cell_type": "markdown",
   "metadata": {},
   "source": [
    "## YSA Model "
   ]
  },
  {
   "cell_type": "code",
   "execution_count": 58,
   "metadata": {},
   "outputs": [],
   "source": [
    "hit = pd.read_csv(\"Hitters.csv\")\n",
    "df = hit.copy()\n",
    "df = df.dropna()\n",
    "dms = pd.get_dummies(df[['League', 'Division', 'NewLeague']])\n",
    "y = df[\"Salary\"]\n",
    "X_ = df.drop(['Salary', 'League', 'Division', 'NewLeague'], axis=1).astype('float64')\n",
    "X = pd.concat([X_, dms[['League_N', 'Division_W', 'NewLeague_N']]], axis=1)\n",
    "X_train, X_test, y_train, y_test = train_test_split(X, y, \n",
    "                                                    test_size=0.25, \n",
    "                                                    random_state=42)"
   ]
  },
  {
   "cell_type": "code",
   "execution_count": 59,
   "metadata": {},
   "outputs": [],
   "source": [
    "from sklearn.preprocessing import StandardScaler"
   ]
  },
  {
   "cell_type": "code",
   "execution_count": 60,
   "metadata": {},
   "outputs": [
    {
     "data": {
      "text/plain": [
       "StandardScaler()"
      ]
     },
     "execution_count": 60,
     "metadata": {},
     "output_type": "execute_result"
    }
   ],
   "source": [
    "scaler= StandardScaler()\n",
    "scaler.fit(X_train)"
   ]
  },
  {
   "cell_type": "code",
   "execution_count": 61,
   "metadata": {},
   "outputs": [],
   "source": [
    "X_train_scaled= scaler.transform(X_train)"
   ]
  },
  {
   "cell_type": "code",
   "execution_count": 62,
   "metadata": {},
   "outputs": [],
   "source": [
    "X_test_scaled= scaler.transform(X_test)"
   ]
  },
  {
   "cell_type": "code",
   "execution_count": 63,
   "metadata": {},
   "outputs": [],
   "source": [
    "from sklearn.neural_network import MLPRegressor"
   ]
  },
  {
   "cell_type": "code",
   "execution_count": 64,
   "metadata": {},
   "outputs": [],
   "source": [
    "#Model kurma\n",
    "mlp_model=MLPRegressor(hidden_layer_sizes=(100,20)).fit(X_train_scaled,y_train)"
   ]
  },
  {
   "cell_type": "code",
   "execution_count": 65,
   "metadata": {},
   "outputs": [
    {
     "data": {
      "text/plain": [
       "MLPRegressor(hidden_layer_sizes=(100, 20))"
      ]
     },
     "execution_count": 65,
     "metadata": {},
     "output_type": "execute_result"
    }
   ],
   "source": [
    "mlp_model"
   ]
  },
  {
   "cell_type": "code",
   "execution_count": 66,
   "metadata": {},
   "outputs": [
    {
     "data": {
      "text/plain": [
       "4"
      ]
     },
     "execution_count": 66,
     "metadata": {},
     "output_type": "execute_result"
    }
   ],
   "source": [
    "mlp_model.n_layers_"
   ]
  },
  {
   "cell_type": "markdown",
   "metadata": {},
   "source": [
    "## YSA Tahmin "
   ]
  },
  {
   "cell_type": "code",
   "execution_count": 67,
   "metadata": {},
   "outputs": [
    {
     "data": {
      "text/plain": [
       "array([ 76.68572087, 306.96763895, 195.88793322,  66.08672499,\n",
       "        43.12068647])"
      ]
     },
     "execution_count": 67,
     "metadata": {},
     "output_type": "execute_result"
    }
   ],
   "source": [
    "mlp_model.predict(X_train_scaled)[0:5]"
   ]
  },
  {
   "cell_type": "code",
   "execution_count": 68,
   "metadata": {},
   "outputs": [],
   "source": [
    "#Test Hata ızı hesaplayalım\n",
    "y_pred= mlp_model.predict(X_test_scaled)"
   ]
  },
  {
   "cell_type": "code",
   "execution_count": 69,
   "metadata": {},
   "outputs": [
    {
     "data": {
      "text/plain": [
       "495.7198500544745"
      ]
     },
     "execution_count": 69,
     "metadata": {},
     "output_type": "execute_result"
    }
   ],
   "source": [
    "np.sqrt(mean_squared_error(y_test, y_pred ))"
   ]
  },
  {
   "cell_type": "markdown",
   "metadata": {},
   "source": [
    "## YSA Model Tunning "
   ]
  },
  {
   "cell_type": "code",
   "execution_count": 70,
   "metadata": {},
   "outputs": [],
   "source": [
    "mlp_params= {\"alpha\": [0.1,0.01,0.02,0.005],\n",
    "            \"hidden_layer_sizes\": [(20,20),(100,50,150),(200,300,150)],\n",
    "            \"activation\": [\"relu\",\"logistic\"]}"
   ]
  },
  {
   "cell_type": "code",
   "execution_count": 71,
   "metadata": {},
   "outputs": [],
   "source": [
    "mlp_cv_model= GridSearchCV(mlp_model,mlp_params,cv=10)"
   ]
  },
  {
   "cell_type": "code",
   "execution_count": 72,
   "metadata": {},
   "outputs": [
    {
     "data": {
      "text/plain": [
       "GridSearchCV(cv=10, estimator=MLPRegressor(hidden_layer_sizes=(100, 20)),\n",
       "             param_grid={'activation': ['relu', 'logistic'],\n",
       "                         'alpha': [0.1, 0.01, 0.02, 0.005],\n",
       "                         'hidden_layer_sizes': [(20, 20), (100, 50, 150),\n",
       "                                                (200, 300, 150)]})"
      ]
     },
     "execution_count": 72,
     "metadata": {},
     "output_type": "execute_result"
    }
   ],
   "source": [
    "mlp_cv_model.fit(X_train_scaled,y_train)"
   ]
  },
  {
   "cell_type": "code",
   "execution_count": 73,
   "metadata": {},
   "outputs": [
    {
     "data": {
      "text/plain": [
       "{'activation': 'relu', 'alpha': 0.02, 'hidden_layer_sizes': (100, 50, 150)}"
      ]
     },
     "execution_count": 73,
     "metadata": {},
     "output_type": "execute_result"
    }
   ],
   "source": [
    "mlp_cv_model.best_params_"
   ]
  },
  {
   "cell_type": "code",
   "execution_count": 74,
   "metadata": {},
   "outputs": [],
   "source": [
    "mlp_tuned = MLPRegressor(alpha=0.02, hidden_layer_sizes= (10,50,150))"
   ]
  },
  {
   "cell_type": "code",
   "execution_count": 75,
   "metadata": {},
   "outputs": [
    {
     "data": {
      "text/plain": [
       "MLPRegressor(alpha=0.02, hidden_layer_sizes=(10, 50, 150))"
      ]
     },
     "execution_count": 75,
     "metadata": {},
     "output_type": "execute_result"
    }
   ],
   "source": [
    "mlp_tuned.fit(X_train_scaled, y_train )"
   ]
  },
  {
   "cell_type": "code",
   "execution_count": 76,
   "metadata": {},
   "outputs": [],
   "source": [
    "y_pred= mlp_tuned.predict(X_test_scaled)"
   ]
  },
  {
   "cell_type": "code",
   "execution_count": 77,
   "metadata": {},
   "outputs": [
    {
     "data": {
      "text/plain": [
       "366.4483601462987"
      ]
     },
     "execution_count": 77,
     "metadata": {},
     "output_type": "execute_result"
    }
   ],
   "source": [
    "np.sqrt(mean_squared_error(y_test, y_pred ))\n",
    "#356en tune edilmiş modeller arasında en düşük test hatasını veren model YSA oldu"
   ]
  },
  {
   "cell_type": "markdown",
   "metadata": {},
   "source": [
    "# Classification and Regression Trees (CART)"
   ]
  },
  {
   "cell_type": "code",
   "execution_count": 78,
   "metadata": {},
   "outputs": [],
   "source": [
    "hit = pd.read_csv(\"Hitters.csv\")\n",
    "df = hit.copy()\n",
    "df = df.dropna()\n",
    "dms = pd.get_dummies(df[['League', 'Division', 'NewLeague']])\n",
    "y = df[\"Salary\"]\n",
    "X_ = df.drop(['Salary', 'League', 'Division', 'NewLeague'], axis=1).astype('float64')\n",
    "X = pd.concat([X_, dms[['League_N', 'Division_W', 'NewLeague_N']]], axis=1)\n",
    "X_train, X_test, y_train, y_test = train_test_split(X, y, \n",
    "                                                    test_size=0.25, \n",
    "                                                    random_state=42)"
   ]
  },
  {
   "cell_type": "code",
   "execution_count": 79,
   "metadata": {},
   "outputs": [],
   "source": [
    "X_train= pd.DataFrame(X_train[\"Hits\"])\n",
    "X_test= pd.DataFrame(X_test[\"Hits\"])"
   ]
  },
  {
   "cell_type": "code",
   "execution_count": 80,
   "metadata": {},
   "outputs": [],
   "source": [
    "#Model kurma \n",
    "cart_model= DecisionTreeRegressor()"
   ]
  },
  {
   "cell_type": "code",
   "execution_count": 81,
   "metadata": {},
   "outputs": [
    {
     "data": {
      "text/plain": [
       "DecisionTreeRegressor()"
      ]
     },
     "execution_count": 81,
     "metadata": {},
     "output_type": "execute_result"
    }
   ],
   "source": [
    "cart_model"
   ]
  },
  {
   "cell_type": "code",
   "execution_count": 82,
   "metadata": {},
   "outputs": [
    {
     "data": {
      "text/plain": [
       "DecisionTreeRegressor()"
      ]
     },
     "execution_count": 82,
     "metadata": {},
     "output_type": "execute_result"
    }
   ],
   "source": [
    "cart_model.fit(X_train, y_train)"
   ]
  },
  {
   "cell_type": "code",
   "execution_count": 83,
   "metadata": {},
   "outputs": [
    {
     "data": {
      "image/png": "[encoded data removed]",
      "text/plain": [
       "<Figure size 432x288 with 1 Axes>"
      ]
     },
     "metadata": {
      "needs_background": "light"
     },
     "output_type": "display_data"
    }
   ],
   "source": [
    "X_grid = np.arange(min(np.array(X_train)),max(np.array(X_train)), 0.01) \n",
    "X_grid = X_grid.reshape((len(X_grid), 1))  \n",
    "plt.scatter(X_train, y_train, color = 'red') \n",
    "plt.plot(X_grid, cart_model.predict(X_grid), color = 'blue')  \n",
    "plt.title('CART REGRESON AĞACI')  \n",
    "plt.xlabel('Atış Sayısı(Hits)') \n",
    "plt.ylabel('Maaş (Salary)') ;"
   ]
  },
  {
   "cell_type": "code",
   "execution_count": 84,
   "metadata": {},
   "outputs": [],
   "source": [
    "#Python a uyarlı Kural seti "
   ]
  },
  {
   "cell_type": "code",
   "execution_count": null,
   "metadata": {},
   "outputs": [],
   "source": [
    "\n"
   ]
  },
  {
   "cell_type": "code",
   "execution_count": null,
   "metadata": {},
   "outputs": [],
   "source": []
  },
  {
   "cell_type": "code",
   "execution_count": 85,
   "metadata": {},
   "outputs": [
    {
     "name": "stdout",
     "output_type": "stream",
     "text": [
      "Collecting skompiler\n",
      "  Using cached SKompiler-0.6.tar.gz (45 kB)\n",
      "Requirement already satisfied: scikit-learn>=0.22 in /home/gulce/anaconda3/lib/python3.9/site-packages (from skompiler) (0.24.2)\n",
      "Requirement already satisfied: numpy>=1.13.3 in /home/gulce/anaconda3/lib/python3.9/site-packages (from scikit-learn>=0.22->skompiler) (1.20.3)\n",
      "Requirement already satisfied: joblib>=0.11 in /home/gulce/anaconda3/lib/python3.9/site-packages (from scikit-learn>=0.22->skompiler) (1.1.0)\n",
      "Requirement already satisfied: threadpoolctl>=2.0.0 in /home/gulce/anaconda3/lib/python3.9/site-packages (from scikit-learn>=0.22->skompiler) (2.2.0)\n",
      "Requirement already satisfied: scipy>=0.19.1 in /home/gulce/anaconda3/lib/python3.9/site-packages (from scikit-learn>=0.22->skompiler) (1.7.1)\n",
      "Building wheels for collected packages: skompiler\n",
      "  Building wheel for skompiler (setup.py) ... \u001b[?25ldone\n",
      "\u001b[?25h  Created wheel for skompiler: filename=SKompiler-0.6-py3-none-any.whl size=54287 sha256=1f245766f362d7e11f27520eb3593c8cd63bd1311df992147026193140eaab04\n",
      "  Stored in directory: /home/gulce/.cache/pip/wheels/fd/94/33/2a75ac13109534426a0ace0cde02f41aef30a846f1facd4110\n",
      "Successfully built skompiler\n",
      "Installing collected packages: skompiler\n",
      "Successfully installed skompiler-0.6\n"
     ]
    }
   ],
   "source": [
    "!pip install skompiler"
   ]
  },
  {
   "cell_type": "code",
   "execution_count": 86,
   "metadata": {},
   "outputs": [],
   "source": [
    "from skompiler import skompile"
   ]
  },
  {
   "cell_type": "code",
   "execution_count": 225,
   "metadata": {},
   "outputs": [],
   "source": [
    "#print(skompile(cart_model.predict).to('python/code'))\n",
    "# to çevir anlamındadır."
   ]
  },
  {
   "cell_type": "markdown",
   "metadata": {},
   "source": [
    "## CART Tahmin "
   ]
  },
  {
   "cell_type": "code",
   "execution_count": 217,
   "metadata": {},
   "outputs": [],
   "source": [
    "x=[91]"
   ]
  },
  {
   "cell_type": "code",
   "execution_count": 218,
   "metadata": {},
   "outputs": [
    {
     "data": {
      "text/plain": [
       "345.2011551724138"
      ]
     },
     "execution_count": 218,
     "metadata": {},
     "output_type": "execute_result"
    }
   ],
   "source": [
    "# Bu Python'a uyarlı Kural seti bir üstteki koddan gelmeliydi ama çalışmadı . \n",
    "(345.2011551724138 if x[0] <= 117.5 else ((((1300.0 if x[0] <= 118.5 else \n",
    "    641.0) if x[0] <= 122.5 else 1468.5236666666667) if x[0] <= 125.5 else \n",
    "    621.9679230769232) if x[0] <= 143.0 else (958.6111111111111 if x[0] <= \n",
    "    150.5 else 2460.0) if x[0] <= 151.5 else 499.1666666666667 if x[0] <= \n",
    "    157.5 else 892.5402413793104) if x[0] <= 225.5 else 1975.0)"
   ]
  },
  {
   "cell_type": "code",
   "execution_count": 219,
   "metadata": {},
   "outputs": [
    {
     "data": {
      "text/plain": [
       "array([ 725.    , 1230.    ,  725.    ,  504.1665,   67.5   ])"
      ]
     },
     "execution_count": 219,
     "metadata": {},
     "output_type": "execute_result"
    }
   ],
   "source": [
    "cart_model.predict(X_test)[0:5]"
   ]
  },
  {
   "cell_type": "code",
   "execution_count": 220,
   "metadata": {},
   "outputs": [
    {
     "data": {
      "text/plain": [
       "array([125.])"
      ]
     },
     "execution_count": 220,
     "metadata": {},
     "output_type": "execute_result"
    }
   ],
   "source": [
    "cart_model.predict([[91]])"
   ]
  },
  {
   "cell_type": "code",
   "execution_count": 221,
   "metadata": {},
   "outputs": [
    {
     "data": {
      "text/plain": [
       "373.75341262795996"
      ]
     },
     "execution_count": 221,
     "metadata": {},
     "output_type": "execute_result"
    }
   ],
   "source": [
    "np.sqrt(mean_squared_error(y_test, y_pred))"
   ]
  },
  {
   "cell_type": "markdown",
   "metadata": {},
   "source": [
    "## CART Model Tunning "
   ]
  },
  {
   "cell_type": "code",
   "execution_count": 107,
   "metadata": {},
   "outputs": [],
   "source": [
    "cart_model = DecisionTreeRegressor()\n",
    "cart_model.fit(X_train, y_train)\n",
    "y_pred = cart_model.predict(X_test)"
   ]
  },
  {
   "cell_type": "code",
   "execution_count": 108,
   "metadata": {},
   "outputs": [
    {
     "data": {
      "text/plain": [
       "468.49579052913884"
      ]
     },
     "execution_count": 108,
     "metadata": {},
     "output_type": "execute_result"
    }
   ],
   "source": [
    "np.sqrt(mean_squared_error(y_test, y_pred))"
   ]
  },
  {
   "cell_type": "code",
   "execution_count": null,
   "metadata": {},
   "outputs": [],
   "source": [
    "#CART GEÇİLDİ "
   ]
  },
  {
   "cell_type": "markdown",
   "metadata": {},
   "source": [
    "# Bagget Trees "
   ]
  },
  {
   "cell_type": "code",
   "execution_count": 110,
   "metadata": {},
   "outputs": [],
   "source": [
    "hit = pd.read_csv(\"Hitters.csv\")\n",
    "df = hit.copy()\n",
    "df = df.dropna()\n",
    "dms = pd.get_dummies(df[['League', 'Division', 'NewLeague']])\n",
    "y = df[\"Salary\"]\n",
    "X_ = df.drop(['Salary', 'League', 'Division', 'NewLeague'], axis=1).astype('float64')\n",
    "X = pd.concat([X_, dms[['League_N', 'Division_W', 'NewLeague_N']]], axis=1)\n",
    "X_train, X_test, y_train, y_test = train_test_split(X, y, \n",
    "                                                    test_size=0.25, \n",
    "                                                    random_state=42)"
   ]
  },
  {
   "cell_type": "code",
   "execution_count": 136,
   "metadata": {},
   "outputs": [
    {
     "data": {
      "text/plain": [
       "BaggingRegressor(bootstrap_features=True)"
      ]
     },
     "execution_count": 136,
     "metadata": {},
     "output_type": "execute_result"
    }
   ],
   "source": [
    "bag_model = BaggingRegressor(bootstrap_features=True)\n",
    "bag_model.fit(X_train, y_train)"
   ]
  },
  {
   "cell_type": "code",
   "execution_count": 124,
   "metadata": {},
   "outputs": [
    {
     "data": {
      "text/plain": [
       "10"
      ]
     },
     "execution_count": 124,
     "metadata": {},
     "output_type": "execute_result"
    }
   ],
   "source": [
    "bag_model.n_estimators"
   ]
  },
  {
   "cell_type": "code",
   "execution_count": 125,
   "metadata": {},
   "outputs": [
    {
     "data": {
      "text/plain": [
       "[DecisionTreeRegressor(random_state=817728167),\n",
       " DecisionTreeRegressor(random_state=1654094950),\n",
       " DecisionTreeRegressor(random_state=1723785543),\n",
       " DecisionTreeRegressor(random_state=1006339877),\n",
       " DecisionTreeRegressor(random_state=1928978852),\n",
       " DecisionTreeRegressor(random_state=2046184887),\n",
       " DecisionTreeRegressor(random_state=59988483),\n",
       " DecisionTreeRegressor(random_state=972223183),\n",
       " DecisionTreeRegressor(random_state=342389062),\n",
       " DecisionTreeRegressor(random_state=334795595)]"
      ]
     },
     "execution_count": 125,
     "metadata": {},
     "output_type": "execute_result"
    }
   ],
   "source": [
    "bag_model.estimators_"
   ]
  },
  {
   "cell_type": "code",
   "execution_count": 126,
   "metadata": {},
   "outputs": [
    {
     "data": {
      "text/plain": [
       "[array([ 12, 183, 118, 137,  92, 177, 111, 109,  29,  84, 176, 131, 180,\n",
       "        196, 102, 143, 166, 154,  78, 196, 160, 134,  16, 175,  24, 115,\n",
       "          9,   0, 116,  25,  36,  30, 135, 119, 178, 134,  47, 120, 195,\n",
       "        188, 144,  44, 180,  45, 161, 114,  77,  49, 131, 183,   4, 146,\n",
       "          8,  84, 164, 145,  72,  54, 120, 168,  75,  90, 169, 117,  21,\n",
       "        191, 167, 173,  40, 133,  48, 167,  21,  78,  63,   3,  57,  79,\n",
       "        173, 109,  87,  47,  73,  56, 143,  39, 130,  68, 102,  19, 155,\n",
       "        133, 134,  72,  22,  89,  93, 163,  98, 187, 182,  90,   3,  34,\n",
       "         45, 176, 119,  73,  52,   8, 145, 171, 120,  20,  34,  97, 158,\n",
       "        174, 190,  69,  77, 177,  70, 131, 189,  89, 185,   5,  34, 125,\n",
       "        115,   1, 133,   6, 173,  98, 176,  13,  18, 157, 138, 124,  81,\n",
       "        185, 130, 108,  67,   7,  97,  88, 156,  46, 127, 149,  68,  93,\n",
       "        189,  19, 146,  95, 168,  51, 184,  76, 120,  77,  78, 141,  22,\n",
       "        169, 145, 153,  54, 174, 137,  49, 106, 111,  36,   4,  10,  43,\n",
       "         19, 105,   0, 136, 173,  35, 100, 155,  89, 168, 182,  69,  49,\n",
       "        165, 126]),\n",
       " array([110, 115,   4,  20,  23, 129,  25, 185,  61,  47, 153, 166,  84,\n",
       "         59, 153,  73,   6,   2,  45, 144,  25,  21,  38,  20, 150, 155,\n",
       "         20,  79, 108,  27, 132,   8, 171, 167,  34,  56,  29,  66, 119,\n",
       "         59,  20,  36,  30,  85, 139, 151, 112,  21, 180, 147,  72, 164,\n",
       "         59, 144, 136,  26,  12,  22, 180, 180, 148, 158, 190,  66,  45,\n",
       "        171, 141,  68, 124,  66,  94,  94, 108,  63, 116,  16,  19, 155,\n",
       "        129,  53, 143,  62,  68,  22, 113, 156, 106,  96, 158, 187,  52,\n",
       "         30, 184,  40,  86, 142, 175,  79,  96, 148, 131, 104, 165, 173,\n",
       "        112, 117,  98,  20,   9,  14, 121, 170, 175, 143,  28, 151, 191,\n",
       "         89, 170, 155,  92,  99, 142, 113, 143, 125, 122,  16,  92, 143,\n",
       "         30,  58, 170, 177,  67,  65,  42, 167,  69,  87,   4,  90,   0,\n",
       "         26,  67,  79,  21, 177, 125, 156,  89,  67, 177,  99,  36, 106,\n",
       "        111,  97,  13,  71, 100,  47, 144, 180,  83,  84,  91,  97, 130,\n",
       "         27, 153,  17, 160,  30, 159,  23,  14, 156, 162, 116,  22,  19,\n",
       "         50,   3, 118,  60, 172,  42, 173,   1,  61, 170,  68, 164, 173,\n",
       "        187,   7]),\n",
       " array([ 36,  17,  69,  41, 136,  88,   4, 145,  62, 109,  29, 187, 194,\n",
       "         57, 185,  26,  49, 116, 140, 176,  81, 146, 169,  91,  17,  89,\n",
       "         48, 140, 177,  25,  23, 172, 104, 193, 186, 167, 146, 180, 185,\n",
       "         52, 145,  10, 109, 107,  35,  80,  12, 109,  11,  12, 171,  46,\n",
       "         37, 152, 100,  29,  24,  25,  65, 100, 135, 130, 164,  45,  47,\n",
       "        183, 126, 157,  46, 105,  94,  27, 117,  81, 141, 118, 191, 158,\n",
       "         82,  75, 172,  94,  26,  84,  73,   3,  56, 126, 136,  99,  64,\n",
       "        190, 123, 125, 161, 147, 147,  41,  44,  90, 188, 160,  47, 162,\n",
       "         16,  55,   2, 135, 131, 165,  72,  41, 155,  93,   7,  78, 172,\n",
       "         31, 116,  54, 128,  40, 141, 196, 161,  55,  22,  55, 139,  56,\n",
       "        119, 145, 131,  31, 137, 124,  25,  86,   8, 160,  15,  39, 104,\n",
       "         69,  47,  90, 182,  13,  40, 178, 133, 101,  49,  44,  29, 154,\n",
       "         52,  61, 117, 196,   7,  39, 162,  24, 105,  70, 135, 171, 182,\n",
       "         87, 129,   6,   8, 138,  40,  50, 105,  23,  60,  21,  66, 147,\n",
       "         20,  62,  65,  88, 142,  90,  98,  78,  40,  49, 147,  81,  31,\n",
       "         33,  78]),\n",
       " array([ 43, 120,  57, 129,   4,  82, 129,   9,  12,  84, 111,  33,  92,\n",
       "          2, 186,  98,  38, 160,  18, 192,  58,  16, 185,   9,  98,  12,\n",
       "        124,  95, 161,  20, 186, 103,  55, 106,  24, 185, 184,  67,  51,\n",
       "         55, 102, 121, 113,   2,  51, 137, 172,  56,  13,  12,  20, 139,\n",
       "         22,  57,  77,   5, 130, 148, 135, 105,  40,  69,  40,  78, 166,\n",
       "        186, 123, 131,  31, 106, 152, 169, 142,  28,  61,  67,  90, 174,\n",
       "         15, 127,  87, 141, 172, 146,  93, 118,  14,  73,   8,  17, 159,\n",
       "        161,   4, 173, 164,  16,   0, 141, 184, 143, 128, 109, 105, 100,\n",
       "        147, 161,  30, 192,  18,  74, 184,  48,  17, 164, 143,  27, 193,\n",
       "        188, 103, 189, 129, 185,  82, 119, 109,  28, 148,  43,  28, 107,\n",
       "         31, 144, 137, 108, 174, 152,  28,  26, 161,   0, 150, 191, 187,\n",
       "        145, 175, 141,  68,  32,  40,  30,  90, 127, 163, 157,  92,  71,\n",
       "        128, 194, 102, 186, 179,  35, 115,  81,  53, 186,  16, 166, 172,\n",
       "         87,  26, 110,  66, 165, 137, 132, 137,  15,  86, 182,  15, 192,\n",
       "         65, 160, 118,  18,  23,  20, 139,  57,   7, 194,  78,  34,  42,\n",
       "         51,  25]),\n",
       " array([104, 102, 120,  15,   3,  47,  49, 184, 119,  50,  60,  87,  78,\n",
       "         23,  88, 143, 152,  57, 143,  69,  15,  32, 100,   6,  24,  14,\n",
       "         99,  25, 152,  23, 189, 148,  32,  87,  56, 163,  45, 120,  75,\n",
       "        196,   3, 188,  60, 127, 176,  84,  38, 166, 137,  92, 174, 192,\n",
       "         12, 124,  23,  74, 146, 142,   2, 186,  28, 143,  42,   0, 173,\n",
       "        140,  61, 181,  45, 196,  16,  46, 154,  95,  15, 119,   8, 122,\n",
       "         98,  64,  68,  57,  25, 151,  85,  98, 100,   1,  31,  24,   5,\n",
       "         36, 189,   0,  34,  34, 153,  60, 165, 128, 109,  21,  19,  44,\n",
       "         52,  33,  26, 119, 161, 155,  56, 179,  70,  55,  11, 161,  97,\n",
       "         64, 136, 130, 192,  41,   0,  62, 186, 181, 125, 137,   7,  68,\n",
       "         75, 144,  24,  58,  81,  71, 167,  12,  25,  19,  38,  22,  35,\n",
       "        116,  29,  96,  65, 108,  34, 182, 176,  82,   4, 120,  44, 127,\n",
       "         80,  14, 162, 184, 128, 121,  34, 169,   6, 109, 193,  89,  58,\n",
       "         81, 140, 168,  93,  55,  29,  45, 121, 120, 139, 170,  59,  35,\n",
       "         37,   7,  73, 149, 152,  99, 161,  44,  11, 176,  10,   5,  60,\n",
       "         97,  76]),\n",
       " array([190,  72,  84, 166,  83,  36,  89, 121, 193, 108,  73,  80,  87,\n",
       "         11,  16, 117,  73, 105,  85, 169,   8,  19, 170,  28,  48,   2,\n",
       "        124,  31,  13, 108, 195,  72,  59,  81, 100, 178,   8,  25, 159,\n",
       "         90, 132, 115, 107, 166, 185,  59,  38,  69, 133,  97, 156,   8,\n",
       "        116, 106, 110, 160,   2,  89, 195, 134,  85, 132, 166, 121, 189,\n",
       "         26,  60,  89, 120,  88,  99,  87, 108,  19, 104,  34, 184,  38,\n",
       "         17,  48,  14,  94,  52,  21, 168,   3, 179,  68, 120,  74, 174,\n",
       "        144, 163, 137,  43, 144, 179,  19,  69,  93,  51, 167,  72, 134,\n",
       "         83, 146,  17, 186,  26,  13,  17, 170,  28, 106,  92,  35,  33,\n",
       "        152,  83,  89,  91,  55, 158, 147, 143, 159,  46, 143, 128, 133,\n",
       "        176, 129, 177,  27, 112,  25,  60, 116,  12,  61, 160,  34,  27,\n",
       "        116,  59, 104, 166,  42,  66,  10, 105, 148,  65, 139, 116, 117,\n",
       "        183,  30,  16,  63, 113, 195,  64,  52, 139,  18, 182,  83,  90,\n",
       "          4, 166,  70,  30,  55, 179,  34,  35, 144,  95, 161,  42, 110,\n",
       "        171,  36, 158, 118, 189,  45,  65, 127, 139,  41, 189, 168,  79,\n",
       "        136, 151]),\n",
       " array([ 36,  73, 112, 106,  55,  83,  25,  10, 120,  13, 160,  98,  20,\n",
       "        114, 164,  11, 158,  19, 122, 113,  11,   0, 188,  78, 112, 152,\n",
       "          0, 160,  42, 161, 127, 151, 190,  94, 128, 181, 196, 178,  16,\n",
       "         57,  56,  21,  44, 134,  21,  40, 129,  87,  61,  71, 174,  47,\n",
       "         11,  23,   7,   1,  19, 135,  29, 159,  29, 182,   2, 191, 167,\n",
       "        118, 193, 129, 184,   8,  47,  51, 193,  79, 188, 149, 134,  30,\n",
       "         59,  92,  63,  19, 138,  32, 126,  83, 149,  81,  70,  11, 104,\n",
       "        161, 129, 124, 110,  42,  95, 182, 101,   1,  51, 192,  86,   7,\n",
       "         19, 192,  44,  68,  33,  57,  27, 191, 149,  56, 141,  50,  80,\n",
       "        140,  45, 117, 100,  20, 196, 126, 148,  38, 124,  19,  84, 128,\n",
       "        107,  94,  19,  19, 159, 153,  81,  11,  90, 102, 102,  98, 191,\n",
       "         69, 117, 191,   3,  24,  83,  93, 118,  61,  72, 167,  91, 159,\n",
       "        117,  59, 187, 127,  40,  24,  34,  54,  13, 108,  51, 107,  51,\n",
       "        175, 148, 196,  88, 191,  77,  36,   1, 161,  44, 161,  44, 115,\n",
       "        133,  33,  76,  41, 144,  64,  13, 133, 135, 179, 195, 157, 111,\n",
       "         39,  27]),\n",
       " array([155,  69,  78, 130,  15,  95, 186,  66,  17,  46, 114, 140,   1,\n",
       "        180, 144, 136, 135, 105, 194,  52,  65,  33,  61, 127, 107, 157,\n",
       "          9, 135,  66,  57, 150,  79, 132,  97, 179,  38, 105,  66,  76,\n",
       "        118, 169, 140,  73,  31,  41, 129,  90,  25, 136, 162, 196, 156,\n",
       "         17,  87,   1, 180, 140,  32,  39, 152, 196,   1,  80, 122, 132,\n",
       "         27, 175, 176,  14,   9, 172, 132,  56, 155,  41,  30,  35, 110,\n",
       "        117, 146, 105, 136, 148, 108, 113, 119,  37, 188,  78,  65, 120,\n",
       "        106, 108, 185, 117,  98, 155, 118,  19,  69, 134, 192,  67,  62,\n",
       "         58,  61, 156,   8, 188,  24,  19,  44, 172, 148,  75, 133,  51,\n",
       "         78,  25,  47,  78,  18,  38, 158, 185,  71, 159,  28, 148,  33,\n",
       "        120,  95, 170,  99, 133,  42, 176,  78, 139,  71,  70, 149,  69,\n",
       "         34,  27, 195, 115, 165, 164,   8, 155,  60, 184, 115, 103,  60,\n",
       "         57, 139, 167, 168,  44, 167, 195, 159, 120, 124, 151,  35, 106,\n",
       "         75,  73, 130,  44,  41, 130,  61, 109, 115, 157, 159,  80, 112,\n",
       "         26,  21,  84,  86, 193, 120,  10, 129, 135,  66, 142, 185,  15,\n",
       "        107, 132]),\n",
       " array([150, 147, 164, 136, 120, 149,   3,  75,  73,  35,  39,  45, 128,\n",
       "        181, 109, 101, 171, 140, 139,  12,  33, 141,  72, 121, 168, 163,\n",
       "        131,  12,  86,  17, 187,   5, 162, 192, 192,  91, 192, 146,  65,\n",
       "         74, 127, 188,  28, 157,  14, 188, 124, 189,  23, 188, 174, 104,\n",
       "        189,   3,  78, 170, 179,   6, 148, 115, 165, 130,  54, 141,  59,\n",
       "        124,  24,  31, 128, 161, 136,  59,  52, 115, 186,  31, 134,  67,\n",
       "         46, 134, 188,  39,  74,  12, 116,  55,  35,  55, 101,  39,  93,\n",
       "         15,  32,  26, 188,  13, 122,  59,  84,  59, 144, 179,  85, 187,\n",
       "         37,  96,  98, 145,  78, 136, 159, 179,   0,  49, 139,  96, 103,\n",
       "        128, 137, 108, 143,  69, 175,  94,  41, 155, 152, 145, 103, 180,\n",
       "         65, 171,  50, 106, 191, 174,  96,  49,  60, 113,  63,  70,  24,\n",
       "        120,  97, 134, 107, 174,   0, 130, 144,   5,  29, 180,  11, 161,\n",
       "        162,  66,   2, 152, 137,  84, 157,  62, 146,  24, 148,  80, 107,\n",
       "        159,  62,   0, 126, 135,  65, 150,  39, 182, 118, 134, 152, 156,\n",
       "        182, 144, 114,  57,  57,  97, 150,  66, 148, 109,  94,  90,  16,\n",
       "        134, 101]),\n",
       " array([ 42,  95,  99, 117, 171,   7,  14,  33,   1,  11, 126, 128,  65,\n",
       "         27,   7, 189, 128, 107,  86, 129, 122,  86, 120, 147,  95, 105,\n",
       "         43,  70,  95, 163,  52,  33, 123,   9,  66,  31,  33,  75,  14,\n",
       "         74,  25, 120,  88,  46, 182,  45,  33,  16, 162, 189, 123,  47,\n",
       "        101, 118, 130, 148,  17, 159, 142,  40,  27,   8,  10, 149,   3,\n",
       "        140, 173, 118, 169,  26,  17,  88,  30,  36, 128, 133,  42, 103,\n",
       "        154, 119, 114, 165,  67, 140,  93, 169, 110,  13, 119,  11,  73,\n",
       "        103, 143,  96, 190, 164, 187, 122, 105,  92,  30,  83, 188,  43,\n",
       "         21, 134,  90,  78,  32,  54,  81, 171, 128, 126,  70, 186,  15,\n",
       "         94, 133,  24, 149, 169,   2,  68, 148,  97, 125,  19,  21,  90,\n",
       "        116, 140, 153,  85, 109, 146, 105, 193, 183,  96,   1,  13, 116,\n",
       "         89, 135,  93, 114,  29, 188, 119,  64, 146, 113, 143, 136,  97,\n",
       "        152, 160,   0, 136, 191, 148, 176, 126,  98, 103, 177, 152,  53,\n",
       "        124,  34,  29, 158,  73,  80, 129, 166, 147, 143, 169,  92,  57,\n",
       "        154, 161, 150,  47,  70, 162, 103, 153,  62,  65, 116, 122, 129,\n",
       "        135, 162])]"
      ]
     },
     "execution_count": 126,
     "metadata": {},
     "output_type": "execute_result"
    }
   ],
   "source": [
    "bag_model.estimators_samples_"
   ]
  },
  {
   "cell_type": "code",
   "execution_count": 127,
   "metadata": {},
   "outputs": [
    {
     "data": {
      "text/plain": [
       "[array([ 7,  3, 11,  0,  9,  2,  9,  1, 12, 16, 18, 11,  9, 15,  1, 13, 16,\n",
       "         3, 14]),\n",
       " array([ 6,  2, 15, 18,  9,  2, 11,  4,  5, 13, 10, 13,  4, 13,  1,  0,  6,\n",
       "         6, 17]),\n",
       " array([ 7, 17,  9,  9,  0,  8, 12,  8, 13, 16, 13, 10,  3,  8, 11, 16, 13,\n",
       "         3,  8]),\n",
       " array([ 5,  1,  5,  4, 13, 14,  1,  5,  1,  7, 12,  6, 14, 16, 16,  8,  6,\n",
       "         0,  8]),\n",
       " array([ 4, 16,  3, 11, 14, 18, 15,  8, 10,  0,  0,  0,  9,  4,  6, 12, 11,\n",
       "         4,  5]),\n",
       " array([18,  3, 10,  1, 15,  0, 10,  0,  5, 13, 15,  2,  8,  6,  3, 11,  3,\n",
       "        10,  5]),\n",
       " array([ 3,  4, 13,  3, 16,  2,  0, 11, 13,  5, 10, 13, 17,  5,  4, 17, 17,\n",
       "        12, 13]),\n",
       " array([15, 14,  8, 16,  6,  0,  0, 11,  8,  1, 15, 16,  7,  8, 18,  8, 13,\n",
       "         4,  5]),\n",
       " array([ 6, 18, 16,  5, 17, 17,  5,  7, 18,  0, 14,  7, 13,  8,  4, 15, 16,\n",
       "         0, 16]),\n",
       " array([11,  5, 12,  2, 11, 18, 13, 15,  5, 10, 10, 17, 18,  7,  9, 16, 11,\n",
       "        18, 17])]"
      ]
     },
     "execution_count": 127,
     "metadata": {},
     "output_type": "execute_result"
    }
   ],
   "source": [
    "bag_model.estimators_features_"
   ]
  },
  {
   "cell_type": "code",
   "execution_count": 128,
   "metadata": {},
   "outputs": [
    {
     "data": {
      "text/plain": [
       "DecisionTreeRegressor(random_state=1654094950)"
      ]
     },
     "execution_count": 128,
     "metadata": {},
     "output_type": "execute_result"
    }
   ],
   "source": [
    "bag_model.estimators_[1]"
   ]
  },
  {
   "cell_type": "markdown",
   "metadata": {},
   "source": [
    "# BAGGET Tahmin "
   ]
  },
  {
   "cell_type": "code",
   "execution_count": 129,
   "metadata": {},
   "outputs": [],
   "source": [
    "y_pred= bag_model.predict(X_test)"
   ]
  },
  {
   "cell_type": "code",
   "execution_count": 130,
   "metadata": {},
   "outputs": [
    {
     "data": {
      "text/plain": [
       "395.4260167384167"
      ]
     },
     "execution_count": 130,
     "metadata": {},
     "output_type": "execute_result"
    }
   ],
   "source": [
    "np.sqrt(mean_squared_error(y_test, y_pred))\n",
    "# tüm ağaçların ortak tahmini "
   ]
  },
  {
   "cell_type": "code",
   "execution_count": 131,
   "metadata": {},
   "outputs": [],
   "source": [
    "# Ağaçların kendilerine erişmek \n",
    "iki_y_pred= bag_model.estimators_[1].fit(X_train,y_train).predict(X_test)"
   ]
  },
  {
   "cell_type": "code",
   "execution_count": 132,
   "metadata": {},
   "outputs": [
    {
     "data": {
      "text/plain": [
       "533.37955548986"
      ]
     },
     "execution_count": 132,
     "metadata": {},
     "output_type": "execute_result"
    }
   ],
   "source": [
    "np.sqrt(mean_squared_error(y_test, iki_y_pred))"
   ]
  },
  {
   "cell_type": "code",
   "execution_count": 134,
   "metadata": {},
   "outputs": [],
   "source": [
    "yedi_y_pred= bag_model.estimators_[6].fit(X_train,y_train).predict(X_test)"
   ]
  },
  {
   "cell_type": "code",
   "execution_count": 135,
   "metadata": {},
   "outputs": [
    {
     "data": {
      "text/plain": [
       "451.9183560214906"
      ]
     },
     "execution_count": 135,
     "metadata": {},
     "output_type": "execute_result"
    }
   ],
   "source": [
    "np.sqrt(mean_squared_error(y_test, yedi_y_pred))"
   ]
  },
  {
   "cell_type": "markdown",
   "metadata": {},
   "source": [
    "## BAGGET Model Tunning "
   ]
  },
  {
   "cell_type": "code",
   "execution_count": 137,
   "metadata": {},
   "outputs": [
    {
     "data": {
      "text/plain": [
       "BaggingRegressor(bootstrap_features=True)"
      ]
     },
     "execution_count": 137,
     "metadata": {},
     "output_type": "execute_result"
    }
   ],
   "source": [
    "bag_model = BaggingRegressor(bootstrap_features=True)\n",
    "bag_model.fit(X_train, y_train)"
   ]
  },
  {
   "cell_type": "code",
   "execution_count": 138,
   "metadata": {},
   "outputs": [],
   "source": [
    "bag_params= {\"n_estimators\": range(2,20)}"
   ]
  },
  {
   "cell_type": "code",
   "execution_count": 139,
   "metadata": {},
   "outputs": [],
   "source": [
    "bag_cv_model= GridSearchCV(bag_model, bag_params)"
   ]
  },
  {
   "cell_type": "code",
   "execution_count": 140,
   "metadata": {},
   "outputs": [
    {
     "data": {
      "text/plain": [
       "GridSearchCV(estimator=BaggingRegressor(bootstrap_features=True),\n",
       "             param_grid={'n_estimators': range(2, 20)})"
      ]
     },
     "execution_count": 140,
     "metadata": {},
     "output_type": "execute_result"
    }
   ],
   "source": [
    "bag_cv_model.fit(X_train, y_train)"
   ]
  },
  {
   "cell_type": "code",
   "execution_count": 141,
   "metadata": {},
   "outputs": [
    {
     "data": {
      "text/plain": [
       "{'n_estimators': 15}"
      ]
     },
     "execution_count": 141,
     "metadata": {},
     "output_type": "execute_result"
    }
   ],
   "source": [
    "bag_cv_model.best_params_"
   ]
  },
  {
   "cell_type": "code",
   "execution_count": 142,
   "metadata": {},
   "outputs": [],
   "source": [
    "bag_tuned= BaggingRegressor(n_estimators=15, random_state=45)"
   ]
  },
  {
   "cell_type": "code",
   "execution_count": 143,
   "metadata": {},
   "outputs": [
    {
     "data": {
      "text/plain": [
       "BaggingRegressor(n_estimators=15, random_state=45)"
      ]
     },
     "execution_count": 143,
     "metadata": {},
     "output_type": "execute_result"
    }
   ],
   "source": [
    "bag_tuned.fit(X_train,y_train)"
   ]
  },
  {
   "cell_type": "code",
   "execution_count": 146,
   "metadata": {},
   "outputs": [],
   "source": [
    "y_pred = bag_tuned.predict(X_test)"
   ]
  },
  {
   "cell_type": "code",
   "execution_count": 147,
   "metadata": {},
   "outputs": [
    {
     "data": {
      "text/plain": [
       "343.0234848615451"
      ]
     },
     "execution_count": 147,
     "metadata": {},
     "output_type": "execute_result"
    }
   ],
   "source": [
    "np.sqrt(mean_squared_error(y_test, y_pred))"
   ]
  },
  {
   "cell_type": "markdown",
   "metadata": {},
   "source": [
    "## Random Forest Model"
   ]
  },
  {
   "cell_type": "code",
   "execution_count": 148,
   "metadata": {},
   "outputs": [],
   "source": [
    "hit = pd.read_csv(\"Hitters.csv\")\n",
    "df = hit.copy()\n",
    "df = df.dropna()\n",
    "dms = pd.get_dummies(df[['League', 'Division', 'NewLeague']])\n",
    "y = df[\"Salary\"]\n",
    "X_ = df.drop(['Salary', 'League', 'Division', 'NewLeague'], axis=1).astype('float64')\n",
    "X = pd.concat([X_, dms[['League_N', 'Division_W', 'NewLeague_N']]], axis=1)\n",
    "X_train, X_test, y_train, y_test = train_test_split(X, y, \n",
    "                                                    test_size=0.25, \n",
    "                                                    random_state=42)"
   ]
  },
  {
   "cell_type": "code",
   "execution_count": 149,
   "metadata": {},
   "outputs": [],
   "source": [
    "from sklearn.ensemble import RandomForestRegressor"
   ]
  },
  {
   "cell_type": "code",
   "execution_count": 150,
   "metadata": {},
   "outputs": [],
   "source": [
    "rf_model= RandomForestRegressor(random_state=42)"
   ]
  },
  {
   "cell_type": "code",
   "execution_count": 151,
   "metadata": {},
   "outputs": [
    {
     "data": {
      "text/plain": [
       "RandomForestRegressor(random_state=42)"
      ]
     },
     "execution_count": 151,
     "metadata": {},
     "output_type": "execute_result"
    }
   ],
   "source": [
    "rf_model.fit(X_train,y_train)"
   ]
  },
  {
   "cell_type": "markdown",
   "metadata": {},
   "source": [
    "## RF Tahmin"
   ]
  },
  {
   "cell_type": "code",
   "execution_count": 154,
   "metadata": {},
   "outputs": [
    {
     "data": {
      "text/plain": [
       "array([ 740.62167,  895.99497, 1184.695  ,  139.65167,  634.75833])"
      ]
     },
     "execution_count": 154,
     "metadata": {},
     "output_type": "execute_result"
    }
   ],
   "source": [
    "rf_model.predict(X_test)[0:5]"
   ]
  },
  {
   "cell_type": "code",
   "execution_count": 155,
   "metadata": {},
   "outputs": [],
   "source": [
    "y_pred= rf_model.predict(X_test)"
   ]
  },
  {
   "cell_type": "code",
   "execution_count": 156,
   "metadata": {},
   "outputs": [
    {
     "data": {
      "text/plain": [
       "345.00286717448006"
      ]
     },
     "execution_count": 156,
     "metadata": {},
     "output_type": "execute_result"
    }
   ],
   "source": [
    "np.sqrt(mean_squared_error(y_test, y_pred))"
   ]
  },
  {
   "cell_type": "markdown",
   "metadata": {},
   "source": [
    "## RF Model Tunnig"
   ]
  },
  {
   "cell_type": "code",
   "execution_count": 157,
   "metadata": {},
   "outputs": [],
   "source": [
    "rf_params= {\"max_depth\": list(range(1,10)),\n",
    "           \"max_features\": [3,5,10,15],\n",
    "           \"n_estimators\": [100,200,500,1000]}\n",
    "#n_estimators için en iyi çalıştığı düşünülen sayılar 500 ve 1000'dir."
   ]
  },
  {
   "cell_type": "code",
   "execution_count": 158,
   "metadata": {},
   "outputs": [],
   "source": [
    "rf_model= RandomForestRegressor(random_state = 42)"
   ]
  },
  {
   "cell_type": "code",
   "execution_count": 159,
   "metadata": {},
   "outputs": [],
   "source": [
    "rf_cv_model= GridSearchCV(rf_model,rf_params,cv=10, n_jobs=-1)\n",
    "#hızlı çalışmayı sağlar"
   ]
  },
  {
   "cell_type": "code",
   "execution_count": 160,
   "metadata": {},
   "outputs": [
    {
     "data": {
      "text/plain": [
       "GridSearchCV(cv=10, estimator=RandomForestRegressor(random_state=42), n_jobs=-1,\n",
       "             param_grid={'max_depth': [1, 2, 3, 4, 5, 6, 7, 8, 9],\n",
       "                         'max_features': [3, 5, 10, 15],\n",
       "                         'n_estimators': [100, 200, 500, 1000]})"
      ]
     },
     "execution_count": 160,
     "metadata": {},
     "output_type": "execute_result"
    }
   ],
   "source": [
    "rf_cv_model.fit(X_train, y_train)"
   ]
  },
  {
   "cell_type": "code",
   "execution_count": 165,
   "metadata": {},
   "outputs": [
    {
     "data": {
      "text/plain": [
       "{'max_depth': 8, 'max_features': 3, 'n_estimators': 100}"
      ]
     },
     "execution_count": 165,
     "metadata": {},
     "output_type": "execute_result"
    }
   ],
   "source": [
    "rf_cv_model.best_params_"
   ]
  },
  {
   "cell_type": "code",
   "execution_count": 166,
   "metadata": {},
   "outputs": [],
   "source": [
    "rf_tuned= RandomForestRegressor(max_depth= 8, max_features= 3, n_estimators= 100)"
   ]
  },
  {
   "cell_type": "code",
   "execution_count": 168,
   "metadata": {},
   "outputs": [
    {
     "data": {
      "text/plain": [
       "RandomForestRegressor(max_depth=8, max_features=3)"
      ]
     },
     "execution_count": 168,
     "metadata": {},
     "output_type": "execute_result"
    }
   ],
   "source": [
    "rf_tuned.fit(X_train,y_train)"
   ]
  },
  {
   "cell_type": "code",
   "execution_count": 169,
   "metadata": {},
   "outputs": [],
   "source": [
    "y_pred= rf_tuned.predict(X_test)"
   ]
  },
  {
   "cell_type": "code",
   "execution_count": 171,
   "metadata": {},
   "outputs": [
    {
     "data": {
      "text/plain": [
       "341.92587510276394"
      ]
     },
     "execution_count": 171,
     "metadata": {},
     "output_type": "execute_result"
    }
   ],
   "source": [
    "np.sqrt(mean_squared_error(y_test,y_pred))"
   ]
  },
  {
   "cell_type": "code",
   "execution_count": 172,
   "metadata": {},
   "outputs": [],
   "source": [
    "#değişkenlerin önem düzeylerine erişmek gibi bir ihtiyacımız old düşünüleim\n",
    "Importance = pd.DataFrame({\"Importance\": rf_tuned.feature_importances_*100},\n",
    "                         index= X_train.columns)"
   ]
  },
  {
   "cell_type": "code",
   "execution_count": 175,
   "metadata": {},
   "outputs": [
    {
     "data": {
      "text/plain": [
       "Text(0.5,0,'Değişkenlerin Önem Düzeyleri')"
      ]
     },
     "execution_count": 175,
     "metadata": {},
     "output_type": "execute_result"
    },
    {
     "data": {
      "image/png": "[encoded data removed]",
      "text/plain": [
       "<Figure size 432x288 with 1 Axes>"
      ]
     },
     "metadata": {
      "needs_background": "light"
     },
     "output_type": "display_data"
    }
   ],
   "source": [
    "Importance.sort_values(by=\"Importance\" , axis=0 ,ascending=True).plot(kind=\"barh\", color=\"r\")\n",
    "plt.xlabel(\"Değişkenlerin Önem Düzeyleri\")"
   ]
  },
  {
   "cell_type": "markdown",
   "metadata": {},
   "source": [
    "# GBM Model "
   ]
  },
  {
   "cell_type": "code",
   "execution_count": 176,
   "metadata": {},
   "outputs": [],
   "source": [
    "from sklearn.ensemble import GradientBoostingRegressor"
   ]
  },
  {
   "cell_type": "code",
   "execution_count": 178,
   "metadata": {},
   "outputs": [
    {
     "data": {
      "text/plain": [
       "GradientBoostingRegressor()"
      ]
     },
     "execution_count": 178,
     "metadata": {},
     "output_type": "execute_result"
    }
   ],
   "source": [
    "gbm_model= GradientBoostingRegressor()\n",
    "gbm_model.fit(X_train,y_train)"
   ]
  },
  {
   "cell_type": "markdown",
   "metadata": {},
   "source": [
    "## GBM TAHMİN "
   ]
  },
  {
   "cell_type": "code",
   "execution_count": 179,
   "metadata": {},
   "outputs": [
    {
     "data": {
      "text/plain": [
       "358.063784406338"
      ]
     },
     "execution_count": 179,
     "metadata": {},
     "output_type": "execute_result"
    }
   ],
   "source": [
    "y_pred = gbm_model.predict(X_test)\n",
    "np.sqrt(mean_squared_error(y_test, y_pred))"
   ]
  },
  {
   "cell_type": "markdown",
   "metadata": {},
   "source": [
    "## GBM Model Tunning "
   ]
  },
  {
   "cell_type": "code",
   "execution_count": 180,
   "metadata": {},
   "outputs": [],
   "source": [
    "gbm_params = {\n",
    "    'learning_rate': [0.001, 0.01, 0.1, 0.2],\n",
    "    'max_depth': [3, 5, 8,50,100],\n",
    "    'n_estimators': [200, 500, 1000, 2000],\n",
    "    'subsample': [1,0.5,0.75],\n",
    "}"
   ]
  },
  {
   "cell_type": "code",
   "execution_count": 182,
   "metadata": {},
   "outputs": [
    {
     "name": "stdout",
     "output_type": "stream",
     "text": [
      "Fitting 10 folds for each of 240 candidates, totalling 2400 fits\n"
     ]
    },
    {
     "data": {
      "text/plain": [
       "GridSearchCV(cv=10, estimator=GradientBoostingRegressor(), n_jobs=-1,\n",
       "             param_grid={'learning_rate': [0.001, 0.01, 0.1, 0.2],\n",
       "                         'max_depth': [3, 5, 8, 50, 100],\n",
       "                         'n_estimators': [200, 500, 1000, 2000],\n",
       "                         'subsample': [1, 0.5, 0.75]},\n",
       "             verbose=2)"
      ]
     },
     "execution_count": 182,
     "metadata": {},
     "output_type": "execute_result"
    }
   ],
   "source": [
    "gbm= GradientBoostingRegressor()\n",
    "gbm_cv_model= GridSearchCV(gbm,gbm_params, cv=10,n_jobs=-1, verbose= 2 )\n",
    "gbm_cv_model.fit(X_train,y_train)"
   ]
  },
  {
   "cell_type": "code",
   "execution_count": 188,
   "metadata": {},
   "outputs": [
    {
     "data": {
      "text/plain": [
       "{'learning_rate': 0.1, 'max_depth': 5, 'n_estimators': 200, 'subsample': 0.75}"
      ]
     },
     "execution_count": 188,
     "metadata": {},
     "output_type": "execute_result"
    }
   ],
   "source": [
    "gbm_cv_model.best_params_"
   ]
  },
  {
   "cell_type": "code",
   "execution_count": 189,
   "metadata": {},
   "outputs": [],
   "source": [
    "gbm_tuned = GradientBoostingRegressor(learning_rate = 0.1,  \n",
    "                                      max_depth = 5, \n",
    "                                      n_estimators = 200, \n",
    "                                      subsample = 0.75)\n",
    "\n",
    "gbm_tuned = gbm_tuned.fit(X_train,y_train)"
   ]
  },
  {
   "cell_type": "code",
   "execution_count": 190,
   "metadata": {},
   "outputs": [
    {
     "data": {
      "text/plain": [
       "334.8671859231009"
      ]
     },
     "execution_count": 190,
     "metadata": {},
     "output_type": "execute_result"
    }
   ],
   "source": [
    "y_pred = gbm_tuned.predict(X_test)\n",
    "np.sqrt(mean_squared_error(y_test, y_pred))"
   ]
  },
  {
   "cell_type": "code",
   "execution_count": 191,
   "metadata": {},
   "outputs": [],
   "source": [
    "Importance = pd.DataFrame({\"Importance\": gbm_tuned.feature_importances_*100},\n",
    "                         index = X_train.columns)"
   ]
  },
  {
   "cell_type": "code",
   "execution_count": 192,
   "metadata": {},
   "outputs": [
    {
     "data": {
      "text/plain": [
       "Text(0.5,0,'Değişken Önem Düzeyleri')"
      ]
     },
     "execution_count": 192,
     "metadata": {},
     "output_type": "execute_result"
    },
    {
     "data": {
      "image/png": "[encoded data removed]",
      "text/plain": [
       "<Figure size 432x288 with 1 Axes>"
      ]
     },
     "metadata": {
      "needs_background": "light"
     },
     "output_type": "display_data"
    }
   ],
   "source": [
    "Importance.sort_values(by = \"Importance\", \n",
    "                       axis = 0, \n",
    "                       ascending = True).plot(kind =\"barh\", color = \"r\")\n",
    "\n",
    "plt.xlabel(\"Değişken Önem Düzeyleri\")"
   ]
  },
  {
   "cell_type": "markdown",
   "metadata": {},
   "source": [
    "## XGBoots Model"
   ]
  },
  {
   "cell_type": "code",
   "execution_count": 193,
   "metadata": {},
   "outputs": [],
   "source": [
    "hit = pd.read_csv(\"Hitters.csv\")\n",
    "df = hit.copy()\n",
    "df = df.dropna()\n",
    "dms = pd.get_dummies(df[['League', 'Division', 'NewLeague']])\n",
    "y = df[\"Salary\"]\n",
    "X_ = df.drop(['Salary', 'League', 'Division', 'NewLeague'], axis=1).astype('float64')\n",
    "X = pd.concat([X_, dms[['League_N', 'Division_W', 'NewLeague_N']]], axis=1)\n",
    "X_train, X_test, y_train, y_test = train_test_split(X, y, \n",
    "                                                    test_size=0.25, \n",
    "                                                    random_state=42)"
   ]
  },
  {
   "cell_type": "code",
   "execution_count": 87,
   "metadata": {},
   "outputs": [
    {
     "name": "stdout",
     "output_type": "stream",
     "text": [
      "Collecting xgboost\n",
      "  Using cached xgboost-1.5.1-py3-none-manylinux2014_x86_64.whl (173.5 MB)\n",
      "Requirement already satisfied: numpy in /home/gulce/anaconda3/lib/python3.9/site-packages (from xgboost) (1.20.3)\n",
      "Requirement already satisfied: scipy in /home/gulce/anaconda3/lib/python3.9/site-packages (from xgboost) (1.7.1)\n",
      "Installing collected packages: xgboost\n",
      "Successfully installed xgboost-1.5.1\n"
     ]
    }
   ],
   "source": [
    "!pip install xgboost"
   ]
  },
  {
   "cell_type": "code",
   "execution_count": 88,
   "metadata": {},
   "outputs": [],
   "source": [
    "import xgboost as xgb "
   ]
  },
  {
   "cell_type": "code",
   "execution_count": 89,
   "metadata": {},
   "outputs": [],
   "source": [
    "# pandas yerine xgbootsun kendi veri yapısını kullanırsak daha doğru çıktılar elde ederiz. \n",
    "DM_train= xgb.DMatrix(data= X_train, label=y_train)\n",
    "DM_test= xgb.DMatrix(data= X_test, label=y_test)"
   ]
  },
  {
   "cell_type": "code",
   "execution_count": 90,
   "metadata": {},
   "outputs": [],
   "source": [
    "from xgboost import XGBRegressor"
   ]
  },
  {
   "cell_type": "code",
   "execution_count": null,
   "metadata": {},
   "outputs": [],
   "source": [
    "#model kurma\n",
    "xgb_model= XGBRegressor().fit(X_train,y_train)"
   ]
  },
  {
   "cell_type": "markdown",
   "metadata": {},
   "source": [
    "## XGB Tahmin"
   ]
  },
  {
   "cell_type": "code",
   "execution_count": 204,
   "metadata": {},
   "outputs": [
    {
     "data": {
      "text/plain": [
       "355.46515176059927"
      ]
     },
     "execution_count": 204,
     "metadata": {},
     "output_type": "execute_result"
    }
   ],
   "source": [
    "y_pred = xgb_model.predict(X_test)\n",
    "np.sqrt(mean_squared_error(y_test, y_pred))"
   ]
  },
  {
   "cell_type": "markdown",
   "metadata": {},
   "source": [
    "## XGB Model Tunning "
   ]
  },
  {
   "cell_type": "code",
   "execution_count": 205,
   "metadata": {},
   "outputs": [
    {
     "data": {
      "text/plain": [
       "XGBRegressor(base_score=0.5, booster='gbtree', colsample_bylevel=1,\n",
       "             colsample_bynode=1, colsample_bytree=1, enable_categorical=False,\n",
       "             gamma=0, gpu_id=-1, importance_type=None,\n",
       "             interaction_constraints='', learning_rate=0.300000012,\n",
       "             max_delta_step=0, max_depth=6, min_child_weight=1, missing=nan,\n",
       "             monotone_constraints='()', n_estimators=100, n_jobs=4,\n",
       "             num_parallel_tree=1, predictor='auto', random_state=0, reg_alpha=0,\n",
       "             reg_lambda=1, scale_pos_weight=1, subsample=1, tree_method='exact',\n",
       "             validate_parameters=1, verbosity=None)"
      ]
     },
     "execution_count": 205,
     "metadata": {},
     "output_type": "execute_result"
    }
   ],
   "source": [
    "xgb_model"
   ]
  },
  {
   "cell_type": "code",
   "execution_count": 209,
   "metadata": {},
   "outputs": [],
   "source": [
    "xgb_grid = {\n",
    "     'colsample_bytree': [0.4, 0.5,0.6,0.9,1], \n",
    "     'n_estimators':[100, 200, 500, 1000],\n",
    "     'max_depth': [2,3,4,5,6],\n",
    "     'learning_rate': [0.1, 0.01, 0.5]\n",
    "}\n"
   ]
  },
  {
   "cell_type": "code",
   "execution_count": null,
   "metadata": {},
   "outputs": [
    {
     "name": "stdout",
     "output_type": "stream",
     "text": [
      "Fitting 10 folds for each of 300 candidates, totalling 3000 fits\n"
     ]
    }
   ],
   "source": [
    "xgb = XGBRegressor()\n",
    "\n",
    "xgb_cv = GridSearchCV(xgb, \n",
    "                      param_grid = xgb_grid, \n",
    "                      cv = 10, \n",
    "                      n_jobs = -1,\n",
    "                      verbose = 2)\n",
    "\n",
    "\n",
    "xgb_cv.fit(X_train, y_train)"
   ]
  },
  {
   "cell_type": "code",
   "execution_count": null,
   "metadata": {},
   "outputs": [],
   "source": [
    "xgb_cv.best_params_"
   ]
  },
  {
   "cell_type": "code",
   "execution_count": null,
   "metadata": {},
   "outputs": [],
   "source": [
    "# Final - tune edilmiş model oluşturma "
   ]
  },
  {
   "cell_type": "code",
   "execution_count": null,
   "metadata": {},
   "outputs": [],
   "source": [
    "xgb_tuned = XGBRegressor(colsample_bytree = 0.9, \n",
    "                         learning_rate = 0.01, \n",
    "                         max_depth = 5, \n",
    "                         n_estimators = 1000) \n",
    "\n",
    "xgb_tuned = xgb_tuned.fit(X_train,y_train)"
   ]
  },
  {
   "cell_type": "code",
   "execution_count": null,
   "metadata": {},
   "outputs": [],
   "source": [
    "y_pred = xgb_tuned.predict(X_test)\n",
    "np.sqrt(mean_squared_error(y_test, y_pred))"
   ]
  },
  {
   "cell_type": "markdown",
   "metadata": {},
   "source": [
    "## Light GBM Model "
   ]
  },
  {
   "cell_type": "code",
   "execution_count": 18,
   "metadata": {},
   "outputs": [],
   "source": [
    "hit = pd.read_csv(\"Hitters.csv\")\n",
    "df = hit.copy()\n",
    "df = df.dropna()\n",
    "dms = pd.get_dummies(df[['League', 'Division', 'NewLeague']])\n",
    "y = df[\"Salary\"]\n",
    "X_ = df.drop(['Salary', 'League', 'Division', 'NewLeague'], axis=1).astype('float64')\n",
    "X = pd.concat([X_, dms[['League_N', 'Division_W', 'NewLeague_N']]], axis=1)\n",
    "X_train, X_test, y_train, y_test = train_test_split(X, y, \n",
    "                                                    test_size=0.25, \n",
    "                                                    random_state=42)\n"
   ]
  },
  {
   "cell_type": "code",
   "execution_count": null,
   "metadata": {},
   "outputs": [],
   "source": [
    "\n",
    "\n"
   ]
  },
  {
   "cell_type": "code",
   "execution_count": 91,
   "metadata": {},
   "outputs": [
    {
     "name": "stdout",
     "output_type": "stream",
     "text": [
      "Collecting lightgbm\n",
      "  Using cached lightgbm-3.3.1-py3-none-manylinux1_x86_64.whl (2.0 MB)\n",
      "Requirement already satisfied: scikit-learn!=0.22.0 in /home/gulce/anaconda3/lib/python3.9/site-packages (from lightgbm) (0.24.2)\n",
      "Requirement already satisfied: wheel in /home/gulce/anaconda3/lib/python3.9/site-packages (from lightgbm) (0.37.0)\n",
      "Requirement already satisfied: numpy in /home/gulce/anaconda3/lib/python3.9/site-packages (from lightgbm) (1.20.3)\n",
      "Requirement already satisfied: scipy in /home/gulce/anaconda3/lib/python3.9/site-packages (from lightgbm) (1.7.1)\n",
      "Requirement already satisfied: joblib>=0.11 in /home/gulce/anaconda3/lib/python3.9/site-packages (from scikit-learn!=0.22.0->lightgbm) (1.1.0)\n",
      "Requirement already satisfied: threadpoolctl>=2.0.0 in /home/gulce/anaconda3/lib/python3.9/site-packages (from scikit-learn!=0.22.0->lightgbm) (2.2.0)\n",
      "Installing collected packages: lightgbm\n",
      "Successfully installed lightgbm-3.3.1\n"
     ]
    }
   ],
   "source": [
    "!pip install lightgbm"
   ]
  },
  {
   "cell_type": "code",
   "execution_count": 92,
   "metadata": {},
   "outputs": [],
   "source": [
    "from lightgbm import LGBMRegressor"
   ]
  },
  {
   "cell_type": "code",
   "execution_count": 21,
   "metadata": {},
   "outputs": [
    {
     "ename": "SyntaxError",
     "evalue": "invalid syntax (<ipython-input-21-8a58c9ad6fe6>, line 1)",
     "output_type": "error",
     "traceback": [
      "\u001b[0;36m  File \u001b[0;32m\"<ipython-input-21-8a58c9ad6fe6>\"\u001b[0;36m, line \u001b[0;32m1\u001b[0m\n\u001b[0;31m    conda install -c conda-forge lightgbm\u001b[0m\n\u001b[0m                ^\u001b[0m\n\u001b[0;31mSyntaxError\u001b[0m\u001b[0;31m:\u001b[0m invalid syntax\n"
     ]
    }
   ],
   "source": [
    "#conda install -c conda-forge lightgbm"
   ]
  },
  {
   "cell_type": "code",
   "execution_count": 93,
   "metadata": {},
   "outputs": [],
   "source": [
    "from lightgbm import LGBMRegressor"
   ]
  },
  {
   "cell_type": "code",
   "execution_count": null,
   "metadata": {},
   "outputs": [],
   "source": [
    "lgbm = LGBMRegressor()\n",
    "lgbm_model = lgbm.fit(X_train, y_train)"
   ]
  },
  {
   "cell_type": "markdown",
   "metadata": {},
   "source": [
    "## Tahmin"
   ]
  },
  {
   "cell_type": "code",
   "execution_count": null,
   "metadata": {},
   "outputs": [],
   "source": [
    "y_pred = lgbm_model.predict(X_test, \n",
    "                            num_iteration = lgbm_model.best_iteration_)"
   ]
  },
  {
   "cell_type": "code",
   "execution_count": null,
   "metadata": {},
   "outputs": [],
   "source": [
    "np.sqrt(mean_squared_error(y_test, y_pred))"
   ]
  },
  {
   "cell_type": "markdown",
   "metadata": {},
   "source": [
    "## Model Tuning"
   ]
  },
  {
   "cell_type": "code",
   "execution_count": null,
   "metadata": {},
   "outputs": [],
   "source": [
    "lgbm_model"
   ]
  },
  {
   "cell_type": "code",
   "execution_count": null,
   "metadata": {},
   "outputs": [],
   "source": [
    "lgbm_grid = {\n",
    "    'colsample_bytree': [0.4, 0.5,0.6,0.9,1],\n",
    "    'learning_rate': [0.01, 0.1, 0.5,1],\n",
    "    'n_estimators': [20, 40, 100, 200, 500,1000],\n",
    "    'max_depth': [1,2,3,4,5,6,7,8] }\n",
    "\n",
    "lgbm = LGBMRegressor()\n",
    "lgbm_cv_model = GridSearchCV(lgbm, lgbm_grid, cv=10, n_jobs = -1, verbose = 2)"
   ]
  },
  {
   "cell_type": "code",
   "execution_count": null,
   "metadata": {},
   "outputs": [],
   "source": [
    "lgbm_cv_model.fit(X_train, y_train)"
   ]
  },
  {
   "cell_type": "code",
   "execution_count": null,
   "metadata": {},
   "outputs": [],
   "source": [
    "lgbm_cv_model.best_params_"
   ]
  },
  {
   "cell_type": "code",
   "execution_count": null,
   "metadata": {},
   "outputs": [],
   "source": [
    "lgbm_tuned = LGBMRegressor(learning_rate = 0.1, \n",
    "                           max_depth = 7, \n",
    "                           n_estimators = 40,\n",
    "                          colsample_bytree = 0.6)\n",
    "\n",
    "lgbm_tuned = lgbm_tuned.fit(X_train,y_train)"
   ]
  },
  {
   "cell_type": "code",
   "execution_count": null,
   "metadata": {},
   "outputs": [],
   "source": [
    "y_pred = lgbm_tuned.predict(X_test)"
   ]
  },
  {
   "cell_type": "code",
   "execution_count": null,
   "metadata": {},
   "outputs": [],
   "source": [
    "np.sqrt(mean_squared_error(y_test, y_pred))"
   ]
  },
  {
   "cell_type": "markdown",
   "metadata": {},
   "source": [
    "# CatBoost"
   ]
  },
  {
   "cell_type": "code",
   "execution_count": 26,
   "metadata": {},
   "outputs": [],
   "source": [
    "hit = pd.read_csv(\"Hitters.csv\")\n",
    "df = hit.copy()\n",
    "df = df.dropna()\n",
    "dms = pd.get_dummies(df[['League', 'Division', 'NewLeague']])\n",
    "y = df[\"Salary\"]\n",
    "X_ = df.drop(['Salary', 'League', 'Division', 'NewLeague'], axis=1).astype('float64')\n",
    "X = pd.concat([X_, dms[['League_N', 'Division_W', 'NewLeague_N']]], axis=1)\n",
    "X_train, X_test, y_train, y_test = train_test_split(X, y, \n",
    "                                                    test_size=0.25, \n",
    "                                                    random_state=42)\n"
   ]
  },
  {
   "cell_type": "code",
   "execution_count": 94,
   "metadata": {},
   "outputs": [
    {
     "name": "stdout",
     "output_type": "stream",
     "text": [
      "Collecting catboost\n",
      "  Downloading catboost-1.0.3-cp39-none-manylinux1_x86_64.whl (76.3 MB)\n",
      "\u001b[K     |████████████████████████████████| 76.3 MB 22 kB/s  eta 0:00:01     |████▎                           | 10.3 MB 3.1 MB/s eta 0:00:22     |████████                        | 18.9 MB 1.4 MB/s eta 0:00:42     |██████████████▋                 | 34.8 MB 2.9 MB/s eta 0:00:15     |██████████████▉                 | 35.2 MB 2.9 MB/s eta 0:00:14     |██████████████▉                 | 35.5 MB 2.9 MB/s eta 0:00:14     |████████████████▉               | 40.1 MB 2.4 MB/s eta 0:00:16     |██████████████████▋             | 44.4 MB 2.2 MB/s eta 0:00:15     |███████████████████▉            | 47.2 MB 2.1 MB/s eta 0:00:14     |███████████████████████         | 54.6 MB 2.0 MB/s eta 0:00:12     |███████████████████████▍        | 55.9 MB 2.0 MB/s eta 0:00:11\n",
      "\u001b[?25hRequirement already satisfied: scipy in /home/gulce/anaconda3/lib/python3.9/site-packages (from catboost) (1.7.1)\n",
      "Requirement already satisfied: matplotlib in /home/gulce/anaconda3/lib/python3.9/site-packages (from catboost) (3.4.3)\n",
      "Collecting plotly\n",
      "  Downloading plotly-5.5.0-py2.py3-none-any.whl (26.5 MB)\n",
      "\u001b[K     |████████████████████████████████| 26.5 MB 1.8 MB/s eta 0:00:01    |████████▌                       | 7.1 MB 2.8 MB/s eta 0:00:08     |██████████                      | 8.4 MB 3.4 MB/s eta 0:00:06     |█████████████████████▏          | 17.5 MB 3.5 MB/s eta 0:00:03\n",
      "\u001b[?25hRequirement already satisfied: pandas>=0.24.0 in /home/gulce/anaconda3/lib/python3.9/site-packages (from catboost) (1.3.4)\n",
      "Collecting graphviz\n",
      "  Using cached graphviz-0.19.1-py3-none-any.whl (46 kB)\n",
      "Requirement already satisfied: numpy>=1.16.0 in /home/gulce/anaconda3/lib/python3.9/site-packages (from catboost) (1.20.3)\n",
      "Requirement already satisfied: six in /home/gulce/anaconda3/lib/python3.9/site-packages (from catboost) (1.16.0)\n",
      "Requirement already satisfied: python-dateutil>=2.7.3 in /home/gulce/anaconda3/lib/python3.9/site-packages (from pandas>=0.24.0->catboost) (2.8.2)\n",
      "Requirement already satisfied: pytz>=2017.3 in /home/gulce/anaconda3/lib/python3.9/site-packages (from pandas>=0.24.0->catboost) (2021.3)\n",
      "Requirement already satisfied: kiwisolver>=1.0.1 in /home/gulce/anaconda3/lib/python3.9/site-packages (from matplotlib->catboost) (1.3.1)\n",
      "Requirement already satisfied: cycler>=0.10 in /home/gulce/anaconda3/lib/python3.9/site-packages (from matplotlib->catboost) (0.10.0)\n",
      "Requirement already satisfied: pillow>=6.2.0 in /home/gulce/anaconda3/lib/python3.9/site-packages (from matplotlib->catboost) (8.4.0)\n",
      "Requirement already satisfied: pyparsing>=2.2.1 in /home/gulce/anaconda3/lib/python3.9/site-packages (from matplotlib->catboost) (3.0.4)\n",
      "Collecting tenacity>=6.2.0\n",
      "  Using cached tenacity-8.0.1-py3-none-any.whl (24 kB)\n",
      "Installing collected packages: tenacity, plotly, graphviz, catboost\n",
      "Successfully installed catboost-1.0.3 graphviz-0.19.1 plotly-5.5.0 tenacity-8.0.1\n"
     ]
    }
   ],
   "source": [
    "!pip install catboost"
   ]
  },
  {
   "cell_type": "code",
   "execution_count": 95,
   "metadata": {
    "collapsed": true,
    "jupyter": {
     "outputs_hidden": true
    },
    "tags": []
   },
   "outputs": [
    {
     "name": "stdout",
     "output_type": "stream",
     "text": [
      "Collecting numpy==1.16.1\n",
      "  Downloading numpy-1.16.1.zip (5.1 MB)\n",
      "\u001b[K     |████████████████████████████████| 5.1 MB 959 kB/s eta 0:00:01     |█████████                       | 1.4 MB 811 kB/s eta 0:00:05     |██████████████████▌             | 2.9 MB 811 kB/s eta 0:00:03��██▋          | 3.4 MB 959 kB/s eta 0:00:02\n",
      "\u001b[?25hBuilding wheels for collected packages: numpy\n",
      "  Building wheel for numpy (setup.py) ... \u001b[?25lerror\n",
      "\u001b[31m  ERROR: Command errored out with exit status 1:\n",
      "   command: /home/gulce/anaconda3/bin/python -u -c 'import io, os, sys, setuptools, tokenize; sys.argv[0] = '\"'\"'/tmp/pip-install-yrocl33k/numpy_487c9af5cbe94125bf2f22d4a3b8fa7c/setup.py'\"'\"'; __file__='\"'\"'/tmp/pip-install-yrocl33k/numpy_487c9af5cbe94125bf2f22d4a3b8fa7c/setup.py'\"'\"';f = getattr(tokenize, '\"'\"'open'\"'\"', open)(__file__) if os.path.exists(__file__) else io.StringIO('\"'\"'from setuptools import setup; setup()'\"'\"');code = f.read().replace('\"'\"'\\r\\n'\"'\"', '\"'\"'\\n'\"'\"');f.close();exec(compile(code, __file__, '\"'\"'exec'\"'\"'))' bdist_wheel -d /tmp/pip-wheel-srdgjgbq\n",
      "       cwd: /tmp/pip-install-yrocl33k/numpy_487c9af5cbe94125bf2f22d4a3b8fa7c/\n",
      "  Complete output (2877 lines):\n",
      "  Running from numpy source directory.\n",
      "  /tmp/pip-install-yrocl33k/numpy_487c9af5cbe94125bf2f22d4a3b8fa7c/numpy/distutils/misc_util.py:476: SyntaxWarning: \"is\" with a literal. Did you mean \"==\"?\n",
      "    return is_string(s) and ('*' in s or '?' is s)\n",
      "  blas_opt_info:\n",
      "  blas_mkl_info:\n",
      "  customize UnixCCompiler\n",
      "    FOUND:\n",
      "      libraries = ['mkl_rt', 'pthread']\n",
      "      library_dirs = ['/home/gulce/anaconda3/lib']\n",
      "      define_macros = [('SCIPY_MKL_H', None), ('HAVE_CBLAS', None)]\n",
      "      include_dirs = ['/usr/local/include', '/usr/include', '/home/gulce/anaconda3/include']\n",
      "  \n",
      "    FOUND:\n",
      "      libraries = ['mkl_rt', 'pthread']\n",
      "      library_dirs = ['/home/gulce/anaconda3/lib']\n",
      "      define_macros = [('SCIPY_MKL_H', None), ('HAVE_CBLAS', None)]\n",
      "      include_dirs = ['/usr/local/include', '/usr/include', '/home/gulce/anaconda3/include']\n",
      "  \n",
      "  /bin/sh: 1: svnversion: not found\n",
      "  non-existing path in 'numpy/distutils': 'site.cfg'\n",
      "  lapack_opt_info:\n",
      "  lapack_mkl_info:\n",
      "  customize UnixCCompiler\n",
      "    FOUND:\n",
      "      libraries = ['mkl_rt', 'pthread']\n",
      "      library_dirs = ['/home/gulce/anaconda3/lib']\n",
      "      define_macros = [('SCIPY_MKL_H', None), ('HAVE_CBLAS', None)]\n",
      "      include_dirs = ['/usr/local/include', '/usr/include', '/home/gulce/anaconda3/include']\n",
      "  \n",
      "    FOUND:\n",
      "      libraries = ['mkl_rt', 'pthread']\n",
      "      library_dirs = ['/home/gulce/anaconda3/lib']\n",
      "      define_macros = [('SCIPY_MKL_H', None), ('HAVE_CBLAS', None)]\n",
      "      include_dirs = ['/usr/local/include', '/usr/include', '/home/gulce/anaconda3/include']\n",
      "  \n",
      "  /home/gulce/anaconda3/lib/python3.9/distutils/dist.py:274: UserWarning: Unknown distribution option: 'define_macros'\n",
      "    warnings.warn(msg)\n",
      "  running bdist_wheel\n",
      "  running build\n",
      "  running config_cc\n",
      "  unifing config_cc, config, build_clib, build_ext, build commands --compiler options\n",
      "  running config_fc\n",
      "  unifing config_fc, config, build_clib, build_ext, build commands --fcompiler options\n",
      "  running build_src\n",
      "  build_src\n",
      "  building py_modules sources\n",
      "  creating build\n",
      "  creating build/src.linux-x86_64-3.9\n",
      "  creating build/src.linux-x86_64-3.9/numpy\n",
      "  creating build/src.linux-x86_64-3.9/numpy/distutils\n",
      "  building library \"npymath\" sources\n",
      "  get_default_fcompiler: matching types: '['gnu95', 'intel', 'lahey', 'pg', 'absoft', 'nag', 'vast', 'compaq', 'intele', 'intelem', 'gnu', 'g95', 'pathf95', 'nagfor']'\n",
      "  customize Gnu95FCompiler\n",
      "  Could not locate executable gfortran\n",
      "  Could not locate executable f95\n",
      "  customize IntelFCompiler\n",
      "  Could not locate executable ifort\n",
      "  Could not locate executable ifc\n",
      "  customize LaheyFCompiler\n",
      "  Could not locate executable lf95\n",
      "  customize PGroupFCompiler\n",
      "  Could not locate executable pgfortran\n",
      "  customize AbsoftFCompiler\n",
      "  Could not locate executable f90\n",
      "  Could not locate executable f77\n",
      "  customize NAGFCompiler\n",
      "  customize VastFCompiler\n",
      "  customize CompaqFCompiler\n",
      "  Could not locate executable fort\n",
      "  customize IntelItaniumFCompiler\n",
      "  Could not locate executable efort\n",
      "  Could not locate executable efc\n",
      "  customize IntelEM64TFCompiler\n",
      "  customize GnuFCompiler\n",
      "  Could not locate executable g77\n",
      "  customize G95FCompiler\n",
      "  Could not locate executable g95\n",
      "  customize PathScaleFCompiler\n",
      "  Could not locate executable pathf95\n",
      "  customize NAGFORCompiler\n",
      "  Could not locate executable nagfor\n",
      "  don't know how to compile Fortran code on platform 'posix'\n",
      "  C compiler: gcc -pthread -B /home/gulce/anaconda3/compiler_compat -Wno-unused-result -Wsign-compare -DNDEBUG -O2 -Wall -fPIC -O2 -isystem /home/gulce/anaconda3/include -I/home/gulce/anaconda3/include -fPIC -O2 -isystem /home/gulce/anaconda3/include -fPIC\n",
      "  \n",
      "  compile options: '-Inumpy/core/src/common -Inumpy/core/src -Inumpy/core -Inumpy/core/src/npymath -Inumpy/core/src/multiarray -Inumpy/core/src/umath -Inumpy/core/src/npysort -I/home/gulce/anaconda3/include/python3.9 -c'\n",
      "  gcc: _configtest.c\n",
      "  gcc -pthread -B /home/gulce/anaconda3/compiler_compat _configtest.o -o _configtest\n",
      "  success!\n",
      "  removing: _configtest.c _configtest.o _configtest.o.d _configtest\n",
      "  C compiler: gcc -pthread -B /home/gulce/anaconda3/compiler_compat -Wno-unused-result -Wsign-compare -DNDEBUG -O2 -Wall -fPIC -O2 -isystem /home/gulce/anaconda3/include -I/home/gulce/anaconda3/include -fPIC -O2 -isystem /home/gulce/anaconda3/include -fPIC\n",
      "  \n",
      "  compile options: '-Inumpy/core/src/common -Inumpy/core/src -Inumpy/core -Inumpy/core/src/npymath -Inumpy/core/src/multiarray -Inumpy/core/src/umath -Inumpy/core/src/npysort -I/home/gulce/anaconda3/include/python3.9 -c'\n",
      "  gcc: _configtest.c\n",
      "  _configtest.c:1:5: warning: conflicting types for built-in function ‘exp’\n",
      "   int exp (void);\n",
      "       ^\n",
      "  gcc -pthread -B /home/gulce/anaconda3/compiler_compat _configtest.o -o _configtest\n",
      "  /home/gulce/anaconda3/compiler_compat/ld: _configtest.o: in function `main':\n",
      "  _configtest.c:(.text.startup+0x5): undefined reference to `exp'\n",
      "  collect2: error: ld returned 1 exit status\n",
      "  failure.\n",
      "  removing: _configtest.c _configtest.o _configtest.o.d\n",
      "  C compiler: gcc -pthread -B /home/gulce/anaconda3/compiler_compat -Wno-unused-result -Wsign-compare -DNDEBUG -O2 -Wall -fPIC -O2 -isystem /home/gulce/anaconda3/include -I/home/gulce/anaconda3/include -fPIC -O2 -isystem /home/gulce/anaconda3/include -fPIC\n",
      "  \n",
      "  compile options: '-Inumpy/core/src/common -Inumpy/core/src -Inumpy/core -Inumpy/core/src/npymath -Inumpy/core/src/multiarray -Inumpy/core/src/umath -Inumpy/core/src/npysort -I/home/gulce/anaconda3/include/python3.9 -c'\n",
      "  gcc: _configtest.c\n",
      "  _configtest.c:1:5: warning: conflicting types for built-in function ‘exp’\n",
      "   int exp (void);\n",
      "       ^\n",
      "  gcc -pthread -B /home/gulce/anaconda3/compiler_compat _configtest.o -lm -o _configtest\n",
      "  success!\n",
      "  removing: _configtest.c _configtest.o _configtest.o.d _configtest\n",
      "  creating build/src.linux-x86_64-3.9/numpy/core\n",
      "  creating build/src.linux-x86_64-3.9/numpy/core/src\n",
      "  creating build/src.linux-x86_64-3.9/numpy/core/src/npymath\n",
      "  conv_template:> build/src.linux-x86_64-3.9/numpy/core/src/npymath/npy_math_internal.h\n",
      "    adding 'build/src.linux-x86_64-3.9/numpy/core/src/npymath' to include_dirs.\n",
      "  conv_template:> build/src.linux-x86_64-3.9/numpy/core/src/npymath/ieee754.c\n",
      "  conv_template:> build/src.linux-x86_64-3.9/numpy/core/src/npymath/npy_math_complex.c\n",
      "  None - nothing done with h_files = ['build/src.linux-x86_64-3.9/numpy/core/src/npymath/npy_math_internal.h']\n",
      "  building library \"npysort\" sources\n",
      "  creating build/src.linux-x86_64-3.9/numpy/core/src/common\n",
      "  conv_template:> build/src.linux-x86_64-3.9/numpy/core/src/common/npy_sort.h\n",
      "    adding 'build/src.linux-x86_64-3.9/numpy/core/src/common' to include_dirs.\n",
      "  creating build/src.linux-x86_64-3.9/numpy/core/src/npysort\n",
      "  conv_template:> build/src.linux-x86_64-3.9/numpy/core/src/npysort/quicksort.c\n",
      "  conv_template:> build/src.linux-x86_64-3.9/numpy/core/src/npysort/mergesort.c\n",
      "  conv_template:> build/src.linux-x86_64-3.9/numpy/core/src/npysort/heapsort.c\n",
      "  conv_template:> build/src.linux-x86_64-3.9/numpy/core/src/common/npy_partition.h\n",
      "  conv_template:> build/src.linux-x86_64-3.9/numpy/core/src/npysort/selection.c\n",
      "  conv_template:> build/src.linux-x86_64-3.9/numpy/core/src/common/npy_binsearch.h\n",
      "  conv_template:> build/src.linux-x86_64-3.9/numpy/core/src/npysort/binsearch.c\n",
      "  None - nothing done with h_files = ['build/src.linux-x86_64-3.9/numpy/core/src/common/npy_sort.h', 'build/src.linux-x86_64-3.9/numpy/core/src/common/npy_partition.h', 'build/src.linux-x86_64-3.9/numpy/core/src/common/npy_binsearch.h']\n",
      "  building extension \"numpy.core._dummy\" sources\n",
      "  Generating build/src.linux-x86_64-3.9/numpy/core/include/numpy/config.h\n",
      "  C compiler: gcc -pthread -B /home/gulce/anaconda3/compiler_compat -Wno-unused-result -Wsign-compare -DNDEBUG -O2 -Wall -fPIC -O2 -isystem /home/gulce/anaconda3/include -I/home/gulce/anaconda3/include -fPIC -O2 -isystem /home/gulce/anaconda3/include -fPIC\n",
      "  \n",
      "  compile options: '-Inumpy/core/src/common -Inumpy/core/src -Inumpy/core -Inumpy/core/src/npymath -Inumpy/core/src/multiarray -Inumpy/core/src/umath -Inumpy/core/src/npysort -I/home/gulce/anaconda3/include/python3.9 -c'\n",
      "  gcc: _configtest.c\n",
      "  success!\n",
      "  removing: _configtest.c _configtest.o _configtest.o.d\n",
      "  C compiler: gcc -pthread -B /home/gulce/anaconda3/compiler_compat -Wno-unused-result -Wsign-compare -DNDEBUG -O2 -Wall -fPIC -O2 -isystem /home/gulce/anaconda3/include -I/home/gulce/anaconda3/include -fPIC -O2 -isystem /home/gulce/anaconda3/include -fPIC\n",
      "  \n",
      "  compile options: '-Inumpy/core/src/common -Inumpy/core/src -Inumpy/core -Inumpy/core/src/npymath -Inumpy/core/src/multiarray -Inumpy/core/src/umath -Inumpy/core/src/npysort -I/home/gulce/anaconda3/include/python3.9 -c'\n",
      "  gcc: _configtest.c\n",
      "  success!\n",
      "  removing: _configtest.c _configtest.o _configtest.o.d\n",
      "  C compiler: gcc -pthread -B /home/gulce/anaconda3/compiler_compat -Wno-unused-result -Wsign-compare -DNDEBUG -O2 -Wall -fPIC -O2 -isystem /home/gulce/anaconda3/include -I/home/gulce/anaconda3/include -fPIC -O2 -isystem /home/gulce/anaconda3/include -fPIC\n",
      "  \n",
      "  compile options: '-Inumpy/core/src/common -Inumpy/core/src -Inumpy/core -Inumpy/core/src/npymath -Inumpy/core/src/multiarray -Inumpy/core/src/umath -Inumpy/core/src/npysort -I/home/gulce/anaconda3/include/python3.9 -c'\n",
      "  gcc: _configtest.c\n",
      "  _configtest.c:1:24: fatal error: sys/endian.h: No such file or directory\n",
      "  compilation terminated.\n",
      "  failure.\n",
      "  removing: _configtest.c _configtest.o\n",
      "  C compiler: gcc -pthread -B /home/gulce/anaconda3/compiler_compat -Wno-unused-result -Wsign-compare -DNDEBUG -O2 -Wall -fPIC -O2 -isystem /home/gulce/anaconda3/include -I/home/gulce/anaconda3/include -fPIC -O2 -isystem /home/gulce/anaconda3/include -fPIC\n",
      "  \n",
      "  compile options: '-Inumpy/core/src/common -Inumpy/core/src -Inumpy/core -Inumpy/core/src/npymath -Inumpy/core/src/multiarray -Inumpy/core/src/umath -Inumpy/core/src/npysort -I/home/gulce/anaconda3/include/python3.9 -c'\n",
      "  gcc: _configtest.c\n",
      "  success!\n",
      "  removing: _configtest.c _configtest.o _configtest.o.d\n",
      "  C compiler: gcc -pthread -B /home/gulce/anaconda3/compiler_compat -Wno-unused-result -Wsign-compare -DNDEBUG -O2 -Wall -fPIC -O2 -isystem /home/gulce/anaconda3/include -I/home/gulce/anaconda3/include -fPIC -O2 -isystem /home/gulce/anaconda3/include -fPIC\n",
      "  \n",
      "  compile options: '-Inumpy/core/src/common -Inumpy/core/src -Inumpy/core -Inumpy/core/src/npymath -Inumpy/core/src/multiarray -Inumpy/core/src/umath -Inumpy/core/src/npysort -I/home/gulce/anaconda3/include/python3.9 -c'\n",
      "  gcc: _configtest.c\n",
      "  success!\n",
      "  removing: _configtest.c _configtest.o _configtest.o.d\n",
      "  C compiler: gcc -pthread -B /home/gulce/anaconda3/compiler_compat -Wno-unused-result -Wsign-compare -DNDEBUG -O2 -Wall -fPIC -O2 -isystem /home/gulce/anaconda3/include -I/home/gulce/anaconda3/include -fPIC -O2 -isystem /home/gulce/anaconda3/include -fPIC\n",
      "  \n",
      "  compile options: '-Inumpy/core/src/common -Inumpy/core/src -Inumpy/core -Inumpy/core/src/npymath -Inumpy/core/src/multiarray -Inumpy/core/src/umath -Inumpy/core/src/npysort -I/home/gulce/anaconda3/include/python3.9 -c'\n",
      "  gcc: _configtest.c\n",
      "  success!\n",
      "  removing: _configtest.c _configtest.o _configtest.o.d\n",
      "  C compiler: gcc -pthread -B /home/gulce/anaconda3/compiler_compat -Wno-unused-result -Wsign-compare -DNDEBUG -O2 -Wall -fPIC -O2 -isystem /home/gulce/anaconda3/include -I/home/gulce/anaconda3/include -fPIC -O2 -isystem /home/gulce/anaconda3/include -fPIC\n",
      "  \n",
      "  compile options: '-Inumpy/core/src/common -Inumpy/core/src -Inumpy/core -Inumpy/core/src/npymath -Inumpy/core/src/multiarray -Inumpy/core/src/umath -Inumpy/core/src/npysort -I/home/gulce/anaconda3/include/python3.9 -c'\n",
      "  gcc: _configtest.c\n",
      "  success!\n",
      "  removing: _configtest.c _configtest.o _configtest.o.d\n",
      "  C compiler: gcc -pthread -B /home/gulce/anaconda3/compiler_compat -Wno-unused-result -Wsign-compare -DNDEBUG -O2 -Wall -fPIC -O2 -isystem /home/gulce/anaconda3/include -I/home/gulce/anaconda3/include -fPIC -O2 -isystem /home/gulce/anaconda3/include -fPIC\n",
      "  \n",
      "  compile options: '-Inumpy/core/src/common -Inumpy/core/src -Inumpy/core -Inumpy/core/src/npymath -Inumpy/core/src/multiarray -Inumpy/core/src/umath -Inumpy/core/src/npysort -I/home/gulce/anaconda3/include/python3.9 -c'\n",
      "  gcc: _configtest.c\n",
      "  _configtest.c: In function ‘main’:\n",
      "  _configtest.c:5:16: warning: variable ‘test_array’ set but not used [-Wunused-but-set-variable]\n",
      "       static int test_array [1 - 2 * !(((long) (sizeof (npy_check_sizeof_type))) >= 0)];\n",
      "                  ^\n",
      "  removing: _configtest.c _configtest.o _configtest.o.d\n",
      "  C compiler: gcc -pthread -B /home/gulce/anaconda3/compiler_compat -Wno-unused-result -Wsign-compare -DNDEBUG -O2 -Wall -fPIC -O2 -isystem /home/gulce/anaconda3/include -I/home/gulce/anaconda3/include -fPIC -O2 -isystem /home/gulce/anaconda3/include -fPIC\n",
      "  \n",
      "  compile options: '-Inumpy/core/src/common -Inumpy/core/src -Inumpy/core -Inumpy/core/src/npymath -Inumpy/core/src/multiarray -Inumpy/core/src/umath -Inumpy/core/src/npysort -I/home/gulce/anaconda3/include/python3.9 -c'\n",
      "  gcc: _configtest.c\n",
      "  _configtest.c: In function ‘main’:\n",
      "  _configtest.c:5:16: warning: variable ‘test_array’ set but not used [-Wunused-but-set-variable]\n",
      "       static int test_array [1 - 2 * !(((long) (sizeof (npy_check_sizeof_type))) == 4)];\n",
      "                  ^\n",
      "  removing: _configtest.c _configtest.o _configtest.o.d\n",
      "  C compiler: gcc -pthread -B /home/gulce/anaconda3/compiler_compat -Wno-unused-result -Wsign-compare -DNDEBUG -O2 -Wall -fPIC -O2 -isystem /home/gulce/anaconda3/include -I/home/gulce/anaconda3/include -fPIC -O2 -isystem /home/gulce/anaconda3/include -fPIC\n",
      "  \n",
      "  compile options: '-Inumpy/core/src/common -Inumpy/core/src -Inumpy/core -Inumpy/core/src/npymath -Inumpy/core/src/multiarray -Inumpy/core/src/umath -Inumpy/core/src/npysort -I/home/gulce/anaconda3/include/python3.9 -c'\n",
      "  gcc: _configtest.c\n",
      "  _configtest.c: In function ‘main’:\n",
      "  _configtest.c:5:16: warning: variable ‘test_array’ set but not used [-Wunused-but-set-variable]\n",
      "       static int test_array [1 - 2 * !(((long) (sizeof (npy_check_sizeof_type))) >= 0)];\n",
      "                  ^\n",
      "  removing: _configtest.c _configtest.o _configtest.o.d\n",
      "  C compiler: gcc -pthread -B /home/gulce/anaconda3/compiler_compat -Wno-unused-result -Wsign-compare -DNDEBUG -O2 -Wall -fPIC -O2 -isystem /home/gulce/anaconda3/include -I/home/gulce/anaconda3/include -fPIC -O2 -isystem /home/gulce/anaconda3/include -fPIC\n",
      "  \n",
      "  compile options: '-Inumpy/core/src/common -Inumpy/core/src -Inumpy/core -Inumpy/core/src/npymath -Inumpy/core/src/multiarray -Inumpy/core/src/umath -Inumpy/core/src/npysort -I/home/gulce/anaconda3/include/python3.9 -c'\n",
      "  gcc: _configtest.c\n",
      "  _configtest.c: In function ‘main’:\n",
      "  _configtest.c:5:16: warning: variable ‘test_array’ set but not used [-Wunused-but-set-variable]\n",
      "       static int test_array [1 - 2 * !(((long) (sizeof (npy_check_sizeof_type))) == 8)];\n",
      "                  ^\n",
      "  removing: _configtest.c _configtest.o _configtest.o.d\n",
      "  C compiler: gcc -pthread -B /home/gulce/anaconda3/compiler_compat -Wno-unused-result -Wsign-compare -DNDEBUG -O2 -Wall -fPIC -O2 -isystem /home/gulce/anaconda3/include -I/home/gulce/anaconda3/include -fPIC -O2 -isystem /home/gulce/anaconda3/include -fPIC\n",
      "  \n",
      "  compile options: '-Inumpy/core/src/common -Inumpy/core/src -Inumpy/core -Inumpy/core/src/npymath -Inumpy/core/src/multiarray -Inumpy/core/src/umath -Inumpy/core/src/npysort -I/home/gulce/anaconda3/include/python3.9 -c'\n",
      "  gcc: _configtest.c\n",
      "  success!\n",
      "  removing: _configtest.c _configtest.o _configtest.o.d\n",
      "  C compiler: gcc -pthread -B /home/gulce/anaconda3/compiler_compat -Wno-unused-result -Wsign-compare -DNDEBUG -O2 -Wall -fPIC -O2 -isystem /home/gulce/anaconda3/include -I/home/gulce/anaconda3/include -fPIC -O2 -isystem /home/gulce/anaconda3/include -fPIC\n",
      "  \n",
      "  compile options: '-Inumpy/core/src/common -Inumpy/core/src -Inumpy/core -Inumpy/core/src/npymath -Inumpy/core/src/multiarray -Inumpy/core/src/umath -Inumpy/core/src/npysort -I/home/gulce/anaconda3/include/python3.9 -c'\n",
      "  gcc: _configtest.c\n",
      "  _configtest.c: In function ‘main’:\n",
      "  _configtest.c:5:16: warning: variable ‘test_array’ set but not used [-Wunused-but-set-variable]\n",
      "       static int test_array [1 - 2 * !(((long) (sizeof (npy_check_sizeof_type))) >= 0)];\n",
      "                  ^\n",
      "  removing: _configtest.c _configtest.o _configtest.o.d\n",
      "  C compiler: gcc -pthread -B /home/gulce/anaconda3/compiler_compat -Wno-unused-result -Wsign-compare -DNDEBUG -O2 -Wall -fPIC -O2 -isystem /home/gulce/anaconda3/include -I/home/gulce/anaconda3/include -fPIC -O2 -isystem /home/gulce/anaconda3/include -fPIC\n",
      "  \n",
      "  compile options: '-Inumpy/core/src/common -Inumpy/core/src -Inumpy/core -Inumpy/core/src/npymath -Inumpy/core/src/multiarray -Inumpy/core/src/umath -Inumpy/core/src/npysort -I/home/gulce/anaconda3/include/python3.9 -c'\n",
      "  gcc: _configtest.c\n",
      "  _configtest.c: In function ‘main’:\n",
      "  _configtest.c:5:16: warning: variable ‘test_array’ set but not used [-Wunused-but-set-variable]\n",
      "       static int test_array [1 - 2 * !(((long) (sizeof (npy_check_sizeof_type))) == 8)];\n",
      "                  ^\n",
      "  removing: _configtest.c _configtest.o _configtest.o.d\n",
      "  C compiler: gcc -pthread -B /home/gulce/anaconda3/compiler_compat -Wno-unused-result -Wsign-compare -DNDEBUG -O2 -Wall -fPIC -O2 -isystem /home/gulce/anaconda3/include -I/home/gulce/anaconda3/include -fPIC -O2 -isystem /home/gulce/anaconda3/include -fPIC\n",
      "  \n",
      "  compile options: '-Inumpy/core/src/common -Inumpy/core/src -Inumpy/core -Inumpy/core/src/npymath -Inumpy/core/src/multiarray -Inumpy/core/src/umath -Inumpy/core/src/npysort -I/home/gulce/anaconda3/include/python3.9 -c'\n",
      "  gcc: _configtest.c\n",
      "  _configtest.c: In function ‘main’:\n",
      "  _configtest.c:5:16: warning: variable ‘test_array’ set but not used [-Wunused-but-set-variable]\n",
      "       static int test_array [1 - 2 * !(((long) (sizeof (npy_check_sizeof_type))) >= 0)];\n",
      "                  ^\n",
      "  removing: _configtest.c _configtest.o _configtest.o.d\n",
      "  C compiler: gcc -pthread -B /home/gulce/anaconda3/compiler_compat -Wno-unused-result -Wsign-compare -DNDEBUG -O2 -Wall -fPIC -O2 -isystem /home/gulce/anaconda3/include -I/home/gulce/anaconda3/include -fPIC -O2 -isystem /home/gulce/anaconda3/include -fPIC\n",
      "  \n",
      "  compile options: '-Inumpy/core/src/common -Inumpy/core/src -Inumpy/core -Inumpy/core/src/npymath -Inumpy/core/src/multiarray -Inumpy/core/src/umath -Inumpy/core/src/npysort -I/home/gulce/anaconda3/include/python3.9 -c'\n",
      "  gcc: _configtest.c\n",
      "  _configtest.c: In function ‘main’:\n",
      "  _configtest.c:5:16: warning: variable ‘test_array’ set but not used [-Wunused-but-set-variable]\n",
      "       static int test_array [1 - 2 * !(((long) (sizeof (npy_check_sizeof_type))) == 16)];\n",
      "                  ^\n",
      "  removing: _configtest.c _configtest.o _configtest.o.d\n",
      "  C compiler: gcc -pthread -B /home/gulce/anaconda3/compiler_compat -Wno-unused-result -Wsign-compare -DNDEBUG -O2 -Wall -fPIC -O2 -isystem /home/gulce/anaconda3/include -I/home/gulce/anaconda3/include -fPIC -O2 -isystem /home/gulce/anaconda3/include -fPIC\n",
      "  \n",
      "  compile options: '-Inumpy/core/src/common -Inumpy/core/src -Inumpy/core -Inumpy/core/src/npymath -Inumpy/core/src/multiarray -Inumpy/core/src/umath -Inumpy/core/src/npysort -I/home/gulce/anaconda3/include/python3.9 -c'\n",
      "  gcc: _configtest.c\n",
      "  _configtest.c: In function ‘main’:\n",
      "  _configtest.c:7:12: error: ‘SIZEOF_LONGDOUBLE’ undeclared (first use in this function)\n",
      "       (void) SIZEOF_LONGDOUBLE;\n",
      "              ^\n",
      "  _configtest.c:7:12: note: each undeclared identifier is reported only once for each function it appears in\n",
      "  failure.\n",
      "  removing: _configtest.c _configtest.o\n",
      "  C compiler: gcc -pthread -B /home/gulce/anaconda3/compiler_compat -Wno-unused-result -Wsign-compare -DNDEBUG -O2 -Wall -fPIC -O2 -isystem /home/gulce/anaconda3/include -I/home/gulce/anaconda3/include -fPIC -O2 -isystem /home/gulce/anaconda3/include -fPIC\n",
      "  \n",
      "  compile options: '-Inumpy/core/src/common -Inumpy/core/src -Inumpy/core -Inumpy/core/src/npymath -Inumpy/core/src/multiarray -Inumpy/core/src/umath -Inumpy/core/src/npysort -I/home/gulce/anaconda3/include/python3.9 -c'\n",
      "  gcc: _configtest.c\n",
      "  _configtest.c: In function ‘main’:\n",
      "  _configtest.c:5:16: warning: variable ‘test_array’ set but not used [-Wunused-but-set-variable]\n",
      "       static int test_array [1 - 2 * !(((long) (sizeof (npy_check_sizeof_type))) >= 0)];\n",
      "                  ^\n",
      "  removing: _configtest.c _configtest.o _configtest.o.d\n",
      "  C compiler: gcc -pthread -B /home/gulce/anaconda3/compiler_compat -Wno-unused-result -Wsign-compare -DNDEBUG -O2 -Wall -fPIC -O2 -isystem /home/gulce/anaconda3/include -I/home/gulce/anaconda3/include -fPIC -O2 -isystem /home/gulce/anaconda3/include -fPIC\n",
      "  \n",
      "  compile options: '-Inumpy/core/src/common -Inumpy/core/src -Inumpy/core -Inumpy/core/src/npymath -Inumpy/core/src/multiarray -Inumpy/core/src/umath -Inumpy/core/src/npysort -I/home/gulce/anaconda3/include/python3.9 -c'\n",
      "  gcc: _configtest.c\n",
      "  _configtest.c: In function ‘main’:\n",
      "  _configtest.c:5:16: warning: variable ‘test_array’ set but not used [-Wunused-but-set-variable]\n",
      "       static int test_array [1 - 2 * !(((long) (sizeof (npy_check_sizeof_type))) == 16)];\n",
      "                  ^\n",
      "  removing: _configtest.c _configtest.o _configtest.o.d\n",
      "  C compiler: gcc -pthread -B /home/gulce/anaconda3/compiler_compat -Wno-unused-result -Wsign-compare -DNDEBUG -O2 -Wall -fPIC -O2 -isystem /home/gulce/anaconda3/include -I/home/gulce/anaconda3/include -fPIC -O2 -isystem /home/gulce/anaconda3/include -fPIC\n",
      "  \n",
      "  compile options: '-Inumpy/core/src/common -Inumpy/core/src -Inumpy/core -Inumpy/core/src/npymath -Inumpy/core/src/multiarray -Inumpy/core/src/umath -Inumpy/core/src/npysort -I/home/gulce/anaconda3/include/python3.9 -c'\n",
      "  gcc: _configtest.c\n",
      "  _configtest.c: In function ‘main’:\n",
      "  _configtest.c:5:16: warning: variable ‘test_array’ set but not used [-Wunused-but-set-variable]\n",
      "       static int test_array [1 - 2 * !(((long) (sizeof (npy_check_sizeof_type))) >= 0)];\n",
      "                  ^\n",
      "  removing: _configtest.c _configtest.o _configtest.o.d\n",
      "  C compiler: gcc -pthread -B /home/gulce/anaconda3/compiler_compat -Wno-unused-result -Wsign-compare -DNDEBUG -O2 -Wall -fPIC -O2 -isystem /home/gulce/anaconda3/include -I/home/gulce/anaconda3/include -fPIC -O2 -isystem /home/gulce/anaconda3/include -fPIC\n",
      "  \n",
      "  compile options: '-Inumpy/core/src/common -Inumpy/core/src -Inumpy/core -Inumpy/core/src/npymath -Inumpy/core/src/multiarray -Inumpy/core/src/umath -Inumpy/core/src/npysort -I/home/gulce/anaconda3/include/python3.9 -c'\n",
      "  gcc: _configtest.c\n",
      "  _configtest.c: In function ‘main’:\n",
      "  _configtest.c:5:16: warning: variable ‘test_array’ set but not used [-Wunused-but-set-variable]\n",
      "       static int test_array [1 - 2 * !(((long) (sizeof (npy_check_sizeof_type))) == 32)];\n",
      "                  ^\n",
      "  removing: _configtest.c _configtest.o _configtest.o.d\n",
      "  C compiler: gcc -pthread -B /home/gulce/anaconda3/compiler_compat -Wno-unused-result -Wsign-compare -DNDEBUG -O2 -Wall -fPIC -O2 -isystem /home/gulce/anaconda3/include -I/home/gulce/anaconda3/include -fPIC -O2 -isystem /home/gulce/anaconda3/include -fPIC\n",
      "  \n",
      "  compile options: '-Inumpy/core/src/common -Inumpy/core/src -Inumpy/core -Inumpy/core/src/npymath -Inumpy/core/src/multiarray -Inumpy/core/src/umath -Inumpy/core/src/npysort -I/home/gulce/anaconda3/include/python3.9 -c'\n",
      "  gcc: _configtest.c\n",
      "  _configtest.c: In function ‘main’:\n",
      "  _configtest.c:7:16: warning: variable ‘test_array’ set but not used [-Wunused-but-set-variable]\n",
      "       static int test_array [1 - 2 * !(((long) (sizeof (npy_check_sizeof_type))) >= 0)];\n",
      "                  ^\n",
      "  removing: _configtest.c _configtest.o _configtest.o.d\n",
      "  C compiler: gcc -pthread -B /home/gulce/anaconda3/compiler_compat -Wno-unused-result -Wsign-compare -DNDEBUG -O2 -Wall -fPIC -O2 -isystem /home/gulce/anaconda3/include -I/home/gulce/anaconda3/include -fPIC -O2 -isystem /home/gulce/anaconda3/include -fPIC\n",
      "  \n",
      "  compile options: '-Inumpy/core/src/common -Inumpy/core/src -Inumpy/core -Inumpy/core/src/npymath -Inumpy/core/src/multiarray -Inumpy/core/src/umath -Inumpy/core/src/npysort -I/home/gulce/anaconda3/include/python3.9 -c'\n",
      "  gcc: _configtest.c\n",
      "  _configtest.c: In function ‘main’:\n",
      "  _configtest.c:7:16: warning: variable ‘test_array’ set but not used [-Wunused-but-set-variable]\n",
      "       static int test_array [1 - 2 * !(((long) (sizeof (npy_check_sizeof_type))) == 8)];\n",
      "                  ^\n",
      "  removing: _configtest.c _configtest.o _configtest.o.d\n",
      "  C compiler: gcc -pthread -B /home/gulce/anaconda3/compiler_compat -Wno-unused-result -Wsign-compare -DNDEBUG -O2 -Wall -fPIC -O2 -isystem /home/gulce/anaconda3/include -I/home/gulce/anaconda3/include -fPIC -O2 -isystem /home/gulce/anaconda3/include -fPIC\n",
      "  \n",
      "  compile options: '-Inumpy/core/src/common -Inumpy/core/src -Inumpy/core -Inumpy/core/src/npymath -Inumpy/core/src/multiarray -Inumpy/core/src/umath -Inumpy/core/src/npysort -I/home/gulce/anaconda3/include/python3.9 -c'\n",
      "  gcc: _configtest.c\n",
      "  _configtest.c: In function ‘main’:\n",
      "  _configtest.c:7:16: warning: variable ‘test_array’ set but not used [-Wunused-but-set-variable]\n",
      "       static int test_array [1 - 2 * !(((long) (sizeof (npy_check_sizeof_type))) >= 0)];\n",
      "                  ^\n",
      "  removing: _configtest.c _configtest.o _configtest.o.d\n",
      "  C compiler: gcc -pthread -B /home/gulce/anaconda3/compiler_compat -Wno-unused-result -Wsign-compare -DNDEBUG -O2 -Wall -fPIC -O2 -isystem /home/gulce/anaconda3/include -I/home/gulce/anaconda3/include -fPIC -O2 -isystem /home/gulce/anaconda3/include -fPIC\n",
      "  \n",
      "  compile options: '-Inumpy/core/src/common -Inumpy/core/src -Inumpy/core -Inumpy/core/src/npymath -Inumpy/core/src/multiarray -Inumpy/core/src/umath -Inumpy/core/src/npysort -I/home/gulce/anaconda3/include/python3.9 -c'\n",
      "  gcc: _configtest.c\n",
      "  _configtest.c: In function ‘main’:\n",
      "  _configtest.c:7:16: warning: variable ‘test_array’ set but not used [-Wunused-but-set-variable]\n",
      "       static int test_array [1 - 2 * !(((long) (sizeof (npy_check_sizeof_type))) == 8)];\n",
      "                  ^\n",
      "  removing: _configtest.c _configtest.o _configtest.o.d\n",
      "  C compiler: gcc -pthread -B /home/gulce/anaconda3/compiler_compat -Wno-unused-result -Wsign-compare -DNDEBUG -O2 -Wall -fPIC -O2 -isystem /home/gulce/anaconda3/include -I/home/gulce/anaconda3/include -fPIC -O2 -isystem /home/gulce/anaconda3/include -fPIC\n",
      "  \n",
      "  compile options: '-Inumpy/core/src/common -Inumpy/core/src -Inumpy/core -Inumpy/core/src/npymath -Inumpy/core/src/multiarray -Inumpy/core/src/umath -Inumpy/core/src/npysort -I/home/gulce/anaconda3/include/python3.9 -c'\n",
      "  gcc: _configtest.c\n",
      "  success!\n",
      "  removing: _configtest.c _configtest.o _configtest.o.d\n",
      "  C compiler: gcc -pthread -B /home/gulce/anaconda3/compiler_compat -Wno-unused-result -Wsign-compare -DNDEBUG -O2 -Wall -fPIC -O2 -isystem /home/gulce/anaconda3/include -I/home/gulce/anaconda3/include -fPIC -O2 -isystem /home/gulce/anaconda3/include -fPIC\n",
      "  \n",
      "  compile options: '-Inumpy/core/src/common -Inumpy/core/src -Inumpy/core -Inumpy/core/src/npymath -Inumpy/core/src/multiarray -Inumpy/core/src/umath -Inumpy/core/src/npysort -I/home/gulce/anaconda3/include/python3.9 -c'\n",
      "  gcc: _configtest.c\n",
      "  _configtest.c: In function ‘main’:\n",
      "  _configtest.c:7:16: warning: variable ‘test_array’ set but not used [-Wunused-but-set-variable]\n",
      "       static int test_array [1 - 2 * !(((long) (sizeof (npy_check_sizeof_type))) >= 0)];\n",
      "                  ^\n",
      "  removing: _configtest.c _configtest.o _configtest.o.d\n",
      "  C compiler: gcc -pthread -B /home/gulce/anaconda3/compiler_compat -Wno-unused-result -Wsign-compare -DNDEBUG -O2 -Wall -fPIC -O2 -isystem /home/gulce/anaconda3/include -I/home/gulce/anaconda3/include -fPIC -O2 -isystem /home/gulce/anaconda3/include -fPIC\n",
      "  \n",
      "  compile options: '-Inumpy/core/src/common -Inumpy/core/src -Inumpy/core -Inumpy/core/src/npymath -Inumpy/core/src/multiarray -Inumpy/core/src/umath -Inumpy/core/src/npysort -I/home/gulce/anaconda3/include/python3.9 -c'\n",
      "  gcc: _configtest.c\n",
      "  _configtest.c: In function ‘main’:\n",
      "  _configtest.c:7:16: warning: variable ‘test_array’ set but not used [-Wunused-but-set-variable]\n",
      "       static int test_array [1 - 2 * !(((long) (sizeof (npy_check_sizeof_type))) == 8)];\n",
      "                  ^\n",
      "  removing: _configtest.c _configtest.o _configtest.o.d\n",
      "  C compiler: gcc -pthread -B /home/gulce/anaconda3/compiler_compat -Wno-unused-result -Wsign-compare -DNDEBUG -O2 -Wall -fPIC -O2 -isystem /home/gulce/anaconda3/include -I/home/gulce/anaconda3/include -fPIC -O2 -isystem /home/gulce/anaconda3/include -fPIC\n",
      "  \n",
      "  compile options: '-Inumpy/core/src/common -Inumpy/core/src -Inumpy/core -Inumpy/core/src/npymath -Inumpy/core/src/multiarray -Inumpy/core/src/umath -Inumpy/core/src/npysort -I/home/gulce/anaconda3/include/python3.9 -c'\n",
      "  gcc: _configtest.c\n",
      "  _configtest.c: In function ‘main’:\n",
      "  _configtest.c:5:16: warning: variable ‘test_array’ set but not used [-Wunused-but-set-variable]\n",
      "       static int test_array [1 - 2 * !(((long) (sizeof (npy_check_sizeof_type))) >= 0)];\n",
      "                  ^\n",
      "  removing: _configtest.c _configtest.o _configtest.o.d\n",
      "  C compiler: gcc -pthread -B /home/gulce/anaconda3/compiler_compat -Wno-unused-result -Wsign-compare -DNDEBUG -O2 -Wall -fPIC -O2 -isystem /home/gulce/anaconda3/include -I/home/gulce/anaconda3/include -fPIC -O2 -isystem /home/gulce/anaconda3/include -fPIC\n",
      "  \n",
      "  compile options: '-Inumpy/core/src/common -Inumpy/core/src -Inumpy/core -Inumpy/core/src/npymath -Inumpy/core/src/multiarray -Inumpy/core/src/umath -Inumpy/core/src/npysort -I/home/gulce/anaconda3/include/python3.9 -c'\n",
      "  gcc: _configtest.c\n",
      "  _configtest.c: In function ‘main’:\n",
      "  _configtest.c:5:16: warning: variable ‘test_array’ set but not used [-Wunused-but-set-variable]\n",
      "       static int test_array [1 - 2 * !(((long) (sizeof (npy_check_sizeof_type))) == 8)];\n",
      "                  ^\n",
      "  removing: _configtest.c _configtest.o _configtest.o.d\n",
      "  C compiler: gcc -pthread -B /home/gulce/anaconda3/compiler_compat -Wno-unused-result -Wsign-compare -DNDEBUG -O2 -Wall -fPIC -O2 -isystem /home/gulce/anaconda3/include -I/home/gulce/anaconda3/include -fPIC -O2 -isystem /home/gulce/anaconda3/include -fPIC\n",
      "  \n",
      "  compile options: '-Inumpy/core/src/common -Inumpy/core/src -Inumpy/core -Inumpy/core/src/npymath -Inumpy/core/src/multiarray -Inumpy/core/src/umath -Inumpy/core/src/npysort -I/home/gulce/anaconda3/include/python3.9 -c'\n",
      "  gcc: _configtest.c\n",
      "  success!\n",
      "  removing: _configtest.c _configtest.o _configtest.o.d\n",
      "  C compiler: gcc -pthread -B /home/gulce/anaconda3/compiler_compat -Wno-unused-result -Wsign-compare -DNDEBUG -O2 -Wall -fPIC -O2 -isystem /home/gulce/anaconda3/include -I/home/gulce/anaconda3/include -fPIC -O2 -isystem /home/gulce/anaconda3/include -fPIC\n",
      "  \n",
      "  compile options: '-Inumpy/core/src/common -Inumpy/core/src -Inumpy/core -Inumpy/core/src/npymath -Inumpy/core/src/multiarray -Inumpy/core/src/umath -Inumpy/core/src/npysort -I/home/gulce/anaconda3/include/python3.9 -c'\n",
      "  gcc: _configtest.c\n",
      "  _configtest.c:1:5: warning: conflicting types for built-in function ‘exp’\n",
      "   int exp (void);\n",
      "       ^\n",
      "  gcc -pthread -B /home/gulce/anaconda3/compiler_compat _configtest.o -o _configtest\n",
      "  /home/gulce/anaconda3/compiler_compat/ld: _configtest.o: in function `main':\n",
      "  _configtest.c:(.text.startup+0x5): undefined reference to `exp'\n",
      "  collect2: error: ld returned 1 exit status\n",
      "  failure.\n",
      "  removing: _configtest.c _configtest.o _configtest.o.d\n",
      "  C compiler: gcc -pthread -B /home/gulce/anaconda3/compiler_compat -Wno-unused-result -Wsign-compare -DNDEBUG -O2 -Wall -fPIC -O2 -isystem /home/gulce/anaconda3/include -I/home/gulce/anaconda3/include -fPIC -O2 -isystem /home/gulce/anaconda3/include -fPIC\n",
      "  \n",
      "  compile options: '-Inumpy/core/src/common -Inumpy/core/src -Inumpy/core -Inumpy/core/src/npymath -Inumpy/core/src/multiarray -Inumpy/core/src/umath -Inumpy/core/src/npysort -I/home/gulce/anaconda3/include/python3.9 -c'\n",
      "  gcc: _configtest.c\n",
      "  _configtest.c:1:5: warning: conflicting types for built-in function ‘exp’\n",
      "   int exp (void);\n",
      "       ^\n",
      "  gcc -pthread -B /home/gulce/anaconda3/compiler_compat _configtest.o -lm -o _configtest\n",
      "  success!\n",
      "  removing: _configtest.c _configtest.o _configtest.o.d _configtest\n",
      "  C compiler: gcc -pthread -B /home/gulce/anaconda3/compiler_compat -Wno-unused-result -Wsign-compare -DNDEBUG -O2 -Wall -fPIC -O2 -isystem /home/gulce/anaconda3/include -I/home/gulce/anaconda3/include -fPIC -O2 -isystem /home/gulce/anaconda3/include -fPIC\n",
      "  \n",
      "  compile options: '-Inumpy/core/src/common -Inumpy/core/src -Inumpy/core -Inumpy/core/src/npymath -Inumpy/core/src/multiarray -Inumpy/core/src/umath -Inumpy/core/src/npysort -I/home/gulce/anaconda3/include/python3.9 -c'\n",
      "  gcc: _configtest.c\n",
      "  _configtest.c:1:5: warning: conflicting types for built-in function ‘sin’\n",
      "   int sin (void);\n",
      "       ^\n",
      "  _configtest.c:2:5: warning: conflicting types for built-in function ‘cos’\n",
      "   int cos (void);\n",
      "       ^\n",
      "  _configtest.c:3:5: warning: conflicting types for built-in function ‘tan’\n",
      "   int tan (void);\n",
      "       ^\n",
      "  _configtest.c:4:5: warning: conflicting types for built-in function ‘sinh’\n",
      "   int sinh (void);\n",
      "       ^\n",
      "  _configtest.c:5:5: warning: conflicting types for built-in function ‘cosh’\n",
      "   int cosh (void);\n",
      "       ^\n",
      "  _configtest.c:6:5: warning: conflicting types for built-in function ‘tanh’\n",
      "   int tanh (void);\n",
      "       ^\n",
      "  _configtest.c:7:5: warning: conflicting types for built-in function ‘fabs’\n",
      "   int fabs (void);\n",
      "       ^\n",
      "  _configtest.c:8:5: warning: conflicting types for built-in function ‘floor’\n",
      "   int floor (void);\n",
      "       ^\n",
      "  _configtest.c:9:5: warning: conflicting types for built-in function ‘ceil’\n",
      "   int ceil (void);\n",
      "       ^\n",
      "  _configtest.c:10:5: warning: conflicting types for built-in function ‘sqrt’\n",
      "   int sqrt (void);\n",
      "       ^\n",
      "  _configtest.c:11:5: warning: conflicting types for built-in function ‘log10’\n",
      "   int log10 (void);\n",
      "       ^\n",
      "  _configtest.c:12:5: warning: conflicting types for built-in function ‘log’\n",
      "   int log (void);\n",
      "       ^\n",
      "  _configtest.c:13:5: warning: conflicting types for built-in function ‘exp’\n",
      "   int exp (void);\n",
      "       ^\n",
      "  _configtest.c:14:5: warning: conflicting types for built-in function ‘asin’\n",
      "   int asin (void);\n",
      "       ^\n",
      "  _configtest.c:15:5: warning: conflicting types for built-in function ‘acos’\n",
      "   int acos (void);\n",
      "       ^\n",
      "  _configtest.c:16:5: warning: conflicting types for built-in function ‘atan’\n",
      "   int atan (void);\n",
      "       ^\n",
      "  _configtest.c:17:5: warning: conflicting types for built-in function ‘fmod’\n",
      "   int fmod (void);\n",
      "       ^\n",
      "  _configtest.c:18:5: warning: conflicting types for built-in function ‘modf’\n",
      "   int modf (void);\n",
      "       ^\n",
      "  _configtest.c:19:5: warning: conflicting types for built-in function ‘frexp’\n",
      "   int frexp (void);\n",
      "       ^\n",
      "  _configtest.c:20:5: warning: conflicting types for built-in function ‘ldexp’\n",
      "   int ldexp (void);\n",
      "       ^\n",
      "  gcc -pthread -B /home/gulce/anaconda3/compiler_compat _configtest.o -lm -o _configtest\n",
      "  success!\n",
      "  removing: _configtest.c _configtest.o _configtest.o.d _configtest\n",
      "  C compiler: gcc -pthread -B /home/gulce/anaconda3/compiler_compat -Wno-unused-result -Wsign-compare -DNDEBUG -O2 -Wall -fPIC -O2 -isystem /home/gulce/anaconda3/include -I/home/gulce/anaconda3/include -fPIC -O2 -isystem /home/gulce/anaconda3/include -fPIC\n",
      "  \n",
      "  compile options: '-Inumpy/core/src/common -Inumpy/core/src -Inumpy/core -Inumpy/core/src/npymath -Inumpy/core/src/multiarray -Inumpy/core/src/umath -Inumpy/core/src/npysort -I/home/gulce/anaconda3/include/python3.9 -c'\n",
      "  gcc: _configtest.c\n",
      "  success!\n",
      "  removing: _configtest.c _configtest.o _configtest.o.d\n",
      "  C compiler: gcc -pthread -B /home/gulce/anaconda3/compiler_compat -Wno-unused-result -Wsign-compare -DNDEBUG -O2 -Wall -fPIC -O2 -isystem /home/gulce/anaconda3/include -I/home/gulce/anaconda3/include -fPIC -O2 -isystem /home/gulce/anaconda3/include -fPIC\n",
      "  \n",
      "  compile options: '-Inumpy/core/src/common -Inumpy/core/src -Inumpy/core -Inumpy/core/src/npymath -Inumpy/core/src/multiarray -Inumpy/core/src/umath -Inumpy/core/src/npysort -I/home/gulce/anaconda3/include/python3.9 -c'\n",
      "  gcc: _configtest.c\n",
      "  success!\n",
      "  removing: _configtest.c _configtest.o _configtest.o.d\n",
      "  C compiler: gcc -pthread -B /home/gulce/anaconda3/compiler_compat -Wno-unused-result -Wsign-compare -DNDEBUG -O2 -Wall -fPIC -O2 -isystem /home/gulce/anaconda3/include -I/home/gulce/anaconda3/include -fPIC -O2 -isystem /home/gulce/anaconda3/include -fPIC\n",
      "  \n",
      "  compile options: '-Inumpy/core/src/common -Inumpy/core/src -Inumpy/core -Inumpy/core/src/npymath -Inumpy/core/src/multiarray -Inumpy/core/src/umath -Inumpy/core/src/npysort -I/home/gulce/anaconda3/include/python3.9 -c'\n",
      "  gcc: _configtest.c\n",
      "  success!\n",
      "  removing: _configtest.c _configtest.o _configtest.o.d\n",
      "  C compiler: gcc -pthread -B /home/gulce/anaconda3/compiler_compat -Wno-unused-result -Wsign-compare -DNDEBUG -O2 -Wall -fPIC -O2 -isystem /home/gulce/anaconda3/include -I/home/gulce/anaconda3/include -fPIC -O2 -isystem /home/gulce/anaconda3/include -fPIC\n",
      "  \n",
      "  compile options: '-Inumpy/core/src/common -Inumpy/core/src -Inumpy/core -Inumpy/core/src/npymath -Inumpy/core/src/multiarray -Inumpy/core/src/umath -Inumpy/core/src/npysort -I/home/gulce/anaconda3/include/python3.9 -c'\n",
      "  gcc: _configtest.c\n",
      "  success!\n",
      "  removing: _configtest.c _configtest.o _configtest.o.d\n",
      "  C compiler: gcc -pthread -B /home/gulce/anaconda3/compiler_compat -Wno-unused-result -Wsign-compare -DNDEBUG -O2 -Wall -fPIC -O2 -isystem /home/gulce/anaconda3/include -I/home/gulce/anaconda3/include -fPIC -O2 -isystem /home/gulce/anaconda3/include -fPIC\n",
      "  \n",
      "  compile options: '-Inumpy/core/src/common -Inumpy/core/src -Inumpy/core -Inumpy/core/src/npymath -Inumpy/core/src/multiarray -Inumpy/core/src/umath -Inumpy/core/src/npysort -I/home/gulce/anaconda3/include/python3.9 -c'\n",
      "  gcc: _configtest.c\n",
      "  success!\n",
      "  removing: _configtest.c _configtest.o _configtest.o.d\n",
      "  C compiler: gcc -pthread -B /home/gulce/anaconda3/compiler_compat -Wno-unused-result -Wsign-compare -DNDEBUG -O2 -Wall -fPIC -O2 -isystem /home/gulce/anaconda3/include -I/home/gulce/anaconda3/include -fPIC -O2 -isystem /home/gulce/anaconda3/include -fPIC\n",
      "  \n",
      "  compile options: '-Inumpy/core/src/common -Inumpy/core/src -Inumpy/core -Inumpy/core/src/npymath -Inumpy/core/src/multiarray -Inumpy/core/src/umath -Inumpy/core/src/npysort -I/home/gulce/anaconda3/include/python3.9 -c'\n",
      "  gcc: _configtest.c\n",
      "  success!\n",
      "  removing: _configtest.c _configtest.o _configtest.o.d\n",
      "  C compiler: gcc -pthread -B /home/gulce/anaconda3/compiler_compat -Wno-unused-result -Wsign-compare -DNDEBUG -O2 -Wall -fPIC -O2 -isystem /home/gulce/anaconda3/include -I/home/gulce/anaconda3/include -fPIC -O2 -isystem /home/gulce/anaconda3/include -fPIC\n",
      "  \n",
      "  compile options: '-Inumpy/core/src/common -Inumpy/core/src -Inumpy/core -Inumpy/core/src/npymath -Inumpy/core/src/multiarray -Inumpy/core/src/umath -Inumpy/core/src/npysort -I/home/gulce/anaconda3/include/python3.9 -c'\n",
      "  gcc: _configtest.c\n",
      "  success!\n",
      "  removing: _configtest.c _configtest.o _configtest.o.d\n",
      "  C compiler: gcc -pthread -B /home/gulce/anaconda3/compiler_compat -Wno-unused-result -Wsign-compare -DNDEBUG -O2 -Wall -fPIC -O2 -isystem /home/gulce/anaconda3/include -I/home/gulce/anaconda3/include -fPIC -O2 -isystem /home/gulce/anaconda3/include -fPIC\n",
      "  \n",
      "  compile options: '-Inumpy/core/src/common -Inumpy/core/src -Inumpy/core -Inumpy/core/src/npymath -Inumpy/core/src/multiarray -Inumpy/core/src/umath -Inumpy/core/src/npysort -I/home/gulce/anaconda3/include/python3.9 -c'\n",
      "  gcc: _configtest.c\n",
      "  success!\n",
      "  removing: _configtest.c _configtest.o _configtest.o.d\n",
      "  C compiler: gcc -pthread -B /home/gulce/anaconda3/compiler_compat -Wno-unused-result -Wsign-compare -DNDEBUG -O2 -Wall -fPIC -O2 -isystem /home/gulce/anaconda3/include -I/home/gulce/anaconda3/include -fPIC -O2 -isystem /home/gulce/anaconda3/include -fPIC\n",
      "  \n",
      "  compile options: '-Inumpy/core/src/common -Inumpy/core/src -Inumpy/core -Inumpy/core/src/npymath -Inumpy/core/src/multiarray -Inumpy/core/src/umath -Inumpy/core/src/npysort -I/home/gulce/anaconda3/include/python3.9 -c'\n",
      "  gcc: _configtest.c\n",
      "  success!\n",
      "  removing: _configtest.c _configtest.o _configtest.o.d\n",
      "  C compiler: gcc -pthread -B /home/gulce/anaconda3/compiler_compat -Wno-unused-result -Wsign-compare -DNDEBUG -O2 -Wall -fPIC -O2 -isystem /home/gulce/anaconda3/include -I/home/gulce/anaconda3/include -fPIC -O2 -isystem /home/gulce/anaconda3/include -fPIC\n",
      "  \n",
      "  compile options: '-Inumpy/core/src/common -Inumpy/core/src -Inumpy/core -Inumpy/core/src/npymath -Inumpy/core/src/multiarray -Inumpy/core/src/umath -Inumpy/core/src/npysort -I/home/gulce/anaconda3/include/python3.9 -c'\n",
      "  gcc: _configtest.c\n",
      "  _configtest.c:1:5: warning: conflicting types for built-in function ‘rint’\n",
      "   int rint (void);\n",
      "       ^\n",
      "  _configtest.c:2:5: warning: conflicting types for built-in function ‘trunc’\n",
      "   int trunc (void);\n",
      "       ^\n",
      "  _configtest.c:3:5: warning: conflicting types for built-in function ‘exp2’\n",
      "   int exp2 (void);\n",
      "       ^\n",
      "  _configtest.c:4:5: warning: conflicting types for built-in function ‘log2’\n",
      "   int log2 (void);\n",
      "       ^\n",
      "  _configtest.c:5:5: warning: conflicting types for built-in function ‘atan2’\n",
      "   int atan2 (void);\n",
      "       ^\n",
      "  _configtest.c:6:5: warning: conflicting types for built-in function ‘pow’\n",
      "   int pow (void);\n",
      "       ^\n",
      "  _configtest.c:7:5: warning: conflicting types for built-in function ‘nextafter’\n",
      "   int nextafter (void);\n",
      "       ^\n",
      "  _configtest.c:10:5: warning: conflicting types for built-in function ‘cbrt’\n",
      "   int cbrt (void);\n",
      "       ^\n",
      "  gcc -pthread -B /home/gulce/anaconda3/compiler_compat _configtest.o -lm -o _configtest\n",
      "  success!\n",
      "  removing: _configtest.c _configtest.o _configtest.o.d _configtest\n",
      "  C compiler: gcc -pthread -B /home/gulce/anaconda3/compiler_compat -Wno-unused-result -Wsign-compare -DNDEBUG -O2 -Wall -fPIC -O2 -isystem /home/gulce/anaconda3/include -I/home/gulce/anaconda3/include -fPIC -O2 -isystem /home/gulce/anaconda3/include -fPIC\n",
      "  \n",
      "  compile options: '-Inumpy/core/src/common -Inumpy/core/src -Inumpy/core -Inumpy/core/src/npymath -Inumpy/core/src/multiarray -Inumpy/core/src/umath -Inumpy/core/src/npysort -I/home/gulce/anaconda3/include/python3.9 -c'\n",
      "  gcc: _configtest.c\n",
      "  gcc -pthread -B /home/gulce/anaconda3/compiler_compat _configtest.o -o _configtest\n",
      "  success!\n",
      "  removing: _configtest.c _configtest.o _configtest.o.d _configtest\n",
      "  C compiler: gcc -pthread -B /home/gulce/anaconda3/compiler_compat -Wno-unused-result -Wsign-compare -DNDEBUG -O2 -Wall -fPIC -O2 -isystem /home/gulce/anaconda3/include -I/home/gulce/anaconda3/include -fPIC -O2 -isystem /home/gulce/anaconda3/include -fPIC\n",
      "  \n",
      "  compile options: '-Inumpy/core/src/common -Inumpy/core/src -Inumpy/core -Inumpy/core/src/npymath -Inumpy/core/src/multiarray -Inumpy/core/src/umath -Inumpy/core/src/npysort -I/home/gulce/anaconda3/include/python3.9 -c'\n",
      "  gcc: _configtest.c\n",
      "  gcc -pthread -B /home/gulce/anaconda3/compiler_compat _configtest.o -o _configtest\n",
      "  success!\n",
      "  removing: _configtest.c _configtest.o _configtest.o.d _configtest\n",
      "  C compiler: gcc -pthread -B /home/gulce/anaconda3/compiler_compat -Wno-unused-result -Wsign-compare -DNDEBUG -O2 -Wall -fPIC -O2 -isystem /home/gulce/anaconda3/include -I/home/gulce/anaconda3/include -fPIC -O2 -isystem /home/gulce/anaconda3/include -fPIC\n",
      "  \n",
      "  compile options: '-Inumpy/core/src/common -Inumpy/core/src -Inumpy/core -Inumpy/core/src/npymath -Inumpy/core/src/multiarray -Inumpy/core/src/umath -Inumpy/core/src/npysort -I/home/gulce/anaconda3/include/python3.9 -c'\n",
      "  gcc: _configtest.c\n",
      "  gcc -pthread -B /home/gulce/anaconda3/compiler_compat _configtest.o -o _configtest\n",
      "  success!\n",
      "  removing: _configtest.c _configtest.o _configtest.o.d _configtest\n",
      "  C compiler: gcc -pthread -B /home/gulce/anaconda3/compiler_compat -Wno-unused-result -Wsign-compare -DNDEBUG -O2 -Wall -fPIC -O2 -isystem /home/gulce/anaconda3/include -I/home/gulce/anaconda3/include -fPIC -O2 -isystem /home/gulce/anaconda3/include -fPIC\n",
      "  \n",
      "  compile options: '-Inumpy/core/src/common -Inumpy/core/src -Inumpy/core -Inumpy/core/src/npymath -Inumpy/core/src/multiarray -Inumpy/core/src/umath -Inumpy/core/src/npysort -I/home/gulce/anaconda3/include/python3.9 -c'\n",
      "  gcc: _configtest.c\n",
      "  gcc -pthread -B /home/gulce/anaconda3/compiler_compat _configtest.o -o _configtest\n",
      "  success!\n",
      "  removing: _configtest.c _configtest.o _configtest.o.d _configtest\n",
      "  C compiler: gcc -pthread -B /home/gulce/anaconda3/compiler_compat -Wno-unused-result -Wsign-compare -DNDEBUG -O2 -Wall -fPIC -O2 -isystem /home/gulce/anaconda3/include -I/home/gulce/anaconda3/include -fPIC -O2 -isystem /home/gulce/anaconda3/include -fPIC\n",
      "  \n",
      "  compile options: '-Inumpy/core/src/common -Inumpy/core/src -Inumpy/core -Inumpy/core/src/npymath -Inumpy/core/src/multiarray -Inumpy/core/src/umath -Inumpy/core/src/npysort -I/home/gulce/anaconda3/include/python3.9 -c'\n",
      "  gcc: _configtest.c\n",
      "  gcc -pthread -B /home/gulce/anaconda3/compiler_compat _configtest.o -o _configtest\n",
      "  success!\n",
      "  removing: _configtest.c _configtest.o _configtest.o.d _configtest\n",
      "  C compiler: gcc -pthread -B /home/gulce/anaconda3/compiler_compat -Wno-unused-result -Wsign-compare -DNDEBUG -O2 -Wall -fPIC -O2 -isystem /home/gulce/anaconda3/include -I/home/gulce/anaconda3/include -fPIC -O2 -isystem /home/gulce/anaconda3/include -fPIC\n",
      "  \n",
      "  compile options: '-Inumpy/core/src/common -Inumpy/core/src -Inumpy/core -Inumpy/core/src/npymath -Inumpy/core/src/multiarray -Inumpy/core/src/umath -Inumpy/core/src/npysort -I/home/gulce/anaconda3/include/python3.9 -c'\n",
      "  gcc: _configtest.c\n",
      "  gcc -pthread -B /home/gulce/anaconda3/compiler_compat _configtest.o -o _configtest\n",
      "  success!\n",
      "  removing: _configtest.c _configtest.o _configtest.o.d _configtest\n",
      "  C compiler: gcc -pthread -B /home/gulce/anaconda3/compiler_compat -Wno-unused-result -Wsign-compare -DNDEBUG -O2 -Wall -fPIC -O2 -isystem /home/gulce/anaconda3/include -I/home/gulce/anaconda3/include -fPIC -O2 -isystem /home/gulce/anaconda3/include -fPIC\n",
      "  \n",
      "  compile options: '-Inumpy/core/src/common -Inumpy/core/src -Inumpy/core -Inumpy/core/src/npymath -Inumpy/core/src/multiarray -Inumpy/core/src/umath -Inumpy/core/src/npysort -I/home/gulce/anaconda3/include/python3.9 -c'\n",
      "  gcc: _configtest.c\n",
      "  _configtest.c: In function ‘main’:\n",
      "  _configtest.c:5:3: warning: statement with no effect [-Wunused-value]\n",
      "     __builtin_isnan(5.);\n",
      "     ^\n",
      "  gcc -pthread -B /home/gulce/anaconda3/compiler_compat _configtest.o -o _configtest\n",
      "  success!\n",
      "  removing: _configtest.c _configtest.o _configtest.o.d _configtest\n",
      "  C compiler: gcc -pthread -B /home/gulce/anaconda3/compiler_compat -Wno-unused-result -Wsign-compare -DNDEBUG -O2 -Wall -fPIC -O2 -isystem /home/gulce/anaconda3/include -I/home/gulce/anaconda3/include -fPIC -O2 -isystem /home/gulce/anaconda3/include -fPIC\n",
      "  \n",
      "  compile options: '-Inumpy/core/src/common -Inumpy/core/src -Inumpy/core -Inumpy/core/src/npymath -Inumpy/core/src/multiarray -Inumpy/core/src/umath -Inumpy/core/src/npysort -I/home/gulce/anaconda3/include/python3.9 -c'\n",
      "  gcc: _configtest.c\n",
      "  _configtest.c: In function ‘main’:\n",
      "  _configtest.c:5:3: warning: statement with no effect [-Wunused-value]\n",
      "     __builtin_isinf(5.);\n",
      "     ^\n",
      "  gcc -pthread -B /home/gulce/anaconda3/compiler_compat _configtest.o -o _configtest\n",
      "  success!\n",
      "  removing: _configtest.c _configtest.o _configtest.o.d _configtest\n",
      "  C compiler: gcc -pthread -B /home/gulce/anaconda3/compiler_compat -Wno-unused-result -Wsign-compare -DNDEBUG -O2 -Wall -fPIC -O2 -isystem /home/gulce/anaconda3/include -I/home/gulce/anaconda3/include -fPIC -O2 -isystem /home/gulce/anaconda3/include -fPIC\n",
      "  \n",
      "  compile options: '-Inumpy/core/src/common -Inumpy/core/src -Inumpy/core -Inumpy/core/src/npymath -Inumpy/core/src/multiarray -Inumpy/core/src/umath -Inumpy/core/src/npysort -I/home/gulce/anaconda3/include/python3.9 -c'\n",
      "  gcc: _configtest.c\n",
      "  _configtest.c: In function ‘main’:\n",
      "  _configtest.c:5:3: warning: statement with no effect [-Wunused-value]\n",
      "     __builtin_isfinite(5.);\n",
      "     ^\n",
      "  gcc -pthread -B /home/gulce/anaconda3/compiler_compat _configtest.o -o _configtest\n",
      "  success!\n",
      "  removing: _configtest.c _configtest.o _configtest.o.d _configtest\n",
      "  C compiler: gcc -pthread -B /home/gulce/anaconda3/compiler_compat -Wno-unused-result -Wsign-compare -DNDEBUG -O2 -Wall -fPIC -O2 -isystem /home/gulce/anaconda3/include -I/home/gulce/anaconda3/include -fPIC -O2 -isystem /home/gulce/anaconda3/include -fPIC\n",
      "  \n",
      "  compile options: '-Inumpy/core/src/common -Inumpy/core/src -Inumpy/core -Inumpy/core/src/npymath -Inumpy/core/src/multiarray -Inumpy/core/src/umath -Inumpy/core/src/npysort -I/home/gulce/anaconda3/include/python3.9 -c'\n",
      "  gcc: _configtest.c\n",
      "  _configtest.c: In function ‘main’:\n",
      "  _configtest.c:5:3: warning: statement with no effect [-Wunused-value]\n",
      "     __builtin_bswap32(5u);\n",
      "     ^\n",
      "  gcc -pthread -B /home/gulce/anaconda3/compiler_compat _configtest.o -o _configtest\n",
      "  success!\n",
      "  removing: _configtest.c _configtest.o _configtest.o.d _configtest\n",
      "  C compiler: gcc -pthread -B /home/gulce/anaconda3/compiler_compat -Wno-unused-result -Wsign-compare -DNDEBUG -O2 -Wall -fPIC -O2 -isystem /home/gulce/anaconda3/include -I/home/gulce/anaconda3/include -fPIC -O2 -isystem /home/gulce/anaconda3/include -fPIC\n",
      "  \n",
      "  compile options: '-Inumpy/core/src/common -Inumpy/core/src -Inumpy/core -Inumpy/core/src/npymath -Inumpy/core/src/multiarray -Inumpy/core/src/umath -Inumpy/core/src/npysort -I/home/gulce/anaconda3/include/python3.9 -c'\n",
      "  gcc: _configtest.c\n",
      "  _configtest.c: In function ‘main’:\n",
      "  _configtest.c:5:3: warning: statement with no effect [-Wunused-value]\n",
      "     __builtin_bswap64(5u);\n",
      "     ^\n",
      "  gcc -pthread -B /home/gulce/anaconda3/compiler_compat _configtest.o -o _configtest\n",
      "  success!\n",
      "  removing: _configtest.c _configtest.o _configtest.o.d _configtest\n",
      "  C compiler: gcc -pthread -B /home/gulce/anaconda3/compiler_compat -Wno-unused-result -Wsign-compare -DNDEBUG -O2 -Wall -fPIC -O2 -isystem /home/gulce/anaconda3/include -I/home/gulce/anaconda3/include -fPIC -O2 -isystem /home/gulce/anaconda3/include -fPIC\n",
      "  \n",
      "  compile options: '-Inumpy/core/src/common -Inumpy/core/src -Inumpy/core -Inumpy/core/src/npymath -Inumpy/core/src/multiarray -Inumpy/core/src/umath -Inumpy/core/src/npysort -I/home/gulce/anaconda3/include/python3.9 -c'\n",
      "  gcc: _configtest.c\n",
      "  _configtest.c: In function ‘main’:\n",
      "  _configtest.c:5:3: warning: statement with no effect [-Wunused-value]\n",
      "     __builtin_expect(5, 0);\n",
      "     ^\n",
      "  gcc -pthread -B /home/gulce/anaconda3/compiler_compat _configtest.o -o _configtest\n",
      "  success!\n",
      "  removing: _configtest.c _configtest.o _configtest.o.d _configtest\n",
      "  C compiler: gcc -pthread -B /home/gulce/anaconda3/compiler_compat -Wno-unused-result -Wsign-compare -DNDEBUG -O2 -Wall -fPIC -O2 -isystem /home/gulce/anaconda3/include -I/home/gulce/anaconda3/include -fPIC -O2 -isystem /home/gulce/anaconda3/include -fPIC\n",
      "  \n",
      "  compile options: '-Inumpy/core/src/common -Inumpy/core/src -Inumpy/core -Inumpy/core/src/npymath -Inumpy/core/src/multiarray -Inumpy/core/src/umath -Inumpy/core/src/npysort -I/home/gulce/anaconda3/include/python3.9 -c'\n",
      "  gcc: _configtest.c\n",
      "  gcc -pthread -B /home/gulce/anaconda3/compiler_compat _configtest.o -o _configtest\n",
      "  success!\n",
      "  removing: _configtest.c _configtest.o _configtest.o.d _configtest\n",
      "  C compiler: gcc -pthread -B /home/gulce/anaconda3/compiler_compat -Wno-unused-result -Wsign-compare -DNDEBUG -O2 -Wall -fPIC -O2 -isystem /home/gulce/anaconda3/include -I/home/gulce/anaconda3/include -fPIC -O2 -isystem /home/gulce/anaconda3/include -fPIC\n",
      "  \n",
      "  compile options: '-Inumpy/core/src/common -Inumpy/core/src -Inumpy/core -Inumpy/core/src/npymath -Inumpy/core/src/multiarray -Inumpy/core/src/umath -Inumpy/core/src/npysort -I/home/gulce/anaconda3/include/python3.9 -c'\n",
      "  gcc: _configtest.c\n",
      "  _configtest.c: In function ‘main’:\n",
      "  _configtest.c:7:16: warning: unused variable ‘r’ [-Wunused-variable]\n",
      "     volatile int r = __builtin_cpu_supports(\"sse\");\n",
      "                  ^\n",
      "  gcc -pthread -B /home/gulce/anaconda3/compiler_compat _configtest.o -o _configtest\n",
      "  success!\n",
      "  removing: _configtest.c _configtest.o _configtest.o.d _configtest\n",
      "  C compiler: gcc -pthread -B /home/gulce/anaconda3/compiler_compat -Wno-unused-result -Wsign-compare -DNDEBUG -O2 -Wall -fPIC -O2 -isystem /home/gulce/anaconda3/include -I/home/gulce/anaconda3/include -fPIC -O2 -isystem /home/gulce/anaconda3/include -fPIC\n",
      "  \n",
      "  compile options: '-Inumpy/core/src/common -Inumpy/core/src -Inumpy/core -Inumpy/core/src/npymath -Inumpy/core/src/multiarray -Inumpy/core/src/umath -Inumpy/core/src/npysort -I/home/gulce/anaconda3/include/python3.9 -c'\n",
      "  gcc: _configtest.c\n",
      "  gcc -pthread -B /home/gulce/anaconda3/compiler_compat _configtest.o -o _configtest\n",
      "  success!\n",
      "  removing: _configtest.c _configtest.o _configtest.o.d _configtest\n",
      "  C compiler: gcc -pthread -B /home/gulce/anaconda3/compiler_compat -Wno-unused-result -Wsign-compare -DNDEBUG -O2 -Wall -fPIC -O2 -isystem /home/gulce/anaconda3/include -I/home/gulce/anaconda3/include -fPIC -O2 -isystem /home/gulce/anaconda3/include -fPIC\n",
      "  \n",
      "  compile options: '-Inumpy/core/src/common -Inumpy/core/src -Inumpy/core -Inumpy/core/src/npymath -Inumpy/core/src/multiarray -Inumpy/core/src/umath -Inumpy/core/src/npysort -I/home/gulce/anaconda3/include/python3.9 -c'\n",
      "  gcc: _configtest.c\n",
      "  gcc -pthread -B /home/gulce/anaconda3/compiler_compat _configtest.o -o _configtest\n",
      "  success!\n",
      "  removing: _configtest.c _configtest.o _configtest.o.d _configtest\n",
      "  C compiler: gcc -pthread -B /home/gulce/anaconda3/compiler_compat -Wno-unused-result -Wsign-compare -DNDEBUG -O2 -Wall -fPIC -O2 -isystem /home/gulce/anaconda3/include -I/home/gulce/anaconda3/include -fPIC -O2 -isystem /home/gulce/anaconda3/include -fPIC\n",
      "  \n",
      "  compile options: '-Inumpy/core/src/common -Inumpy/core/src -Inumpy/core -Inumpy/core/src/npymath -Inumpy/core/src/multiarray -Inumpy/core/src/umath -Inumpy/core/src/npysort -I/home/gulce/anaconda3/include/python3.9 -c'\n",
      "  gcc: _configtest.c\n",
      "  gcc -pthread -B /home/gulce/anaconda3/compiler_compat _configtest.o -o _configtest\n",
      "  success!\n",
      "  removing: _configtest.c _configtest.o _configtest.o.d _configtest\n",
      "  C compiler: gcc -pthread -B /home/gulce/anaconda3/compiler_compat -Wno-unused-result -Wsign-compare -DNDEBUG -O2 -Wall -fPIC -O2 -isystem /home/gulce/anaconda3/include -I/home/gulce/anaconda3/include -fPIC -O2 -isystem /home/gulce/anaconda3/include -fPIC\n",
      "  \n",
      "  compile options: '-Inumpy/core/src/common -Inumpy/core/src -Inumpy/core -Inumpy/core/src/npymath -Inumpy/core/src/multiarray -Inumpy/core/src/umath -Inumpy/core/src/npysort -I/home/gulce/anaconda3/include/python3.9 -c'\n",
      "  gcc: _configtest.c\n",
      "  gcc -pthread -B /home/gulce/anaconda3/compiler_compat _configtest.o -o _configtest\n",
      "  success!\n",
      "  removing: _configtest.c _configtest.o _configtest.o.d _configtest\n",
      "  C compiler: gcc -pthread -B /home/gulce/anaconda3/compiler_compat -Wno-unused-result -Wsign-compare -DNDEBUG -O2 -Wall -fPIC -O2 -isystem /home/gulce/anaconda3/include -I/home/gulce/anaconda3/include -fPIC -O2 -isystem /home/gulce/anaconda3/include -fPIC\n",
      "  \n",
      "  compile options: '-Inumpy/core/src/common -Inumpy/core/src -Inumpy/core -Inumpy/core/src/npymath -Inumpy/core/src/multiarray -Inumpy/core/src/umath -Inumpy/core/src/npysort -I/home/gulce/anaconda3/include/python3.9 -c'\n",
      "  gcc: _configtest.c\n",
      "  gcc -pthread -B /home/gulce/anaconda3/compiler_compat _configtest.o -o _configtest\n",
      "  success!\n",
      "  removing: _configtest.c _configtest.o _configtest.o.d _configtest\n",
      "  C compiler: gcc -pthread -B /home/gulce/anaconda3/compiler_compat -Wno-unused-result -Wsign-compare -DNDEBUG -O2 -Wall -fPIC -O2 -isystem /home/gulce/anaconda3/include -I/home/gulce/anaconda3/include -fPIC -O2 -isystem /home/gulce/anaconda3/include -fPIC\n",
      "  \n",
      "  compile options: '-Inumpy/core/src/common -Inumpy/core/src -Inumpy/core -Inumpy/core/src/npymath -Inumpy/core/src/multiarray -Inumpy/core/src/umath -Inumpy/core/src/npysort -I/home/gulce/anaconda3/include/python3.9 -c'\n",
      "  gcc: _configtest.c\n",
      "  gcc -pthread -B /home/gulce/anaconda3/compiler_compat _configtest.o -o _configtest\n",
      "  success!\n",
      "  removing: _configtest.c _configtest.o _configtest.o.d _configtest\n",
      "  C compiler: gcc -pthread -B /home/gulce/anaconda3/compiler_compat -Wno-unused-result -Wsign-compare -DNDEBUG -O2 -Wall -fPIC -O2 -isystem /home/gulce/anaconda3/include -I/home/gulce/anaconda3/include -fPIC -O2 -isystem /home/gulce/anaconda3/include -fPIC\n",
      "  \n",
      "  compile options: '-Inumpy/core/src/common -Inumpy/core/src -Inumpy/core -Inumpy/core/src/npymath -Inumpy/core/src/multiarray -Inumpy/core/src/umath -Inumpy/core/src/npysort -I/home/gulce/anaconda3/include/python3.9 -c'\n",
      "  gcc: _configtest.c\n",
      "  gcc -pthread -B /home/gulce/anaconda3/compiler_compat _configtest.o -o _configtest\n",
      "  success!\n",
      "  removing: _configtest.c _configtest.o _configtest.o.d _configtest\n",
      "  C compiler: gcc -pthread -B /home/gulce/anaconda3/compiler_compat -Wno-unused-result -Wsign-compare -DNDEBUG -O2 -Wall -fPIC -O2 -isystem /home/gulce/anaconda3/include -I/home/gulce/anaconda3/include -fPIC -O2 -isystem /home/gulce/anaconda3/include -fPIC\n",
      "  \n",
      "  compile options: '-Inumpy/core/src/common -Inumpy/core/src -Inumpy/core -Inumpy/core/src/npymath -Inumpy/core/src/multiarray -Inumpy/core/src/umath -Inumpy/core/src/npysort -I/home/gulce/anaconda3/include/python3.9 -c'\n",
      "  gcc: _configtest.c\n",
      "  gcc -pthread -B /home/gulce/anaconda3/compiler_compat _configtest.o -o _configtest\n",
      "  success!\n",
      "  removing: _configtest.c _configtest.o _configtest.o.d _configtest\n",
      "  C compiler: gcc -pthread -B /home/gulce/anaconda3/compiler_compat -Wno-unused-result -Wsign-compare -DNDEBUG -O2 -Wall -fPIC -O2 -isystem /home/gulce/anaconda3/include -I/home/gulce/anaconda3/include -fPIC -O2 -isystem /home/gulce/anaconda3/include -fPIC\n",
      "  \n",
      "  compile options: '-Inumpy/core/src/common -Inumpy/core/src -Inumpy/core -Inumpy/core/src/npymath -Inumpy/core/src/multiarray -Inumpy/core/src/umath -Inumpy/core/src/npysort -I/home/gulce/anaconda3/include/python3.9 -c'\n",
      "  gcc: _configtest.c\n",
      "  _configtest.c:3:0: warning: ignoring #pragma clang diagnostic [-Wunknown-pragmas]\n",
      "   #pragma clang diagnostic error \"-Wattributes\"\n",
      "   ^\n",
      "  success!\n",
      "  removing: _configtest.c _configtest.o _configtest.o.d\n",
      "  C compiler: gcc -pthread -B /home/gulce/anaconda3/compiler_compat -Wno-unused-result -Wsign-compare -DNDEBUG -O2 -Wall -fPIC -O2 -isystem /home/gulce/anaconda3/include -I/home/gulce/anaconda3/include -fPIC -O2 -isystem /home/gulce/anaconda3/include -fPIC\n",
      "  \n",
      "  compile options: '-Inumpy/core/src/common -Inumpy/core/src -Inumpy/core -Inumpy/core/src/npymath -Inumpy/core/src/multiarray -Inumpy/core/src/umath -Inumpy/core/src/npysort -I/home/gulce/anaconda3/include/python3.9 -c'\n",
      "  gcc: _configtest.c\n",
      "  _configtest.c:3:0: warning: ignoring #pragma clang diagnostic [-Wunknown-pragmas]\n",
      "   #pragma clang diagnostic error \"-Wattributes\"\n",
      "   ^\n",
      "  success!\n",
      "  removing: _configtest.c _configtest.o _configtest.o.d\n",
      "  C compiler: gcc -pthread -B /home/gulce/anaconda3/compiler_compat -Wno-unused-result -Wsign-compare -DNDEBUG -O2 -Wall -fPIC -O2 -isystem /home/gulce/anaconda3/include -I/home/gulce/anaconda3/include -fPIC -O2 -isystem /home/gulce/anaconda3/include -fPIC\n",
      "  \n",
      "  compile options: '-Inumpy/core/src/common -Inumpy/core/src -Inumpy/core -Inumpy/core/src/npymath -Inumpy/core/src/multiarray -Inumpy/core/src/umath -Inumpy/core/src/npysort -I/home/gulce/anaconda3/include/python3.9 -c'\n",
      "  gcc: _configtest.c\n",
      "  _configtest.c:3:0: warning: ignoring #pragma clang diagnostic [-Wunknown-pragmas]\n",
      "   #pragma clang diagnostic error \"-Wattributes\"\n",
      "   ^\n",
      "  success!\n",
      "  removing: _configtest.c _configtest.o _configtest.o.d\n",
      "  C compiler: gcc -pthread -B /home/gulce/anaconda3/compiler_compat -Wno-unused-result -Wsign-compare -DNDEBUG -O2 -Wall -fPIC -O2 -isystem /home/gulce/anaconda3/include -I/home/gulce/anaconda3/include -fPIC -O2 -isystem /home/gulce/anaconda3/include -fPIC\n",
      "  \n",
      "  compile options: '-Inumpy/core/src/common -Inumpy/core/src -Inumpy/core -Inumpy/core/src/npymath -Inumpy/core/src/multiarray -Inumpy/core/src/umath -Inumpy/core/src/npysort -I/home/gulce/anaconda3/include/python3.9 -c'\n",
      "  gcc: _configtest.c\n",
      "  _configtest.c:3:0: warning: ignoring #pragma clang diagnostic [-Wunknown-pragmas]\n",
      "   #pragma clang diagnostic error \"-Wattributes\"\n",
      "   ^\n",
      "  success!\n",
      "  removing: _configtest.c _configtest.o _configtest.o.d\n",
      "  C compiler: gcc -pthread -B /home/gulce/anaconda3/compiler_compat -Wno-unused-result -Wsign-compare -DNDEBUG -O2 -Wall -fPIC -O2 -isystem /home/gulce/anaconda3/include -I/home/gulce/anaconda3/include -fPIC -O2 -isystem /home/gulce/anaconda3/include -fPIC\n",
      "  \n",
      "  compile options: '-Inumpy/core/src/common -Inumpy/core/src -Inumpy/core -Inumpy/core/src/npymath -Inumpy/core/src/multiarray -Inumpy/core/src/umath -Inumpy/core/src/npysort -I/home/gulce/anaconda3/include/python3.9 -c'\n",
      "  gcc: _configtest.c\n",
      "  _configtest.c:3:0: warning: ignoring #pragma clang diagnostic [-Wunknown-pragmas]\n",
      "   #pragma clang diagnostic error \"-Wattributes\"\n",
      "   ^\n",
      "  success!\n",
      "  removing: _configtest.c _configtest.o _configtest.o.d\n",
      "  C compiler: gcc -pthread -B /home/gulce/anaconda3/compiler_compat -Wno-unused-result -Wsign-compare -DNDEBUG -O2 -Wall -fPIC -O2 -isystem /home/gulce/anaconda3/include -I/home/gulce/anaconda3/include -fPIC -O2 -isystem /home/gulce/anaconda3/include -fPIC\n",
      "  \n",
      "  compile options: '-Inumpy/core/src/common -Inumpy/core/src -Inumpy/core -Inumpy/core/src/npymath -Inumpy/core/src/multiarray -Inumpy/core/src/umath -Inumpy/core/src/npysort -I/home/gulce/anaconda3/include/python3.9 -c'\n",
      "  gcc: _configtest.c\n",
      "  _configtest.c:3:0: warning: ignoring #pragma clang diagnostic [-Wunknown-pragmas]\n",
      "   #pragma clang diagnostic error \"-Wattributes\"\n",
      "   ^\n",
      "  success!\n",
      "  removing: _configtest.c _configtest.o _configtest.o.d\n",
      "  C compiler: gcc -pthread -B /home/gulce/anaconda3/compiler_compat -Wno-unused-result -Wsign-compare -DNDEBUG -O2 -Wall -fPIC -O2 -isystem /home/gulce/anaconda3/include -I/home/gulce/anaconda3/include -fPIC -O2 -isystem /home/gulce/anaconda3/include -fPIC\n",
      "  \n",
      "  compile options: '-Inumpy/core/src/common -Inumpy/core/src -Inumpy/core -Inumpy/core/src/npymath -Inumpy/core/src/multiarray -Inumpy/core/src/umath -Inumpy/core/src/npysort -I/home/gulce/anaconda3/include/python3.9 -c'\n",
      "  gcc: _configtest.c\n",
      "  _configtest.c:3:0: warning: ignoring #pragma clang diagnostic [-Wunknown-pragmas]\n",
      "   #pragma clang diagnostic error \"-Wattributes\"\n",
      "   ^\n",
      "  _configtest.c: In function ‘__declspec’:\n",
      "  _configtest.c:5:24: error: expected declaration specifiers before ‘foo’\n",
      "   int __declspec(thread) foo;\n",
      "                          ^\n",
      "  _configtest.c:9:1: error: expected ‘=’, ‘,’, ‘;’, ‘asm’ or ‘__attribute__’ before ‘{’ token\n",
      "   {\n",
      "   ^\n",
      "  _configtest.c:5:5: warning: type of ‘thread’ defaults to ‘int’ [-Wimplicit-int]\n",
      "   int __declspec(thread) foo;\n",
      "       ^\n",
      "  _configtest.c:11:1: error: expected ‘{’ at end of input\n",
      "   }\n",
      "   ^\n",
      "  _configtest.c:11:1: warning: control reaches end of non-void function [-Wreturn-type]\n",
      "   }\n",
      "   ^\n",
      "  failure.\n",
      "  removing: _configtest.c _configtest.o\n",
      "  C compiler: gcc -pthread -B /home/gulce/anaconda3/compiler_compat -Wno-unused-result -Wsign-compare -DNDEBUG -O2 -Wall -fPIC -O2 -isystem /home/gulce/anaconda3/include -I/home/gulce/anaconda3/include -fPIC -O2 -isystem /home/gulce/anaconda3/include -fPIC\n",
      "  \n",
      "  compile options: '-Inumpy/core/src/common -Inumpy/core/src -Inumpy/core -Inumpy/core/src/npymath -Inumpy/core/src/multiarray -Inumpy/core/src/umath -Inumpy/core/src/npysort -I/home/gulce/anaconda3/include/python3.9 -c'\n",
      "  gcc: _configtest.c\n",
      "  _configtest.c:1:5: warning: conflicting types for built-in function ‘sinf’\n",
      "   int sinf (void);\n",
      "       ^\n",
      "  _configtest.c:2:5: warning: conflicting types for built-in function ‘cosf’\n",
      "   int cosf (void);\n",
      "       ^\n",
      "  _configtest.c:3:5: warning: conflicting types for built-in function ‘tanf’\n",
      "   int tanf (void);\n",
      "       ^\n",
      "  _configtest.c:4:5: warning: conflicting types for built-in function ‘sinhf’\n",
      "   int sinhf (void);\n",
      "       ^\n",
      "  _configtest.c:5:5: warning: conflicting types for built-in function ‘coshf’\n",
      "   int coshf (void);\n",
      "       ^\n",
      "  _configtest.c:6:5: warning: conflicting types for built-in function ‘tanhf’\n",
      "   int tanhf (void);\n",
      "       ^\n",
      "  _configtest.c:7:5: warning: conflicting types for built-in function ‘fabsf’\n",
      "   int fabsf (void);\n",
      "       ^\n",
      "  _configtest.c:8:5: warning: conflicting types for built-in function ‘floorf’\n",
      "   int floorf (void);\n",
      "       ^\n",
      "  _configtest.c:9:5: warning: conflicting types for built-in function ‘ceilf’\n",
      "   int ceilf (void);\n",
      "       ^\n",
      "  _configtest.c:10:5: warning: conflicting types for built-in function ‘rintf’\n",
      "   int rintf (void);\n",
      "       ^\n",
      "  _configtest.c:11:5: warning: conflicting types for built-in function ‘truncf’\n",
      "   int truncf (void);\n",
      "       ^\n",
      "  _configtest.c:12:5: warning: conflicting types for built-in function ‘sqrtf’\n",
      "   int sqrtf (void);\n",
      "       ^\n",
      "  _configtest.c:13:5: warning: conflicting types for built-in function ‘log10f’\n",
      "   int log10f (void);\n",
      "       ^\n",
      "  _configtest.c:14:5: warning: conflicting types for built-in function ‘logf’\n",
      "   int logf (void);\n",
      "       ^\n",
      "  _configtest.c:15:5: warning: conflicting types for built-in function ‘log1pf’\n",
      "   int log1pf (void);\n",
      "       ^\n",
      "  _configtest.c:16:5: warning: conflicting types for built-in function ‘expf’\n",
      "   int expf (void);\n",
      "       ^\n",
      "  _configtest.c:17:5: warning: conflicting types for built-in function ‘expm1f’\n",
      "   int expm1f (void);\n",
      "       ^\n",
      "  _configtest.c:18:5: warning: conflicting types for built-in function ‘asinf’\n",
      "   int asinf (void);\n",
      "       ^\n",
      "  _configtest.c:19:5: warning: conflicting types for built-in function ‘acosf’\n",
      "   int acosf (void);\n",
      "       ^\n",
      "  _configtest.c:20:5: warning: conflicting types for built-in function ‘atanf’\n",
      "   int atanf (void);\n",
      "       ^\n",
      "  _configtest.c:21:5: warning: conflicting types for built-in function ‘asinhf’\n",
      "   int asinhf (void);\n",
      "       ^\n",
      "  _configtest.c:22:5: warning: conflicting types for built-in function ‘acoshf’\n",
      "   int acoshf (void);\n",
      "       ^\n",
      "  _configtest.c:23:5: warning: conflicting types for built-in function ‘atanhf’\n",
      "   int atanhf (void);\n",
      "       ^\n",
      "  _configtest.c:24:5: warning: conflicting types for built-in function ‘hypotf’\n",
      "   int hypotf (void);\n",
      "       ^\n",
      "  _configtest.c:25:5: warning: conflicting types for built-in function ‘atan2f’\n",
      "   int atan2f (void);\n",
      "       ^\n",
      "  _configtest.c:26:5: warning: conflicting types for built-in function ‘powf’\n",
      "   int powf (void);\n",
      "       ^\n",
      "  _configtest.c:27:5: warning: conflicting types for built-in function ‘fmodf’\n",
      "   int fmodf (void);\n",
      "       ^\n",
      "  _configtest.c:28:5: warning: conflicting types for built-in function ‘modff’\n",
      "   int modff (void);\n",
      "       ^\n",
      "  _configtest.c:29:5: warning: conflicting types for built-in function ‘frexpf’\n",
      "   int frexpf (void);\n",
      "       ^\n",
      "  _configtest.c:30:5: warning: conflicting types for built-in function ‘ldexpf’\n",
      "   int ldexpf (void);\n",
      "       ^\n",
      "  _configtest.c:31:5: warning: conflicting types for built-in function ‘exp2f’\n",
      "   int exp2f (void);\n",
      "       ^\n",
      "  _configtest.c:32:5: warning: conflicting types for built-in function ‘log2f’\n",
      "   int log2f (void);\n",
      "       ^\n",
      "  _configtest.c:33:5: warning: conflicting types for built-in function ‘copysignf’\n",
      "   int copysignf (void);\n",
      "       ^\n",
      "  _configtest.c:34:5: warning: conflicting types for built-in function ‘nextafterf’\n",
      "   int nextafterf (void);\n",
      "       ^\n",
      "  _configtest.c:35:5: warning: conflicting types for built-in function ‘cbrtf’\n",
      "   int cbrtf (void);\n",
      "       ^\n",
      "  gcc -pthread -B /home/gulce/anaconda3/compiler_compat _configtest.o -lm -o _configtest\n",
      "  success!\n",
      "  removing: _configtest.c _configtest.o _configtest.o.d _configtest\n",
      "  C compiler: gcc -pthread -B /home/gulce/anaconda3/compiler_compat -Wno-unused-result -Wsign-compare -DNDEBUG -O2 -Wall -fPIC -O2 -isystem /home/gulce/anaconda3/include -I/home/gulce/anaconda3/include -fPIC -O2 -isystem /home/gulce/anaconda3/include -fPIC\n",
      "  \n",
      "  compile options: '-Inumpy/core/src/common -Inumpy/core/src -Inumpy/core -Inumpy/core/src/npymath -Inumpy/core/src/multiarray -Inumpy/core/src/umath -Inumpy/core/src/npysort -I/home/gulce/anaconda3/include/python3.9 -c'\n",
      "  gcc: _configtest.c\n",
      "  _configtest.c:1:5: warning: conflicting types for built-in function ‘sinl’\n",
      "   int sinl (void);\n",
      "       ^\n",
      "  _configtest.c:2:5: warning: conflicting types for built-in function ‘cosl’\n",
      "   int cosl (void);\n",
      "       ^\n",
      "  _configtest.c:3:5: warning: conflicting types for built-in function ‘tanl’\n",
      "   int tanl (void);\n",
      "       ^\n",
      "  _configtest.c:4:5: warning: conflicting types for built-in function ‘sinhl’\n",
      "   int sinhl (void);\n",
      "       ^\n",
      "  _configtest.c:5:5: warning: conflicting types for built-in function ‘coshl’\n",
      "   int coshl (void);\n",
      "       ^\n",
      "  _configtest.c:6:5: warning: conflicting types for built-in function ‘tanhl’\n",
      "   int tanhl (void);\n",
      "       ^\n",
      "  _configtest.c:7:5: warning: conflicting types for built-in function ‘fabsl’\n",
      "   int fabsl (void);\n",
      "       ^\n",
      "  _configtest.c:8:5: warning: conflicting types for built-in function ‘floorl’\n",
      "   int floorl (void);\n",
      "       ^\n",
      "  _configtest.c:9:5: warning: conflicting types for built-in function ‘ceill’\n",
      "   int ceill (void);\n",
      "       ^\n",
      "  _configtest.c:10:5: warning: conflicting types for built-in function ‘rintl’\n",
      "   int rintl (void);\n",
      "       ^\n",
      "  _configtest.c:11:5: warning: conflicting types for built-in function ‘truncl’\n",
      "   int truncl (void);\n",
      "       ^\n",
      "  _configtest.c:12:5: warning: conflicting types for built-in function ‘sqrtl’\n",
      "   int sqrtl (void);\n",
      "       ^\n",
      "  _configtest.c:13:5: warning: conflicting types for built-in function ‘log10l’\n",
      "   int log10l (void);\n",
      "       ^\n",
      "  _configtest.c:14:5: warning: conflicting types for built-in function ‘logl’\n",
      "   int logl (void);\n",
      "       ^\n",
      "  _configtest.c:15:5: warning: conflicting types for built-in function ‘log1pl’\n",
      "   int log1pl (void);\n",
      "       ^\n",
      "  _configtest.c:16:5: warning: conflicting types for built-in function ‘expl’\n",
      "   int expl (void);\n",
      "       ^\n",
      "  _configtest.c:17:5: warning: conflicting types for built-in function ‘expm1l’\n",
      "   int expm1l (void);\n",
      "       ^\n",
      "  _configtest.c:18:5: warning: conflicting types for built-in function ‘asinl’\n",
      "   int asinl (void);\n",
      "       ^\n",
      "  _configtest.c:19:5: warning: conflicting types for built-in function ‘acosl’\n",
      "   int acosl (void);\n",
      "       ^\n",
      "  _configtest.c:20:5: warning: conflicting types for built-in function ‘atanl’\n",
      "   int atanl (void);\n",
      "       ^\n",
      "  _configtest.c:21:5: warning: conflicting types for built-in function ‘asinhl’\n",
      "   int asinhl (void);\n",
      "       ^\n",
      "  _configtest.c:22:5: warning: conflicting types for built-in function ‘acoshl’\n",
      "   int acoshl (void);\n",
      "       ^\n",
      "  _configtest.c:23:5: warning: conflicting types for built-in function ‘atanhl’\n",
      "   int atanhl (void);\n",
      "       ^\n",
      "  _configtest.c:24:5: warning: conflicting types for built-in function ‘hypotl’\n",
      "   int hypotl (void);\n",
      "       ^\n",
      "  _configtest.c:25:5: warning: conflicting types for built-in function ‘atan2l’\n",
      "   int atan2l (void);\n",
      "       ^\n",
      "  _configtest.c:26:5: warning: conflicting types for built-in function ‘powl’\n",
      "   int powl (void);\n",
      "       ^\n",
      "  _configtest.c:27:5: warning: conflicting types for built-in function ‘fmodl’\n",
      "   int fmodl (void);\n",
      "       ^\n",
      "  _configtest.c:28:5: warning: conflicting types for built-in function ‘modfl’\n",
      "   int modfl (void);\n",
      "       ^\n",
      "  _configtest.c:29:5: warning: conflicting types for built-in function ‘frexpl’\n",
      "   int frexpl (void);\n",
      "       ^\n",
      "  _configtest.c:30:5: warning: conflicting types for built-in function ‘ldexpl’\n",
      "   int ldexpl (void);\n",
      "       ^\n",
      "  _configtest.c:31:5: warning: conflicting types for built-in function ‘exp2l’\n",
      "   int exp2l (void);\n",
      "       ^\n",
      "  _configtest.c:32:5: warning: conflicting types for built-in function ‘log2l’\n",
      "   int log2l (void);\n",
      "       ^\n",
      "  _configtest.c:33:5: warning: conflicting types for built-in function ‘copysignl’\n",
      "   int copysignl (void);\n",
      "       ^\n",
      "  _configtest.c:34:5: warning: conflicting types for built-in function ‘nextafterl’\n",
      "   int nextafterl (void);\n",
      "       ^\n",
      "  _configtest.c:35:5: warning: conflicting types for built-in function ‘cbrtl’\n",
      "   int cbrtl (void);\n",
      "       ^\n",
      "  gcc -pthread -B /home/gulce/anaconda3/compiler_compat _configtest.o -lm -o _configtest\n",
      "  success!\n",
      "  removing: _configtest.c _configtest.o _configtest.o.d _configtest\n",
      "  C compiler: gcc -pthread -B /home/gulce/anaconda3/compiler_compat -Wno-unused-result -Wsign-compare -DNDEBUG -O2 -Wall -fPIC -O2 -isystem /home/gulce/anaconda3/include -I/home/gulce/anaconda3/include -fPIC -O2 -isystem /home/gulce/anaconda3/include -fPIC\n",
      "  \n",
      "  compile options: '-Inumpy/core/src/common -Inumpy/core/src -Inumpy/core -Inumpy/core/src/npymath -Inumpy/core/src/multiarray -Inumpy/core/src/umath -Inumpy/core/src/npysort -I/home/gulce/anaconda3/include/python3.9 -c'\n",
      "  gcc: _configtest.c\n",
      "  success!\n",
      "  removing: _configtest.c _configtest.o _configtest.o.d\n",
      "  C compiler: gcc -pthread -B /home/gulce/anaconda3/compiler_compat -Wno-unused-result -Wsign-compare -DNDEBUG -O2 -Wall -fPIC -O2 -isystem /home/gulce/anaconda3/include -I/home/gulce/anaconda3/include -fPIC -O2 -isystem /home/gulce/anaconda3/include -fPIC\n",
      "  \n",
      "  compile options: '-Inumpy/core/src/common -Inumpy/core/src -Inumpy/core -Inumpy/core/src/npymath -Inumpy/core/src/multiarray -Inumpy/core/src/umath -Inumpy/core/src/npysort -I/home/gulce/anaconda3/include/python3.9 -c'\n",
      "  gcc: _configtest.c\n",
      "  success!\n",
      "  removing: _configtest.c _configtest.o _configtest.o.d\n",
      "  C compiler: gcc -pthread -B /home/gulce/anaconda3/compiler_compat -Wno-unused-result -Wsign-compare -DNDEBUG -O2 -Wall -fPIC -O2 -isystem /home/gulce/anaconda3/include -I/home/gulce/anaconda3/include -fPIC -O2 -isystem /home/gulce/anaconda3/include -fPIC\n",
      "  \n",
      "  compile options: '-Inumpy/core/src/common -Inumpy/core/src -Inumpy/core -Inumpy/core/src/npymath -Inumpy/core/src/multiarray -Inumpy/core/src/umath -Inumpy/core/src/npysort -I/home/gulce/anaconda3/include/python3.9 -c'\n",
      "  gcc: _configtest.c\n",
      "  success!\n",
      "  removing: _configtest.c _configtest.o _configtest.o.d\n",
      "  C compiler: gcc -pthread -B /home/gulce/anaconda3/compiler_compat -Wno-unused-result -Wsign-compare -DNDEBUG -O2 -Wall -fPIC -O2 -isystem /home/gulce/anaconda3/include -I/home/gulce/anaconda3/include -fPIC -O2 -isystem /home/gulce/anaconda3/include -fPIC\n",
      "  \n",
      "  compile options: '-Inumpy/core/src/common -Inumpy/core/src -Inumpy/core -Inumpy/core/src/npymath -Inumpy/core/src/multiarray -Inumpy/core/src/umath -Inumpy/core/src/npysort -I/home/gulce/anaconda3/include/python3.9 -c'\n",
      "  gcc: _configtest.c\n",
      "  success!\n",
      "  removing: _configtest.c _configtest.o _configtest.o.d\n",
      "  C compiler: gcc -pthread -B /home/gulce/anaconda3/compiler_compat -Wno-unused-result -Wsign-compare -DNDEBUG -O2 -Wall -fPIC -O2 -isystem /home/gulce/anaconda3/include -I/home/gulce/anaconda3/include -fPIC -O2 -isystem /home/gulce/anaconda3/include -fPIC\n",
      "  \n",
      "  compile options: '-Inumpy/core/src/common -Inumpy/core/src -Inumpy/core -Inumpy/core/src/npymath -Inumpy/core/src/multiarray -Inumpy/core/src/umath -Inumpy/core/src/npysort -I/home/gulce/anaconda3/include/python3.9 -c'\n",
      "  gcc: _configtest.c\n",
      "  _configtest.c: In function ‘main’:\n",
      "  _configtest.c:8:12: error: ‘HAVE_DECL_SIGNBIT’ undeclared (first use in this function)\n",
      "       (void) HAVE_DECL_SIGNBIT;\n",
      "              ^\n",
      "  _configtest.c:8:12: note: each undeclared identifier is reported only once for each function it appears in\n",
      "  failure.\n",
      "  removing: _configtest.c _configtest.o\n",
      "  C compiler: gcc -pthread -B /home/gulce/anaconda3/compiler_compat -Wno-unused-result -Wsign-compare -DNDEBUG -O2 -Wall -fPIC -O2 -isystem /home/gulce/anaconda3/include -I/home/gulce/anaconda3/include -fPIC -O2 -isystem /home/gulce/anaconda3/include -fPIC\n",
      "  \n",
      "  compile options: '-Inumpy/core/src/common -Inumpy/core/src -Inumpy/core -Inumpy/core/src/npymath -Inumpy/core/src/multiarray -Inumpy/core/src/umath -Inumpy/core/src/npysort -I/home/gulce/anaconda3/include/python3.9 -c'\n",
      "  gcc: _configtest.c\n",
      "  success!\n",
      "  removing: _configtest.c _configtest.o _configtest.o.d\n",
      "  C compiler: gcc -pthread -B /home/gulce/anaconda3/compiler_compat -Wno-unused-result -Wsign-compare -DNDEBUG -O2 -Wall -fPIC -O2 -isystem /home/gulce/anaconda3/include -I/home/gulce/anaconda3/include -fPIC -O2 -isystem /home/gulce/anaconda3/include -fPIC\n",
      "  \n",
      "  compile options: '-Inumpy/core/src/common -Inumpy/core/src -Inumpy/core -Inumpy/core/src/npymath -Inumpy/core/src/multiarray -Inumpy/core/src/umath -Inumpy/core/src/npysort -I/home/gulce/anaconda3/include/python3.9 -c'\n",
      "  gcc: _configtest.c\n",
      "  success!\n",
      "  removing: _configtest.c _configtest.o _configtest.o.d\n",
      "  C compiler: gcc -pthread -B /home/gulce/anaconda3/compiler_compat -Wno-unused-result -Wsign-compare -DNDEBUG -O2 -Wall -fPIC -O2 -isystem /home/gulce/anaconda3/include -I/home/gulce/anaconda3/include -fPIC -O2 -isystem /home/gulce/anaconda3/include -fPIC\n",
      "  \n",
      "  compile options: '-Inumpy/core/src/common -Inumpy/core/src -Inumpy/core -Inumpy/core/src/npymath -Inumpy/core/src/multiarray -Inumpy/core/src/umath -Inumpy/core/src/npysort -I/home/gulce/anaconda3/include/python3.9 -c'\n",
      "  gcc: _configtest.c\n",
      "  success!\n",
      "  removing: _configtest.c _configtest.o _configtest.o.d\n",
      "  C compiler: gcc -pthread -B /home/gulce/anaconda3/compiler_compat -Wno-unused-result -Wsign-compare -DNDEBUG -O2 -Wall -fPIC -O2 -isystem /home/gulce/anaconda3/include -I/home/gulce/anaconda3/include -fPIC -O2 -isystem /home/gulce/anaconda3/include -fPIC\n",
      "  \n",
      "  compile options: '-Inumpy/core/src/common -Inumpy/core/src -Inumpy/core -Inumpy/core/src/npymath -Inumpy/core/src/multiarray -Inumpy/core/src/umath -Inumpy/core/src/npysort -I/home/gulce/anaconda3/include/python3.9 -c'\n",
      "  gcc: _configtest.c\n",
      "  success!\n",
      "  removing: _configtest.c _configtest.o _configtest.o.d\n",
      "  C compiler: gcc -pthread -B /home/gulce/anaconda3/compiler_compat -Wno-unused-result -Wsign-compare -DNDEBUG -O2 -Wall -fPIC -O2 -isystem /home/gulce/anaconda3/include -I/home/gulce/anaconda3/include -fPIC -O2 -isystem /home/gulce/anaconda3/include -fPIC\n",
      "  \n",
      "  compile options: '-Inumpy/core/src/common -Inumpy/core/src -Inumpy/core -Inumpy/core/src/npymath -Inumpy/core/src/multiarray -Inumpy/core/src/umath -Inumpy/core/src/npysort -I/home/gulce/anaconda3/include/python3.9 -c'\n",
      "  gcc: _configtest.c\n",
      "  removing: _configtest.c _configtest.o _configtest.o.d\n",
      "  C compiler: gcc -pthread -B /home/gulce/anaconda3/compiler_compat -Wno-unused-result -Wsign-compare -DNDEBUG -O2 -Wall -fPIC -O2 -isystem /home/gulce/anaconda3/include -I/home/gulce/anaconda3/include -fPIC -O2 -isystem /home/gulce/anaconda3/include -fPIC\n",
      "  \n",
      "  compile options: '-Inumpy/core/src/common -Inumpy/core/src -Inumpy/core -Inumpy/core/src/npymath -Inumpy/core/src/multiarray -Inumpy/core/src/umath -Inumpy/core/src/npysort -I/home/gulce/anaconda3/include/python3.9 -c'\n",
      "  gcc: _configtest.c\n",
      "  removing: _configtest.c _configtest.o _configtest.o.d\n",
      "  C compiler: gcc -pthread -B /home/gulce/anaconda3/compiler_compat -Wno-unused-result -Wsign-compare -DNDEBUG -O2 -Wall -fPIC -O2 -isystem /home/gulce/anaconda3/include -I/home/gulce/anaconda3/include -fPIC -O2 -isystem /home/gulce/anaconda3/include -fPIC\n",
      "  \n",
      "  compile options: '-Inumpy/core/src/common -Inumpy/core/src -Inumpy/core -Inumpy/core/src/npymath -Inumpy/core/src/multiarray -Inumpy/core/src/umath -Inumpy/core/src/npysort -I/home/gulce/anaconda3/include/python3.9 -c'\n",
      "  gcc: _configtest.c\n",
      "  removing: _configtest.c _configtest.o _configtest.o.d\n",
      "  C compiler: gcc -pthread -B /home/gulce/anaconda3/compiler_compat -Wno-unused-result -Wsign-compare -DNDEBUG -O2 -Wall -fPIC -O2 -isystem /home/gulce/anaconda3/include -I/home/gulce/anaconda3/include -fPIC -O2 -isystem /home/gulce/anaconda3/include -fPIC\n",
      "  \n",
      "  compile options: '-Inumpy/core/src/common -Inumpy/core/src -Inumpy/core -Inumpy/core/src/npymath -Inumpy/core/src/multiarray -Inumpy/core/src/umath -Inumpy/core/src/npysort -I/home/gulce/anaconda3/include/python3.9 -c'\n",
      "  gcc: _configtest.c\n",
      "  _configtest.c:1:5: warning: conflicting types for built-in function ‘cabs’\n",
      "   int cabs (void);\n",
      "       ^\n",
      "  _configtest.c:2:5: warning: conflicting types for built-in function ‘cacos’\n",
      "   int cacos (void);\n",
      "       ^\n",
      "  _configtest.c:3:5: warning: conflicting types for built-in function ‘cacosh’\n",
      "   int cacosh (void);\n",
      "       ^\n",
      "  _configtest.c:4:5: warning: conflicting types for built-in function ‘carg’\n",
      "   int carg (void);\n",
      "       ^\n",
      "  _configtest.c:5:5: warning: conflicting types for built-in function ‘casin’\n",
      "   int casin (void);\n",
      "       ^\n",
      "  _configtest.c:6:5: warning: conflicting types for built-in function ‘casinh’\n",
      "   int casinh (void);\n",
      "       ^\n",
      "  _configtest.c:7:5: warning: conflicting types for built-in function ‘catan’\n",
      "   int catan (void);\n",
      "       ^\n",
      "  _configtest.c:8:5: warning: conflicting types for built-in function ‘catanh’\n",
      "   int catanh (void);\n",
      "       ^\n",
      "  _configtest.c:9:5: warning: conflicting types for built-in function ‘ccos’\n",
      "   int ccos (void);\n",
      "       ^\n",
      "  _configtest.c:10:5: warning: conflicting types for built-in function ‘ccosh’\n",
      "   int ccosh (void);\n",
      "       ^\n",
      "  _configtest.c:11:5: warning: conflicting types for built-in function ‘cexp’\n",
      "   int cexp (void);\n",
      "       ^\n",
      "  _configtest.c:12:5: warning: conflicting types for built-in function ‘cimag’\n",
      "   int cimag (void);\n",
      "       ^\n",
      "  _configtest.c:13:5: warning: conflicting types for built-in function ‘clog’\n",
      "   int clog (void);\n",
      "       ^\n",
      "  _configtest.c:14:5: warning: conflicting types for built-in function ‘conj’\n",
      "   int conj (void);\n",
      "       ^\n",
      "  _configtest.c:15:5: warning: conflicting types for built-in function ‘cpow’\n",
      "   int cpow (void);\n",
      "       ^\n",
      "  _configtest.c:16:5: warning: conflicting types for built-in function ‘cproj’\n",
      "   int cproj (void);\n",
      "       ^\n",
      "  _configtest.c:17:5: warning: conflicting types for built-in function ‘creal’\n",
      "   int creal (void);\n",
      "       ^\n",
      "  _configtest.c:18:5: warning: conflicting types for built-in function ‘csin’\n",
      "   int csin (void);\n",
      "       ^\n",
      "  _configtest.c:19:5: warning: conflicting types for built-in function ‘csinh’\n",
      "   int csinh (void);\n",
      "       ^\n",
      "  _configtest.c:20:5: warning: conflicting types for built-in function ‘csqrt’\n",
      "   int csqrt (void);\n",
      "       ^\n",
      "  _configtest.c:21:5: warning: conflicting types for built-in function ‘ctan’\n",
      "   int ctan (void);\n",
      "       ^\n",
      "  _configtest.c:22:5: warning: conflicting types for built-in function ‘ctanh’\n",
      "   int ctanh (void);\n",
      "       ^\n",
      "  gcc -pthread -B /home/gulce/anaconda3/compiler_compat _configtest.o -lm -o _configtest\n",
      "  success!\n",
      "  removing: _configtest.c _configtest.o _configtest.o.d _configtest\n",
      "  C compiler: gcc -pthread -B /home/gulce/anaconda3/compiler_compat -Wno-unused-result -Wsign-compare -DNDEBUG -O2 -Wall -fPIC -O2 -isystem /home/gulce/anaconda3/include -I/home/gulce/anaconda3/include -fPIC -O2 -isystem /home/gulce/anaconda3/include -fPIC\n",
      "  \n",
      "  compile options: '-Inumpy/core/src/common -Inumpy/core/src -Inumpy/core -Inumpy/core/src/npymath -Inumpy/core/src/multiarray -Inumpy/core/src/umath -Inumpy/core/src/npysort -I/home/gulce/anaconda3/include/python3.9 -c'\n",
      "  gcc: _configtest.c\n",
      "  _configtest.c:1:5: warning: conflicting types for built-in function ‘cabsf’\n",
      "   int cabsf (void);\n",
      "       ^\n",
      "  _configtest.c:2:5: warning: conflicting types for built-in function ‘cacosf’\n",
      "   int cacosf (void);\n",
      "       ^\n",
      "  _configtest.c:3:5: warning: conflicting types for built-in function ‘cacoshf’\n",
      "   int cacoshf (void);\n",
      "       ^\n",
      "  _configtest.c:4:5: warning: conflicting types for built-in function ‘cargf’\n",
      "   int cargf (void);\n",
      "       ^\n",
      "  _configtest.c:5:5: warning: conflicting types for built-in function ‘casinf’\n",
      "   int casinf (void);\n",
      "       ^\n",
      "  _configtest.c:6:5: warning: conflicting types for built-in function ‘casinhf’\n",
      "   int casinhf (void);\n",
      "       ^\n",
      "  _configtest.c:7:5: warning: conflicting types for built-in function ‘catanf’\n",
      "   int catanf (void);\n",
      "       ^\n",
      "  _configtest.c:8:5: warning: conflicting types for built-in function ‘catanhf’\n",
      "   int catanhf (void);\n",
      "       ^\n",
      "  _configtest.c:9:5: warning: conflicting types for built-in function ‘ccosf’\n",
      "   int ccosf (void);\n",
      "       ^\n",
      "  _configtest.c:10:5: warning: conflicting types for built-in function ‘ccoshf’\n",
      "   int ccoshf (void);\n",
      "       ^\n",
      "  _configtest.c:11:5: warning: conflicting types for built-in function ‘cexpf’\n",
      "   int cexpf (void);\n",
      "       ^\n",
      "  _configtest.c:12:5: warning: conflicting types for built-in function ‘cimagf’\n",
      "   int cimagf (void);\n",
      "       ^\n",
      "  _configtest.c:13:5: warning: conflicting types for built-in function ‘clogf’\n",
      "   int clogf (void);\n",
      "       ^\n",
      "  _configtest.c:14:5: warning: conflicting types for built-in function ‘conjf’\n",
      "   int conjf (void);\n",
      "       ^\n",
      "  _configtest.c:15:5: warning: conflicting types for built-in function ‘cpowf’\n",
      "   int cpowf (void);\n",
      "       ^\n",
      "  _configtest.c:16:5: warning: conflicting types for built-in function ‘cprojf’\n",
      "   int cprojf (void);\n",
      "       ^\n",
      "  _configtest.c:17:5: warning: conflicting types for built-in function ‘crealf’\n",
      "   int crealf (void);\n",
      "       ^\n",
      "  _configtest.c:18:5: warning: conflicting types for built-in function ‘csinf’\n",
      "   int csinf (void);\n",
      "       ^\n",
      "  _configtest.c:19:5: warning: conflicting types for built-in function ‘csinhf’\n",
      "   int csinhf (void);\n",
      "       ^\n",
      "  _configtest.c:20:5: warning: conflicting types for built-in function ‘csqrtf’\n",
      "   int csqrtf (void);\n",
      "       ^\n",
      "  _configtest.c:21:5: warning: conflicting types for built-in function ‘ctanf’\n",
      "   int ctanf (void);\n",
      "       ^\n",
      "  _configtest.c:22:5: warning: conflicting types for built-in function ‘ctanhf’\n",
      "   int ctanhf (void);\n",
      "       ^\n",
      "  gcc -pthread -B /home/gulce/anaconda3/compiler_compat _configtest.o -lm -o _configtest\n",
      "  success!\n",
      "  removing: _configtest.c _configtest.o _configtest.o.d _configtest\n",
      "  C compiler: gcc -pthread -B /home/gulce/anaconda3/compiler_compat -Wno-unused-result -Wsign-compare -DNDEBUG -O2 -Wall -fPIC -O2 -isystem /home/gulce/anaconda3/include -I/home/gulce/anaconda3/include -fPIC -O2 -isystem /home/gulce/anaconda3/include -fPIC\n",
      "  \n",
      "  compile options: '-Inumpy/core/src/common -Inumpy/core/src -Inumpy/core -Inumpy/core/src/npymath -Inumpy/core/src/multiarray -Inumpy/core/src/umath -Inumpy/core/src/npysort -I/home/gulce/anaconda3/include/python3.9 -c'\n",
      "  gcc: _configtest.c\n",
      "  _configtest.c:1:5: warning: conflicting types for built-in function ‘cabsl’\n",
      "   int cabsl (void);\n",
      "       ^\n",
      "  _configtest.c:2:5: warning: conflicting types for built-in function ‘cacosl’\n",
      "   int cacosl (void);\n",
      "       ^\n",
      "  _configtest.c:3:5: warning: conflicting types for built-in function ‘cacoshl’\n",
      "   int cacoshl (void);\n",
      "       ^\n",
      "  _configtest.c:4:5: warning: conflicting types for built-in function ‘cargl’\n",
      "   int cargl (void);\n",
      "       ^\n",
      "  _configtest.c:5:5: warning: conflicting types for built-in function ‘casinl’\n",
      "   int casinl (void);\n",
      "       ^\n",
      "  _configtest.c:6:5: warning: conflicting types for built-in function ‘casinhl’\n",
      "   int casinhl (void);\n",
      "       ^\n",
      "  _configtest.c:7:5: warning: conflicting types for built-in function ‘catanl’\n",
      "   int catanl (void);\n",
      "       ^\n",
      "  _configtest.c:8:5: warning: conflicting types for built-in function ‘catanhl’\n",
      "   int catanhl (void);\n",
      "       ^\n",
      "  _configtest.c:9:5: warning: conflicting types for built-in function ‘ccosl’\n",
      "   int ccosl (void);\n",
      "       ^\n",
      "  _configtest.c:10:5: warning: conflicting types for built-in function ‘ccoshl’\n",
      "   int ccoshl (void);\n",
      "       ^\n",
      "  _configtest.c:11:5: warning: conflicting types for built-in function ‘cexpl’\n",
      "   int cexpl (void);\n",
      "       ^\n",
      "  _configtest.c:12:5: warning: conflicting types for built-in function ‘cimagl’\n",
      "   int cimagl (void);\n",
      "       ^\n",
      "  _configtest.c:13:5: warning: conflicting types for built-in function ‘clogl’\n",
      "   int clogl (void);\n",
      "       ^\n",
      "  _configtest.c:14:5: warning: conflicting types for built-in function ‘conjl’\n",
      "   int conjl (void);\n",
      "       ^\n",
      "  _configtest.c:15:5: warning: conflicting types for built-in function ‘cpowl’\n",
      "   int cpowl (void);\n",
      "       ^\n",
      "  _configtest.c:16:5: warning: conflicting types for built-in function ‘cprojl’\n",
      "   int cprojl (void);\n",
      "       ^\n",
      "  _configtest.c:17:5: warning: conflicting types for built-in function ‘creall’\n",
      "   int creall (void);\n",
      "       ^\n",
      "  _configtest.c:18:5: warning: conflicting types for built-in function ‘csinl’\n",
      "   int csinl (void);\n",
      "       ^\n",
      "  _configtest.c:19:5: warning: conflicting types for built-in function ‘csinhl’\n",
      "   int csinhl (void);\n",
      "       ^\n",
      "  _configtest.c:20:5: warning: conflicting types for built-in function ‘csqrtl’\n",
      "   int csqrtl (void);\n",
      "       ^\n",
      "  _configtest.c:21:5: warning: conflicting types for built-in function ‘ctanl’\n",
      "   int ctanl (void);\n",
      "       ^\n",
      "  _configtest.c:22:5: warning: conflicting types for built-in function ‘ctanhl’\n",
      "   int ctanhl (void);\n",
      "       ^\n",
      "  gcc -pthread -B /home/gulce/anaconda3/compiler_compat _configtest.o -lm -o _configtest\n",
      "  success!\n",
      "  removing: _configtest.c _configtest.o _configtest.o.d _configtest\n",
      "  C compiler: gcc -pthread -B /home/gulce/anaconda3/compiler_compat -Wno-unused-result -Wsign-compare -DNDEBUG -O2 -Wall -fPIC -O2 -isystem /home/gulce/anaconda3/include -I/home/gulce/anaconda3/include -fPIC -O2 -isystem /home/gulce/anaconda3/include -fPIC\n",
      "  \n",
      "  compile options: '-Inumpy/core/src/common -Inumpy/core/src -Inumpy/core -Inumpy/core/src/npymath -Inumpy/core/src/multiarray -Inumpy/core/src/umath -Inumpy/core/src/npysort -I/home/gulce/anaconda3/include/python3.9 -c'\n",
      "  gcc: _configtest.c\n",
      "  _configtest.c:2:12: warning: ‘static_func’ defined but not used [-Wunused-function]\n",
      "   static int static_func (char * restrict a)\n",
      "              ^\n",
      "  success!\n",
      "  removing: _configtest.c _configtest.o _configtest.o.d\n",
      "  C compiler: gcc -pthread -B /home/gulce/anaconda3/compiler_compat -Wno-unused-result -Wsign-compare -DNDEBUG -O2 -Wall -fPIC -O2 -isystem /home/gulce/anaconda3/include -I/home/gulce/anaconda3/include -fPIC -O2 -isystem /home/gulce/anaconda3/include -fPIC\n",
      "  \n",
      "  compile options: '-Inumpy/core/src/common -Inumpy/core/src -Inumpy/core -Inumpy/core/src/npymath -Inumpy/core/src/multiarray -Inumpy/core/src/umath -Inumpy/core/src/npysort -I/home/gulce/anaconda3/include/python3.9 -c'\n",
      "  gcc: _configtest.c\n",
      "  success!\n",
      "  removing: _configtest.c _configtest.o _configtest.o.d\n",
      "  C compiler: gcc -pthread -B /home/gulce/anaconda3/compiler_compat -Wno-unused-result -Wsign-compare -DNDEBUG -O2 -Wall -fPIC -O2 -isystem /home/gulce/anaconda3/include -I/home/gulce/anaconda3/include -fPIC -O2 -isystem /home/gulce/anaconda3/include -fPIC\n",
      "  \n",
      "  compile options: '-Inumpy/core/src/common -Inumpy/core/src -Inumpy/core -Inumpy/core/src/npymath -Inumpy/core/src/multiarray -Inumpy/core/src/umath -Inumpy/core/src/npysort -I/home/gulce/anaconda3/include/python3.9 -c'\n",
      "  gcc: _configtest.c\n",
      "  removing: _configtest.c _configtest.o _configtest.o.d\n",
      "  File: build/src.linux-x86_64-3.9/numpy/core/include/numpy/config.h\n",
      "  #define HAVE_ENDIAN_H 1\n",
      "  #define SIZEOF_PY_INTPTR_T 8\n",
      "  #define SIZEOF_OFF_T 8\n",
      "  #define SIZEOF_PY_LONG_LONG 8\n",
      "  #define MATHLIB m\n",
      "  #define HAVE_SIN 1\n",
      "  #define HAVE_COS 1\n",
      "  #define HAVE_TAN 1\n",
      "  #define HAVE_SINH 1\n",
      "  #define HAVE_COSH 1\n",
      "  #define HAVE_TANH 1\n",
      "  #define HAVE_FABS 1\n",
      "  #define HAVE_FLOOR 1\n",
      "  #define HAVE_CEIL 1\n",
      "  #define HAVE_SQRT 1\n",
      "  #define HAVE_LOG10 1\n",
      "  #define HAVE_LOG 1\n",
      "  #define HAVE_EXP 1\n",
      "  #define HAVE_ASIN 1\n",
      "  #define HAVE_ACOS 1\n",
      "  #define HAVE_ATAN 1\n",
      "  #define HAVE_FMOD 1\n",
      "  #define HAVE_MODF 1\n",
      "  #define HAVE_FREXP 1\n",
      "  #define HAVE_LDEXP 1\n",
      "  #define HAVE_RINT 1\n",
      "  #define HAVE_TRUNC 1\n",
      "  #define HAVE_EXP2 1\n",
      "  #define HAVE_LOG2 1\n",
      "  #define HAVE_ATAN2 1\n",
      "  #define HAVE_POW 1\n",
      "  #define HAVE_NEXTAFTER 1\n",
      "  #define HAVE_STRTOLL 1\n",
      "  #define HAVE_STRTOULL 1\n",
      "  #define HAVE_CBRT 1\n",
      "  #define HAVE_STRTOLD_L 1\n",
      "  #define HAVE_FALLOCATE 1\n",
      "  #define HAVE_BACKTRACE 1\n",
      "  #define HAVE_MADVISE 1\n",
      "  #define HAVE_XMMINTRIN_H 1\n",
      "  #define HAVE_EMMINTRIN_H 1\n",
      "  #define HAVE_FEATURES_H 1\n",
      "  #define HAVE_XLOCALE_H 1\n",
      "  #define HAVE_DLFCN_H 1\n",
      "  #define HAVE_SYS_MMAN_H 1\n",
      "  #define HAVE___BUILTIN_ISNAN 1\n",
      "  #define HAVE___BUILTIN_ISINF 1\n",
      "  #define HAVE___BUILTIN_ISFINITE 1\n",
      "  #define HAVE___BUILTIN_BSWAP32 1\n",
      "  #define HAVE___BUILTIN_BSWAP64 1\n",
      "  #define HAVE___BUILTIN_EXPECT 1\n",
      "  #define HAVE___BUILTIN_MUL_OVERFLOW 1\n",
      "  #define HAVE___BUILTIN_CPU_SUPPORTS 1\n",
      "  #define HAVE__M_FROM_INT64 1\n",
      "  #define HAVE__MM_LOAD_PS 1\n",
      "  #define HAVE__MM_PREFETCH 1\n",
      "  #define HAVE__MM_LOAD_PD 1\n",
      "  #define HAVE___BUILTIN_PREFETCH 1\n",
      "  #define HAVE_LINK_AVX 1\n",
      "  #define HAVE_LINK_AVX2 1\n",
      "  #define HAVE_XGETBV 1\n",
      "  #define HAVE_ATTRIBUTE_OPTIMIZE_UNROLL_LOOPS 1\n",
      "  #define HAVE_ATTRIBUTE_OPTIMIZE_OPT_3 1\n",
      "  #define HAVE_ATTRIBUTE_NONNULL 1\n",
      "  #define HAVE_ATTRIBUTE_TARGET_AVX 1\n",
      "  #define HAVE_ATTRIBUTE_TARGET_AVX2 1\n",
      "  #define HAVE___THREAD 1\n",
      "  #define HAVE_SINF 1\n",
      "  #define HAVE_COSF 1\n",
      "  #define HAVE_TANF 1\n",
      "  #define HAVE_SINHF 1\n",
      "  #define HAVE_COSHF 1\n",
      "  #define HAVE_TANHF 1\n",
      "  #define HAVE_FABSF 1\n",
      "  #define HAVE_FLOORF 1\n",
      "  #define HAVE_CEILF 1\n",
      "  #define HAVE_RINTF 1\n",
      "  #define HAVE_TRUNCF 1\n",
      "  #define HAVE_SQRTF 1\n",
      "  #define HAVE_LOG10F 1\n",
      "  #define HAVE_LOGF 1\n",
      "  #define HAVE_LOG1PF 1\n",
      "  #define HAVE_EXPF 1\n",
      "  #define HAVE_EXPM1F 1\n",
      "  #define HAVE_ASINF 1\n",
      "  #define HAVE_ACOSF 1\n",
      "  #define HAVE_ATANF 1\n",
      "  #define HAVE_ASINHF 1\n",
      "  #define HAVE_ACOSHF 1\n",
      "  #define HAVE_ATANHF 1\n",
      "  #define HAVE_HYPOTF 1\n",
      "  #define HAVE_ATAN2F 1\n",
      "  #define HAVE_POWF 1\n",
      "  #define HAVE_FMODF 1\n",
      "  #define HAVE_MODFF 1\n",
      "  #define HAVE_FREXPF 1\n",
      "  #define HAVE_LDEXPF 1\n",
      "  #define HAVE_EXP2F 1\n",
      "  #define HAVE_LOG2F 1\n",
      "  #define HAVE_COPYSIGNF 1\n",
      "  #define HAVE_NEXTAFTERF 1\n",
      "  #define HAVE_CBRTF 1\n",
      "  #define HAVE_SINL 1\n",
      "  #define HAVE_COSL 1\n",
      "  #define HAVE_TANL 1\n",
      "  #define HAVE_SINHL 1\n",
      "  #define HAVE_COSHL 1\n",
      "  #define HAVE_TANHL 1\n",
      "  #define HAVE_FABSL 1\n",
      "  #define HAVE_FLOORL 1\n",
      "  #define HAVE_CEILL 1\n",
      "  #define HAVE_RINTL 1\n",
      "  #define HAVE_TRUNCL 1\n",
      "  #define HAVE_SQRTL 1\n",
      "  #define HAVE_LOG10L 1\n",
      "  #define HAVE_LOGL 1\n",
      "  #define HAVE_LOG1PL 1\n",
      "  #define HAVE_EXPL 1\n",
      "  #define HAVE_EXPM1L 1\n",
      "  #define HAVE_ASINL 1\n",
      "  #define HAVE_ACOSL 1\n",
      "  #define HAVE_ATANL 1\n",
      "  #define HAVE_ASINHL 1\n",
      "  #define HAVE_ACOSHL 1\n",
      "  #define HAVE_ATANHL 1\n",
      "  #define HAVE_HYPOTL 1\n",
      "  #define HAVE_ATAN2L 1\n",
      "  #define HAVE_POWL 1\n",
      "  #define HAVE_FMODL 1\n",
      "  #define HAVE_MODFL 1\n",
      "  #define HAVE_FREXPL 1\n",
      "  #define HAVE_LDEXPL 1\n",
      "  #define HAVE_EXP2L 1\n",
      "  #define HAVE_LOG2L 1\n",
      "  #define HAVE_COPYSIGNL 1\n",
      "  #define HAVE_NEXTAFTERL 1\n",
      "  #define HAVE_CBRTL 1\n",
      "  #define HAVE_DECL_SIGNBIT\n",
      "  #define HAVE_COMPLEX_H 1\n",
      "  #define HAVE_CABS 1\n",
      "  #define HAVE_CACOS 1\n",
      "  #define HAVE_CACOSH 1\n",
      "  #define HAVE_CARG 1\n",
      "  #define HAVE_CASIN 1\n",
      "  #define HAVE_CASINH 1\n",
      "  #define HAVE_CATAN 1\n",
      "  #define HAVE_CATANH 1\n",
      "  #define HAVE_CCOS 1\n",
      "  #define HAVE_CCOSH 1\n",
      "  #define HAVE_CEXP 1\n",
      "  #define HAVE_CIMAG 1\n",
      "  #define HAVE_CLOG 1\n",
      "  #define HAVE_CONJ 1\n",
      "  #define HAVE_CPOW 1\n",
      "  #define HAVE_CPROJ 1\n",
      "  #define HAVE_CREAL 1\n",
      "  #define HAVE_CSIN 1\n",
      "  #define HAVE_CSINH 1\n",
      "  #define HAVE_CSQRT 1\n",
      "  #define HAVE_CTAN 1\n",
      "  #define HAVE_CTANH 1\n",
      "  #define HAVE_CABSF 1\n",
      "  #define HAVE_CACOSF 1\n",
      "  #define HAVE_CACOSHF 1\n",
      "  #define HAVE_CARGF 1\n",
      "  #define HAVE_CASINF 1\n",
      "  #define HAVE_CASINHF 1\n",
      "  #define HAVE_CATANF 1\n",
      "  #define HAVE_CATANHF 1\n",
      "  #define HAVE_CCOSF 1\n",
      "  #define HAVE_CCOSHF 1\n",
      "  #define HAVE_CEXPF 1\n",
      "  #define HAVE_CIMAGF 1\n",
      "  #define HAVE_CLOGF 1\n",
      "  #define HAVE_CONJF 1\n",
      "  #define HAVE_CPOWF 1\n",
      "  #define HAVE_CPROJF 1\n",
      "  #define HAVE_CREALF 1\n",
      "  #define HAVE_CSINF 1\n",
      "  #define HAVE_CSINHF 1\n",
      "  #define HAVE_CSQRTF 1\n",
      "  #define HAVE_CTANF 1\n",
      "  #define HAVE_CTANHF 1\n",
      "  #define HAVE_CABSL 1\n",
      "  #define HAVE_CACOSL 1\n",
      "  #define HAVE_CACOSHL 1\n",
      "  #define HAVE_CARGL 1\n",
      "  #define HAVE_CASINL 1\n",
      "  #define HAVE_CASINHL 1\n",
      "  #define HAVE_CATANL 1\n",
      "  #define HAVE_CATANHL 1\n",
      "  #define HAVE_CCOSL 1\n",
      "  #define HAVE_CCOSHL 1\n",
      "  #define HAVE_CEXPL 1\n",
      "  #define HAVE_CIMAGL 1\n",
      "  #define HAVE_CLOGL 1\n",
      "  #define HAVE_CONJL 1\n",
      "  #define HAVE_CPOWL 1\n",
      "  #define HAVE_CPROJL 1\n",
      "  #define HAVE_CREALL 1\n",
      "  #define HAVE_CSINL 1\n",
      "  #define HAVE_CSINHL 1\n",
      "  #define HAVE_CSQRTL 1\n",
      "  #define HAVE_CTANL 1\n",
      "  #define HAVE_CTANHL 1\n",
      "  #define NPY_RESTRICT restrict\n",
      "  #define NPY_RELAXED_STRIDES_CHECKING 1\n",
      "  #define HAVE_LDOUBLE_INTEL_EXTENDED_16_BYTES_LE 1\n",
      "  #define NPY_PY3K 1\n",
      "  #ifndef __cplusplus\n",
      "  /* #undef inline */\n",
      "  #endif\n",
      "  \n",
      "  #ifndef _NPY_NPY_CONFIG_H_\n",
      "  #error config.h should never be included directly, include npy_config.h instead\n",
      "  #endif\n",
      "  \n",
      "  EOF\n",
      "    adding 'build/src.linux-x86_64-3.9/numpy/core/include/numpy/config.h' to sources.\n",
      "  Generating build/src.linux-x86_64-3.9/numpy/core/include/numpy/_numpyconfig.h\n",
      "  C compiler: gcc -pthread -B /home/gulce/anaconda3/compiler_compat -Wno-unused-result -Wsign-compare -DNDEBUG -O2 -Wall -fPIC -O2 -isystem /home/gulce/anaconda3/include -I/home/gulce/anaconda3/include -fPIC -O2 -isystem /home/gulce/anaconda3/include -fPIC\n",
      "  \n",
      "  compile options: '-Inumpy/core/src/common -Inumpy/core/src -Inumpy/core -Inumpy/core/src/npymath -Inumpy/core/src/multiarray -Inumpy/core/src/umath -Inumpy/core/src/npysort -I/home/gulce/anaconda3/include/python3.9 -c'\n",
      "  gcc: _configtest.c\n",
      "  _configtest.c:1:5: warning: conflicting types for built-in function ‘exp’\n",
      "   int exp (void);\n",
      "       ^\n",
      "  gcc -pthread -B /home/gulce/anaconda3/compiler_compat _configtest.o -o _configtest\n",
      "  /home/gulce/anaconda3/compiler_compat/ld: _configtest.o: in function `main':\n",
      "  _configtest.c:(.text.startup+0x5): undefined reference to `exp'\n",
      "  collect2: error: ld returned 1 exit status\n",
      "  failure.\n",
      "  removing: _configtest.c _configtest.o _configtest.o.d\n",
      "  C compiler: gcc -pthread -B /home/gulce/anaconda3/compiler_compat -Wno-unused-result -Wsign-compare -DNDEBUG -O2 -Wall -fPIC -O2 -isystem /home/gulce/anaconda3/include -I/home/gulce/anaconda3/include -fPIC -O2 -isystem /home/gulce/anaconda3/include -fPIC\n",
      "  \n",
      "  compile options: '-Inumpy/core/src/common -Inumpy/core/src -Inumpy/core -Inumpy/core/src/npymath -Inumpy/core/src/multiarray -Inumpy/core/src/umath -Inumpy/core/src/npysort -I/home/gulce/anaconda3/include/python3.9 -c'\n",
      "  gcc: _configtest.c\n",
      "  _configtest.c:1:5: warning: conflicting types for built-in function ‘exp’\n",
      "   int exp (void);\n",
      "       ^\n",
      "  gcc -pthread -B /home/gulce/anaconda3/compiler_compat _configtest.o -lm -o _configtest\n",
      "  success!\n",
      "  removing: _configtest.c _configtest.o _configtest.o.d _configtest\n",
      "  C compiler: gcc -pthread -B /home/gulce/anaconda3/compiler_compat -Wno-unused-result -Wsign-compare -DNDEBUG -O2 -Wall -fPIC -O2 -isystem /home/gulce/anaconda3/include -I/home/gulce/anaconda3/include -fPIC -O2 -isystem /home/gulce/anaconda3/include -fPIC\n",
      "  \n",
      "  compile options: '-Inumpy/core/src/common -Inumpy/core/src -Inumpy/core -Inumpy/core/src/npymath -Inumpy/core/src/multiarray -Inumpy/core/src/umath -Inumpy/core/src/npysort -I/home/gulce/anaconda3/include/python3.9 -c'\n",
      "  gcc: _configtest.c\n",
      "  success!\n",
      "  removing: _configtest.c _configtest.o _configtest.o.d\n",
      "  C compiler: gcc -pthread -B /home/gulce/anaconda3/compiler_compat -Wno-unused-result -Wsign-compare -DNDEBUG -O2 -Wall -fPIC -O2 -isystem /home/gulce/anaconda3/include -I/home/gulce/anaconda3/include -fPIC -O2 -isystem /home/gulce/anaconda3/include -fPIC\n",
      "  \n",
      "  compile options: '-Inumpy/core/src/common -Inumpy/core/src -Inumpy/core -Inumpy/core/src/npymath -Inumpy/core/src/multiarray -Inumpy/core/src/umath -Inumpy/core/src/npysort -I/home/gulce/anaconda3/include/python3.9 -c'\n",
      "  gcc: _configtest.c\n",
      "  _configtest.c:3:0: warning: ignoring #pragma clang diagnostic [-Wunknown-pragmas]\n",
      "   #pragma clang diagnostic error \"-Wattributes\"\n",
      "   ^\n",
      "  success!\n",
      "  removing: _configtest.c _configtest.o _configtest.o.d\n",
      "  File: build/src.linux-x86_64-3.9/numpy/core/include/numpy/_numpyconfig.h\n",
      "  #define NPY_HAVE_ENDIAN_H 1\n",
      "  #define NPY_SIZEOF_SHORT SIZEOF_SHORT\n",
      "  #define NPY_SIZEOF_INT SIZEOF_INT\n",
      "  #define NPY_SIZEOF_LONG SIZEOF_LONG\n",
      "  #define NPY_SIZEOF_FLOAT 4\n",
      "  #define NPY_SIZEOF_COMPLEX_FLOAT 8\n",
      "  #define NPY_SIZEOF_DOUBLE 8\n",
      "  #define NPY_SIZEOF_COMPLEX_DOUBLE 16\n",
      "  #define NPY_SIZEOF_LONGDOUBLE 16\n",
      "  #define NPY_SIZEOF_COMPLEX_LONGDOUBLE 32\n",
      "  #define NPY_SIZEOF_PY_INTPTR_T 8\n",
      "  #define NPY_SIZEOF_OFF_T 8\n",
      "  #define NPY_SIZEOF_PY_LONG_LONG 8\n",
      "  #define NPY_SIZEOF_LONGLONG 8\n",
      "  #define NPY_NO_SMP 0\n",
      "  #define NPY_HAVE_DECL_ISNAN\n",
      "  #define NPY_HAVE_DECL_ISINF\n",
      "  #define NPY_HAVE_DECL_ISFINITE\n",
      "  #define NPY_HAVE_DECL_SIGNBIT\n",
      "  #define NPY_USE_C99_COMPLEX 1\n",
      "  #define NPY_HAVE_COMPLEX_DOUBLE 1\n",
      "  #define NPY_HAVE_COMPLEX_FLOAT 1\n",
      "  #define NPY_HAVE_COMPLEX_LONG_DOUBLE 1\n",
      "  #define NPY_RELAXED_STRIDES_CHECKING 1\n",
      "  #define NPY_USE_C99_FORMATS 1\n",
      "  #define NPY_VISIBILITY_HIDDEN __attribute__((visibility(\"hidden\")))\n",
      "  #define NPY_ABI_VERSION 0x01000009\n",
      "  #define NPY_API_VERSION 0x0000000D\n",
      "  \n",
      "  #ifndef __STDC_FORMAT_MACROS\n",
      "  #define __STDC_FORMAT_MACROS 1\n",
      "  #endif\n",
      "  \n",
      "  EOF\n",
      "    adding 'build/src.linux-x86_64-3.9/numpy/core/include/numpy/_numpyconfig.h' to sources.\n",
      "  executing numpy/core/code_generators/generate_numpy_api.py\n",
      "    adding 'build/src.linux-x86_64-3.9/numpy/core/include/numpy/__multiarray_api.h' to sources.\n",
      "  numpy.core - nothing done with h_files = ['build/src.linux-x86_64-3.9/numpy/core/include/numpy/config.h', 'build/src.linux-x86_64-3.9/numpy/core/include/numpy/_numpyconfig.h', 'build/src.linux-x86_64-3.9/numpy/core/include/numpy/__multiarray_api.h']\n",
      "  building extension \"numpy.core._multiarray_tests\" sources\n",
      "  creating build/src.linux-x86_64-3.9/numpy/core/src/multiarray\n",
      "  conv_template:> build/src.linux-x86_64-3.9/numpy/core/src/multiarray/_multiarray_tests.c\n",
      "  building extension \"numpy.core._multiarray_umath\" sources\n",
      "    adding 'build/src.linux-x86_64-3.9/numpy/core/include/numpy/config.h' to sources.\n",
      "    adding 'build/src.linux-x86_64-3.9/numpy/core/include/numpy/_numpyconfig.h' to sources.\n",
      "  executing numpy/core/code_generators/generate_numpy_api.py\n",
      "    adding 'build/src.linux-x86_64-3.9/numpy/core/include/numpy/__multiarray_api.h' to sources.\n",
      "  executing numpy/core/code_generators/generate_ufunc_api.py\n",
      "    adding 'build/src.linux-x86_64-3.9/numpy/core/include/numpy/__ufunc_api.h' to sources.\n",
      "  conv_template:> build/src.linux-x86_64-3.9/numpy/core/src/multiarray/arraytypes.c\n",
      "  conv_template:> build/src.linux-x86_64-3.9/numpy/core/src/multiarray/einsum.c\n",
      "  conv_template:> build/src.linux-x86_64-3.9/numpy/core/src/multiarray/lowlevel_strided_loops.c\n",
      "  conv_template:> build/src.linux-x86_64-3.9/numpy/core/src/multiarray/nditer_templ.c\n",
      "  conv_template:> build/src.linux-x86_64-3.9/numpy/core/src/multiarray/scalartypes.c\n",
      "  creating build/src.linux-x86_64-3.9/numpy/core/src/umath\n",
      "  conv_template:> build/src.linux-x86_64-3.9/numpy/core/src/umath/funcs.inc\n",
      "    adding 'build/src.linux-x86_64-3.9/numpy/core/src/umath' to include_dirs.\n",
      "  conv_template:> build/src.linux-x86_64-3.9/numpy/core/src/umath/simd.inc\n",
      "  conv_template:> build/src.linux-x86_64-3.9/numpy/core/src/umath/loops.h\n",
      "  conv_template:> build/src.linux-x86_64-3.9/numpy/core/src/umath/loops.c\n",
      "  conv_template:> build/src.linux-x86_64-3.9/numpy/core/src/umath/matmul.h\n",
      "  conv_template:> build/src.linux-x86_64-3.9/numpy/core/src/umath/matmul.c\n",
      "  conv_template:> build/src.linux-x86_64-3.9/numpy/core/src/umath/scalarmath.c\n",
      "    adding 'build/src.linux-x86_64-3.9/numpy/core/src/npymath' to include_dirs.\n",
      "  conv_template:> build/src.linux-x86_64-3.9/numpy/core/src/common/templ_common.h\n",
      "    adding 'build/src.linux-x86_64-3.9/numpy/core/src/common' to include_dirs.\n",
      "  numpy.core - nothing done with h_files = ['build/src.linux-x86_64-3.9/numpy/core/src/umath/funcs.inc', 'build/src.linux-x86_64-3.9/numpy/core/src/umath/simd.inc', 'build/src.linux-x86_64-3.9/numpy/core/src/umath/loops.h', 'build/src.linux-x86_64-3.9/numpy/core/src/umath/matmul.h', 'build/src.linux-x86_64-3.9/numpy/core/src/npymath/npy_math_internal.h', 'build/src.linux-x86_64-3.9/numpy/core/src/common/templ_common.h', 'build/src.linux-x86_64-3.9/numpy/core/include/numpy/config.h', 'build/src.linux-x86_64-3.9/numpy/core/include/numpy/_numpyconfig.h', 'build/src.linux-x86_64-3.9/numpy/core/include/numpy/__multiarray_api.h', 'build/src.linux-x86_64-3.9/numpy/core/include/numpy/__ufunc_api.h']\n",
      "  building extension \"numpy.core._umath_tests\" sources\n",
      "  conv_template:> build/src.linux-x86_64-3.9/numpy/core/src/umath/_umath_tests.c\n",
      "  building extension \"numpy.core._rational_tests\" sources\n",
      "  conv_template:> build/src.linux-x86_64-3.9/numpy/core/src/umath/_rational_tests.c\n",
      "  building extension \"numpy.core._struct_ufunc_tests\" sources\n",
      "  conv_template:> build/src.linux-x86_64-3.9/numpy/core/src/umath/_struct_ufunc_tests.c\n",
      "  building extension \"numpy.core._operand_flag_tests\" sources\n",
      "  conv_template:> build/src.linux-x86_64-3.9/numpy/core/src/umath/_operand_flag_tests.c\n",
      "  building extension \"numpy.core._multiarray_module_test\" sources\n",
      "  building extension \"numpy.fft.fftpack_lite\" sources\n",
      "  building extension \"numpy.linalg.lapack_lite\" sources\n",
      "  creating build/src.linux-x86_64-3.9/numpy/linalg\n",
      "    adding 'numpy/linalg/lapack_lite/python_xerbla.c' to sources.\n",
      "  building extension \"numpy.linalg._umath_linalg\" sources\n",
      "    adding 'numpy/linalg/lapack_lite/python_xerbla.c' to sources.\n",
      "  conv_template:> build/src.linux-x86_64-3.9/numpy/linalg/umath_linalg.c\n",
      "  building extension \"numpy.random.mtrand\" sources\n",
      "  creating build/src.linux-x86_64-3.9/numpy/random\n",
      "  building data_files sources\n",
      "  build_src: building npy-pkg config files\n",
      "  running build_py\n",
      "  creating build/lib.linux-x86_64-3.9\n",
      "  creating build/lib.linux-x86_64-3.9/numpy\n",
      "  copying numpy/setup.py -> build/lib.linux-x86_64-3.9/numpy\n",
      "  copying numpy/_globals.py -> build/lib.linux-x86_64-3.9/numpy\n",
      "  copying numpy/_pytesttester.py -> build/lib.linux-x86_64-3.9/numpy\n",
      "  copying numpy/version.py -> build/lib.linux-x86_64-3.9/numpy\n",
      "  copying numpy/__init__.py -> build/lib.linux-x86_64-3.9/numpy\n",
      "  copying numpy/dual.py -> build/lib.linux-x86_64-3.9/numpy\n",
      "  copying numpy/ctypeslib.py -> build/lib.linux-x86_64-3.9/numpy\n",
      "  copying numpy/_distributor_init.py -> build/lib.linux-x86_64-3.9/numpy\n",
      "  copying numpy/matlib.py -> build/lib.linux-x86_64-3.9/numpy\n",
      "  copying numpy/conftest.py -> build/lib.linux-x86_64-3.9/numpy\n",
      "  copying build/src.linux-x86_64-3.9/numpy/__config__.py -> build/lib.linux-x86_64-3.9/numpy\n",
      "  creating build/lib.linux-x86_64-3.9/numpy/compat\n",
      "  copying numpy/compat/setup.py -> build/lib.linux-x86_64-3.9/numpy/compat\n",
      "  copying numpy/compat/__init__.py -> build/lib.linux-x86_64-3.9/numpy/compat\n",
      "  copying numpy/compat/py3k.py -> build/lib.linux-x86_64-3.9/numpy/compat\n",
      "  copying numpy/compat/_inspect.py -> build/lib.linux-x86_64-3.9/numpy/compat\n",
      "  creating build/lib.linux-x86_64-3.9/numpy/core\n",
      "  copying numpy/core/getlimits.py -> build/lib.linux-x86_64-3.9/numpy/core\n",
      "  copying numpy/core/setup.py -> build/lib.linux-x86_64-3.9/numpy/core\n",
      "  copying numpy/core/memmap.py -> build/lib.linux-x86_64-3.9/numpy/core\n",
      "  copying numpy/core/defchararray.py -> build/lib.linux-x86_64-3.9/numpy/core\n",
      "  copying numpy/core/__init__.py -> build/lib.linux-x86_64-3.9/numpy/core\n",
      "  copying numpy/core/numeric.py -> build/lib.linux-x86_64-3.9/numpy/core\n",
      "  copying numpy/core/multiarray.py -> build/lib.linux-x86_64-3.9/numpy/core\n",
      "  copying numpy/core/_internal.py -> build/lib.linux-x86_64-3.9/numpy/core\n",
      "  copying numpy/core/fromnumeric.py -> build/lib.linux-x86_64-3.9/numpy/core\n",
      "  copying numpy/core/_dtype.py -> build/lib.linux-x86_64-3.9/numpy/core\n",
      "  copying numpy/core/numerictypes.py -> build/lib.linux-x86_64-3.9/numpy/core\n",
      "  copying numpy/core/info.py -> build/lib.linux-x86_64-3.9/numpy/core\n",
      "  copying numpy/core/umath.py -> build/lib.linux-x86_64-3.9/numpy/core\n",
      "  copying numpy/core/shape_base.py -> build/lib.linux-x86_64-3.9/numpy/core\n",
      "  copying numpy/core/einsumfunc.py -> build/lib.linux-x86_64-3.9/numpy/core\n",
      "  copying numpy/core/_dtype_ctypes.py -> build/lib.linux-x86_64-3.9/numpy/core\n",
      "  copying numpy/core/overrides.py -> build/lib.linux-x86_64-3.9/numpy/core\n",
      "  copying numpy/core/_aliased_types.py -> build/lib.linux-x86_64-3.9/numpy/core\n",
      "  copying numpy/core/cversions.py -> build/lib.linux-x86_64-3.9/numpy/core\n",
      "  copying numpy/core/umath_tests.py -> build/lib.linux-x86_64-3.9/numpy/core\n",
      "  copying numpy/core/setup_common.py -> build/lib.linux-x86_64-3.9/numpy/core\n",
      "  copying numpy/core/machar.py -> build/lib.linux-x86_64-3.9/numpy/core\n",
      "  copying numpy/core/_type_aliases.py -> build/lib.linux-x86_64-3.9/numpy/core\n",
      "  copying numpy/core/records.py -> build/lib.linux-x86_64-3.9/numpy/core\n",
      "  copying numpy/core/function_base.py -> build/lib.linux-x86_64-3.9/numpy/core\n",
      "  copying numpy/core/_add_newdocs.py -> build/lib.linux-x86_64-3.9/numpy/core\n",
      "  copying numpy/core/arrayprint.py -> build/lib.linux-x86_64-3.9/numpy/core\n",
      "  copying numpy/core/_string_helpers.py -> build/lib.linux-x86_64-3.9/numpy/core\n",
      "  copying numpy/core/_methods.py -> build/lib.linux-x86_64-3.9/numpy/core\n",
      "  copying numpy/core/code_generators/generate_numpy_api.py -> build/lib.linux-x86_64-3.9/numpy/core\n",
      "  creating build/lib.linux-x86_64-3.9/numpy/distutils\n",
      "  copying numpy/distutils/pathccompiler.py -> build/lib.linux-x86_64-3.9/numpy/distutils\n",
      "  copying numpy/distutils/npy_pkg_config.py -> build/lib.linux-x86_64-3.9/numpy/distutils\n",
      "  copying numpy/distutils/setup.py -> build/lib.linux-x86_64-3.9/numpy/distutils\n",
      "  copying numpy/distutils/ccompiler.py -> build/lib.linux-x86_64-3.9/numpy/distutils\n",
      "  copying numpy/distutils/msvccompiler.py -> build/lib.linux-x86_64-3.9/numpy/distutils\n",
      "  copying numpy/distutils/__init__.py -> build/lib.linux-x86_64-3.9/numpy/distutils\n",
      "  copying numpy/distutils/extension.py -> build/lib.linux-x86_64-3.9/numpy/distutils\n",
      "  copying numpy/distutils/info.py -> build/lib.linux-x86_64-3.9/numpy/distutils\n",
      "  copying numpy/distutils/log.py -> build/lib.linux-x86_64-3.9/numpy/distutils\n",
      "  copying numpy/distutils/misc_util.py -> build/lib.linux-x86_64-3.9/numpy/distutils\n",
      "  copying numpy/distutils/exec_command.py -> build/lib.linux-x86_64-3.9/numpy/distutils\n",
      "  copying numpy/distutils/conv_template.py -> build/lib.linux-x86_64-3.9/numpy/distutils\n",
      "  copying numpy/distutils/numpy_distribution.py -> build/lib.linux-x86_64-3.9/numpy/distutils\n",
      "  copying numpy/distutils/line_endings.py -> build/lib.linux-x86_64-3.9/numpy/distutils\n",
      "  copying numpy/distutils/cpuinfo.py -> build/lib.linux-x86_64-3.9/numpy/distutils\n",
      "  copying numpy/distutils/mingw32ccompiler.py -> build/lib.linux-x86_64-3.9/numpy/distutils\n",
      "  copying numpy/distutils/compat.py -> build/lib.linux-x86_64-3.9/numpy/distutils\n",
      "  copying numpy/distutils/from_template.py -> build/lib.linux-x86_64-3.9/numpy/distutils\n",
      "  copying numpy/distutils/__version__.py -> build/lib.linux-x86_64-3.9/numpy/distutils\n",
      "  copying numpy/distutils/system_info.py -> build/lib.linux-x86_64-3.9/numpy/distutils\n",
      "  copying numpy/distutils/core.py -> build/lib.linux-x86_64-3.9/numpy/distutils\n",
      "  copying numpy/distutils/lib2def.py -> build/lib.linux-x86_64-3.9/numpy/distutils\n",
      "  copying numpy/distutils/msvc9compiler.py -> build/lib.linux-x86_64-3.9/numpy/distutils\n",
      "  copying numpy/distutils/unixccompiler.py -> build/lib.linux-x86_64-3.9/numpy/distutils\n",
      "  copying numpy/distutils/intelccompiler.py -> build/lib.linux-x86_64-3.9/numpy/distutils\n",
      "  copying build/src.linux-x86_64-3.9/numpy/distutils/__config__.py -> build/lib.linux-x86_64-3.9/numpy/distutils\n",
      "  creating build/lib.linux-x86_64-3.9/numpy/distutils/command\n",
      "  copying numpy/distutils/command/build_clib.py -> build/lib.linux-x86_64-3.9/numpy/distutils/command\n",
      "  copying numpy/distutils/command/autodist.py -> build/lib.linux-x86_64-3.9/numpy/distutils/command\n",
      "  copying numpy/distutils/command/config_compiler.py -> build/lib.linux-x86_64-3.9/numpy/distutils/command\n",
      "  copying numpy/distutils/command/build_py.py -> build/lib.linux-x86_64-3.9/numpy/distutils/command\n",
      "  copying numpy/distutils/command/__init__.py -> build/lib.linux-x86_64-3.9/numpy/distutils/command\n",
      "  copying numpy/distutils/command/build_ext.py -> build/lib.linux-x86_64-3.9/numpy/distutils/command\n",
      "  copying numpy/distutils/command/develop.py -> build/lib.linux-x86_64-3.9/numpy/distutils/command\n",
      "  copying numpy/distutils/command/build_src.py -> build/lib.linux-x86_64-3.9/numpy/distutils/command\n",
      "  copying numpy/distutils/command/install.py -> build/lib.linux-x86_64-3.9/numpy/distutils/command\n",
      "  copying numpy/distutils/command/bdist_rpm.py -> build/lib.linux-x86_64-3.9/numpy/distutils/command\n",
      "  copying numpy/distutils/command/sdist.py -> build/lib.linux-x86_64-3.9/numpy/distutils/command\n",
      "  copying numpy/distutils/command/config.py -> build/lib.linux-x86_64-3.9/numpy/distutils/command\n",
      "  copying numpy/distutils/command/build.py -> build/lib.linux-x86_64-3.9/numpy/distutils/command\n",
      "  copying numpy/distutils/command/install_data.py -> build/lib.linux-x86_64-3.9/numpy/distutils/command\n",
      "  copying numpy/distutils/command/egg_info.py -> build/lib.linux-x86_64-3.9/numpy/distutils/command\n",
      "  copying numpy/distutils/command/install_clib.py -> build/lib.linux-x86_64-3.9/numpy/distutils/command\n",
      "  copying numpy/distutils/command/install_headers.py -> build/lib.linux-x86_64-3.9/numpy/distutils/command\n",
      "  copying numpy/distutils/command/build_scripts.py -> build/lib.linux-x86_64-3.9/numpy/distutils/command\n",
      "  creating build/lib.linux-x86_64-3.9/numpy/distutils/fcompiler\n",
      "  copying numpy/distutils/fcompiler/g95.py -> build/lib.linux-x86_64-3.9/numpy/distutils/fcompiler\n",
      "  copying numpy/distutils/fcompiler/none.py -> build/lib.linux-x86_64-3.9/numpy/distutils/fcompiler\n",
      "  copying numpy/distutils/fcompiler/vast.py -> build/lib.linux-x86_64-3.9/numpy/distutils/fcompiler\n",
      "  copying numpy/distutils/fcompiler/__init__.py -> build/lib.linux-x86_64-3.9/numpy/distutils/fcompiler\n",
      "  copying numpy/distutils/fcompiler/pg.py -> build/lib.linux-x86_64-3.9/numpy/distutils/fcompiler\n",
      "  copying numpy/distutils/fcompiler/absoft.py -> build/lib.linux-x86_64-3.9/numpy/distutils/fcompiler\n",
      "  copying numpy/distutils/fcompiler/sun.py -> build/lib.linux-x86_64-3.9/numpy/distutils/fcompiler\n",
      "  copying numpy/distutils/fcompiler/lahey.py -> build/lib.linux-x86_64-3.9/numpy/distutils/fcompiler\n",
      "  copying numpy/distutils/fcompiler/compaq.py -> build/lib.linux-x86_64-3.9/numpy/distutils/fcompiler\n",
      "  copying numpy/distutils/fcompiler/hpux.py -> build/lib.linux-x86_64-3.9/numpy/distutils/fcompiler\n",
      "  copying numpy/distutils/fcompiler/intel.py -> build/lib.linux-x86_64-3.9/numpy/distutils/fcompiler\n",
      "  copying numpy/distutils/fcompiler/nag.py -> build/lib.linux-x86_64-3.9/numpy/distutils/fcompiler\n",
      "  copying numpy/distutils/fcompiler/gnu.py -> build/lib.linux-x86_64-3.9/numpy/distutils/fcompiler\n",
      "  copying numpy/distutils/fcompiler/mips.py -> build/lib.linux-x86_64-3.9/numpy/distutils/fcompiler\n",
      "  copying numpy/distutils/fcompiler/pathf95.py -> build/lib.linux-x86_64-3.9/numpy/distutils/fcompiler\n",
      "  copying numpy/distutils/fcompiler/ibm.py -> build/lib.linux-x86_64-3.9/numpy/distutils/fcompiler\n",
      "  copying numpy/distutils/fcompiler/environment.py -> build/lib.linux-x86_64-3.9/numpy/distutils/fcompiler\n",
      "  creating build/lib.linux-x86_64-3.9/numpy/doc\n",
      "  copying numpy/doc/byteswapping.py -> build/lib.linux-x86_64-3.9/numpy/doc\n",
      "  copying numpy/doc/misc.py -> build/lib.linux-x86_64-3.9/numpy/doc\n",
      "  copying numpy/doc/glossary.py -> build/lib.linux-x86_64-3.9/numpy/doc\n",
      "  copying numpy/doc/__init__.py -> build/lib.linux-x86_64-3.9/numpy/doc\n",
      "  copying numpy/doc/constants.py -> build/lib.linux-x86_64-3.9/numpy/doc\n",
      "  copying numpy/doc/ufuncs.py -> build/lib.linux-x86_64-3.9/numpy/doc\n",
      "  copying numpy/doc/structured_arrays.py -> build/lib.linux-x86_64-3.9/numpy/doc\n",
      "  copying numpy/doc/basics.py -> build/lib.linux-x86_64-3.9/numpy/doc\n",
      "  copying numpy/doc/indexing.py -> build/lib.linux-x86_64-3.9/numpy/doc\n",
      "  copying numpy/doc/subclassing.py -> build/lib.linux-x86_64-3.9/numpy/doc\n",
      "  copying numpy/doc/broadcasting.py -> build/lib.linux-x86_64-3.9/numpy/doc\n",
      "  copying numpy/doc/creation.py -> build/lib.linux-x86_64-3.9/numpy/doc\n",
      "  copying numpy/doc/internals.py -> build/lib.linux-x86_64-3.9/numpy/doc\n",
      "  creating build/lib.linux-x86_64-3.9/numpy/f2py\n",
      "  copying numpy/f2py/f90mod_rules.py -> build/lib.linux-x86_64-3.9/numpy/f2py\n",
      "  copying numpy/f2py/crackfortran.py -> build/lib.linux-x86_64-3.9/numpy/f2py\n",
      "  copying numpy/f2py/setup.py -> build/lib.linux-x86_64-3.9/numpy/f2py\n",
      "  copying numpy/f2py/common_rules.py -> build/lib.linux-x86_64-3.9/numpy/f2py\n",
      "  copying numpy/f2py/__init__.py -> build/lib.linux-x86_64-3.9/numpy/f2py\n",
      "  copying numpy/f2py/cb_rules.py -> build/lib.linux-x86_64-3.9/numpy/f2py\n",
      "  copying numpy/f2py/f2py_testing.py -> build/lib.linux-x86_64-3.9/numpy/f2py\n",
      "  copying numpy/f2py/info.py -> build/lib.linux-x86_64-3.9/numpy/f2py\n",
      "  copying numpy/f2py/capi_maps.py -> build/lib.linux-x86_64-3.9/numpy/f2py\n",
      "  copying numpy/f2py/f2py2e.py -> build/lib.linux-x86_64-3.9/numpy/f2py\n",
      "  copying numpy/f2py/cfuncs.py -> build/lib.linux-x86_64-3.9/numpy/f2py\n",
      "  copying numpy/f2py/auxfuncs.py -> build/lib.linux-x86_64-3.9/numpy/f2py\n",
      "  copying numpy/f2py/rules.py -> build/lib.linux-x86_64-3.9/numpy/f2py\n",
      "  copying numpy/f2py/__version__.py -> build/lib.linux-x86_64-3.9/numpy/f2py\n",
      "  copying numpy/f2py/use_rules.py -> build/lib.linux-x86_64-3.9/numpy/f2py\n",
      "  copying numpy/f2py/diagnose.py -> build/lib.linux-x86_64-3.9/numpy/f2py\n",
      "  copying numpy/f2py/__main__.py -> build/lib.linux-x86_64-3.9/numpy/f2py\n",
      "  copying numpy/f2py/func2subr.py -> build/lib.linux-x86_64-3.9/numpy/f2py\n",
      "  creating build/lib.linux-x86_64-3.9/numpy/fft\n",
      "  copying numpy/fft/setup.py -> build/lib.linux-x86_64-3.9/numpy/fft\n",
      "  copying numpy/fft/fftpack.py -> build/lib.linux-x86_64-3.9/numpy/fft\n",
      "  copying numpy/fft/__init__.py -> build/lib.linux-x86_64-3.9/numpy/fft\n",
      "  copying numpy/fft/info.py -> build/lib.linux-x86_64-3.9/numpy/fft\n",
      "  copying numpy/fft/helper.py -> build/lib.linux-x86_64-3.9/numpy/fft\n",
      "  creating build/lib.linux-x86_64-3.9/numpy/lib\n",
      "  copying numpy/lib/format.py -> build/lib.linux-x86_64-3.9/numpy/lib\n",
      "  copying numpy/lib/setup.py -> build/lib.linux-x86_64-3.9/numpy/lib\n",
      "  copying numpy/lib/arrayterator.py -> build/lib.linux-x86_64-3.9/numpy/lib\n",
      "  copying numpy/lib/index_tricks.py -> build/lib.linux-x86_64-3.9/numpy/lib\n",
      "  copying numpy/lib/__init__.py -> build/lib.linux-x86_64-3.9/numpy/lib\n",
      "  copying numpy/lib/stride_tricks.py -> build/lib.linux-x86_64-3.9/numpy/lib\n",
      "  copying numpy/lib/type_check.py -> build/lib.linux-x86_64-3.9/numpy/lib\n",
      "  copying numpy/lib/recfunctions.py -> build/lib.linux-x86_64-3.9/numpy/lib\n",
      "  copying numpy/lib/utils.py -> build/lib.linux-x86_64-3.9/numpy/lib\n",
      "  copying numpy/lib/info.py -> build/lib.linux-x86_64-3.9/numpy/lib\n",
      "  copying numpy/lib/_iotools.py -> build/lib.linux-x86_64-3.9/numpy/lib\n",
      "  copying numpy/lib/shape_base.py -> build/lib.linux-x86_64-3.9/numpy/lib\n",
      "  copying numpy/lib/user_array.py -> build/lib.linux-x86_64-3.9/numpy/lib\n",
      "  copying numpy/lib/financial.py -> build/lib.linux-x86_64-3.9/numpy/lib\n",
      "  copying numpy/lib/arraysetops.py -> build/lib.linux-x86_64-3.9/numpy/lib\n",
      "  copying numpy/lib/nanfunctions.py -> build/lib.linux-x86_64-3.9/numpy/lib\n",
      "  copying numpy/lib/_version.py -> build/lib.linux-x86_64-3.9/numpy/lib\n",
      "  copying numpy/lib/polynomial.py -> build/lib.linux-x86_64-3.9/numpy/lib\n",
      "  copying numpy/lib/ufunclike.py -> build/lib.linux-x86_64-3.9/numpy/lib\n",
      "  copying numpy/lib/mixins.py -> build/lib.linux-x86_64-3.9/numpy/lib\n",
      "  copying numpy/lib/function_base.py -> build/lib.linux-x86_64-3.9/numpy/lib\n",
      "  copying numpy/lib/_datasource.py -> build/lib.linux-x86_64-3.9/numpy/lib\n",
      "  copying numpy/lib/scimath.py -> build/lib.linux-x86_64-3.9/numpy/lib\n",
      "  copying numpy/lib/arraypad.py -> build/lib.linux-x86_64-3.9/numpy/lib\n",
      "  copying numpy/lib/histograms.py -> build/lib.linux-x86_64-3.9/numpy/lib\n",
      "  copying numpy/lib/twodim_base.py -> build/lib.linux-x86_64-3.9/numpy/lib\n",
      "  copying numpy/lib/npyio.py -> build/lib.linux-x86_64-3.9/numpy/lib\n",
      "  creating build/lib.linux-x86_64-3.9/numpy/linalg\n",
      "  copying numpy/linalg/setup.py -> build/lib.linux-x86_64-3.9/numpy/linalg\n",
      "  copying numpy/linalg/__init__.py -> build/lib.linux-x86_64-3.9/numpy/linalg\n",
      "  copying numpy/linalg/info.py -> build/lib.linux-x86_64-3.9/numpy/linalg\n",
      "  copying numpy/linalg/linalg.py -> build/lib.linux-x86_64-3.9/numpy/linalg\n",
      "  creating build/lib.linux-x86_64-3.9/numpy/ma\n",
      "  copying numpy/ma/testutils.py -> build/lib.linux-x86_64-3.9/numpy/ma\n",
      "  copying numpy/ma/setup.py -> build/lib.linux-x86_64-3.9/numpy/ma\n",
      "  copying numpy/ma/version.py -> build/lib.linux-x86_64-3.9/numpy/ma\n",
      "  copying numpy/ma/__init__.py -> build/lib.linux-x86_64-3.9/numpy/ma\n",
      "  copying numpy/ma/timer_comparison.py -> build/lib.linux-x86_64-3.9/numpy/ma\n",
      "  copying numpy/ma/mrecords.py -> build/lib.linux-x86_64-3.9/numpy/ma\n",
      "  copying numpy/ma/extras.py -> build/lib.linux-x86_64-3.9/numpy/ma\n",
      "  copying numpy/ma/bench.py -> build/lib.linux-x86_64-3.9/numpy/ma\n",
      "  copying numpy/ma/core.py -> build/lib.linux-x86_64-3.9/numpy/ma\n",
      "  creating build/lib.linux-x86_64-3.9/numpy/matrixlib\n",
      "  copying numpy/matrixlib/setup.py -> build/lib.linux-x86_64-3.9/numpy/matrixlib\n",
      "  copying numpy/matrixlib/__init__.py -> build/lib.linux-x86_64-3.9/numpy/matrixlib\n",
      "  copying numpy/matrixlib/defmatrix.py -> build/lib.linux-x86_64-3.9/numpy/matrixlib\n",
      "  creating build/lib.linux-x86_64-3.9/numpy/polynomial\n",
      "  copying numpy/polynomial/setup.py -> build/lib.linux-x86_64-3.9/numpy/polynomial\n",
      "  copying numpy/polynomial/hermite_e.py -> build/lib.linux-x86_64-3.9/numpy/polynomial\n",
      "  copying numpy/polynomial/__init__.py -> build/lib.linux-x86_64-3.9/numpy/polynomial\n",
      "  copying numpy/polynomial/polyutils.py -> build/lib.linux-x86_64-3.9/numpy/polynomial\n",
      "  copying numpy/polynomial/laguerre.py -> build/lib.linux-x86_64-3.9/numpy/polynomial\n",
      "  copying numpy/polynomial/legendre.py -> build/lib.linux-x86_64-3.9/numpy/polynomial\n",
      "  copying numpy/polynomial/chebyshev.py -> build/lib.linux-x86_64-3.9/numpy/polynomial\n",
      "  copying numpy/polynomial/hermite.py -> build/lib.linux-x86_64-3.9/numpy/polynomial\n",
      "  copying numpy/polynomial/polynomial.py -> build/lib.linux-x86_64-3.9/numpy/polynomial\n",
      "  copying numpy/polynomial/_polybase.py -> build/lib.linux-x86_64-3.9/numpy/polynomial\n",
      "  creating build/lib.linux-x86_64-3.9/numpy/random\n",
      "  copying numpy/random/setup.py -> build/lib.linux-x86_64-3.9/numpy/random\n",
      "  copying numpy/random/__init__.py -> build/lib.linux-x86_64-3.9/numpy/random\n",
      "  copying numpy/random/info.py -> build/lib.linux-x86_64-3.9/numpy/random\n",
      "  creating build/lib.linux-x86_64-3.9/numpy/testing\n",
      "  copying numpy/testing/setup.py -> build/lib.linux-x86_64-3.9/numpy/testing\n",
      "  copying numpy/testing/print_coercion_tables.py -> build/lib.linux-x86_64-3.9/numpy/testing\n",
      "  copying numpy/testing/__init__.py -> build/lib.linux-x86_64-3.9/numpy/testing\n",
      "  copying numpy/testing/noseclasses.py -> build/lib.linux-x86_64-3.9/numpy/testing\n",
      "  copying numpy/testing/decorators.py -> build/lib.linux-x86_64-3.9/numpy/testing\n",
      "  copying numpy/testing/nosetester.py -> build/lib.linux-x86_64-3.9/numpy/testing\n",
      "  copying numpy/testing/utils.py -> build/lib.linux-x86_64-3.9/numpy/testing\n",
      "  creating build/lib.linux-x86_64-3.9/numpy/testing/_private\n",
      "  copying numpy/testing/_private/parameterized.py -> build/lib.linux-x86_64-3.9/numpy/testing/_private\n",
      "  copying numpy/testing/_private/__init__.py -> build/lib.linux-x86_64-3.9/numpy/testing/_private\n",
      "  copying numpy/testing/_private/noseclasses.py -> build/lib.linux-x86_64-3.9/numpy/testing/_private\n",
      "  copying numpy/testing/_private/decorators.py -> build/lib.linux-x86_64-3.9/numpy/testing/_private\n",
      "  copying numpy/testing/_private/nosetester.py -> build/lib.linux-x86_64-3.9/numpy/testing/_private\n",
      "  copying numpy/testing/_private/utils.py -> build/lib.linux-x86_64-3.9/numpy/testing/_private\n",
      "  running build_clib\n",
      "  customize UnixCCompiler\n",
      "  customize UnixCCompiler using build_clib\n",
      "  building 'npymath' library\n",
      "  compiling C sources\n",
      "  C compiler: gcc -pthread -B /home/gulce/anaconda3/compiler_compat -Wno-unused-result -Wsign-compare -DNDEBUG -O2 -Wall -fPIC -O2 -isystem /home/gulce/anaconda3/include -I/home/gulce/anaconda3/include -fPIC -O2 -isystem /home/gulce/anaconda3/include -fPIC\n",
      "  \n",
      "  creating build/temp.linux-x86_64-3.9\n",
      "  creating build/temp.linux-x86_64-3.9/numpy\n",
      "  creating build/temp.linux-x86_64-3.9/numpy/core\n",
      "  creating build/temp.linux-x86_64-3.9/numpy/core/src\n",
      "  creating build/temp.linux-x86_64-3.9/numpy/core/src/npymath\n",
      "  creating build/temp.linux-x86_64-3.9/build\n",
      "  creating build/temp.linux-x86_64-3.9/build/src.linux-x86_64-3.9\n",
      "  creating build/temp.linux-x86_64-3.9/build/src.linux-x86_64-3.9/numpy\n",
      "  creating build/temp.linux-x86_64-3.9/build/src.linux-x86_64-3.9/numpy/core\n",
      "  creating build/temp.linux-x86_64-3.9/build/src.linux-x86_64-3.9/numpy/core/src\n",
      "  creating build/temp.linux-x86_64-3.9/build/src.linux-x86_64-3.9/numpy/core/src/npymath\n",
      "  compile options: '-Ibuild/src.linux-x86_64-3.9/numpy/core/src/npymath -Inumpy/core/include -Ibuild/src.linux-x86_64-3.9/numpy/core/include/numpy -Inumpy/core/src/common -Inumpy/core/src -Inumpy/core -Inumpy/core/src/npymath -Inumpy/core/src/multiarray -Inumpy/core/src/umath -Inumpy/core/src/npysort -I/home/gulce/anaconda3/include/python3.9 -Ibuild/src.linux-x86_64-3.9/numpy/core/src/common -Ibuild/src.linux-x86_64-3.9/numpy/core/src/npymath -Ibuild/src.linux-x86_64-3.9/numpy/core/src/common -Ibuild/src.linux-x86_64-3.9/numpy/core/src/npymath -c'\n",
      "  gcc: build/src.linux-x86_64-3.9/numpy/core/src/npymath/npy_math_complex.c\n",
      "  gcc: numpy/core/src/npymath/npy_math.c\n",
      "  gcc: build/src.linux-x86_64-3.9/numpy/core/src/npymath/ieee754.c\n",
      "  gcc: numpy/core/src/npymath/halffloat.c\n",
      "  ar: adding 4 object files to build/temp.linux-x86_64-3.9/libnpymath.a\n",
      "  building 'npysort' library\n",
      "  compiling C sources\n",
      "  C compiler: gcc -pthread -B /home/gulce/anaconda3/compiler_compat -Wno-unused-result -Wsign-compare -DNDEBUG -O2 -Wall -fPIC -O2 -isystem /home/gulce/anaconda3/include -I/home/gulce/anaconda3/include -fPIC -O2 -isystem /home/gulce/anaconda3/include -fPIC\n",
      "  \n",
      "  creating build/temp.linux-x86_64-3.9/build/src.linux-x86_64-3.9/numpy/core/src/npysort\n",
      "  compile options: '-Ibuild/src.linux-x86_64-3.9/numpy/core/src/common -Inumpy/core/include -Ibuild/src.linux-x86_64-3.9/numpy/core/include/numpy -Inumpy/core/src/common -Inumpy/core/src -Inumpy/core -Inumpy/core/src/npymath -Inumpy/core/src/multiarray -Inumpy/core/src/umath -Inumpy/core/src/npysort -I/home/gulce/anaconda3/include/python3.9 -Ibuild/src.linux-x86_64-3.9/numpy/core/src/common -Ibuild/src.linux-x86_64-3.9/numpy/core/src/npymath -Ibuild/src.linux-x86_64-3.9/numpy/core/src/common -Ibuild/src.linux-x86_64-3.9/numpy/core/src/npymath -c'\n",
      "  gcc: build/src.linux-x86_64-3.9/numpy/core/src/npysort/quicksort.cgcc: build/src.linux-x86_64-3.9/numpy/core/src/npysort/mergesort.c\n",
      "  gcc: build/src.linux-x86_64-3.9/numpy/core/src/npysort/heapsort.c\n",
      "  \n",
      "  gcc: build/src.linux-x86_64-3.9/numpy/core/src/npysort/selection.c\n",
      "  gcc: build/src.linux-x86_64-3.9/numpy/core/src/npysort/binsearch.c\n",
      "  ar: adding 5 object files to build/temp.linux-x86_64-3.9/libnpysort.a\n",
      "  running build_ext\n",
      "  customize UnixCCompiler\n",
      "  customize UnixCCompiler using build_ext\n",
      "  building 'numpy.core._dummy' extension\n",
      "  compiling C sources\n",
      "  C compiler: gcc -pthread -B /home/gulce/anaconda3/compiler_compat -Wno-unused-result -Wsign-compare -DNDEBUG -O2 -Wall -fPIC -O2 -isystem /home/gulce/anaconda3/include -I/home/gulce/anaconda3/include -fPIC -O2 -isystem /home/gulce/anaconda3/include -fPIC\n",
      "  \n",
      "  compile options: '-DNPY_INTERNAL_BUILD=1 -DHAVE_NPY_CONFIG_H=1 -D_FILE_OFFSET_BITS=64 -D_LARGEFILE_SOURCE=1 -D_LARGEFILE64_SOURCE=1 -Inumpy/core/include -Ibuild/src.linux-x86_64-3.9/numpy/core/include/numpy -Inumpy/core/src/common -Inumpy/core/src -Inumpy/core -Inumpy/core/src/npymath -Inumpy/core/src/multiarray -Inumpy/core/src/umath -Inumpy/core/src/npysort -I/home/gulce/anaconda3/include/python3.9 -Ibuild/src.linux-x86_64-3.9/numpy/core/src/common -Ibuild/src.linux-x86_64-3.9/numpy/core/src/npymath -Ibuild/src.linux-x86_64-3.9/numpy/core/src/common -Ibuild/src.linux-x86_64-3.9/numpy/core/src/npymath -c'\n",
      "  gcc: numpy/core/src/dummymodule.c\n",
      "  gcc -pthread -B /home/gulce/anaconda3/compiler_compat -shared -Wl,-rpath,/home/gulce/anaconda3/lib -Wl,-rpath-link,/home/gulce/anaconda3/lib -L/home/gulce/anaconda3/lib -L/home/gulce/anaconda3/lib -Wl,-rpath,/home/gulce/anaconda3/lib -Wl,-rpath-link,/home/gulce/anaconda3/lib -L/home/gulce/anaconda3/lib build/temp.linux-x86_64-3.9/numpy/core/src/dummymodule.o -Lbuild/temp.linux-x86_64-3.9 -lm -o build/lib.linux-x86_64-3.9/numpy/core/_dummy.cpython-39-x86_64-linux-gnu.so\n",
      "  building 'numpy.core._multiarray_tests' extension\n",
      "  compiling C sources\n",
      "  C compiler: gcc -pthread -B /home/gulce/anaconda3/compiler_compat -Wno-unused-result -Wsign-compare -DNDEBUG -O2 -Wall -fPIC -O2 -isystem /home/gulce/anaconda3/include -I/home/gulce/anaconda3/include -fPIC -O2 -isystem /home/gulce/anaconda3/include -fPIC\n",
      "  \n",
      "  creating build/temp.linux-x86_64-3.9/build/src.linux-x86_64-3.9/numpy/core/src/multiarray\n",
      "  creating build/temp.linux-x86_64-3.9/numpy/core/src/common\n",
      "  compile options: '-DNPY_INTERNAL_BUILD=1 -DHAVE_NPY_CONFIG_H=1 -D_FILE_OFFSET_BITS=64 -D_LARGEFILE_SOURCE=1 -D_LARGEFILE64_SOURCE=1 -Inumpy/core/include -Ibuild/src.linux-x86_64-3.9/numpy/core/include/numpy -Inumpy/core/src/common -Inumpy/core/src -Inumpy/core -Inumpy/core/src/npymath -Inumpy/core/src/multiarray -Inumpy/core/src/umath -Inumpy/core/src/npysort -I/home/gulce/anaconda3/include/python3.9 -Ibuild/src.linux-x86_64-3.9/numpy/core/src/common -Ibuild/src.linux-x86_64-3.9/numpy/core/src/npymath -Ibuild/src.linux-x86_64-3.9/numpy/core/src/common -Ibuild/src.linux-x86_64-3.9/numpy/core/src/npymath -c'\n",
      "  gcc: numpy/core/src/common/mem_overlap.c\n",
      "  gcc: build/src.linux-x86_64-3.9/numpy/core/src/multiarray/_multiarray_tests.c\n",
      "  gcc -pthread -B /home/gulce/anaconda3/compiler_compat -shared -Wl,-rpath,/home/gulce/anaconda3/lib -Wl,-rpath-link,/home/gulce/anaconda3/lib -L/home/gulce/anaconda3/lib -L/home/gulce/anaconda3/lib -Wl,-rpath,/home/gulce/anaconda3/lib -Wl,-rpath-link,/home/gulce/anaconda3/lib -L/home/gulce/anaconda3/lib build/temp.linux-x86_64-3.9/build/src.linux-x86_64-3.9/numpy/core/src/multiarray/_multiarray_tests.o build/temp.linux-x86_64-3.9/numpy/core/src/common/mem_overlap.o -Lbuild/temp.linux-x86_64-3.9 -lnpymath -o build/lib.linux-x86_64-3.9/numpy/core/_multiarray_tests.cpython-39-x86_64-linux-gnu.so\n",
      "  building 'numpy.core._multiarray_umath' extension\n",
      "  compiling C sources\n",
      "  C compiler: gcc -pthread -B /home/gulce/anaconda3/compiler_compat -Wno-unused-result -Wsign-compare -DNDEBUG -O2 -Wall -fPIC -O2 -isystem /home/gulce/anaconda3/include -I/home/gulce/anaconda3/include -fPIC -O2 -isystem /home/gulce/anaconda3/include -fPIC\n",
      "  \n",
      "  creating build/temp.linux-x86_64-3.9/numpy/core/src/multiarray\n",
      "  creating build/temp.linux-x86_64-3.9/numpy/core/src/umath\n",
      "  creating build/temp.linux-x86_64-3.9/build/src.linux-x86_64-3.9/numpy/core/src/umath\n",
      "  compile options: '-DNPY_INTERNAL_BUILD=1 -DHAVE_NPY_CONFIG_H=1 -D_FILE_OFFSET_BITS=64 -D_LARGEFILE_SOURCE=1 -D_LARGEFILE64_SOURCE=1 -DSCIPY_MKL_H -DHAVE_CBLAS -I/usr/local/include -I/usr/include -I/home/gulce/anaconda3/include -Ibuild/src.linux-x86_64-3.9/numpy/core/src/umath -Ibuild/src.linux-x86_64-3.9/numpy/core/src/npymath -Ibuild/src.linux-x86_64-3.9/numpy/core/src/common -Inumpy/core/include -Ibuild/src.linux-x86_64-3.9/numpy/core/include/numpy -Inumpy/core/src/common -Inumpy/core/src -Inumpy/core -Inumpy/core/src/npymath -Inumpy/core/src/multiarray -Inumpy/core/src/umath -Inumpy/core/src/npysort -I/home/gulce/anaconda3/include/python3.9 -Ibuild/src.linux-x86_64-3.9/numpy/core/src/common -Ibuild/src.linux-x86_64-3.9/numpy/core/src/npymath -Ibuild/src.linux-x86_64-3.9/numpy/core/src/common -Ibuild/src.linux-x86_64-3.9/numpy/core/src/npymath -c'\n",
      "  gcc: numpy/core/src/multiarray/convert.c\n",
      "  gcc: numpy/core/src/multiarray/alloc.cgcc: numpy/core/src/multiarray/arrayfunction_override.c\n",
      "  \n",
      "  gcc: numpy/core/src/multiarray/datetime_strings.c\n",
      "  gcc: numpy/core/src/multiarray/arrayobject.c\n",
      "  gcc: numpy/core/src/multiarray/buffer.c\n",
      "  gcc: numpy/core/src/multiarray/convert_datatype.c\n",
      "  gcc: numpy/core/src/multiarray/datetime_busday.c\n",
      "  gcc: numpy/core/src/multiarray/calculation.c\n",
      "  gcc: numpy/core/src/multiarray/conversion_utils.c\n",
      "  gcc: numpy/core/src/multiarray/datetime_busdaycal.c\n",
      "  gcc: numpy/core/src/multiarray/ctors.c\n",
      "  gcc: numpy/core/src/multiarray/compiled_base.c\n",
      "  numpy/core/src/multiarray/ctors.c: In function ‘_is_default_descr’:\n",
      "  numpy/core/src/multiarray/ctors.c:2263:5: warning: ‘_PyUnicode_get_wstr_length’ is deprecated [-Wdeprecated-declarations]\n",
      "       if (!(PyUString_Check(name) && PyUString_GET_SIZE(name) == 0)) {\n",
      "       ^\n",
      "  In file included from /home/gulce/anaconda3/include/python3.9/unicodeobject.h:1026:0,\n",
      "                   from /home/gulce/anaconda3/include/python3.9/Python.h:106,\n",
      "                   from numpy/core/src/multiarray/ctors.c:2:\n",
      "  /home/gulce/anaconda3/include/python3.9/cpython/unicodeobject.h:446:26: note: declared here\n",
      "   static inline Py_ssize_t _PyUnicode_get_wstr_length(PyObject *op) {\n",
      "                            ^\n",
      "  numpy/core/src/multiarray/ctors.c:2263:5: warning: ‘PyUnicode_AsUnicode’ is deprecated [-Wdeprecated-declarations]\n",
      "       if (!(PyUString_Check(name) && PyUString_GET_SIZE(name) == 0)) {\n",
      "       ^\n",
      "  In file included from /home/gulce/anaconda3/include/python3.9/unicodeobject.h:1026:0,\n",
      "                   from /home/gulce/anaconda3/include/python3.9/Python.h:106,\n",
      "                   from numpy/core/src/multiarray/ctors.c:2:\n",
      "  /home/gulce/anaconda3/include/python3.9/cpython/unicodeobject.h:580:45: note: declared here\n",
      "   Py_DEPRECATED(3.3) PyAPI_FUNC(Py_UNICODE *) PyUnicode_AsUnicode(\n",
      "                                               ^\n",
      "  numpy/core/src/multiarray/ctors.c:2263:5: warning: ‘_PyUnicode_get_wstr_length’ is deprecated [-Wdeprecated-declarations]\n",
      "       if (!(PyUString_Check(name) && PyUString_GET_SIZE(name) == 0)) {\n",
      "       ^\n",
      "  In file included from /home/gulce/anaconda3/include/python3.9/unicodeobject.h:1026:0,\n",
      "                   from /home/gulce/anaconda3/include/python3.9/Python.h:106,\n",
      "                   from numpy/core/src/multiarray/ctors.c:2:\n",
      "  /home/gulce/anaconda3/include/python3.9/cpython/unicodeobject.h:446:26: note: declared here\n",
      "   static inline Py_ssize_t _PyUnicode_get_wstr_length(PyObject *op) {\n",
      "                            ^\n",
      "  gcc: numpy/core/src/multiarray/descriptor.c\n",
      "  gcc: build/src.linux-x86_64-3.9/numpy/core/src/multiarray/arraytypes.c\n",
      "  numpy/core/src/multiarray/descriptor.c: In function ‘_convert_from_array_descr’:\n",
      "  numpy/core/src/multiarray/descriptor.c:453:9: warning: ‘_PyUnicode_get_wstr_length’ is deprecated [-Wdeprecated-declarations]\n",
      "           if (PyUString_GET_SIZE(name) == 0) {\n",
      "           ^\n",
      "  In file included from /home/gulce/anaconda3/include/python3.9/unicodeobject.h:1026:0,\n",
      "                   from /home/gulce/anaconda3/include/python3.9/Python.h:106,\n",
      "                   from numpy/core/src/multiarray/descriptor.c:4:\n",
      "  /home/gulce/anaconda3/include/python3.9/cpython/unicodeobject.h:446:26: note: declared here\n",
      "   static inline Py_ssize_t _PyUnicode_get_wstr_length(PyObject *op) {\n",
      "                            ^\n",
      "  numpy/core/src/multiarray/descriptor.c:453:9: warning: ‘PyUnicode_AsUnicode’ is deprecated [-Wdeprecated-declarations]\n",
      "           if (PyUString_GET_SIZE(name) == 0) {\n",
      "           ^\n",
      "  In file included from /home/gulce/anaconda3/include/python3.9/unicodeobject.h:1026:0,\n",
      "                   from /home/gulce/anaconda3/include/python3.9/Python.h:106,\n",
      "                   from numpy/core/src/multiarray/descriptor.c:4:\n",
      "  /home/gulce/anaconda3/include/python3.9/cpython/unicodeobject.h:580:45: note: declared here\n",
      "   Py_DEPRECATED(3.3) PyAPI_FUNC(Py_UNICODE *) PyUnicode_AsUnicode(\n",
      "                                               ^\n",
      "  numpy/core/src/multiarray/descriptor.c:453:9: warning: ‘_PyUnicode_get_wstr_length’ is deprecated [-Wdeprecated-declarations]\n",
      "           if (PyUString_GET_SIZE(name) == 0) {\n",
      "           ^\n",
      "  In file included from /home/gulce/anaconda3/include/python3.9/unicodeobject.h:1026:0,\n",
      "                   from /home/gulce/anaconda3/include/python3.9/Python.h:106,\n",
      "                   from numpy/core/src/multiarray/descriptor.c:4:\n",
      "  /home/gulce/anaconda3/include/python3.9/cpython/unicodeobject.h:446:26: note: declared here\n",
      "   static inline Py_ssize_t _PyUnicode_get_wstr_length(PyObject *op) {\n",
      "                            ^\n",
      "  numpy/core/src/multiarray/descriptor.c:460:13: warning: ‘_PyUnicode_get_wstr_length’ is deprecated [-Wdeprecated-declarations]\n",
      "               else if (PyUString_Check(title) && PyUString_GET_SIZE(title) > 0) {\n",
      "               ^\n",
      "  In file included from /home/gulce/anaconda3/include/python3.9/unicodeobject.h:1026:0,\n",
      "                   from /home/gulce/anaconda3/include/python3.9/Python.h:106,\n",
      "                   from numpy/core/src/multiarray/descriptor.c:4:\n",
      "  /home/gulce/anaconda3/include/python3.9/cpython/unicodeobject.h:446:26: note: declared here\n",
      "   static inline Py_ssize_t _PyUnicode_get_wstr_length(PyObject *op) {\n",
      "                            ^\n",
      "  numpy/core/src/multiarray/descriptor.c:460:13: warning: ‘PyUnicode_AsUnicode’ is deprecated [-Wdeprecated-declarations]\n",
      "               else if (PyUString_Check(title) && PyUString_GET_SIZE(title) > 0) {\n",
      "               ^\n",
      "  In file included from /home/gulce/anaconda3/include/python3.9/unicodeobject.h:1026:0,\n",
      "                   from /home/gulce/anaconda3/include/python3.9/Python.h:106,\n",
      "                   from numpy/core/src/multiarray/descriptor.c:4:\n",
      "  /home/gulce/anaconda3/include/python3.9/cpython/unicodeobject.h:580:45: note: declared here\n",
      "   Py_DEPRECATED(3.3) PyAPI_FUNC(Py_UNICODE *) PyUnicode_AsUnicode(\n",
      "                                               ^\n",
      "  numpy/core/src/multiarray/descriptor.c:460:13: warning: ‘_PyUnicode_get_wstr_length’ is deprecated [-Wdeprecated-declarations]\n",
      "               else if (PyUString_Check(title) && PyUString_GET_SIZE(title) > 0) {\n",
      "               ^\n",
      "  In file included from /home/gulce/anaconda3/include/python3.9/unicodeobject.h:1026:0,\n",
      "                   from /home/gulce/anaconda3/include/python3.9/Python.h:106,\n",
      "                   from numpy/core/src/multiarray/descriptor.c:4:\n",
      "  /home/gulce/anaconda3/include/python3.9/cpython/unicodeobject.h:446:26: note: declared here\n",
      "   static inline Py_ssize_t _PyUnicode_get_wstr_length(PyObject *op) {\n",
      "                            ^\n",
      "  numpy/core/src/multiarray/arraytypes.c.src: In function ‘UNICODE_setitem’:\n",
      "  numpy/core/src/multiarray/arraytypes.c.src:477:5: warning: ‘PyUnicode_AsUnicode’ is deprecated [-Wdeprecated-declarations]\n",
      "       ptr = PyUnicode_AS_UNICODE(temp);\n",
      "       ^\n",
      "  In file included from /home/gulce/anaconda3/include/python3.9/unicodeobject.h:1026:0,\n",
      "                   from /home/gulce/anaconda3/include/python3.9/Python.h:106,\n",
      "                   from numpy/core/src/multiarray/arraytypes.c.src:3:\n",
      "  /home/gulce/anaconda3/include/python3.9/cpython/unicodeobject.h:580:45: note: declared here\n",
      "   Py_DEPRECATED(3.3) PyAPI_FUNC(Py_UNICODE *) PyUnicode_AsUnicode(\n",
      "                                               ^\n",
      "  numpy/core/src/multiarray/arraytypes.c.src:482:5: warning: ‘_PyUnicode_get_wstr_length’ is deprecated [-Wdeprecated-declarations]\n",
      "       datalen = PyUnicode_GET_DATA_SIZE(temp);\n",
      "       ^\n",
      "  In file included from /home/gulce/anaconda3/include/python3.9/unicodeobject.h:1026:0,\n",
      "                   from /home/gulce/anaconda3/include/python3.9/Python.h:106,\n",
      "                   from numpy/core/src/multiarray/arraytypes.c.src:3:\n",
      "  /home/gulce/anaconda3/include/python3.9/cpython/unicodeobject.h:446:26: note: declared here\n",
      "   static inline Py_ssize_t _PyUnicode_get_wstr_length(PyObject *op) {\n",
      "                            ^\n",
      "  numpy/core/src/multiarray/arraytypes.c.src:482:5: warning: ‘PyUnicode_AsUnicode’ is deprecated [-Wdeprecated-declarations]\n",
      "       datalen = PyUnicode_GET_DATA_SIZE(temp);\n",
      "       ^\n",
      "  In file included from /home/gulce/anaconda3/include/python3.9/unicodeobject.h:1026:0,\n",
      "                   from /home/gulce/anaconda3/include/python3.9/Python.h:106,\n",
      "                   from numpy/core/src/multiarray/arraytypes.c.src:3:\n",
      "  /home/gulce/anaconda3/include/python3.9/cpython/unicodeobject.h:580:45: note: declared here\n",
      "   Py_DEPRECATED(3.3) PyAPI_FUNC(Py_UNICODE *) PyUnicode_AsUnicode(\n",
      "                                               ^\n",
      "  numpy/core/src/multiarray/arraytypes.c.src:482:5: warning: ‘_PyUnicode_get_wstr_length’ is deprecated [-Wdeprecated-declarations]\n",
      "       datalen = PyUnicode_GET_DATA_SIZE(temp);\n",
      "       ^\n",
      "  In file included from /home/gulce/anaconda3/include/python3.9/unicodeobject.h:1026:0,\n",
      "                   from /home/gulce/anaconda3/include/python3.9/Python.h:106,\n",
      "                   from numpy/core/src/multiarray/arraytypes.c.src:3:\n",
      "  /home/gulce/anaconda3/include/python3.9/cpython/unicodeobject.h:446:26: note: declared here\n",
      "   static inline Py_ssize_t _PyUnicode_get_wstr_length(PyObject *op) {\n",
      "                            ^\n",
      "  gcc: numpy/core/src/multiarray/common.c\n",
      "  numpy/core/src/multiarray/common.c: In function ‘PyArray_DTypeFromObjectHelper’:\n",
      "  numpy/core/src/multiarray/common.c:187:17: warning: ‘_PyUnicode_get_wstr_length’ is deprecated [-Wdeprecated-declarations]\n",
      "                   itemsize = PyUnicode_GET_DATA_SIZE(temp);\n",
      "                   ^\n",
      "  In file included from /home/gulce/anaconda3/include/python3.9/unicodeobject.h:1026:0,\n",
      "                   from /home/gulce/anaconda3/include/python3.9/Python.h:106,\n",
      "                   from numpy/core/src/multiarray/common.c:2:\n",
      "  /home/gulce/anaconda3/include/python3.9/cpython/unicodeobject.h:446:26: note: declared here\n",
      "   static inline Py_ssize_t _PyUnicode_get_wstr_length(PyObject *op) {\n",
      "                            ^\n",
      "  numpy/core/src/multiarray/common.c:187:17: warning: ‘PyUnicode_AsUnicode’ is deprecated [-Wdeprecated-declarations]\n",
      "                   itemsize = PyUnicode_GET_DATA_SIZE(temp);\n",
      "                   ^\n",
      "  In file included from /home/gulce/anaconda3/include/python3.9/unicodeobject.h:1026:0,\n",
      "                   from /home/gulce/anaconda3/include/python3.9/Python.h:106,\n",
      "                   from numpy/core/src/multiarray/common.c:2:\n",
      "  /home/gulce/anaconda3/include/python3.9/cpython/unicodeobject.h:580:45: note: declared here\n",
      "   Py_DEPRECATED(3.3) PyAPI_FUNC(Py_UNICODE *) PyUnicode_AsUnicode(\n",
      "                                               ^\n",
      "  numpy/core/src/multiarray/common.c:187:17: warning: ‘_PyUnicode_get_wstr_length’ is deprecated [-Wdeprecated-declarations]\n",
      "                   itemsize = PyUnicode_GET_DATA_SIZE(temp);\n",
      "                   ^\n",
      "  In file included from /home/gulce/anaconda3/include/python3.9/unicodeobject.h:1026:0,\n",
      "                   from /home/gulce/anaconda3/include/python3.9/Python.h:106,\n",
      "                   from numpy/core/src/multiarray/common.c:2:\n",
      "  /home/gulce/anaconda3/include/python3.9/cpython/unicodeobject.h:446:26: note: declared here\n",
      "   static inline Py_ssize_t _PyUnicode_get_wstr_length(PyObject *op) {\n",
      "                            ^\n",
      "  numpy/core/src/multiarray/common.c:239:17: warning: ‘_PyUnicode_get_wstr_length’ is deprecated [-Wdeprecated-declarations]\n",
      "                   itemsize = PyUnicode_GET_DATA_SIZE(temp);\n",
      "                   ^\n",
      "  In file included from /home/gulce/anaconda3/include/python3.9/unicodeobject.h:1026:0,\n",
      "                   from /home/gulce/anaconda3/include/python3.9/Python.h:106,\n",
      "                   from numpy/core/src/multiarray/common.c:2:\n",
      "  /home/gulce/anaconda3/include/python3.9/cpython/unicodeobject.h:446:26: note: declared here\n",
      "   static inline Py_ssize_t _PyUnicode_get_wstr_length(PyObject *op) {\n",
      "                            ^\n",
      "  numpy/core/src/multiarray/common.c:239:17: warning: ‘PyUnicode_AsUnicode’ is deprecated [-Wdeprecated-declarations]\n",
      "                   itemsize = PyUnicode_GET_DATA_SIZE(temp);\n",
      "                   ^\n",
      "  In file included from /home/gulce/anaconda3/include/python3.9/unicodeobject.h:1026:0,\n",
      "                   from /home/gulce/anaconda3/include/python3.9/Python.h:106,\n",
      "                   from numpy/core/src/multiarray/common.c:2:\n",
      "  /home/gulce/anaconda3/include/python3.9/cpython/unicodeobject.h:580:45: note: declared here\n",
      "   Py_DEPRECATED(3.3) PyAPI_FUNC(Py_UNICODE *) PyUnicode_AsUnicode(\n",
      "                                               ^\n",
      "  numpy/core/src/multiarray/common.c:239:17: warning: ‘_PyUnicode_get_wstr_length’ is deprecated [-Wdeprecated-declarations]\n",
      "                   itemsize = PyUnicode_GET_DATA_SIZE(temp);\n",
      "                   ^\n",
      "  In file included from /home/gulce/anaconda3/include/python3.9/unicodeobject.h:1026:0,\n",
      "                   from /home/gulce/anaconda3/include/python3.9/Python.h:106,\n",
      "                   from numpy/core/src/multiarray/common.c:2:\n",
      "  /home/gulce/anaconda3/include/python3.9/cpython/unicodeobject.h:446:26: note: declared here\n",
      "   static inline Py_ssize_t _PyUnicode_get_wstr_length(PyObject *op) {\n",
      "                            ^\n",
      "  numpy/core/src/multiarray/common.c:282:9: warning: ‘_PyUnicode_get_wstr_length’ is deprecated [-Wdeprecated-declarations]\n",
      "           int itemsize = PyUnicode_GET_DATA_SIZE(obj);\n",
      "           ^\n",
      "  In file included from /home/gulce/anaconda3/include/python3.9/unicodeobject.h:1026:0,\n",
      "                   from /home/gulce/anaconda3/include/python3.9/Python.h:106,\n",
      "                   from numpy/core/src/multiarray/common.c:2:\n",
      "  /home/gulce/anaconda3/include/python3.9/cpython/unicodeobject.h:446:26: note: declared here\n",
      "   static inline Py_ssize_t _PyUnicode_get_wstr_length(PyObject *op) {\n",
      "                            ^\n",
      "  numpy/core/src/multiarray/common.c:282:9: warning: ‘PyUnicode_AsUnicode’ is deprecated [-Wdeprecated-declarations]\n",
      "           int itemsize = PyUnicode_GET_DATA_SIZE(obj);\n",
      "           ^\n",
      "  In file included from /home/gulce/anaconda3/include/python3.9/unicodeobject.h:1026:0,\n",
      "                   from /home/gulce/anaconda3/include/python3.9/Python.h:106,\n",
      "                   from numpy/core/src/multiarray/common.c:2:\n",
      "  /home/gulce/anaconda3/include/python3.9/cpython/unicodeobject.h:580:45: note: declared here\n",
      "   Py_DEPRECATED(3.3) PyAPI_FUNC(Py_UNICODE *) PyUnicode_AsUnicode(\n",
      "                                               ^\n",
      "  numpy/core/src/multiarray/common.c:282:9: warning: ‘_PyUnicode_get_wstr_length’ is deprecated [-Wdeprecated-declarations]\n",
      "           int itemsize = PyUnicode_GET_DATA_SIZE(obj);\n",
      "           ^\n",
      "  In file included from /home/gulce/anaconda3/include/python3.9/unicodeobject.h:1026:0,\n",
      "                   from /home/gulce/anaconda3/include/python3.9/Python.h:106,\n",
      "                   from numpy/core/src/multiarray/common.c:2:\n",
      "  /home/gulce/anaconda3/include/python3.9/cpython/unicodeobject.h:446:26: note: declared here\n",
      "   static inline Py_ssize_t _PyUnicode_get_wstr_length(PyObject *op) {\n",
      "                            ^\n",
      "  gcc: numpy/core/src/multiarray/dragon4.c\n",
      "  gcc: numpy/core/src/multiarray/dtype_transfer.c\n",
      "  gcc: numpy/core/src/multiarray/datetime.c\n",
      "  gcc: numpy/core/src/multiarray/item_selection.c\n",
      "  gcc: numpy/core/src/multiarray/multiarraymodule.c\n",
      "  gcc: build/src.linux-x86_64-3.9/numpy/core/src/multiarray/einsum.c\n",
      "  gcc: numpy/core/src/multiarray/iterators.c\n",
      "  gcc: build/src.linux-x86_64-3.9/numpy/core/src/multiarray/lowlevel_strided_loops.c\n",
      "  gcc: build/src.linux-x86_64-3.9/numpy/core/src/multiarray/nditer_templ.c\n",
      "  gcc: numpy/core/src/multiarray/nditer_api.c\n",
      "  gcc: numpy/core/src/multiarray/flagsobject.c\n",
      "  gcc: numpy/core/src/multiarray/nditer_constr.c\n",
      "  gcc: numpy/core/src/multiarray/getset.c\n",
      "  gcc: numpy/core/src/multiarray/array_assign_scalar.c\n",
      "  gcc: numpy/core/src/multiarray/array_assign_array.c\n",
      "  gcc: numpy/core/src/multiarray/hashdescr.c\n",
      "  gcc: numpy/core/src/multiarray/number.c\n",
      "  gcc: build/src.linux-x86_64-3.9/numpy/core/src/multiarray/scalartypes.c\n",
      "  numpy/core/src/multiarray/scalartypes.c.src: In function ‘unicodetype_repr’:\n",
      "  numpy/core/src/multiarray/scalartypes.c.src:475:5: warning: ‘PyUnicode_AsUnicode’ is deprecated [-Wdeprecated-declarations]\n",
      "       ip = dptr = Py@Name@_AS_@NAME@(self);\n",
      "       ^\n",
      "  In file included from /home/gulce/anaconda3/include/python3.9/unicodeobject.h:1026:0,\n",
      "                   from /home/gulce/anaconda3/include/python3.9/Python.h:106,\n",
      "                   from numpy/core/src/multiarray/scalartypes.c.src:3:\n",
      "  /home/gulce/anaconda3/include/python3.9/cpython/unicodeobject.h:580:45: note: declared here\n",
      "   Py_DEPRECATED(3.3) PyAPI_FUNC(Py_UNICODE *) PyUnicode_AsUnicode(\n",
      "                                               ^\n",
      "  numpy/core/src/multiarray/scalartypes.c.src:476:5: warning: ‘_PyUnicode_get_wstr_length’ is deprecated [-Wdeprecated-declarations]\n",
      "       len = Py@Name@_GET_SIZE(self);\n",
      "       ^\n",
      "  In file included from /home/gulce/anaconda3/include/python3.9/unicodeobject.h:1026:0,\n",
      "                   from /home/gulce/anaconda3/include/python3.9/Python.h:106,\n",
      "                   from numpy/core/src/multiarray/scalartypes.c.src:3:\n",
      "  /home/gulce/anaconda3/include/python3.9/cpython/unicodeobject.h:446:26: note: declared here\n",
      "   static inline Py_ssize_t _PyUnicode_get_wstr_length(PyObject *op) {\n",
      "                            ^\n",
      "  numpy/core/src/multiarray/scalartypes.c.src:476:5: warning: ‘PyUnicode_AsUnicode’ is deprecated [-Wdeprecated-declarations]\n",
      "       len = Py@Name@_GET_SIZE(self);\n",
      "       ^\n",
      "  In file included from /home/gulce/anaconda3/include/python3.9/unicodeobject.h:1026:0,\n",
      "                   from /home/gulce/anaconda3/include/python3.9/Python.h:106,\n",
      "                   from numpy/core/src/multiarray/scalartypes.c.src:3:\n",
      "  /home/gulce/anaconda3/include/python3.9/cpython/unicodeobject.h:580:45: note: declared here\n",
      "   Py_DEPRECATED(3.3) PyAPI_FUNC(Py_UNICODE *) PyUnicode_AsUnicode(\n",
      "                                               ^\n",
      "  numpy/core/src/multiarray/scalartypes.c.src:476:5: warning: ‘_PyUnicode_get_wstr_length’ is deprecated [-Wdeprecated-declarations]\n",
      "       len = Py@Name@_GET_SIZE(self);\n",
      "       ^\n",
      "  In file included from /home/gulce/anaconda3/include/python3.9/unicodeobject.h:1026:0,\n",
      "                   from /home/gulce/anaconda3/include/python3.9/Python.h:106,\n",
      "                   from numpy/core/src/multiarray/scalartypes.c.src:3:\n",
      "  /home/gulce/anaconda3/include/python3.9/cpython/unicodeobject.h:446:26: note: declared here\n",
      "   static inline Py_ssize_t _PyUnicode_get_wstr_length(PyObject *op) {\n",
      "                            ^\n",
      "  numpy/core/src/multiarray/scalartypes.c.src:481:5: warning: ‘PyUnicode_FromUnicode’ is deprecated [-Wdeprecated-declarations]\n",
      "       new = Py@Name@_From@Name@@extra@(ip, len);\n",
      "       ^\n",
      "  In file included from /home/gulce/anaconda3/include/python3.9/unicodeobject.h:1026:0,\n",
      "                   from /home/gulce/anaconda3/include/python3.9/Python.h:106,\n",
      "                   from numpy/core/src/multiarray/scalartypes.c.src:3:\n",
      "  /home/gulce/anaconda3/include/python3.9/cpython/unicodeobject.h:551:42: note: declared here\n",
      "   Py_DEPRECATED(3.3) PyAPI_FUNC(PyObject*) PyUnicode_FromUnicode(\n",
      "                                            ^\n",
      "  numpy/core/src/multiarray/scalartypes.c.src: In function ‘unicodetype_str’:\n",
      "  numpy/core/src/multiarray/scalartypes.c.src:475:5: warning: ‘PyUnicode_AsUnicode’ is deprecated [-Wdeprecated-declarations]\n",
      "       ip = dptr = Py@Name@_AS_@NAME@(self);\n",
      "       ^\n",
      "  In file included from /home/gulce/anaconda3/include/python3.9/unicodeobject.h:1026:0,\n",
      "                   from /home/gulce/anaconda3/include/python3.9/Python.h:106,\n",
      "                   from numpy/core/src/multiarray/scalartypes.c.src:3:\n",
      "  /home/gulce/anaconda3/include/python3.9/cpython/unicodeobject.h:580:45: note: declared here\n",
      "   Py_DEPRECATED(3.3) PyAPI_FUNC(Py_UNICODE *) PyUnicode_AsUnicode(\n",
      "                                               ^\n",
      "  numpy/core/src/multiarray/scalartypes.c.src:476:5: warning: ‘_PyUnicode_get_wstr_length’ is deprecated [-Wdeprecated-declarations]\n",
      "       len = Py@Name@_GET_SIZE(self);\n",
      "       ^\n",
      "  In file included from /home/gulce/anaconda3/include/python3.9/unicodeobject.h:1026:0,\n",
      "                   from /home/gulce/anaconda3/include/python3.9/Python.h:106,\n",
      "                   from numpy/core/src/multiarray/scalartypes.c.src:3:\n",
      "  /home/gulce/anaconda3/include/python3.9/cpython/unicodeobject.h:446:26: note: declared here\n",
      "   static inline Py_ssize_t _PyUnicode_get_wstr_length(PyObject *op) {\n",
      "                            ^\n",
      "  numpy/core/src/multiarray/scalartypes.c.src:476:5: warning: ‘PyUnicode_AsUnicode’ is deprecated [-Wdeprecated-declarations]\n",
      "       len = Py@Name@_GET_SIZE(self);\n",
      "       ^\n",
      "  In file included from /home/gulce/anaconda3/include/python3.9/unicodeobject.h:1026:0,\n",
      "                   from /home/gulce/anaconda3/include/python3.9/Python.h:106,\n",
      "                   from numpy/core/src/multiarray/scalartypes.c.src:3:\n",
      "  /home/gulce/anaconda3/include/python3.9/cpython/unicodeobject.h:580:45: note: declared here\n",
      "   Py_DEPRECATED(3.3) PyAPI_FUNC(Py_UNICODE *) PyUnicode_AsUnicode(\n",
      "                                               ^\n",
      "  numpy/core/src/multiarray/scalartypes.c.src:476:5: warning: ‘_PyUnicode_get_wstr_length’ is deprecated [-Wdeprecated-declarations]\n",
      "       len = Py@Name@_GET_SIZE(self);\n",
      "       ^\n",
      "  In file included from /home/gulce/anaconda3/include/python3.9/unicodeobject.h:1026:0,\n",
      "                   from /home/gulce/anaconda3/include/python3.9/Python.h:106,\n",
      "                   from numpy/core/src/multiarray/scalartypes.c.src:3:\n",
      "  /home/gulce/anaconda3/include/python3.9/cpython/unicodeobject.h:446:26: note: declared here\n",
      "   static inline Py_ssize_t _PyUnicode_get_wstr_length(PyObject *op) {\n",
      "                            ^\n",
      "  numpy/core/src/multiarray/scalartypes.c.src:481:5: warning: ‘PyUnicode_FromUnicode’ is deprecated [-Wdeprecated-declarations]\n",
      "       new = Py@Name@_From@Name@@extra@(ip, len);\n",
      "       ^\n",
      "  In file included from /home/gulce/anaconda3/include/python3.9/unicodeobject.h:1026:0,\n",
      "                   from /home/gulce/anaconda3/include/python3.9/Python.h:106,\n",
      "                   from numpy/core/src/multiarray/scalartypes.c.src:3:\n",
      "  /home/gulce/anaconda3/include/python3.9/cpython/unicodeobject.h:551:42: note: declared here\n",
      "   Py_DEPRECATED(3.3) PyAPI_FUNC(PyObject*) PyUnicode_FromUnicode(\n",
      "                                            ^\n",
      "  numpy/core/src/multiarray/scalartypes.c.src: In function ‘gentype_reduce’:\n",
      "  numpy/core/src/multiarray/scalartypes.c.src:1849:9: warning: ‘PyUnicode_AsUnicode’ is deprecated [-Wdeprecated-declarations]\n",
      "           buffer = PyUnicode_AS_DATA(self);\n",
      "           ^\n",
      "  In file included from /home/gulce/anaconda3/include/python3.9/unicodeobject.h:1026:0,\n",
      "                   from /home/gulce/anaconda3/include/python3.9/Python.h:106,\n",
      "                   from numpy/core/src/multiarray/scalartypes.c.src:3:\n",
      "  /home/gulce/anaconda3/include/python3.9/cpython/unicodeobject.h:580:45: note: declared here\n",
      "   Py_DEPRECATED(3.3) PyAPI_FUNC(Py_UNICODE *) PyUnicode_AsUnicode(\n",
      "                                               ^\n",
      "  numpy/core/src/multiarray/scalartypes.c.src:1850:9: warning: ‘_PyUnicode_get_wstr_length’ is deprecated [-Wdeprecated-declarations]\n",
      "           buflen = PyUnicode_GET_DATA_SIZE(self);\n",
      "           ^\n",
      "  In file included from /home/gulce/anaconda3/include/python3.9/unicodeobject.h:1026:0,\n",
      "                   from /home/gulce/anaconda3/include/python3.9/Python.h:106,\n",
      "                   from numpy/core/src/multiarray/scalartypes.c.src:3:\n",
      "  /home/gulce/anaconda3/include/python3.9/cpython/unicodeobject.h:446:26: note: declared here\n",
      "   static inline Py_ssize_t _PyUnicode_get_wstr_length(PyObject *op) {\n",
      "                            ^\n",
      "  numpy/core/src/multiarray/scalartypes.c.src:1850:9: warning: ‘PyUnicode_AsUnicode’ is deprecated [-Wdeprecated-declarations]\n",
      "           buflen = PyUnicode_GET_DATA_SIZE(self);\n",
      "           ^\n",
      "  In file included from /home/gulce/anaconda3/include/python3.9/unicodeobject.h:1026:0,\n",
      "                   from /home/gulce/anaconda3/include/python3.9/Python.h:106,\n",
      "                   from numpy/core/src/multiarray/scalartypes.c.src:3:\n",
      "  /home/gulce/anaconda3/include/python3.9/cpython/unicodeobject.h:580:45: note: declared here\n",
      "   Py_DEPRECATED(3.3) PyAPI_FUNC(Py_UNICODE *) PyUnicode_AsUnicode(\n",
      "                                               ^\n",
      "  numpy/core/src/multiarray/scalartypes.c.src:1850:9: warning: ‘_PyUnicode_get_wstr_length’ is deprecated [-Wdeprecated-declarations]\n",
      "           buflen = PyUnicode_GET_DATA_SIZE(self);\n",
      "           ^\n",
      "  In file included from /home/gulce/anaconda3/include/python3.9/unicodeobject.h:1026:0,\n",
      "                   from /home/gulce/anaconda3/include/python3.9/Python.h:106,\n",
      "                   from numpy/core/src/multiarray/scalartypes.c.src:3:\n",
      "  /home/gulce/anaconda3/include/python3.9/cpython/unicodeobject.h:446:26: note: declared here\n",
      "   static inline Py_ssize_t _PyUnicode_get_wstr_length(PyObject *op) {\n",
      "                            ^\n",
      "  gcc: numpy/core/src/multiarray/nditer_pywrap.c\n",
      "  gcc: numpy/core/src/multiarray/refcount.c\n",
      "  gcc: numpy/core/src/multiarray/sequence.c\n",
      "  gcc: numpy/core/src/multiarray/shape.c\n",
      "  gcc: numpy/core/src/multiarray/vdot.c\n",
      "  gcc: numpy/core/src/umath/umathmodule.c\n",
      "  gcc: numpy/core/src/multiarray/scalarapi.c\n",
      "  gcc: numpy/core/src/umath/reduction.c\n",
      "  numpy/core/src/multiarray/scalarapi.c: In function ‘scalar_value’:\n",
      "  numpy/core/src/multiarray/scalarapi.c:74:13: warning: ‘PyUnicode_AsUnicode’ is deprecated [-Wdeprecated-declarations]\n",
      "               return (void *)PyUnicode_AS_DATA(scalar);\n",
      "               ^\n",
      "  In file included from /home/gulce/anaconda3/include/python3.9/unicodeobject.h:1026:0,\n",
      "                   from /home/gulce/anaconda3/include/python3.9/Python.h:106,\n",
      "                   from numpy/core/src/multiarray/scalarapi.c:2:\n",
      "  /home/gulce/anaconda3/include/python3.9/cpython/unicodeobject.h:580:45: note: declared here\n",
      "   Py_DEPRECATED(3.3) PyAPI_FUNC(Py_UNICODE *) PyUnicode_AsUnicode(\n",
      "                                               ^\n",
      "  numpy/core/src/multiarray/scalarapi.c:135:13: warning: ‘PyUnicode_AsUnicode’ is deprecated [-Wdeprecated-declarations]\n",
      "               return (void *)PyUnicode_AS_DATA(scalar);\n",
      "               ^\n",
      "  In file included from /home/gulce/anaconda3/include/python3.9/unicodeobject.h:1026:0,\n",
      "                   from /home/gulce/anaconda3/include/python3.9/Python.h:106,\n",
      "                   from numpy/core/src/multiarray/scalarapi.c:2:\n",
      "  /home/gulce/anaconda3/include/python3.9/cpython/unicodeobject.h:580:45: note: declared here\n",
      "   Py_DEPRECATED(3.3) PyAPI_FUNC(Py_UNICODE *) PyUnicode_AsUnicode(\n",
      "                                               ^\n",
      "  numpy/core/src/multiarray/scalarapi.c: In function ‘PyArray_DescrFromScalar’:\n",
      "  numpy/core/src/multiarray/scalarapi.c:568:13: warning: ‘_PyUnicode_get_wstr_length’ is deprecated [-Wdeprecated-declarations]\n",
      "               descr->elsize = PyUnicode_GET_DATA_SIZE(sc);\n",
      "               ^\n",
      "  In file included from /home/gulce/anaconda3/include/python3.9/unicodeobject.h:1026:0,\n",
      "                   from /home/gulce/anaconda3/include/python3.9/Python.h:106,\n",
      "                   from numpy/core/src/multiarray/scalarapi.c:2:\n",
      "  /home/gulce/anaconda3/include/python3.9/cpython/unicodeobject.h:446:26: note: declared here\n",
      "   static inline Py_ssize_t _PyUnicode_get_wstr_length(PyObject *op) {\n",
      "                            ^\n",
      "  numpy/core/src/multiarray/scalarapi.c:568:13: warning: ‘PyUnicode_AsUnicode’ is deprecated [-Wdeprecated-declarations]\n",
      "               descr->elsize = PyUnicode_GET_DATA_SIZE(sc);\n",
      "               ^\n",
      "  In file included from /home/gulce/anaconda3/include/python3.9/unicodeobject.h:1026:0,\n",
      "                   from /home/gulce/anaconda3/include/python3.9/Python.h:106,\n",
      "                   from numpy/core/src/multiarray/scalarapi.c:2:\n",
      "  /home/gulce/anaconda3/include/python3.9/cpython/unicodeobject.h:580:45: note: declared here\n",
      "   Py_DEPRECATED(3.3) PyAPI_FUNC(Py_UNICODE *) PyUnicode_AsUnicode(\n",
      "                                               ^\n",
      "  numpy/core/src/multiarray/scalarapi.c:568:13: warning: ‘_PyUnicode_get_wstr_length’ is deprecated [-Wdeprecated-declarations]\n",
      "               descr->elsize = PyUnicode_GET_DATA_SIZE(sc);\n",
      "               ^\n",
      "  In file included from /home/gulce/anaconda3/include/python3.9/unicodeobject.h:1026:0,\n",
      "                   from /home/gulce/anaconda3/include/python3.9/Python.h:106,\n",
      "                   from numpy/core/src/multiarray/scalarapi.c:2:\n",
      "  /home/gulce/anaconda3/include/python3.9/cpython/unicodeobject.h:446:26: note: declared here\n",
      "   static inline Py_ssize_t _PyUnicode_get_wstr_length(PyObject *op) {\n",
      "                            ^\n",
      "  gcc: build/src.linux-x86_64-3.9/numpy/core/src/umath/loops.c\n",
      "  gcc: numpy/core/src/umath/ufunc_object.c\n",
      "  gcc: numpy/core/src/multiarray/strfuncs.c\n",
      "  numpy/core/src/umath/ufunc_object.c: In function ‘_parse_signature’:\n",
      "  numpy/core/src/umath/ufunc_object.c:657:19: warning: comparison between signed and unsigned integer expressions [-Wsign-compare]\n",
      "       for (i = 0; i < len; i++) {\n",
      "                     ^\n",
      "  numpy/core/src/multiarray/strfuncs.c: In function ‘array_repr’:\n",
      "  numpy/core/src/multiarray/strfuncs.c:178:9: warning: ‘PyEval_CallObjectWithKeywords’ is deprecated [-Wdeprecated-declarations]\n",
      "           s = PyEval_CallObject(PyArray_ReprFunction, arglist);\n",
      "           ^\n",
      "  In file included from /home/gulce/anaconda3/include/python3.9/Python.h:154:0,\n",
      "                   from numpy/core/src/multiarray/strfuncs.c:4:\n",
      "  /home/gulce/anaconda3/include/python3.9/ceval.h:17:43: note: declared here\n",
      "   Py_DEPRECATED(3.9) PyAPI_FUNC(PyObject *) PyEval_CallObjectWithKeywords(\n",
      "                                             ^\n",
      "  numpy/core/src/multiarray/strfuncs.c: In function ‘array_str’:\n",
      "  numpy/core/src/multiarray/strfuncs.c:195:9: warning: ‘PyEval_CallObjectWithKeywords’ is deprecated [-Wdeprecated-declarations]\n",
      "           s = PyEval_CallObject(PyArray_StrFunction, arglist);\n",
      "           ^\n",
      "  In file included from /home/gulce/anaconda3/include/python3.9/Python.h:154:0,\n",
      "                   from numpy/core/src/multiarray/strfuncs.c:4:\n",
      "  /home/gulce/anaconda3/include/python3.9/ceval.h:17:43: note: declared here\n",
      "   Py_DEPRECATED(3.9) PyAPI_FUNC(PyObject *) PyEval_CallObjectWithKeywords(\n",
      "                                             ^\n",
      "  gcc: numpy/core/src/multiarray/temp_elide.c\n",
      "  In file included from numpy/core/src/umath/loops.c.src:47:0:\n",
      "  numpy/core/src/umath/simd.inc.src: In function ‘run_binary_simd_add_FLOAT’:\n",
      "  numpy/core/src/umath/simd.inc.src:72:38: warning: comparison between signed and unsigned integer expressions [-Wsign-compare]\n",
      "        ((abs_ptrdiff(args[2], args[1]) >= (vsize)) || \\\n",
      "                                        ^\n",
      "  numpy/core/src/umath/simd.inc.src:195:9: note: in expansion of macro ‘IS_BLOCKABLE_BINARY_SCALAR1’\n",
      "       if (IS_BLOCKABLE_BINARY_SCALAR1(sizeof(@type@), vector_size_bytes)) {\n",
      "           ^\n",
      "  numpy/core/src/umath/simd.inc.src:79:38: warning: comparison between signed and unsigned integer expressions [-Wsign-compare]\n",
      "        ((abs_ptrdiff(args[2], args[0]) >= (vsize)) || \\\n",
      "                                        ^\n",
      "  numpy/core/src/umath/simd.inc.src:200:14: note: in expansion of macro ‘IS_BLOCKABLE_BINARY_SCALAR2’\n",
      "       else if (IS_BLOCKABLE_BINARY_SCALAR2(sizeof(@type@), vector_size_bytes)) {\n",
      "                ^\n",
      "  numpy/core/src/umath/simd.inc.src:64:37: warning: comparison between signed and unsigned integer expressions [-Wsign-compare]\n",
      "        (abs_ptrdiff(args[2], args[0]) >= (vsize) || \\\n",
      "                                       ^\n",
      "  numpy/core/src/umath/simd.inc.src:204:14: note: in expansion of macro ‘IS_BLOCKABLE_BINARY’\n",
      "       else if (IS_BLOCKABLE_BINARY(sizeof(@type@), vector_size_bytes)) {\n",
      "                ^\n",
      "  numpy/core/src/umath/simd.inc.src:66:37: warning: comparison between signed and unsigned integer expressions [-Wsign-compare]\n",
      "        (abs_ptrdiff(args[2], args[1]) >= (vsize) || \\\n",
      "                                       ^\n",
      "  numpy/core/src/umath/simd.inc.src:204:14: note: in expansion of macro ‘IS_BLOCKABLE_BINARY’\n",
      "       else if (IS_BLOCKABLE_BINARY(sizeof(@type@), vector_size_bytes)) {\n",
      "                ^\n",
      "  numpy/core/src/umath/simd.inc.src: In function ‘run_binary_simd_subtract_FLOAT’:\n",
      "  numpy/core/src/umath/simd.inc.src:72:38: warning: comparison between signed and unsigned integer expressions [-Wsign-compare]\n",
      "        ((abs_ptrdiff(args[2], args[1]) >= (vsize)) || \\\n",
      "                                        ^\n",
      "  numpy/core/src/umath/simd.inc.src:195:9: note: in expansion of macro ‘IS_BLOCKABLE_BINARY_SCALAR1’\n",
      "       if (IS_BLOCKABLE_BINARY_SCALAR1(sizeof(@type@), vector_size_bytes)) {\n",
      "           ^\n",
      "  numpy/core/src/umath/simd.inc.src:79:38: warning: comparison between signed and unsigned integer expressions [-Wsign-compare]\n",
      "        ((abs_ptrdiff(args[2], args[0]) >= (vsize)) || \\\n",
      "                                        ^\n",
      "  numpy/core/src/umath/simd.inc.src:200:14: note: in expansion of macro ‘IS_BLOCKABLE_BINARY_SCALAR2’\n",
      "       else if (IS_BLOCKABLE_BINARY_SCALAR2(sizeof(@type@), vector_size_bytes)) {\n",
      "                ^\n",
      "  numpy/core/src/umath/simd.inc.src:64:37: warning: comparison between signed and unsigned integer expressions [-Wsign-compare]\n",
      "        (abs_ptrdiff(args[2], args[0]) >= (vsize) || \\\n",
      "                                       ^\n",
      "  numpy/core/src/umath/simd.inc.src:204:14: note: in expansion of macro ‘IS_BLOCKABLE_BINARY’\n",
      "       else if (IS_BLOCKABLE_BINARY(sizeof(@type@), vector_size_bytes)) {\n",
      "                ^\n",
      "  numpy/core/src/umath/simd.inc.src:66:37: warning: comparison between signed and unsigned integer expressions [-Wsign-compare]\n",
      "        (abs_ptrdiff(args[2], args[1]) >= (vsize) || \\\n",
      "                                       ^\n",
      "  numpy/core/src/umath/simd.inc.src:204:14: note: in expansion of macro ‘IS_BLOCKABLE_BINARY’\n",
      "       else if (IS_BLOCKABLE_BINARY(sizeof(@type@), vector_size_bytes)) {\n",
      "                ^\n",
      "  numpy/core/src/umath/simd.inc.src: In function ‘run_binary_simd_multiply_FLOAT’:\n",
      "  numpy/core/src/umath/simd.inc.src:72:38: warning: comparison between signed and unsigned integer expressions [-Wsign-compare]\n",
      "        ((abs_ptrdiff(args[2], args[1]) >= (vsize)) || \\\n",
      "                                        ^\n",
      "  numpy/core/src/umath/simd.inc.src:195:9: note: in expansion of macro ‘IS_BLOCKABLE_BINARY_SCALAR1’\n",
      "       if (IS_BLOCKABLE_BINARY_SCALAR1(sizeof(@type@), vector_size_bytes)) {\n",
      "           ^\n",
      "  numpy/core/src/umath/simd.inc.src:79:38: warning: comparison between signed and unsigned integer expressions [-Wsign-compare]\n",
      "        ((abs_ptrdiff(args[2], args[0]) >= (vsize)) || \\\n",
      "                                        ^\n",
      "  numpy/core/src/umath/simd.inc.src:200:14: note: in expansion of macro ‘IS_BLOCKABLE_BINARY_SCALAR2’\n",
      "       else if (IS_BLOCKABLE_BINARY_SCALAR2(sizeof(@type@), vector_size_bytes)) {\n",
      "                ^\n",
      "  numpy/core/src/umath/simd.inc.src:64:37: warning: comparison between signed and unsigned integer expressions [-Wsign-compare]\n",
      "        (abs_ptrdiff(args[2], args[0]) >= (vsize) || \\\n",
      "                                       ^\n",
      "  numpy/core/src/umath/simd.inc.src:204:14: note: in expansion of macro ‘IS_BLOCKABLE_BINARY’\n",
      "       else if (IS_BLOCKABLE_BINARY(sizeof(@type@), vector_size_bytes)) {\n",
      "                ^\n",
      "  numpy/core/src/umath/simd.inc.src:66:37: warning: comparison between signed and unsigned integer expressions [-Wsign-compare]\n",
      "        (abs_ptrdiff(args[2], args[1]) >= (vsize) || \\\n",
      "                                       ^\n",
      "  numpy/core/src/umath/simd.inc.src:204:14: note: in expansion of macro ‘IS_BLOCKABLE_BINARY’\n",
      "       else if (IS_BLOCKABLE_BINARY(sizeof(@type@), vector_size_bytes)) {\n",
      "                ^\n",
      "  numpy/core/src/umath/simd.inc.src: In function ‘run_binary_simd_divide_FLOAT’:\n",
      "  numpy/core/src/umath/simd.inc.src:72:38: warning: comparison between signed and unsigned integer expressions [-Wsign-compare]\n",
      "        ((abs_ptrdiff(args[2], args[1]) >= (vsize)) || \\\n",
      "                                        ^\n",
      "  numpy/core/src/umath/simd.inc.src:195:9: note: in expansion of macro ‘IS_BLOCKABLE_BINARY_SCALAR1’\n",
      "       if (IS_BLOCKABLE_BINARY_SCALAR1(sizeof(@type@), vector_size_bytes)) {\n",
      "           ^\n",
      "  numpy/core/src/umath/simd.inc.src:79:38: warning: comparison between signed and unsigned integer expressions [-Wsign-compare]\n",
      "        ((abs_ptrdiff(args[2], args[0]) >= (vsize)) || \\\n",
      "                                        ^\n",
      "  numpy/core/src/umath/simd.inc.src:200:14: note: in expansion of macro ‘IS_BLOCKABLE_BINARY_SCALAR2’\n",
      "       else if (IS_BLOCKABLE_BINARY_SCALAR2(sizeof(@type@), vector_size_bytes)) {\n",
      "                ^\n",
      "  numpy/core/src/umath/simd.inc.src:64:37: warning: comparison between signed and unsigned integer expressions [-Wsign-compare]\n",
      "        (abs_ptrdiff(args[2], args[0]) >= (vsize) || \\\n",
      "                                       ^\n",
      "  numpy/core/src/umath/simd.inc.src:204:14: note: in expansion of macro ‘IS_BLOCKABLE_BINARY’\n",
      "       else if (IS_BLOCKABLE_BINARY(sizeof(@type@), vector_size_bytes)) {\n",
      "                ^\n",
      "  numpy/core/src/umath/simd.inc.src:66:37: warning: comparison between signed and unsigned integer expressions [-Wsign-compare]\n",
      "        (abs_ptrdiff(args[2], args[1]) >= (vsize) || \\\n",
      "                                       ^\n",
      "  numpy/core/src/umath/simd.inc.src:204:14: note: in expansion of macro ‘IS_BLOCKABLE_BINARY’\n",
      "       else if (IS_BLOCKABLE_BINARY(sizeof(@type@), vector_size_bytes)) {\n",
      "                ^\n",
      "  numpy/core/src/umath/simd.inc.src: In function ‘run_binary_simd_add_DOUBLE’:\n",
      "  numpy/core/src/umath/simd.inc.src:72:38: warning: comparison between signed and unsigned integer expressions [-Wsign-compare]\n",
      "        ((abs_ptrdiff(args[2], args[1]) >= (vsize)) || \\\n",
      "                                        ^\n",
      "  numpy/core/src/umath/simd.inc.src:195:9: note: in expansion of macro ‘IS_BLOCKABLE_BINARY_SCALAR1’\n",
      "       if (IS_BLOCKABLE_BINARY_SCALAR1(sizeof(@type@), vector_size_bytes)) {\n",
      "           ^\n",
      "  numpy/core/src/umath/simd.inc.src:79:38: warning: comparison between signed and unsigned integer expressions [-Wsign-compare]\n",
      "        ((abs_ptrdiff(args[2], args[0]) >= (vsize)) || \\\n",
      "                                        ^\n",
      "  numpy/core/src/umath/simd.inc.src:200:14: note: in expansion of macro ‘IS_BLOCKABLE_BINARY_SCALAR2’\n",
      "       else if (IS_BLOCKABLE_BINARY_SCALAR2(sizeof(@type@), vector_size_bytes)) {\n",
      "                ^\n",
      "  numpy/core/src/umath/simd.inc.src:64:37: warning: comparison between signed and unsigned integer expressions [-Wsign-compare]\n",
      "        (abs_ptrdiff(args[2], args[0]) >= (vsize) || \\\n",
      "                                       ^\n",
      "  numpy/core/src/umath/simd.inc.src:204:14: note: in expansion of macro ‘IS_BLOCKABLE_BINARY’\n",
      "       else if (IS_BLOCKABLE_BINARY(sizeof(@type@), vector_size_bytes)) {\n",
      "                ^\n",
      "  numpy/core/src/umath/simd.inc.src:66:37: warning: comparison between signed and unsigned integer expressions [-Wsign-compare]\n",
      "        (abs_ptrdiff(args[2], args[1]) >= (vsize) || \\\n",
      "                                       ^\n",
      "  numpy/core/src/umath/simd.inc.src:204:14: note: in expansion of macro ‘IS_BLOCKABLE_BINARY’\n",
      "       else if (IS_BLOCKABLE_BINARY(sizeof(@type@), vector_size_bytes)) {\n",
      "                ^\n",
      "  numpy/core/src/umath/simd.inc.src: In function ‘run_binary_simd_subtract_DOUBLE’:\n",
      "  numpy/core/src/umath/simd.inc.src:72:38: warning: comparison between signed and unsigned integer expressions [-Wsign-compare]\n",
      "        ((abs_ptrdiff(args[2], args[1]) >= (vsize)) || \\\n",
      "                                        ^\n",
      "  numpy/core/src/umath/simd.inc.src:195:9: note: in expansion of macro ‘IS_BLOCKABLE_BINARY_SCALAR1’\n",
      "       if (IS_BLOCKABLE_BINARY_SCALAR1(sizeof(@type@), vector_size_bytes)) {\n",
      "           ^\n",
      "  numpy/core/src/umath/simd.inc.src:79:38: warning: comparison between signed and unsigned integer expressions [-Wsign-compare]\n",
      "        ((abs_ptrdiff(args[2], args[0]) >= (vsize)) || \\\n",
      "                                        ^\n",
      "  numpy/core/src/umath/simd.inc.src:200:14: note: in expansion of macro ‘IS_BLOCKABLE_BINARY_SCALAR2’\n",
      "       else if (IS_BLOCKABLE_BINARY_SCALAR2(sizeof(@type@), vector_size_bytes)) {\n",
      "                ^\n",
      "  numpy/core/src/umath/simd.inc.src:64:37: warning: comparison between signed and unsigned integer expressions [-Wsign-compare]\n",
      "        (abs_ptrdiff(args[2], args[0]) >= (vsize) || \\\n",
      "                                       ^\n",
      "  numpy/core/src/umath/simd.inc.src:204:14: note: in expansion of macro ‘IS_BLOCKABLE_BINARY’\n",
      "       else if (IS_BLOCKABLE_BINARY(sizeof(@type@), vector_size_bytes)) {\n",
      "                ^\n",
      "  numpy/core/src/umath/simd.inc.src:66:37: warning: comparison between signed and unsigned integer expressions [-Wsign-compare]\n",
      "        (abs_ptrdiff(args[2], args[1]) >= (vsize) || \\\n",
      "                                       ^\n",
      "  numpy/core/src/umath/simd.inc.src:204:14: note: in expansion of macro ‘IS_BLOCKABLE_BINARY’\n",
      "       else if (IS_BLOCKABLE_BINARY(sizeof(@type@), vector_size_bytes)) {\n",
      "                ^\n",
      "  numpy/core/src/umath/simd.inc.src: In function ‘run_binary_simd_multiply_DOUBLE’:\n",
      "  numpy/core/src/umath/simd.inc.src:72:38: warning: comparison between signed and unsigned integer expressions [-Wsign-compare]\n",
      "        ((abs_ptrdiff(args[2], args[1]) >= (vsize)) || \\\n",
      "                                        ^\n",
      "  numpy/core/src/umath/simd.inc.src:195:9: note: in expansion of macro ‘IS_BLOCKABLE_BINARY_SCALAR1’\n",
      "       if (IS_BLOCKABLE_BINARY_SCALAR1(sizeof(@type@), vector_size_bytes)) {\n",
      "           ^\n",
      "  numpy/core/src/umath/simd.inc.src:79:38: warning: comparison between signed and unsigned integer expressions [-Wsign-compare]\n",
      "        ((abs_ptrdiff(args[2], args[0]) >= (vsize)) || \\\n",
      "                                        ^\n",
      "  numpy/core/src/umath/simd.inc.src:200:14: note: in expansion of macro ‘IS_BLOCKABLE_BINARY_SCALAR2’\n",
      "       else if (IS_BLOCKABLE_BINARY_SCALAR2(sizeof(@type@), vector_size_bytes)) {\n",
      "                ^\n",
      "  numpy/core/src/umath/simd.inc.src:64:37: warning: comparison between signed and unsigned integer expressions [-Wsign-compare]\n",
      "        (abs_ptrdiff(args[2], args[0]) >= (vsize) || \\\n",
      "                                       ^\n",
      "  numpy/core/src/umath/simd.inc.src:204:14: note: in expansion of macro ‘IS_BLOCKABLE_BINARY’\n",
      "       else if (IS_BLOCKABLE_BINARY(sizeof(@type@), vector_size_bytes)) {\n",
      "                ^\n",
      "  numpy/core/src/umath/simd.inc.src:66:37: warning: comparison between signed and unsigned integer expressions [-Wsign-compare]\n",
      "        (abs_ptrdiff(args[2], args[1]) >= (vsize) || \\\n",
      "                                       ^\n",
      "  numpy/core/src/umath/simd.inc.src:204:14: note: in expansion of macro ‘IS_BLOCKABLE_BINARY’\n",
      "       else if (IS_BLOCKABLE_BINARY(sizeof(@type@), vector_size_bytes)) {\n",
      "                ^\n",
      "  numpy/core/src/umath/simd.inc.src: In function ‘run_binary_simd_divide_DOUBLE’:\n",
      "  numpy/core/src/umath/simd.inc.src:72:38: warning: comparison between signed and unsigned integer expressions [-Wsign-compare]\n",
      "        ((abs_ptrdiff(args[2], args[1]) >= (vsize)) || \\\n",
      "                                        ^\n",
      "  numpy/core/src/umath/simd.inc.src:195:9: note: in expansion of macro ‘IS_BLOCKABLE_BINARY_SCALAR1’\n",
      "       if (IS_BLOCKABLE_BINARY_SCALAR1(sizeof(@type@), vector_size_bytes)) {\n",
      "           ^\n",
      "  numpy/core/src/umath/simd.inc.src:79:38: warning: comparison between signed and unsigned integer expressions [-Wsign-compare]\n",
      "        ((abs_ptrdiff(args[2], args[0]) >= (vsize)) || \\\n",
      "                                        ^\n",
      "  numpy/core/src/umath/simd.inc.src:200:14: note: in expansion of macro ‘IS_BLOCKABLE_BINARY_SCALAR2’\n",
      "       else if (IS_BLOCKABLE_BINARY_SCALAR2(sizeof(@type@), vector_size_bytes)) {\n",
      "                ^\n",
      "  numpy/core/src/umath/simd.inc.src:64:37: warning: comparison between signed and unsigned integer expressions [-Wsign-compare]\n",
      "        (abs_ptrdiff(args[2], args[0]) >= (vsize) || \\\n",
      "                                       ^\n",
      "  numpy/core/src/umath/simd.inc.src:204:14: note: in expansion of macro ‘IS_BLOCKABLE_BINARY’\n",
      "       else if (IS_BLOCKABLE_BINARY(sizeof(@type@), vector_size_bytes)) {\n",
      "                ^\n",
      "  numpy/core/src/umath/simd.inc.src:66:37: warning: comparison between signed and unsigned integer expressions [-Wsign-compare]\n",
      "        (abs_ptrdiff(args[2], args[1]) >= (vsize) || \\\n",
      "                                       ^\n",
      "  numpy/core/src/umath/simd.inc.src:204:14: note: in expansion of macro ‘IS_BLOCKABLE_BINARY’\n",
      "       else if (IS_BLOCKABLE_BINARY(sizeof(@type@), vector_size_bytes)) {\n",
      "                ^\n",
      "  numpy/core/src/umath/loops.c.src: In function ‘PyUFunc_On_Om’:\n",
      "  numpy/core/src/umath/loops.c.src:655:9: warning: ‘PyEval_CallObjectWithKeywords’ is deprecated [-Wdeprecated-declarations]\n",
      "           result = PyEval_CallObject(tocall, arglist);\n",
      "           ^\n",
      "  In file included from /home/gulce/anaconda3/include/python3.9/Python.h:154:0,\n",
      "                   from numpy/core/src/umath/loops.c.src:7:\n",
      "  /home/gulce/anaconda3/include/python3.9/ceval.h:17:43: note: declared here\n",
      "   Py_DEPRECATED(3.9) PyAPI_FUNC(PyObject *) PyEval_CallObjectWithKeywords(\n",
      "                                             ^\n",
      "  gcc: numpy/core/src/multiarray/typeinfo.c\n",
      "  gcc: numpy/core/src/multiarray/usertypes.c\n",
      "  gcc: numpy/core/src/umath/override.c\n",
      "  gcc: numpy/core/src/npymath/npy_math.c\n",
      "  gcc: build/src.linux-x86_64-3.9/numpy/core/src/npymath/ieee754.c\n",
      "  gcc: build/src.linux-x86_64-3.9/numpy/core/src/npymath/npy_math_complex.c\n",
      "  gcc: numpy/core/src/umath/extobj.c\n",
      "  gcc: numpy/core/src/npymath/halffloat.c\n",
      "  gcc: numpy/core/src/umath/cpuid.c\n",
      "  gcc: numpy/core/src/common/array_assign.c\n",
      "  gcc: build/src.linux-x86_64-3.9/numpy/core/src/umath/scalarmath.c\n",
      "  gcc: numpy/core/src/common/mem_overlap.c\n",
      "  gcc: numpy/core/src/common/npy_longdouble.c\n",
      "  gcc: numpy/core/src/common/ucsnarrow.c\n",
      "  numpy/core/src/common/ucsnarrow.c: In function ‘PyUnicode_FromUCS4’:\n",
      "  numpy/core/src/common/ucsnarrow.c:139:9: warning: ‘PyUnicode_FromUnicode’ is deprecated [-Wdeprecated-declarations]\n",
      "           ret = (PyUnicodeObject *)PyUnicode_FromUnicode((Py_UNICODE*)buf,\n",
      "           ^\n",
      "  In file included from /home/gulce/anaconda3/include/python3.9/unicodeobject.h:1026:0,\n",
      "                   from /home/gulce/anaconda3/include/python3.9/Python.h:106,\n",
      "                   from numpy/core/src/common/ucsnarrow.c:4:\n",
      "  /home/gulce/anaconda3/include/python3.9/cpython/unicodeobject.h:551:42: note: declared here\n",
      "   Py_DEPRECATED(3.3) PyAPI_FUNC(PyObject*) PyUnicode_FromUnicode(\n",
      "                                            ^\n",
      "  gcc: numpy/core/src/common/ufunc_override.c\n",
      "  gcc: numpy/core/src/common/numpyos.c\n",
      "  gcc: numpy/core/src/common/cblasfuncs.c\n",
      "  gcc: numpy/core/src/common/python_xerbla.c\n",
      "  gcc: numpy/core/src/umath/ufunc_type_resolution.c\n",
      "  gcc: numpy/core/src/multiarray/mapping.c\n",
      "  gcc: numpy/core/src/multiarray/methods.c\n",
      "  gcc: build/src.linux-x86_64-3.9/numpy/core/src/umath/matmul.c\n",
      "  gcc -pthread -B /home/gulce/anaconda3/compiler_compat -shared -Wl,-rpath,/home/gulce/anaconda3/lib -Wl,-rpath-link,/home/gulce/anaconda3/lib -L/home/gulce/anaconda3/lib -L/home/gulce/anaconda3/lib -Wl,-rpath,/home/gulce/anaconda3/lib -Wl,-rpath-link,/home/gulce/anaconda3/lib -L/home/gulce/anaconda3/lib build/temp.linux-x86_64-3.9/numpy/core/src/multiarray/alloc.o build/temp.linux-x86_64-3.9/numpy/core/src/multiarray/arrayobject.o build/temp.linux-x86_64-3.9/build/src.linux-x86_64-3.9/numpy/core/src/multiarray/arraytypes.o build/temp.linux-x86_64-3.9/numpy/core/src/multiarray/array_assign_scalar.o build/temp.linux-x86_64-3.9/numpy/core/src/multiarray/array_assign_array.o build/temp.linux-x86_64-3.9/numpy/core/src/multiarray/arrayfunction_override.o build/temp.linux-x86_64-3.9/numpy/core/src/multiarray/buffer.o build/temp.linux-x86_64-3.9/numpy/core/src/multiarray/calculation.o build/temp.linux-x86_64-3.9/numpy/core/src/multiarray/compiled_base.o build/temp.linux-x86_64-3.9/numpy/core/src/multiarray/common.o build/temp.linux-x86_64-3.9/numpy/core/src/multiarray/convert.o build/temp.linux-x86_64-3.9/numpy/core/src/multiarray/convert_datatype.o build/temp.linux-x86_64-3.9/numpy/core/src/multiarray/conversion_utils.o build/temp.linux-x86_64-3.9/numpy/core/src/multiarray/ctors.o build/temp.linux-x86_64-3.9/numpy/core/src/multiarray/datetime.o build/temp.linux-x86_64-3.9/numpy/core/src/multiarray/datetime_strings.o build/temp.linux-x86_64-3.9/numpy/core/src/multiarray/datetime_busday.o build/temp.linux-x86_64-3.9/numpy/core/src/multiarray/datetime_busdaycal.o build/temp.linux-x86_64-3.9/numpy/core/src/multiarray/descriptor.o build/temp.linux-x86_64-3.9/numpy/core/src/multiarray/dragon4.o build/temp.linux-x86_64-3.9/numpy/core/src/multiarray/dtype_transfer.o build/temp.linux-x86_64-3.9/build/src.linux-x86_64-3.9/numpy/core/src/multiarray/einsum.o build/temp.linux-x86_64-3.9/numpy/core/src/multiarray/flagsobject.o build/temp.linux-x86_64-3.9/numpy/core/src/multiarray/getset.o build/temp.linux-x86_64-3.9/numpy/core/src/multiarray/hashdescr.o build/temp.linux-x86_64-3.9/numpy/core/src/multiarray/item_selection.o build/temp.linux-x86_64-3.9/numpy/core/src/multiarray/iterators.o build/temp.linux-x86_64-3.9/build/src.linux-x86_64-3.9/numpy/core/src/multiarray/lowlevel_strided_loops.o build/temp.linux-x86_64-3.9/numpy/core/src/multiarray/mapping.o build/temp.linux-x86_64-3.9/numpy/core/src/multiarray/methods.o build/temp.linux-x86_64-3.9/numpy/core/src/multiarray/multiarraymodule.o build/temp.linux-x86_64-3.9/build/src.linux-x86_64-3.9/numpy/core/src/multiarray/nditer_templ.o build/temp.linux-x86_64-3.9/numpy/core/src/multiarray/nditer_api.o build/temp.linux-x86_64-3.9/numpy/core/src/multiarray/nditer_constr.o build/temp.linux-x86_64-3.9/numpy/core/src/multiarray/nditer_pywrap.o build/temp.linux-x86_64-3.9/numpy/core/src/multiarray/number.o build/temp.linux-x86_64-3.9/numpy/core/src/multiarray/refcount.o build/temp.linux-x86_64-3.9/numpy/core/src/multiarray/sequence.o build/temp.linux-x86_64-3.9/numpy/core/src/multiarray/shape.o build/temp.linux-x86_64-3.9/numpy/core/src/multiarray/scalarapi.o build/temp.linux-x86_64-3.9/build/src.linux-x86_64-3.9/numpy/core/src/multiarray/scalartypes.o build/temp.linux-x86_64-3.9/numpy/core/src/multiarray/strfuncs.o build/temp.linux-x86_64-3.9/numpy/core/src/multiarray/temp_elide.o build/temp.linux-x86_64-3.9/numpy/core/src/multiarray/typeinfo.o build/temp.linux-x86_64-3.9/numpy/core/src/multiarray/usertypes.o build/temp.linux-x86_64-3.9/numpy/core/src/multiarray/vdot.o build/temp.linux-x86_64-3.9/numpy/core/src/umath/umathmodule.o build/temp.linux-x86_64-3.9/numpy/core/src/umath/reduction.o build/temp.linux-x86_64-3.9/build/src.linux-x86_64-3.9/numpy/core/src/umath/loops.o build/temp.linux-x86_64-3.9/build/src.linux-x86_64-3.9/numpy/core/src/umath/matmul.o build/temp.linux-x86_64-3.9/numpy/core/src/umath/ufunc_object.o build/temp.linux-x86_64-3.9/numpy/core/src/umath/extobj.o build/temp.linux-x86_64-3.9/numpy/core/src/umath/cpuid.o build/temp.linux-x86_64-3.9/build/src.linux-x86_64-3.9/numpy/core/src/umath/scalarmath.o build/temp.linux-x86_64-3.9/numpy/core/src/umath/ufunc_type_resolution.o build/temp.linux-x86_64-3.9/numpy/core/src/umath/override.o build/temp.linux-x86_64-3.9/numpy/core/src/npymath/npy_math.o build/temp.linux-x86_64-3.9/build/src.linux-x86_64-3.9/numpy/core/src/npymath/ieee754.o build/temp.linux-x86_64-3.9/build/src.linux-x86_64-3.9/numpy/core/src/npymath/npy_math_complex.o build/temp.linux-x86_64-3.9/numpy/core/src/npymath/halffloat.o build/temp.linux-x86_64-3.9/numpy/core/src/common/array_assign.o build/temp.linux-x86_64-3.9/numpy/core/src/common/mem_overlap.o build/temp.linux-x86_64-3.9/numpy/core/src/common/npy_longdouble.o build/temp.linux-x86_64-3.9/numpy/core/src/common/ucsnarrow.o build/temp.linux-x86_64-3.9/numpy/core/src/common/ufunc_override.o build/temp.linux-x86_64-3.9/numpy/core/src/common/numpyos.o build/temp.linux-x86_64-3.9/numpy/core/src/common/cblasfuncs.o build/temp.linux-x86_64-3.9/numpy/core/src/common/python_xerbla.o -L/home/gulce/anaconda3/lib -Lbuild/temp.linux-x86_64-3.9 -lnpymath -lnpysort -lmkl_rt -lpthread -lm -o build/lib.linux-x86_64-3.9/numpy/core/_multiarray_umath.cpython-39-x86_64-linux-gnu.so\n",
      "  building 'numpy.core._umath_tests' extension\n",
      "  compiling C sources\n",
      "  C compiler: gcc -pthread -B /home/gulce/anaconda3/compiler_compat -Wno-unused-result -Wsign-compare -DNDEBUG -O2 -Wall -fPIC -O2 -isystem /home/gulce/anaconda3/include -I/home/gulce/anaconda3/include -fPIC -O2 -isystem /home/gulce/anaconda3/include -fPIC\n",
      "  \n",
      "  compile options: '-DNPY_INTERNAL_BUILD=1 -DHAVE_NPY_CONFIG_H=1 -D_FILE_OFFSET_BITS=64 -D_LARGEFILE_SOURCE=1 -D_LARGEFILE64_SOURCE=1 -Inumpy/core/include -Ibuild/src.linux-x86_64-3.9/numpy/core/include/numpy -Inumpy/core/src/common -Inumpy/core/src -Inumpy/core -Inumpy/core/src/npymath -Inumpy/core/src/multiarray -Inumpy/core/src/umath -Inumpy/core/src/npysort -I/home/gulce/anaconda3/include/python3.9 -Ibuild/src.linux-x86_64-3.9/numpy/core/src/common -Ibuild/src.linux-x86_64-3.9/numpy/core/src/npymath -Ibuild/src.linux-x86_64-3.9/numpy/core/src/common -Ibuild/src.linux-x86_64-3.9/numpy/core/src/npymath -c'\n",
      "  gcc: build/src.linux-x86_64-3.9/numpy/core/src/umath/_umath_tests.c\n",
      "  gcc -pthread -B /home/gulce/anaconda3/compiler_compat -shared -Wl,-rpath,/home/gulce/anaconda3/lib -Wl,-rpath-link,/home/gulce/anaconda3/lib -L/home/gulce/anaconda3/lib -L/home/gulce/anaconda3/lib -Wl,-rpath,/home/gulce/anaconda3/lib -Wl,-rpath-link,/home/gulce/anaconda3/lib -L/home/gulce/anaconda3/lib build/temp.linux-x86_64-3.9/build/src.linux-x86_64-3.9/numpy/core/src/umath/_umath_tests.o -Lbuild/temp.linux-x86_64-3.9 -o build/lib.linux-x86_64-3.9/numpy/core/_umath_tests.cpython-39-x86_64-linux-gnu.so\n",
      "  building 'numpy.core._rational_tests' extension\n",
      "  compiling C sources\n",
      "  C compiler: gcc -pthread -B /home/gulce/anaconda3/compiler_compat -Wno-unused-result -Wsign-compare -DNDEBUG -O2 -Wall -fPIC -O2 -isystem /home/gulce/anaconda3/include -I/home/gulce/anaconda3/include -fPIC -O2 -isystem /home/gulce/anaconda3/include -fPIC\n",
      "  \n",
      "  compile options: '-DNPY_INTERNAL_BUILD=1 -DHAVE_NPY_CONFIG_H=1 -D_FILE_OFFSET_BITS=64 -D_LARGEFILE_SOURCE=1 -D_LARGEFILE64_SOURCE=1 -Inumpy/core/include -Ibuild/src.linux-x86_64-3.9/numpy/core/include/numpy -Inumpy/core/src/common -Inumpy/core/src -Inumpy/core -Inumpy/core/src/npymath -Inumpy/core/src/multiarray -Inumpy/core/src/umath -Inumpy/core/src/npysort -I/home/gulce/anaconda3/include/python3.9 -Ibuild/src.linux-x86_64-3.9/numpy/core/src/common -Ibuild/src.linux-x86_64-3.9/numpy/core/src/npymath -Ibuild/src.linux-x86_64-3.9/numpy/core/src/common -Ibuild/src.linux-x86_64-3.9/numpy/core/src/npymath -c'\n",
      "  gcc: build/src.linux-x86_64-3.9/numpy/core/src/umath/_rational_tests.c\n",
      "  gcc -pthread -B /home/gulce/anaconda3/compiler_compat -shared -Wl,-rpath,/home/gulce/anaconda3/lib -Wl,-rpath-link,/home/gulce/anaconda3/lib -L/home/gulce/anaconda3/lib -L/home/gulce/anaconda3/lib -Wl,-rpath,/home/gulce/anaconda3/lib -Wl,-rpath-link,/home/gulce/anaconda3/lib -L/home/gulce/anaconda3/lib build/temp.linux-x86_64-3.9/build/src.linux-x86_64-3.9/numpy/core/src/umath/_rational_tests.o -Lbuild/temp.linux-x86_64-3.9 -o build/lib.linux-x86_64-3.9/numpy/core/_rational_tests.cpython-39-x86_64-linux-gnu.so\n",
      "  building 'numpy.core._struct_ufunc_tests' extension\n",
      "  compiling C sources\n",
      "  C compiler: gcc -pthread -B /home/gulce/anaconda3/compiler_compat -Wno-unused-result -Wsign-compare -DNDEBUG -O2 -Wall -fPIC -O2 -isystem /home/gulce/anaconda3/include -I/home/gulce/anaconda3/include -fPIC -O2 -isystem /home/gulce/anaconda3/include -fPIC\n",
      "  \n",
      "  compile options: '-DNPY_INTERNAL_BUILD=1 -DHAVE_NPY_CONFIG_H=1 -D_FILE_OFFSET_BITS=64 -D_LARGEFILE_SOURCE=1 -D_LARGEFILE64_SOURCE=1 -Inumpy/core/include -Ibuild/src.linux-x86_64-3.9/numpy/core/include/numpy -Inumpy/core/src/common -Inumpy/core/src -Inumpy/core -Inumpy/core/src/npymath -Inumpy/core/src/multiarray -Inumpy/core/src/umath -Inumpy/core/src/npysort -I/home/gulce/anaconda3/include/python3.9 -Ibuild/src.linux-x86_64-3.9/numpy/core/src/common -Ibuild/src.linux-x86_64-3.9/numpy/core/src/npymath -Ibuild/src.linux-x86_64-3.9/numpy/core/src/common -Ibuild/src.linux-x86_64-3.9/numpy/core/src/npymath -c'\n",
      "  gcc: build/src.linux-x86_64-3.9/numpy/core/src/umath/_struct_ufunc_tests.c\n",
      "  gcc -pthread -B /home/gulce/anaconda3/compiler_compat -shared -Wl,-rpath,/home/gulce/anaconda3/lib -Wl,-rpath-link,/home/gulce/anaconda3/lib -L/home/gulce/anaconda3/lib -L/home/gulce/anaconda3/lib -Wl,-rpath,/home/gulce/anaconda3/lib -Wl,-rpath-link,/home/gulce/anaconda3/lib -L/home/gulce/anaconda3/lib build/temp.linux-x86_64-3.9/build/src.linux-x86_64-3.9/numpy/core/src/umath/_struct_ufunc_tests.o -Lbuild/temp.linux-x86_64-3.9 -o build/lib.linux-x86_64-3.9/numpy/core/_struct_ufunc_tests.cpython-39-x86_64-linux-gnu.so\n",
      "  building 'numpy.core._operand_flag_tests' extension\n",
      "  compiling C sources\n",
      "  C compiler: gcc -pthread -B /home/gulce/anaconda3/compiler_compat -Wno-unused-result -Wsign-compare -DNDEBUG -O2 -Wall -fPIC -O2 -isystem /home/gulce/anaconda3/include -I/home/gulce/anaconda3/include -fPIC -O2 -isystem /home/gulce/anaconda3/include -fPIC\n",
      "  \n",
      "  compile options: '-DNPY_INTERNAL_BUILD=1 -DHAVE_NPY_CONFIG_H=1 -D_FILE_OFFSET_BITS=64 -D_LARGEFILE_SOURCE=1 -D_LARGEFILE64_SOURCE=1 -Inumpy/core/include -Ibuild/src.linux-x86_64-3.9/numpy/core/include/numpy -Inumpy/core/src/common -Inumpy/core/src -Inumpy/core -Inumpy/core/src/npymath -Inumpy/core/src/multiarray -Inumpy/core/src/umath -Inumpy/core/src/npysort -I/home/gulce/anaconda3/include/python3.9 -Ibuild/src.linux-x86_64-3.9/numpy/core/src/common -Ibuild/src.linux-x86_64-3.9/numpy/core/src/npymath -Ibuild/src.linux-x86_64-3.9/numpy/core/src/common -Ibuild/src.linux-x86_64-3.9/numpy/core/src/npymath -c'\n",
      "  gcc: build/src.linux-x86_64-3.9/numpy/core/src/umath/_operand_flag_tests.c\n",
      "  gcc -pthread -B /home/gulce/anaconda3/compiler_compat -shared -Wl,-rpath,/home/gulce/anaconda3/lib -Wl,-rpath-link,/home/gulce/anaconda3/lib -L/home/gulce/anaconda3/lib -L/home/gulce/anaconda3/lib -Wl,-rpath,/home/gulce/anaconda3/lib -Wl,-rpath-link,/home/gulce/anaconda3/lib -L/home/gulce/anaconda3/lib build/temp.linux-x86_64-3.9/build/src.linux-x86_64-3.9/numpy/core/src/umath/_operand_flag_tests.o -Lbuild/temp.linux-x86_64-3.9 -o build/lib.linux-x86_64-3.9/numpy/core/_operand_flag_tests.cpython-39-x86_64-linux-gnu.so\n",
      "  building 'numpy.core._multiarray_module_test' extension\n",
      "  compiling C sources\n",
      "  C compiler: gcc -pthread -B /home/gulce/anaconda3/compiler_compat -Wno-unused-result -Wsign-compare -DNDEBUG -O2 -Wall -fPIC -O2 -isystem /home/gulce/anaconda3/include -I/home/gulce/anaconda3/include -fPIC -O2 -isystem /home/gulce/anaconda3/include -fPIC\n",
      "  \n",
      "  compile options: '-DNPY_INTERNAL_BUILD=1 -DHAVE_NPY_CONFIG_H=1 -D_FILE_OFFSET_BITS=64 -D_LARGEFILE_SOURCE=1 -D_LARGEFILE64_SOURCE=1 -Inumpy/core/include -Ibuild/src.linux-x86_64-3.9/numpy/core/include/numpy -Inumpy/core/src/common -Inumpy/core/src -Inumpy/core -Inumpy/core/src/npymath -Inumpy/core/src/multiarray -Inumpy/core/src/umath -Inumpy/core/src/npysort -I/home/gulce/anaconda3/include/python3.9 -Ibuild/src.linux-x86_64-3.9/numpy/core/src/common -Ibuild/src.linux-x86_64-3.9/numpy/core/src/npymath -Ibuild/src.linux-x86_64-3.9/numpy/core/src/common -Ibuild/src.linux-x86_64-3.9/numpy/core/src/npymath -c'\n",
      "  gcc: numpy/core/src/multiarray/_multiarray_module_test.c\n",
      "  gcc -pthread -B /home/gulce/anaconda3/compiler_compat -shared -Wl,-rpath,/home/gulce/anaconda3/lib -Wl,-rpath-link,/home/gulce/anaconda3/lib -L/home/gulce/anaconda3/lib -L/home/gulce/anaconda3/lib -Wl,-rpath,/home/gulce/anaconda3/lib -Wl,-rpath-link,/home/gulce/anaconda3/lib -L/home/gulce/anaconda3/lib build/temp.linux-x86_64-3.9/numpy/core/src/multiarray/_multiarray_module_test.o -Lbuild/temp.linux-x86_64-3.9 -o build/lib.linux-x86_64-3.9/numpy/core/_multiarray_module_test.cpython-39-x86_64-linux-gnu.so\n",
      "  building 'numpy.fft.fftpack_lite' extension\n",
      "  compiling C sources\n",
      "  C compiler: gcc -pthread -B /home/gulce/anaconda3/compiler_compat -Wno-unused-result -Wsign-compare -DNDEBUG -O2 -Wall -fPIC -O2 -isystem /home/gulce/anaconda3/include -I/home/gulce/anaconda3/include -fPIC -O2 -isystem /home/gulce/anaconda3/include -fPIC\n",
      "  \n",
      "  creating build/temp.linux-x86_64-3.9/numpy/fft\n",
      "  compile options: '-Inumpy/core/include -Ibuild/src.linux-x86_64-3.9/numpy/core/include/numpy -Inumpy/core/src/common -Inumpy/core/src -Inumpy/core -Inumpy/core/src/npymath -Inumpy/core/src/multiarray -Inumpy/core/src/umath -Inumpy/core/src/npysort -I/home/gulce/anaconda3/include/python3.9 -Ibuild/src.linux-x86_64-3.9/numpy/core/src/common -Ibuild/src.linux-x86_64-3.9/numpy/core/src/npymath -Ibuild/src.linux-x86_64-3.9/numpy/core/src/common -Ibuild/src.linux-x86_64-3.9/numpy/core/src/npymath -c'\n",
      "  gcc: numpy/fft/fftpack_litemodule.cgcc: numpy/fft/fftpack.c\n",
      "  \n",
      "  gcc -pthread -B /home/gulce/anaconda3/compiler_compat -shared -Wl,-rpath,/home/gulce/anaconda3/lib -Wl,-rpath-link,/home/gulce/anaconda3/lib -L/home/gulce/anaconda3/lib -L/home/gulce/anaconda3/lib -Wl,-rpath,/home/gulce/anaconda3/lib -Wl,-rpath-link,/home/gulce/anaconda3/lib -L/home/gulce/anaconda3/lib build/temp.linux-x86_64-3.9/numpy/fft/fftpack_litemodule.o build/temp.linux-x86_64-3.9/numpy/fft/fftpack.o -Lbuild/temp.linux-x86_64-3.9 -o build/lib.linux-x86_64-3.9/numpy/fft/fftpack_lite.cpython-39-x86_64-linux-gnu.so\n",
      "  building 'numpy.linalg.lapack_lite' extension\n",
      "  compiling C sources\n",
      "  C compiler: gcc -pthread -B /home/gulce/anaconda3/compiler_compat -Wno-unused-result -Wsign-compare -DNDEBUG -O2 -Wall -fPIC -O2 -isystem /home/gulce/anaconda3/include -I/home/gulce/anaconda3/include -fPIC -O2 -isystem /home/gulce/anaconda3/include -fPIC\n",
      "  \n",
      "  creating build/temp.linux-x86_64-3.9/numpy/linalg\n",
      "  creating build/temp.linux-x86_64-3.9/numpy/linalg/lapack_lite\n",
      "  compile options: '-DSCIPY_MKL_H -DHAVE_CBLAS -I/usr/local/include -I/usr/include -I/home/gulce/anaconda3/include -Inumpy/core/include -Ibuild/src.linux-x86_64-3.9/numpy/core/include/numpy -Inumpy/core/src/common -Inumpy/core/src -Inumpy/core -Inumpy/core/src/npymath -Inumpy/core/src/multiarray -Inumpy/core/src/umath -Inumpy/core/src/npysort -I/home/gulce/anaconda3/include/python3.9 -Ibuild/src.linux-x86_64-3.9/numpy/core/src/common -Ibuild/src.linux-x86_64-3.9/numpy/core/src/npymath -Ibuild/src.linux-x86_64-3.9/numpy/core/src/common -Ibuild/src.linux-x86_64-3.9/numpy/core/src/npymath -c'\n",
      "  gcc: numpy/linalg/lapack_litemodule.cgcc: numpy/linalg/lapack_lite/python_xerbla.c\n",
      "  \n",
      "  gcc -pthread -B /home/gulce/anaconda3/compiler_compat -shared -Wl,-rpath,/home/gulce/anaconda3/lib -Wl,-rpath-link,/home/gulce/anaconda3/lib -L/home/gulce/anaconda3/lib -L/home/gulce/anaconda3/lib -Wl,-rpath,/home/gulce/anaconda3/lib -Wl,-rpath-link,/home/gulce/anaconda3/lib -L/home/gulce/anaconda3/lib build/temp.linux-x86_64-3.9/numpy/linalg/lapack_litemodule.o build/temp.linux-x86_64-3.9/numpy/linalg/lapack_lite/python_xerbla.o -L/home/gulce/anaconda3/lib -Lbuild/temp.linux-x86_64-3.9 -lmkl_rt -lpthread -o build/lib.linux-x86_64-3.9/numpy/linalg/lapack_lite.cpython-39-x86_64-linux-gnu.so\n",
      "  building 'numpy.linalg._umath_linalg' extension\n",
      "  compiling C sources\n",
      "  C compiler: gcc -pthread -B /home/gulce/anaconda3/compiler_compat -Wno-unused-result -Wsign-compare -DNDEBUG -O2 -Wall -fPIC -O2 -isystem /home/gulce/anaconda3/include -I/home/gulce/anaconda3/include -fPIC -O2 -isystem /home/gulce/anaconda3/include -fPIC\n",
      "  \n",
      "  creating build/temp.linux-x86_64-3.9/build/src.linux-x86_64-3.9/numpy/linalg\n",
      "  compile options: '-DSCIPY_MKL_H -DHAVE_CBLAS -I/usr/local/include -I/usr/include -I/home/gulce/anaconda3/include -Inumpy/core/include -Ibuild/src.linux-x86_64-3.9/numpy/core/include/numpy -Inumpy/core/src/common -Inumpy/core/src -Inumpy/core -Inumpy/core/src/npymath -Inumpy/core/src/multiarray -Inumpy/core/src/umath -Inumpy/core/src/npysort -I/home/gulce/anaconda3/include/python3.9 -Ibuild/src.linux-x86_64-3.9/numpy/core/src/common -Ibuild/src.linux-x86_64-3.9/numpy/core/src/npymath -Ibuild/src.linux-x86_64-3.9/numpy/core/src/common -Ibuild/src.linux-x86_64-3.9/numpy/core/src/npymath -c'\n",
      "  gcc: build/src.linux-x86_64-3.9/numpy/linalg/umath_linalg.c\n",
      "  gcc -pthread -B /home/gulce/anaconda3/compiler_compat -shared -Wl,-rpath,/home/gulce/anaconda3/lib -Wl,-rpath-link,/home/gulce/anaconda3/lib -L/home/gulce/anaconda3/lib -L/home/gulce/anaconda3/lib -Wl,-rpath,/home/gulce/anaconda3/lib -Wl,-rpath-link,/home/gulce/anaconda3/lib -L/home/gulce/anaconda3/lib build/temp.linux-x86_64-3.9/build/src.linux-x86_64-3.9/numpy/linalg/umath_linalg.o build/temp.linux-x86_64-3.9/numpy/linalg/lapack_lite/python_xerbla.o -L/home/gulce/anaconda3/lib -Lbuild/temp.linux-x86_64-3.9 -lnpymath -lmkl_rt -lpthread -o build/lib.linux-x86_64-3.9/numpy/linalg/_umath_linalg.cpython-39-x86_64-linux-gnu.so\n",
      "  building 'numpy.random.mtrand' extension\n",
      "  compiling C sources\n",
      "  C compiler: gcc -pthread -B /home/gulce/anaconda3/compiler_compat -Wno-unused-result -Wsign-compare -DNDEBUG -O2 -Wall -fPIC -O2 -isystem /home/gulce/anaconda3/include -I/home/gulce/anaconda3/include -fPIC -O2 -isystem /home/gulce/anaconda3/include -fPIC\n",
      "  \n",
      "  creating build/temp.linux-x86_64-3.9/numpy/random\n",
      "  creating build/temp.linux-x86_64-3.9/numpy/random/mtrand\n",
      "  compile options: '-D_FILE_OFFSET_BITS=64 -D_LARGEFILE_SOURCE=1 -D_LARGEFILE64_SOURCE=1 -Inumpy/core/include -Ibuild/src.linux-x86_64-3.9/numpy/core/include/numpy -Inumpy/core/src/common -Inumpy/core/src -Inumpy/core -Inumpy/core/src/npymath -Inumpy/core/src/multiarray -Inumpy/core/src/umath -Inumpy/core/src/npysort -I/home/gulce/anaconda3/include/python3.9 -Ibuild/src.linux-x86_64-3.9/numpy/core/src/common -Ibuild/src.linux-x86_64-3.9/numpy/core/src/npymath -Ibuild/src.linux-x86_64-3.9/numpy/core/src/common -Ibuild/src.linux-x86_64-3.9/numpy/core/src/npymath -c'\n",
      "  gcc: numpy/random/mtrand/mtrand.cgcc: numpy/random/mtrand/randomkit.c\n",
      "  gcc: numpy/random/mtrand/initarray.c\n",
      "  gcc: numpy/random/mtrand/distributions.c\n",
      "  \n",
      "  numpy/random/mtrand/mtrand.c: In function ‘__Pyx_modinit_type_init_code’:\n",
      "  numpy/random/mtrand/mtrand.c:40475:33: error: ‘PyTypeObject {aka struct _typeobject}’ has no member named ‘tp_print’\n",
      "     __pyx_type_6mtrand_RandomState.tp_print = 0;\n",
      "                                   ^\n",
      "  numpy/random/mtrand/mtrand.c: In function ‘__Pyx_ParseOptionalKeywords’:\n",
      "  numpy/random/mtrand/mtrand.c:42748:21: warning: ‘_PyUnicode_get_wstr_length’ is deprecated [-Wdeprecated-declarations]\n",
      "                       (PyUnicode_GET_SIZE(**name) != PyUnicode_GET_SIZE(key)) ? 1 :\n",
      "                       ^\n",
      "  In file included from /home/gulce/anaconda3/include/python3.9/unicodeobject.h:1026:0,\n",
      "                   from /home/gulce/anaconda3/include/python3.9/Python.h:106,\n",
      "                   from numpy/random/mtrand/mtrand.c:4:\n",
      "  /home/gulce/anaconda3/include/python3.9/cpython/unicodeobject.h:446:26: note: declared here\n",
      "   static inline Py_ssize_t _PyUnicode_get_wstr_length(PyObject *op) {\n",
      "                            ^\n",
      "  numpy/random/mtrand/mtrand.c:42748:21: warning: ‘PyUnicode_AsUnicode’ is deprecated [-Wdeprecated-declarations]\n",
      "                       (PyUnicode_GET_SIZE(**name) != PyUnicode_GET_SIZE(key)) ? 1 :\n",
      "                       ^\n",
      "  In file included from /home/gulce/anaconda3/include/python3.9/unicodeobject.h:1026:0,\n",
      "                   from /home/gulce/anaconda3/include/python3.9/Python.h:106,\n",
      "                   from numpy/random/mtrand/mtrand.c:4:\n",
      "  /home/gulce/anaconda3/include/python3.9/cpython/unicodeobject.h:580:45: note: declared here\n",
      "   Py_DEPRECATED(3.3) PyAPI_FUNC(Py_UNICODE *) PyUnicode_AsUnicode(\n",
      "                                               ^\n",
      "  numpy/random/mtrand/mtrand.c:42748:21: warning: ‘_PyUnicode_get_wstr_length’ is deprecated [-Wdeprecated-declarations]\n",
      "                       (PyUnicode_GET_SIZE(**name) != PyUnicode_GET_SIZE(key)) ? 1 :\n",
      "                       ^\n",
      "  In file included from /home/gulce/anaconda3/include/python3.9/unicodeobject.h:1026:0,\n",
      "                   from /home/gulce/anaconda3/include/python3.9/Python.h:106,\n",
      "                   from numpy/random/mtrand/mtrand.c:4:\n",
      "  /home/gulce/anaconda3/include/python3.9/cpython/unicodeobject.h:446:26: note: declared here\n",
      "   static inline Py_ssize_t _PyUnicode_get_wstr_length(PyObject *op) {\n",
      "                            ^\n",
      "  numpy/random/mtrand/mtrand.c:42748:21: warning: ‘_PyUnicode_get_wstr_length’ is deprecated [-Wdeprecated-declarations]\n",
      "                       (PyUnicode_GET_SIZE(**name) != PyUnicode_GET_SIZE(key)) ? 1 :\n",
      "                       ^\n",
      "  In file included from /home/gulce/anaconda3/include/python3.9/unicodeobject.h:1026:0,\n",
      "                   from /home/gulce/anaconda3/include/python3.9/Python.h:106,\n",
      "                   from numpy/random/mtrand/mtrand.c:4:\n",
      "  /home/gulce/anaconda3/include/python3.9/cpython/unicodeobject.h:446:26: note: declared here\n",
      "   static inline Py_ssize_t _PyUnicode_get_wstr_length(PyObject *op) {\n",
      "                            ^\n",
      "  numpy/random/mtrand/mtrand.c:42748:21: warning: ‘PyUnicode_AsUnicode’ is deprecated [-Wdeprecated-declarations]\n",
      "                       (PyUnicode_GET_SIZE(**name) != PyUnicode_GET_SIZE(key)) ? 1 :\n",
      "                       ^\n",
      "  In file included from /home/gulce/anaconda3/include/python3.9/unicodeobject.h:1026:0,\n",
      "                   from /home/gulce/anaconda3/include/python3.9/Python.h:106,\n",
      "                   from numpy/random/mtrand/mtrand.c:4:\n",
      "  /home/gulce/anaconda3/include/python3.9/cpython/unicodeobject.h:580:45: note: declared here\n",
      "   Py_DEPRECATED(3.3) PyAPI_FUNC(Py_UNICODE *) PyUnicode_AsUnicode(\n",
      "                                               ^\n",
      "  numpy/random/mtrand/mtrand.c:42748:21: warning: ‘_PyUnicode_get_wstr_length’ is deprecated [-Wdeprecated-declarations]\n",
      "                       (PyUnicode_GET_SIZE(**name) != PyUnicode_GET_SIZE(key)) ? 1 :\n",
      "                       ^\n",
      "  In file included from /home/gulce/anaconda3/include/python3.9/unicodeobject.h:1026:0,\n",
      "                   from /home/gulce/anaconda3/include/python3.9/Python.h:106,\n",
      "                   from numpy/random/mtrand/mtrand.c:4:\n",
      "  /home/gulce/anaconda3/include/python3.9/cpython/unicodeobject.h:446:26: note: declared here\n",
      "   static inline Py_ssize_t _PyUnicode_get_wstr_length(PyObject *op) {\n",
      "                            ^\n",
      "  numpy/random/mtrand/mtrand.c:42764:25: warning: ‘_PyUnicode_get_wstr_length’ is deprecated [-Wdeprecated-declarations]\n",
      "                           (PyUnicode_GET_SIZE(**argname) != PyUnicode_GET_SIZE(key)) ? 1 :\n",
      "                           ^\n",
      "  In file included from /home/gulce/anaconda3/include/python3.9/unicodeobject.h:1026:0,\n",
      "                   from /home/gulce/anaconda3/include/python3.9/Python.h:106,\n",
      "                   from numpy/random/mtrand/mtrand.c:4:\n",
      "  /home/gulce/anaconda3/include/python3.9/cpython/unicodeobject.h:446:26: note: declared here\n",
      "   static inline Py_ssize_t _PyUnicode_get_wstr_length(PyObject *op) {\n",
      "                            ^\n",
      "  numpy/random/mtrand/mtrand.c:42764:25: warning: ‘PyUnicode_AsUnicode’ is deprecated [-Wdeprecated-declarations]\n",
      "                           (PyUnicode_GET_SIZE(**argname) != PyUnicode_GET_SIZE(key)) ? 1 :\n",
      "                           ^\n",
      "  In file included from /home/gulce/anaconda3/include/python3.9/unicodeobject.h:1026:0,\n",
      "                   from /home/gulce/anaconda3/include/python3.9/Python.h:106,\n",
      "                   from numpy/random/mtrand/mtrand.c:4:\n",
      "  /home/gulce/anaconda3/include/python3.9/cpython/unicodeobject.h:580:45: note: declared here\n",
      "   Py_DEPRECATED(3.3) PyAPI_FUNC(Py_UNICODE *) PyUnicode_AsUnicode(\n",
      "                                               ^\n",
      "  numpy/random/mtrand/mtrand.c:42764:25: warning: ‘_PyUnicode_get_wstr_length’ is deprecated [-Wdeprecated-declarations]\n",
      "                           (PyUnicode_GET_SIZE(**argname) != PyUnicode_GET_SIZE(key)) ? 1 :\n",
      "                           ^\n",
      "  In file included from /home/gulce/anaconda3/include/python3.9/unicodeobject.h:1026:0,\n",
      "                   from /home/gulce/anaconda3/include/python3.9/Python.h:106,\n",
      "                   from numpy/random/mtrand/mtrand.c:4:\n",
      "  /home/gulce/anaconda3/include/python3.9/cpython/unicodeobject.h:446:26: note: declared here\n",
      "   static inline Py_ssize_t _PyUnicode_get_wstr_length(PyObject *op) {\n",
      "                            ^\n",
      "  numpy/random/mtrand/mtrand.c:42764:25: warning: ‘_PyUnicode_get_wstr_length’ is deprecated [-Wdeprecated-declarations]\n",
      "                           (PyUnicode_GET_SIZE(**argname) != PyUnicode_GET_SIZE(key)) ? 1 :\n",
      "                           ^\n",
      "  In file included from /home/gulce/anaconda3/include/python3.9/unicodeobject.h:1026:0,\n",
      "                   from /home/gulce/anaconda3/include/python3.9/Python.h:106,\n",
      "                   from numpy/random/mtrand/mtrand.c:4:\n",
      "  /home/gulce/anaconda3/include/python3.9/cpython/unicodeobject.h:446:26: note: declared here\n",
      "   static inline Py_ssize_t _PyUnicode_get_wstr_length(PyObject *op) {\n",
      "                            ^\n",
      "  numpy/random/mtrand/mtrand.c:42764:25: warning: ‘PyUnicode_AsUnicode’ is deprecated [-Wdeprecated-declarations]\n",
      "                           (PyUnicode_GET_SIZE(**argname) != PyUnicode_GET_SIZE(key)) ? 1 :\n",
      "                           ^\n",
      "  In file included from /home/gulce/anaconda3/include/python3.9/unicodeobject.h:1026:0,\n",
      "                   from /home/gulce/anaconda3/include/python3.9/Python.h:106,\n",
      "                   from numpy/random/mtrand/mtrand.c:4:\n",
      "  /home/gulce/anaconda3/include/python3.9/cpython/unicodeobject.h:580:45: note: declared here\n",
      "   Py_DEPRECATED(3.3) PyAPI_FUNC(Py_UNICODE *) PyUnicode_AsUnicode(\n",
      "                                               ^\n",
      "  numpy/random/mtrand/mtrand.c:42764:25: warning: ‘_PyUnicode_get_wstr_length’ is deprecated [-Wdeprecated-declarations]\n",
      "                           (PyUnicode_GET_SIZE(**argname) != PyUnicode_GET_SIZE(key)) ? 1 :\n",
      "                           ^\n",
      "  In file included from /home/gulce/anaconda3/include/python3.9/unicodeobject.h:1026:0,\n",
      "                   from /home/gulce/anaconda3/include/python3.9/Python.h:106,\n",
      "                   from numpy/random/mtrand/mtrand.c:4:\n",
      "  /home/gulce/anaconda3/include/python3.9/cpython/unicodeobject.h:446:26: note: declared here\n",
      "   static inline Py_ssize_t _PyUnicode_get_wstr_length(PyObject *op) {\n",
      "                            ^\n",
      "  error: Command \"gcc -pthread -B /home/gulce/anaconda3/compiler_compat -Wno-unused-result -Wsign-compare -DNDEBUG -O2 -Wall -fPIC -O2 -isystem /home/gulce/anaconda3/include -I/home/gulce/anaconda3/include -fPIC -O2 -isystem /home/gulce/anaconda3/include -fPIC -D_FILE_OFFSET_BITS=64 -D_LARGEFILE_SOURCE=1 -D_LARGEFILE64_SOURCE=1 -Inumpy/core/include -Ibuild/src.linux-x86_64-3.9/numpy/core/include/numpy -Inumpy/core/src/common -Inumpy/core/src -Inumpy/core -Inumpy/core/src/npymath -Inumpy/core/src/multiarray -Inumpy/core/src/umath -Inumpy/core/src/npysort -I/home/gulce/anaconda3/include/python3.9 -Ibuild/src.linux-x86_64-3.9/numpy/core/src/common -Ibuild/src.linux-x86_64-3.9/numpy/core/src/npymath -Ibuild/src.linux-x86_64-3.9/numpy/core/src/common -Ibuild/src.linux-x86_64-3.9/numpy/core/src/npymath -c numpy/random/mtrand/mtrand.c -o build/temp.linux-x86_64-3.9/numpy/random/mtrand/mtrand.o -MMD -MF build/temp.linux-x86_64-3.9/numpy/random/mtrand/mtrand.o.d\" failed with exit status 1\n",
      "  ----------------------------------------\u001b[0m\n",
      "\u001b[31m  ERROR: Failed building wheel for numpy\u001b[0m\n",
      "\u001b[?25h  Running setup.py clean for numpy\n",
      "\u001b[31m  ERROR: Command errored out with exit status 1:\n",
      "   command: /home/gulce/anaconda3/bin/python -u -c 'import io, os, sys, setuptools, tokenize; sys.argv[0] = '\"'\"'/tmp/pip-install-yrocl33k/numpy_487c9af5cbe94125bf2f22d4a3b8fa7c/setup.py'\"'\"'; __file__='\"'\"'/tmp/pip-install-yrocl33k/numpy_487c9af5cbe94125bf2f22d4a3b8fa7c/setup.py'\"'\"';f = getattr(tokenize, '\"'\"'open'\"'\"', open)(__file__) if os.path.exists(__file__) else io.StringIO('\"'\"'from setuptools import setup; setup()'\"'\"');code = f.read().replace('\"'\"'\\r\\n'\"'\"', '\"'\"'\\n'\"'\"');f.close();exec(compile(code, __file__, '\"'\"'exec'\"'\"'))' clean --all\n",
      "       cwd: /tmp/pip-install-yrocl33k/numpy_487c9af5cbe94125bf2f22d4a3b8fa7c\n",
      "  Complete output (10 lines):\n",
      "  Running from numpy source directory.\n",
      "  \n",
      "  `setup.py clean` is not supported, use one of the following instead:\n",
      "  \n",
      "    - `git clean -xdf` (cleans all files)\n",
      "    - `git clean -Xdf` (cleans all versioned files, doesn't touch\n",
      "                        files that aren't checked into the git repo)\n",
      "  \n",
      "  Add `--force` to your command to use it anyway if you must (unsupported).\n",
      "  \n",
      "  ----------------------------------------\u001b[0m\n",
      "\u001b[31m  ERROR: Failed cleaning build dir for numpy\u001b[0m\n",
      "Failed to build numpy\n",
      "Installing collected packages: numpy\n",
      "  Attempting uninstall: numpy\n",
      "    Found existing installation: numpy 1.20.3\n",
      "    Uninstalling numpy-1.20.3:\n",
      "      Successfully uninstalled numpy-1.20.3\n",
      "    Running setup.py install for numpy ... \u001b[?25lerror\n",
      "\u001b[31m    ERROR: Command errored out with exit status 1:\n",
      "     command: /home/gulce/anaconda3/bin/python -u -c 'import io, os, sys, setuptools, tokenize; sys.argv[0] = '\"'\"'/tmp/pip-install-yrocl33k/numpy_487c9af5cbe94125bf2f22d4a3b8fa7c/setup.py'\"'\"'; __file__='\"'\"'/tmp/pip-install-yrocl33k/numpy_487c9af5cbe94125bf2f22d4a3b8fa7c/setup.py'\"'\"';f = getattr(tokenize, '\"'\"'open'\"'\"', open)(__file__) if os.path.exists(__file__) else io.StringIO('\"'\"'from setuptools import setup; setup()'\"'\"');code = f.read().replace('\"'\"'\\r\\n'\"'\"', '\"'\"'\\n'\"'\"');f.close();exec(compile(code, __file__, '\"'\"'exec'\"'\"'))' install --record /tmp/pip-record-1fw115r2/install-record.txt --single-version-externally-managed --compile --install-headers /home/gulce/anaconda3/include/python3.9/numpy\n",
      "         cwd: /tmp/pip-install-yrocl33k/numpy_487c9af5cbe94125bf2f22d4a3b8fa7c/\n",
      "    Complete output (281 lines):\n",
      "    Running from numpy source directory.\n",
      "    \n",
      "    Note: if you need reliable uninstall behavior, then install\n",
      "    with pip instead of using `setup.py install`:\n",
      "    \n",
      "      - `pip install .`       (from a git repo or downloaded source\n",
      "                               release)\n",
      "      - `pip install numpy`   (last NumPy release on PyPi)\n",
      "    \n",
      "    \n",
      "    blas_opt_info:\n",
      "    blas_mkl_info:\n",
      "    customize UnixCCompiler\n",
      "      FOUND:\n",
      "        libraries = ['mkl_rt', 'pthread']\n",
      "        library_dirs = ['/home/gulce/anaconda3/lib']\n",
      "        define_macros = [('SCIPY_MKL_H', None), ('HAVE_CBLAS', None)]\n",
      "        include_dirs = ['/usr/local/include', '/usr/include', '/home/gulce/anaconda3/include']\n",
      "    \n",
      "      FOUND:\n",
      "        libraries = ['mkl_rt', 'pthread']\n",
      "        library_dirs = ['/home/gulce/anaconda3/lib']\n",
      "        define_macros = [('SCIPY_MKL_H', None), ('HAVE_CBLAS', None)]\n",
      "        include_dirs = ['/usr/local/include', '/usr/include', '/home/gulce/anaconda3/include']\n",
      "    \n",
      "    /bin/sh: 1: svnversion: not found\n",
      "    non-existing path in 'numpy/distutils': 'site.cfg'\n",
      "    lapack_opt_info:\n",
      "    lapack_mkl_info:\n",
      "    customize UnixCCompiler\n",
      "      FOUND:\n",
      "        libraries = ['mkl_rt', 'pthread']\n",
      "        library_dirs = ['/home/gulce/anaconda3/lib']\n",
      "        define_macros = [('SCIPY_MKL_H', None), ('HAVE_CBLAS', None)]\n",
      "        include_dirs = ['/usr/local/include', '/usr/include', '/home/gulce/anaconda3/include']\n",
      "    \n",
      "      FOUND:\n",
      "        libraries = ['mkl_rt', 'pthread']\n",
      "        library_dirs = ['/home/gulce/anaconda3/lib']\n",
      "        define_macros = [('SCIPY_MKL_H', None), ('HAVE_CBLAS', None)]\n",
      "        include_dirs = ['/usr/local/include', '/usr/include', '/home/gulce/anaconda3/include']\n",
      "    \n",
      "    /home/gulce/anaconda3/lib/python3.9/distutils/dist.py:274: UserWarning: Unknown distribution option: 'define_macros'\n",
      "      warnings.warn(msg)\n",
      "    running install\n",
      "    running build\n",
      "    running config_cc\n",
      "    unifing config_cc, config, build_clib, build_ext, build commands --compiler options\n",
      "    running config_fc\n",
      "    unifing config_fc, config, build_clib, build_ext, build commands --fcompiler options\n",
      "    running build_src\n",
      "    build_src\n",
      "    building py_modules sources\n",
      "    building library \"npymath\" sources\n",
      "    get_default_fcompiler: matching types: '['gnu95', 'intel', 'lahey', 'pg', 'absoft', 'nag', 'vast', 'compaq', 'intele', 'intelem', 'gnu', 'g95', 'pathf95', 'nagfor']'\n",
      "    customize Gnu95FCompiler\n",
      "    Could not locate executable gfortran\n",
      "    Could not locate executable f95\n",
      "    customize IntelFCompiler\n",
      "    Could not locate executable ifort\n",
      "    Could not locate executable ifc\n",
      "    customize LaheyFCompiler\n",
      "    Could not locate executable lf95\n",
      "    customize PGroupFCompiler\n",
      "    Could not locate executable pgfortran\n",
      "    customize AbsoftFCompiler\n",
      "    Could not locate executable f90\n",
      "    Could not locate executable f77\n",
      "    customize NAGFCompiler\n",
      "    customize VastFCompiler\n",
      "    customize CompaqFCompiler\n",
      "    Could not locate executable fort\n",
      "    customize IntelItaniumFCompiler\n",
      "    Could not locate executable efort\n",
      "    Could not locate executable efc\n",
      "    customize IntelEM64TFCompiler\n",
      "    customize GnuFCompiler\n",
      "    Could not locate executable g77\n",
      "    customize G95FCompiler\n",
      "    Could not locate executable g95\n",
      "    customize PathScaleFCompiler\n",
      "    Could not locate executable pathf95\n",
      "    customize NAGFORCompiler\n",
      "    Could not locate executable nagfor\n",
      "    don't know how to compile Fortran code on platform 'posix'\n",
      "    C compiler: gcc -pthread -B /home/gulce/anaconda3/compiler_compat -Wno-unused-result -Wsign-compare -DNDEBUG -O2 -Wall -fPIC -O2 -isystem /home/gulce/anaconda3/include -I/home/gulce/anaconda3/include -fPIC -O2 -isystem /home/gulce/anaconda3/include -fPIC\n",
      "    \n",
      "    compile options: '-Inumpy/core/src/common -Inumpy/core/src -Inumpy/core -Inumpy/core/src/npymath -Inumpy/core/src/multiarray -Inumpy/core/src/umath -Inumpy/core/src/npysort -I/home/gulce/anaconda3/include/python3.9 -c'\n",
      "    gcc: _configtest.c\n",
      "    gcc -pthread -B /home/gulce/anaconda3/compiler_compat _configtest.o -o _configtest\n",
      "    success!\n",
      "    removing: _configtest.c _configtest.o _configtest.o.d _configtest\n",
      "    C compiler: gcc -pthread -B /home/gulce/anaconda3/compiler_compat -Wno-unused-result -Wsign-compare -DNDEBUG -O2 -Wall -fPIC -O2 -isystem /home/gulce/anaconda3/include -I/home/gulce/anaconda3/include -fPIC -O2 -isystem /home/gulce/anaconda3/include -fPIC\n",
      "    \n",
      "    compile options: '-Inumpy/core/src/common -Inumpy/core/src -Inumpy/core -Inumpy/core/src/npymath -Inumpy/core/src/multiarray -Inumpy/core/src/umath -Inumpy/core/src/npysort -I/home/gulce/anaconda3/include/python3.9 -c'\n",
      "    gcc: _configtest.c\n",
      "    _configtest.c:1:5: warning: conflicting types for built-in function ‘exp’\n",
      "     int exp (void);\n",
      "         ^\n",
      "    gcc -pthread -B /home/gulce/anaconda3/compiler_compat _configtest.o -o _configtest\n",
      "    /home/gulce/anaconda3/compiler_compat/ld: _configtest.o: in function `main':\n",
      "    _configtest.c:(.text.startup+0x5): undefined reference to `exp'\n",
      "    collect2: error: ld returned 1 exit status\n",
      "    failure.\n",
      "    removing: _configtest.c _configtest.o _configtest.o.d\n",
      "    C compiler: gcc -pthread -B /home/gulce/anaconda3/compiler_compat -Wno-unused-result -Wsign-compare -DNDEBUG -O2 -Wall -fPIC -O2 -isystem /home/gulce/anaconda3/include -I/home/gulce/anaconda3/include -fPIC -O2 -isystem /home/gulce/anaconda3/include -fPIC\n",
      "    \n",
      "    compile options: '-Inumpy/core/src/common -Inumpy/core/src -Inumpy/core -Inumpy/core/src/npymath -Inumpy/core/src/multiarray -Inumpy/core/src/umath -Inumpy/core/src/npysort -I/home/gulce/anaconda3/include/python3.9 -c'\n",
      "    gcc: _configtest.c\n",
      "    _configtest.c:1:5: warning: conflicting types for built-in function ‘exp’\n",
      "     int exp (void);\n",
      "         ^\n",
      "    gcc -pthread -B /home/gulce/anaconda3/compiler_compat _configtest.o -lm -o _configtest\n",
      "    success!\n",
      "    removing: _configtest.c _configtest.o _configtest.o.d _configtest\n",
      "      adding 'build/src.linux-x86_64-3.9/numpy/core/src/npymath' to include_dirs.\n",
      "    None - nothing done with h_files = ['build/src.linux-x86_64-3.9/numpy/core/src/npymath/npy_math_internal.h']\n",
      "    building library \"npysort\" sources\n",
      "      adding 'build/src.linux-x86_64-3.9/numpy/core/src/common' to include_dirs.\n",
      "    None - nothing done with h_files = ['build/src.linux-x86_64-3.9/numpy/core/src/common/npy_sort.h', 'build/src.linux-x86_64-3.9/numpy/core/src/common/npy_partition.h', 'build/src.linux-x86_64-3.9/numpy/core/src/common/npy_binsearch.h']\n",
      "    building extension \"numpy.core._dummy\" sources\n",
      "      adding 'build/src.linux-x86_64-3.9/numpy/core/include/numpy/config.h' to sources.\n",
      "      adding 'build/src.linux-x86_64-3.9/numpy/core/include/numpy/_numpyconfig.h' to sources.\n",
      "    executing numpy/core/code_generators/generate_numpy_api.py\n",
      "      adding 'build/src.linux-x86_64-3.9/numpy/core/include/numpy/__multiarray_api.h' to sources.\n",
      "    numpy.core - nothing done with h_files = ['build/src.linux-x86_64-3.9/numpy/core/include/numpy/config.h', 'build/src.linux-x86_64-3.9/numpy/core/include/numpy/_numpyconfig.h', 'build/src.linux-x86_64-3.9/numpy/core/include/numpy/__multiarray_api.h']\n",
      "    building extension \"numpy.core._multiarray_tests\" sources\n",
      "    building extension \"numpy.core._multiarray_umath\" sources\n",
      "      adding 'build/src.linux-x86_64-3.9/numpy/core/include/numpy/config.h' to sources.\n",
      "      adding 'build/src.linux-x86_64-3.9/numpy/core/include/numpy/_numpyconfig.h' to sources.\n",
      "    executing numpy/core/code_generators/generate_numpy_api.py\n",
      "      adding 'build/src.linux-x86_64-3.9/numpy/core/include/numpy/__multiarray_api.h' to sources.\n",
      "    executing numpy/core/code_generators/generate_ufunc_api.py\n",
      "      adding 'build/src.linux-x86_64-3.9/numpy/core/include/numpy/__ufunc_api.h' to sources.\n",
      "      adding 'build/src.linux-x86_64-3.9/numpy/core/src/umath' to include_dirs.\n",
      "      adding 'build/src.linux-x86_64-3.9/numpy/core/src/npymath' to include_dirs.\n",
      "      adding 'build/src.linux-x86_64-3.9/numpy/core/src/common' to include_dirs.\n",
      "    numpy.core - nothing done with h_files = ['build/src.linux-x86_64-3.9/numpy/core/src/umath/funcs.inc', 'build/src.linux-x86_64-3.9/numpy/core/src/umath/simd.inc', 'build/src.linux-x86_64-3.9/numpy/core/src/umath/loops.h', 'build/src.linux-x86_64-3.9/numpy/core/src/umath/matmul.h', 'build/src.linux-x86_64-3.9/numpy/core/src/npymath/npy_math_internal.h', 'build/src.linux-x86_64-3.9/numpy/core/src/common/templ_common.h', 'build/src.linux-x86_64-3.9/numpy/core/include/numpy/config.h', 'build/src.linux-x86_64-3.9/numpy/core/include/numpy/_numpyconfig.h', 'build/src.linux-x86_64-3.9/numpy/core/include/numpy/__multiarray_api.h', 'build/src.linux-x86_64-3.9/numpy/core/include/numpy/__ufunc_api.h']\n",
      "    building extension \"numpy.core._umath_tests\" sources\n",
      "    building extension \"numpy.core._rational_tests\" sources\n",
      "    building extension \"numpy.core._struct_ufunc_tests\" sources\n",
      "    building extension \"numpy.core._operand_flag_tests\" sources\n",
      "    building extension \"numpy.core._multiarray_module_test\" sources\n",
      "    building extension \"numpy.fft.fftpack_lite\" sources\n",
      "    building extension \"numpy.linalg.lapack_lite\" sources\n",
      "      adding 'numpy/linalg/lapack_lite/python_xerbla.c' to sources.\n",
      "    building extension \"numpy.linalg._umath_linalg\" sources\n",
      "      adding 'numpy/linalg/lapack_lite/python_xerbla.c' to sources.\n",
      "    building extension \"numpy.random.mtrand\" sources\n",
      "    building data_files sources\n",
      "    build_src: building npy-pkg config files\n",
      "    running build_py\n",
      "    copying numpy/version.py -> build/lib.linux-x86_64-3.9/numpy\n",
      "    copying build/src.linux-x86_64-3.9/numpy/__config__.py -> build/lib.linux-x86_64-3.9/numpy\n",
      "    copying build/src.linux-x86_64-3.9/numpy/distutils/__config__.py -> build/lib.linux-x86_64-3.9/numpy/distutils\n",
      "    running build_clib\n",
      "    customize UnixCCompiler\n",
      "    customize UnixCCompiler using build_clib\n",
      "    running build_ext\n",
      "    customize UnixCCompiler\n",
      "    customize UnixCCompiler using build_ext\n",
      "    building 'numpy.random.mtrand' extension\n",
      "    compiling C sources\n",
      "    C compiler: gcc -pthread -B /home/gulce/anaconda3/compiler_compat -Wno-unused-result -Wsign-compare -DNDEBUG -O2 -Wall -fPIC -O2 -isystem /home/gulce/anaconda3/include -I/home/gulce/anaconda3/include -fPIC -O2 -isystem /home/gulce/anaconda3/include -fPIC\n",
      "    \n",
      "    compile options: '-D_FILE_OFFSET_BITS=64 -D_LARGEFILE_SOURCE=1 -D_LARGEFILE64_SOURCE=1 -Inumpy/core/include -Ibuild/src.linux-x86_64-3.9/numpy/core/include/numpy -Inumpy/core/src/common -Inumpy/core/src -Inumpy/core -Inumpy/core/src/npymath -Inumpy/core/src/multiarray -Inumpy/core/src/umath -Inumpy/core/src/npysort -I/home/gulce/anaconda3/include/python3.9 -Ibuild/src.linux-x86_64-3.9/numpy/core/src/common -Ibuild/src.linux-x86_64-3.9/numpy/core/src/npymath -Ibuild/src.linux-x86_64-3.9/numpy/core/src/common -Ibuild/src.linux-x86_64-3.9/numpy/core/src/npymath -c'\n",
      "    gcc: numpy/random/mtrand/mtrand.c\n",
      "    numpy/random/mtrand/mtrand.c: In function ‘__Pyx_modinit_type_init_code’:\n",
      "    numpy/random/mtrand/mtrand.c:40475:33: error: ‘PyTypeObject {aka struct _typeobject}’ has no member named ‘tp_print’\n",
      "       __pyx_type_6mtrand_RandomState.tp_print = 0;\n",
      "                                     ^\n",
      "    numpy/random/mtrand/mtrand.c: In function ‘__Pyx_ParseOptionalKeywords’:\n",
      "    numpy/random/mtrand/mtrand.c:42748:21: warning: ‘_PyUnicode_get_wstr_length’ is deprecated [-Wdeprecated-declarations]\n",
      "                         (PyUnicode_GET_SIZE(**name) != PyUnicode_GET_SIZE(key)) ? 1 :\n",
      "                         ^\n",
      "    In file included from /home/gulce/anaconda3/include/python3.9/unicodeobject.h:1026:0,\n",
      "                     from /home/gulce/anaconda3/include/python3.9/Python.h:106,\n",
      "                     from numpy/random/mtrand/mtrand.c:4:\n",
      "    /home/gulce/anaconda3/include/python3.9/cpython/unicodeobject.h:446:26: note: declared here\n",
      "     static inline Py_ssize_t _PyUnicode_get_wstr_length(PyObject *op) {\n",
      "                              ^\n",
      "    numpy/random/mtrand/mtrand.c:42748:21: warning: ‘PyUnicode_AsUnicode’ is deprecated [-Wdeprecated-declarations]\n",
      "                         (PyUnicode_GET_SIZE(**name) != PyUnicode_GET_SIZE(key)) ? 1 :\n",
      "                         ^\n",
      "    In file included from /home/gulce/anaconda3/include/python3.9/unicodeobject.h:1026:0,\n",
      "                     from /home/gulce/anaconda3/include/python3.9/Python.h:106,\n",
      "                     from numpy/random/mtrand/mtrand.c:4:\n",
      "    /home/gulce/anaconda3/include/python3.9/cpython/unicodeobject.h:580:45: note: declared here\n",
      "     Py_DEPRECATED(3.3) PyAPI_FUNC(Py_UNICODE *) PyUnicode_AsUnicode(\n",
      "                                                 ^\n",
      "    numpy/random/mtrand/mtrand.c:42748:21: warning: ‘_PyUnicode_get_wstr_length’ is deprecated [-Wdeprecated-declarations]\n",
      "                         (PyUnicode_GET_SIZE(**name) != PyUnicode_GET_SIZE(key)) ? 1 :\n",
      "                         ^\n",
      "    In file included from /home/gulce/anaconda3/include/python3.9/unicodeobject.h:1026:0,\n",
      "                     from /home/gulce/anaconda3/include/python3.9/Python.h:106,\n",
      "                     from numpy/random/mtrand/mtrand.c:4:\n",
      "    /home/gulce/anaconda3/include/python3.9/cpython/unicodeobject.h:446:26: note: declared here\n",
      "     static inline Py_ssize_t _PyUnicode_get_wstr_length(PyObject *op) {\n",
      "                              ^\n",
      "    numpy/random/mtrand/mtrand.c:42748:21: warning: ‘_PyUnicode_get_wstr_length’ is deprecated [-Wdeprecated-declarations]\n",
      "                         (PyUnicode_GET_SIZE(**name) != PyUnicode_GET_SIZE(key)) ? 1 :\n",
      "                         ^\n",
      "    In file included from /home/gulce/anaconda3/include/python3.9/unicodeobject.h:1026:0,\n",
      "                     from /home/gulce/anaconda3/include/python3.9/Python.h:106,\n",
      "                     from numpy/random/mtrand/mtrand.c:4:\n",
      "    /home/gulce/anaconda3/include/python3.9/cpython/unicodeobject.h:446:26: note: declared here\n",
      "     static inline Py_ssize_t _PyUnicode_get_wstr_length(PyObject *op) {\n",
      "                              ^\n",
      "    numpy/random/mtrand/mtrand.c:42748:21: warning: ‘PyUnicode_AsUnicode’ is deprecated [-Wdeprecated-declarations]\n",
      "                         (PyUnicode_GET_SIZE(**name) != PyUnicode_GET_SIZE(key)) ? 1 :\n",
      "                         ^\n",
      "    In file included from /home/gulce/anaconda3/include/python3.9/unicodeobject.h:1026:0,\n",
      "                     from /home/gulce/anaconda3/include/python3.9/Python.h:106,\n",
      "                     from numpy/random/mtrand/mtrand.c:4:\n",
      "    /home/gulce/anaconda3/include/python3.9/cpython/unicodeobject.h:580:45: note: declared here\n",
      "     Py_DEPRECATED(3.3) PyAPI_FUNC(Py_UNICODE *) PyUnicode_AsUnicode(\n",
      "                                                 ^\n",
      "    numpy/random/mtrand/mtrand.c:42748:21: warning: ‘_PyUnicode_get_wstr_length’ is deprecated [-Wdeprecated-declarations]\n",
      "                         (PyUnicode_GET_SIZE(**name) != PyUnicode_GET_SIZE(key)) ? 1 :\n",
      "                         ^\n",
      "    In file included from /home/gulce/anaconda3/include/python3.9/unicodeobject.h:1026:0,\n",
      "                     from /home/gulce/anaconda3/include/python3.9/Python.h:106,\n",
      "                     from numpy/random/mtrand/mtrand.c:4:\n",
      "    /home/gulce/anaconda3/include/python3.9/cpython/unicodeobject.h:446:26: note: declared here\n",
      "     static inline Py_ssize_t _PyUnicode_get_wstr_length(PyObject *op) {\n",
      "                              ^\n",
      "    numpy/random/mtrand/mtrand.c:42764:25: warning: ‘_PyUnicode_get_wstr_length’ is deprecated [-Wdeprecated-declarations]\n",
      "                             (PyUnicode_GET_SIZE(**argname) != PyUnicode_GET_SIZE(key)) ? 1 :\n",
      "                             ^\n",
      "    In file included from /home/gulce/anaconda3/include/python3.9/unicodeobject.h:1026:0,\n",
      "                     from /home/gulce/anaconda3/include/python3.9/Python.h:106,\n",
      "                     from numpy/random/mtrand/mtrand.c:4:\n",
      "    /home/gulce/anaconda3/include/python3.9/cpython/unicodeobject.h:446:26: note: declared here\n",
      "     static inline Py_ssize_t _PyUnicode_get_wstr_length(PyObject *op) {\n",
      "                              ^\n",
      "    numpy/random/mtrand/mtrand.c:42764:25: warning: ‘PyUnicode_AsUnicode’ is deprecated [-Wdeprecated-declarations]\n",
      "                             (PyUnicode_GET_SIZE(**argname) != PyUnicode_GET_SIZE(key)) ? 1 :\n",
      "                             ^\n",
      "    In file included from /home/gulce/anaconda3/include/python3.9/unicodeobject.h:1026:0,\n",
      "                     from /home/gulce/anaconda3/include/python3.9/Python.h:106,\n",
      "                     from numpy/random/mtrand/mtrand.c:4:\n",
      "    /home/gulce/anaconda3/include/python3.9/cpython/unicodeobject.h:580:45: note: declared here\n",
      "     Py_DEPRECATED(3.3) PyAPI_FUNC(Py_UNICODE *) PyUnicode_AsUnicode(\n",
      "                                                 ^\n",
      "    numpy/random/mtrand/mtrand.c:42764:25: warning: ‘_PyUnicode_get_wstr_length’ is deprecated [-Wdeprecated-declarations]\n",
      "                             (PyUnicode_GET_SIZE(**argname) != PyUnicode_GET_SIZE(key)) ? 1 :\n",
      "                             ^\n",
      "    In file included from /home/gulce/anaconda3/include/python3.9/unicodeobject.h:1026:0,\n",
      "                     from /home/gulce/anaconda3/include/python3.9/Python.h:106,\n",
      "                     from numpy/random/mtrand/mtrand.c:4:\n",
      "    /home/gulce/anaconda3/include/python3.9/cpython/unicodeobject.h:446:26: note: declared here\n",
      "     static inline Py_ssize_t _PyUnicode_get_wstr_length(PyObject *op) {\n",
      "                              ^\n",
      "    numpy/random/mtrand/mtrand.c:42764:25: warning: ‘_PyUnicode_get_wstr_length’ is deprecated [-Wdeprecated-declarations]\n",
      "                             (PyUnicode_GET_SIZE(**argname) != PyUnicode_GET_SIZE(key)) ? 1 :\n",
      "                             ^\n",
      "    In file included from /home/gulce/anaconda3/include/python3.9/unicodeobject.h:1026:0,\n",
      "                     from /home/gulce/anaconda3/include/python3.9/Python.h:106,\n",
      "                     from numpy/random/mtrand/mtrand.c:4:\n",
      "    /home/gulce/anaconda3/include/python3.9/cpython/unicodeobject.h:446:26: note: declared here\n",
      "     static inline Py_ssize_t _PyUnicode_get_wstr_length(PyObject *op) {\n",
      "                              ^\n",
      "    numpy/random/mtrand/mtrand.c:42764:25: warning: ‘PyUnicode_AsUnicode’ is deprecated [-Wdeprecated-declarations]\n",
      "                             (PyUnicode_GET_SIZE(**argname) != PyUnicode_GET_SIZE(key)) ? 1 :\n",
      "                             ^\n",
      "    In file included from /home/gulce/anaconda3/include/python3.9/unicodeobject.h:1026:0,\n",
      "                     from /home/gulce/anaconda3/include/python3.9/Python.h:106,\n",
      "                     from numpy/random/mtrand/mtrand.c:4:\n",
      "    /home/gulce/anaconda3/include/python3.9/cpython/unicodeobject.h:580:45: note: declared here\n",
      "     Py_DEPRECATED(3.3) PyAPI_FUNC(Py_UNICODE *) PyUnicode_AsUnicode(\n",
      "                                                 ^\n",
      "    numpy/random/mtrand/mtrand.c:42764:25: warning: ‘_PyUnicode_get_wstr_length’ is deprecated [-Wdeprecated-declarations]\n",
      "                             (PyUnicode_GET_SIZE(**argname) != PyUnicode_GET_SIZE(key)) ? 1 :\n",
      "                             ^\n",
      "    In file included from /home/gulce/anaconda3/include/python3.9/unicodeobject.h:1026:0,\n",
      "                     from /home/gulce/anaconda3/include/python3.9/Python.h:106,\n",
      "                     from numpy/random/mtrand/mtrand.c:4:\n",
      "    /home/gulce/anaconda3/include/python3.9/cpython/unicodeobject.h:446:26: note: declared here\n",
      "     static inline Py_ssize_t _PyUnicode_get_wstr_length(PyObject *op) {\n",
      "                              ^\n",
      "    error: Command \"gcc -pthread -B /home/gulce/anaconda3/compiler_compat -Wno-unused-result -Wsign-compare -DNDEBUG -O2 -Wall -fPIC -O2 -isystem /home/gulce/anaconda3/include -I/home/gulce/anaconda3/include -fPIC -O2 -isystem /home/gulce/anaconda3/include -fPIC -D_FILE_OFFSET_BITS=64 -D_LARGEFILE_SOURCE=1 -D_LARGEFILE64_SOURCE=1 -Inumpy/core/include -Ibuild/src.linux-x86_64-3.9/numpy/core/include/numpy -Inumpy/core/src/common -Inumpy/core/src -Inumpy/core -Inumpy/core/src/npymath -Inumpy/core/src/multiarray -Inumpy/core/src/umath -Inumpy/core/src/npysort -I/home/gulce/anaconda3/include/python3.9 -Ibuild/src.linux-x86_64-3.9/numpy/core/src/common -Ibuild/src.linux-x86_64-3.9/numpy/core/src/npymath -Ibuild/src.linux-x86_64-3.9/numpy/core/src/common -Ibuild/src.linux-x86_64-3.9/numpy/core/src/npymath -c numpy/random/mtrand/mtrand.c -o build/temp.linux-x86_64-3.9/numpy/random/mtrand/mtrand.o -MMD -MF build/temp.linux-x86_64-3.9/numpy/random/mtrand/mtrand.o.d\" failed with exit status 1\n",
      "    ----------------------------------------\u001b[0m\n",
      "\u001b[?25h  Rolling back uninstall of numpy\n",
      "  Moving to /home/gulce/anaconda3/bin/f2py\n",
      "   from /tmp/pip-uninstall-dcn02f0m/f2py\n",
      "  Moving to /home/gulce/anaconda3/bin/f2py3\n",
      "   from /tmp/pip-uninstall-dcn02f0m/f2py3\n",
      "  Moving to /home/gulce/anaconda3/bin/f2py3.9\n",
      "   from /tmp/pip-uninstall-dcn02f0m/f2py3.9\n",
      "  Moving to /home/gulce/anaconda3/lib/python3.9/site-packages/numpy-1.20.3.dist-info/\n",
      "   from /home/gulce/anaconda3/lib/python3.9/site-packages/~umpy-1.20.3.dist-info\n",
      "  Moving to /home/gulce/anaconda3/lib/python3.9/site-packages/numpy/\n",
      "   from /home/gulce/anaconda3/lib/python3.9/site-packages/~umpy\n",
      "\u001b[31mERROR: Command errored out with exit status 1: /home/gulce/anaconda3/bin/python -u -c 'import io, os, sys, setuptools, tokenize; sys.argv[0] = '\"'\"'/tmp/pip-install-yrocl33k/numpy_487c9af5cbe94125bf2f22d4a3b8fa7c/setup.py'\"'\"'; __file__='\"'\"'/tmp/pip-install-yrocl33k/numpy_487c9af5cbe94125bf2f22d4a3b8fa7c/setup.py'\"'\"';f = getattr(tokenize, '\"'\"'open'\"'\"', open)(__file__) if os.path.exists(__file__) else io.StringIO('\"'\"'from setuptools import setup; setup()'\"'\"');code = f.read().replace('\"'\"'\\r\\n'\"'\"', '\"'\"'\\n'\"'\"');f.close();exec(compile(code, __file__, '\"'\"'exec'\"'\"'))' install --record /tmp/pip-record-1fw115r2/install-record.txt --single-version-externally-managed --compile --install-headers /home/gulce/anaconda3/include/python3.9/numpy Check the logs for full command output.\u001b[0m\n"
     ]
    }
   ],
   "source": [
    "!pip install numpy==1.16.1"
   ]
  },
  {
   "cell_type": "code",
   "execution_count": null,
   "metadata": {},
   "outputs": [],
   "source": []
  },
  {
   "cell_type": "code",
   "execution_count": 96,
   "metadata": {},
   "outputs": [],
   "source": [
    "from catboost import CatBoostRegressor"
   ]
  },
  {
   "cell_type": "code",
   "execution_count": 97,
   "metadata": {
    "collapsed": true,
    "jupyter": {
     "outputs_hidden": true
    },
    "tags": []
   },
   "outputs": [
    {
     "name": "stdout",
     "output_type": "stream",
     "text": [
      "Learning rate set to 0.031674\n",
      "0:\tlearn: 441.4961324\ttotal: 46ms\tremaining: 46s\n",
      "1:\tlearn: 437.9873259\ttotal: 46.7ms\tremaining: 23.3s\n",
      "2:\tlearn: 434.1507640\ttotal: 47.2ms\tremaining: 15.7s\n",
      "3:\tlearn: 431.0240626\ttotal: 47.6ms\tremaining: 11.8s\n",
      "4:\tlearn: 428.2297295\ttotal: 48.4ms\tremaining: 9.64s\n",
      "5:\tlearn: 425.3570386\ttotal: 49.4ms\tremaining: 8.19s\n",
      "6:\tlearn: 422.6244645\ttotal: 50.8ms\tremaining: 7.21s\n",
      "7:\tlearn: 419.9874827\ttotal: 51.3ms\tremaining: 6.36s\n",
      "8:\tlearn: 417.6407599\ttotal: 51.8ms\tremaining: 5.7s\n",
      "9:\tlearn: 415.1051813\ttotal: 52.3ms\tremaining: 5.17s\n",
      "10:\tlearn: 413.1276967\ttotal: 52.8ms\tremaining: 4.74s\n",
      "11:\tlearn: 410.6678868\ttotal: 53.2ms\tremaining: 4.38s\n",
      "12:\tlearn: 408.6757418\ttotal: 53.7ms\tremaining: 4.07s\n",
      "13:\tlearn: 406.6158944\ttotal: 54.1ms\tremaining: 3.81s\n",
      "14:\tlearn: 404.6180363\ttotal: 54.6ms\tremaining: 3.58s\n",
      "15:\tlearn: 402.8324485\ttotal: 55ms\tremaining: 3.38s\n",
      "16:\tlearn: 401.0009507\ttotal: 55.6ms\tremaining: 3.22s\n",
      "17:\tlearn: 399.5833881\ttotal: 56.1ms\tremaining: 3.06s\n",
      "18:\tlearn: 397.8911357\ttotal: 56.6ms\tremaining: 2.92s\n",
      "19:\tlearn: 396.2159128\ttotal: 57.1ms\tremaining: 2.8s\n",
      "20:\tlearn: 394.6552651\ttotal: 57.6ms\tremaining: 2.68s\n",
      "21:\tlearn: 392.8882699\ttotal: 58ms\tremaining: 2.58s\n",
      "22:\tlearn: 391.7222925\ttotal: 58.5ms\tremaining: 2.48s\n",
      "23:\tlearn: 390.5661659\ttotal: 59ms\tremaining: 2.4s\n",
      "24:\tlearn: 389.6207233\ttotal: 59.5ms\tremaining: 2.32s\n",
      "25:\tlearn: 388.5027502\ttotal: 59.9ms\tremaining: 2.25s\n",
      "26:\tlearn: 387.6381120\ttotal: 60.3ms\tremaining: 2.17s\n",
      "27:\tlearn: 386.5683244\ttotal: 60.6ms\tremaining: 2.1s\n",
      "28:\tlearn: 385.7776215\ttotal: 60.9ms\tremaining: 2.04s\n",
      "29:\tlearn: 384.8530536\ttotal: 61.3ms\tremaining: 1.98s\n",
      "30:\tlearn: 383.9655037\ttotal: 61.9ms\tremaining: 1.94s\n",
      "31:\tlearn: 383.2145636\ttotal: 62.4ms\tremaining: 1.89s\n",
      "32:\tlearn: 382.5373602\ttotal: 62.9ms\tremaining: 1.84s\n",
      "33:\tlearn: 381.7339107\ttotal: 63.3ms\tremaining: 1.8s\n",
      "34:\tlearn: 380.8487600\ttotal: 63.8ms\tremaining: 1.76s\n",
      "35:\tlearn: 380.1386593\ttotal: 64ms\tremaining: 1.71s\n",
      "36:\tlearn: 379.2779881\ttotal: 65.1ms\tremaining: 1.69s\n",
      "37:\tlearn: 378.7575343\ttotal: 65.4ms\tremaining: 1.66s\n",
      "38:\tlearn: 377.8008609\ttotal: 65.9ms\tremaining: 1.62s\n",
      "39:\tlearn: 377.2216443\ttotal: 66.4ms\tremaining: 1.59s\n",
      "40:\tlearn: 376.5107842\ttotal: 66.9ms\tremaining: 1.56s\n",
      "41:\tlearn: 375.7726544\ttotal: 67.4ms\tremaining: 1.54s\n",
      "42:\tlearn: 375.1242586\ttotal: 67.9ms\tremaining: 1.51s\n",
      "43:\tlearn: 374.6917001\ttotal: 68.4ms\tremaining: 1.49s\n",
      "44:\tlearn: 374.1090125\ttotal: 68.9ms\tremaining: 1.46s\n",
      "45:\tlearn: 373.5133054\ttotal: 69.5ms\tremaining: 1.44s\n",
      "46:\tlearn: 372.9917175\ttotal: 70.1ms\tremaining: 1.42s\n",
      "47:\tlearn: 372.5549985\ttotal: 70.6ms\tremaining: 1.4s\n",
      "48:\tlearn: 371.9192632\ttotal: 71.1ms\tremaining: 1.38s\n",
      "49:\tlearn: 371.5495129\ttotal: 71.6ms\tremaining: 1.36s\n",
      "50:\tlearn: 371.2446619\ttotal: 72ms\tremaining: 1.34s\n",
      "51:\tlearn: 370.8573380\ttotal: 72.5ms\tremaining: 1.32s\n",
      "52:\tlearn: 370.2406699\ttotal: 73ms\tremaining: 1.3s\n",
      "53:\tlearn: 369.7717017\ttotal: 73.5ms\tremaining: 1.29s\n",
      "54:\tlearn: 369.4614844\ttotal: 74ms\tremaining: 1.27s\n",
      "55:\tlearn: 369.2152625\ttotal: 74.5ms\tremaining: 1.26s\n",
      "56:\tlearn: 368.8082753\ttotal: 77.3ms\tremaining: 1.28s\n",
      "57:\tlearn: 368.4354340\ttotal: 79.2ms\tremaining: 1.29s\n",
      "58:\tlearn: 368.2526857\ttotal: 79.8ms\tremaining: 1.27s\n",
      "59:\tlearn: 367.8801245\ttotal: 80.4ms\tremaining: 1.26s\n",
      "60:\tlearn: 367.6259582\ttotal: 80.9ms\tremaining: 1.25s\n",
      "61:\tlearn: 367.4148213\ttotal: 81.5ms\tremaining: 1.23s\n",
      "62:\tlearn: 366.9057761\ttotal: 82ms\tremaining: 1.22s\n",
      "63:\tlearn: 366.7281177\ttotal: 82.5ms\tremaining: 1.21s\n",
      "64:\tlearn: 366.3296781\ttotal: 83.1ms\tremaining: 1.2s\n",
      "65:\tlearn: 365.8714595\ttotal: 83.7ms\tremaining: 1.19s\n",
      "66:\tlearn: 365.6561981\ttotal: 84.3ms\tremaining: 1.17s\n",
      "67:\tlearn: 365.2296943\ttotal: 84.8ms\tremaining: 1.16s\n",
      "68:\tlearn: 364.9968200\ttotal: 85.3ms\tremaining: 1.15s\n",
      "69:\tlearn: 364.9149959\ttotal: 85.8ms\tremaining: 1.14s\n",
      "70:\tlearn: 364.6059536\ttotal: 86.6ms\tremaining: 1.13s\n",
      "71:\tlearn: 364.2419286\ttotal: 87.1ms\tremaining: 1.12s\n",
      "72:\tlearn: 363.9446889\ttotal: 87.6ms\tremaining: 1.11s\n",
      "73:\tlearn: 363.4366193\ttotal: 88.1ms\tremaining: 1.1s\n",
      "74:\tlearn: 363.2940529\ttotal: 88.6ms\tremaining: 1.09s\n",
      "75:\tlearn: 363.0363243\ttotal: 89.1ms\tremaining: 1.08s\n",
      "76:\tlearn: 362.7302901\ttotal: 89.6ms\tremaining: 1.07s\n",
      "77:\tlearn: 362.4406971\ttotal: 90.1ms\tremaining: 1.06s\n",
      "78:\tlearn: 361.7870595\ttotal: 90.6ms\tremaining: 1.06s\n",
      "79:\tlearn: 361.5862371\ttotal: 91.1ms\tremaining: 1.05s\n",
      "80:\tlearn: 361.4058882\ttotal: 91.6ms\tremaining: 1.04s\n",
      "81:\tlearn: 361.3287494\ttotal: 92ms\tremaining: 1.03s\n",
      "82:\tlearn: 360.9063804\ttotal: 92.5ms\tremaining: 1.02s\n",
      "83:\tlearn: 360.7325730\ttotal: 93ms\tremaining: 1.01s\n",
      "84:\tlearn: 360.3919312\ttotal: 93.5ms\tremaining: 1.01s\n",
      "85:\tlearn: 360.1414841\ttotal: 94ms\tremaining: 999ms\n",
      "86:\tlearn: 360.0049839\ttotal: 94.5ms\tremaining: 992ms\n",
      "87:\tlearn: 359.8930715\ttotal: 95ms\tremaining: 985ms\n",
      "88:\tlearn: 359.7540603\ttotal: 95.4ms\tremaining: 977ms\n",
      "89:\tlearn: 359.5193501\ttotal: 95.9ms\tremaining: 970ms\n",
      "90:\tlearn: 359.0348453\ttotal: 96.4ms\tremaining: 963ms\n",
      "91:\tlearn: 358.5674468\ttotal: 97.1ms\tremaining: 958ms\n",
      "92:\tlearn: 358.3243633\ttotal: 97.6ms\tremaining: 952ms\n",
      "93:\tlearn: 358.0638260\ttotal: 98.2ms\tremaining: 946ms\n",
      "94:\tlearn: 357.7656465\ttotal: 98.7ms\tremaining: 940ms\n",
      "95:\tlearn: 357.3438311\ttotal: 99.2ms\tremaining: 934ms\n",
      "96:\tlearn: 357.2722976\ttotal: 99.7ms\tremaining: 928ms\n",
      "97:\tlearn: 356.8804838\ttotal: 100ms\tremaining: 922ms\n",
      "98:\tlearn: 356.6864801\ttotal: 101ms\tremaining: 917ms\n",
      "99:\tlearn: 356.5626645\ttotal: 101ms\tremaining: 911ms\n",
      "100:\tlearn: 356.3682482\ttotal: 102ms\tremaining: 905ms\n",
      "101:\tlearn: 356.2796414\ttotal: 102ms\tremaining: 898ms\n",
      "102:\tlearn: 356.0419724\ttotal: 102ms\tremaining: 892ms\n",
      "103:\tlearn: 355.9848917\ttotal: 103ms\tremaining: 885ms\n",
      "104:\tlearn: 355.8512103\ttotal: 103ms\tremaining: 880ms\n",
      "105:\tlearn: 355.7504107\ttotal: 104ms\tremaining: 875ms\n",
      "106:\tlearn: 355.3482969\ttotal: 104ms\tremaining: 870ms\n",
      "107:\tlearn: 355.0853419\ttotal: 105ms\tremaining: 865ms\n",
      "108:\tlearn: 354.7212411\ttotal: 105ms\tremaining: 860ms\n",
      "109:\tlearn: 354.5948034\ttotal: 106ms\tremaining: 855ms\n",
      "110:\tlearn: 354.4189267\ttotal: 106ms\tremaining: 851ms\n",
      "111:\tlearn: 354.2169176\ttotal: 107ms\tremaining: 846ms\n",
      "112:\tlearn: 354.0455169\ttotal: 107ms\tremaining: 842ms\n",
      "113:\tlearn: 353.7665414\ttotal: 108ms\tremaining: 837ms\n",
      "114:\tlearn: 353.7128098\ttotal: 108ms\tremaining: 831ms\n",
      "115:\tlearn: 353.6803623\ttotal: 109ms\tremaining: 827ms\n",
      "116:\tlearn: 353.5647013\ttotal: 109ms\tremaining: 822ms\n",
      "117:\tlearn: 353.4426614\ttotal: 109ms\tremaining: 818ms\n",
      "118:\tlearn: 353.3545267\ttotal: 110ms\tremaining: 814ms\n",
      "119:\tlearn: 353.3279245\ttotal: 110ms\tremaining: 808ms\n",
      "120:\tlearn: 353.1400814\ttotal: 111ms\tremaining: 804ms\n",
      "121:\tlearn: 353.0021726\ttotal: 111ms\tremaining: 800ms\n",
      "122:\tlearn: 352.7060209\ttotal: 112ms\tremaining: 796ms\n",
      "123:\tlearn: 352.6023808\ttotal: 112ms\tremaining: 793ms\n",
      "124:\tlearn: 352.5317010\ttotal: 112ms\tremaining: 787ms\n",
      "125:\tlearn: 352.3637663\ttotal: 113ms\tremaining: 783ms\n",
      "126:\tlearn: 352.2621981\ttotal: 113ms\tremaining: 780ms\n",
      "127:\tlearn: 352.1293370\ttotal: 114ms\tremaining: 776ms\n",
      "128:\tlearn: 352.0562390\ttotal: 114ms\tremaining: 772ms\n",
      "129:\tlearn: 351.9760387\ttotal: 115ms\tremaining: 769ms\n",
      "130:\tlearn: 351.8644629\ttotal: 115ms\tremaining: 765ms\n",
      "131:\tlearn: 351.6975234\ttotal: 116ms\tremaining: 762ms\n",
      "132:\tlearn: 351.4490830\ttotal: 116ms\tremaining: 759ms\n",
      "133:\tlearn: 351.1968418\ttotal: 117ms\tremaining: 755ms\n",
      "134:\tlearn: 351.0840096\ttotal: 117ms\tremaining: 751ms\n",
      "135:\tlearn: 350.9897047\ttotal: 118ms\tremaining: 748ms\n",
      "136:\tlearn: 350.5078167\ttotal: 118ms\tremaining: 745ms\n",
      "137:\tlearn: 350.3105648\ttotal: 119ms\tremaining: 742ms\n",
      "138:\tlearn: 350.2103856\ttotal: 119ms\tremaining: 739ms\n",
      "139:\tlearn: 349.8062452\ttotal: 120ms\tremaining: 736ms\n",
      "140:\tlearn: 349.7015674\ttotal: 120ms\tremaining: 733ms\n",
      "141:\tlearn: 349.5819419\ttotal: 121ms\tremaining: 730ms\n",
      "142:\tlearn: 349.1957158\ttotal: 121ms\tremaining: 727ms\n",
      "143:\tlearn: 348.9654917\ttotal: 122ms\tremaining: 724ms\n",
      "144:\tlearn: 348.8288092\ttotal: 122ms\tremaining: 721ms\n",
      "145:\tlearn: 348.7420711\ttotal: 123ms\tremaining: 718ms\n",
      "146:\tlearn: 348.4917581\ttotal: 123ms\tremaining: 716ms\n",
      "147:\tlearn: 348.4028516\ttotal: 124ms\tremaining: 713ms\n",
      "148:\tlearn: 348.3099081\ttotal: 124ms\tremaining: 710ms\n",
      "149:\tlearn: 348.2184523\ttotal: 125ms\tremaining: 707ms\n",
      "150:\tlearn: 348.1396600\ttotal: 125ms\tremaining: 704ms\n",
      "151:\tlearn: 348.0423795\ttotal: 126ms\tremaining: 702ms\n",
      "152:\tlearn: 347.9248751\ttotal: 126ms\tremaining: 699ms\n",
      "153:\tlearn: 347.6820757\ttotal: 127ms\tremaining: 696ms\n",
      "154:\tlearn: 347.4554441\ttotal: 127ms\tremaining: 694ms\n",
      "155:\tlearn: 347.3804746\ttotal: 128ms\tremaining: 691ms\n",
      "156:\tlearn: 347.1659259\ttotal: 128ms\tremaining: 689ms\n",
      "157:\tlearn: 346.9505703\ttotal: 129ms\tremaining: 686ms\n",
      "158:\tlearn: 346.8764502\ttotal: 129ms\tremaining: 684ms\n",
      "159:\tlearn: 346.5911828\ttotal: 130ms\tremaining: 681ms\n",
      "160:\tlearn: 346.4071237\ttotal: 130ms\tremaining: 679ms\n",
      "161:\tlearn: 346.2866087\ttotal: 131ms\tremaining: 677ms\n",
      "162:\tlearn: 346.2171584\ttotal: 131ms\tremaining: 673ms\n",
      "163:\tlearn: 346.1440439\ttotal: 131ms\tremaining: 670ms\n",
      "164:\tlearn: 346.0706900\ttotal: 132ms\tremaining: 668ms\n",
      "165:\tlearn: 345.8261336\ttotal: 132ms\tremaining: 665ms\n",
      "166:\tlearn: 345.6445196\ttotal: 133ms\tremaining: 663ms\n",
      "167:\tlearn: 345.4554325\ttotal: 133ms\tremaining: 661ms\n",
      "168:\tlearn: 345.3834705\ttotal: 134ms\tremaining: 659ms\n",
      "169:\tlearn: 345.2947135\ttotal: 134ms\tremaining: 656ms\n",
      "170:\tlearn: 345.2246605\ttotal: 135ms\tremaining: 653ms\n",
      "171:\tlearn: 345.0400094\ttotal: 135ms\tremaining: 651ms\n",
      "172:\tlearn: 344.8046646\ttotal: 136ms\tremaining: 649ms\n",
      "173:\tlearn: 344.6180292\ttotal: 136ms\tremaining: 647ms\n",
      "174:\tlearn: 344.5470590\ttotal: 137ms\tremaining: 644ms\n",
      "175:\tlearn: 344.3530102\ttotal: 137ms\tremaining: 642ms\n",
      "176:\tlearn: 344.2592615\ttotal: 138ms\tremaining: 640ms\n",
      "177:\tlearn: 344.1749187\ttotal: 138ms\tremaining: 638ms\n",
      "178:\tlearn: 343.9874346\ttotal: 139ms\tremaining: 636ms\n",
      "179:\tlearn: 343.8996468\ttotal: 139ms\tremaining: 634ms\n",
      "180:\tlearn: 343.8056794\ttotal: 140ms\tremaining: 632ms\n",
      "181:\tlearn: 343.6236823\ttotal: 140ms\tremaining: 630ms\n",
      "182:\tlearn: 343.2846086\ttotal: 141ms\tremaining: 628ms\n",
      "183:\tlearn: 343.1976474\ttotal: 141ms\tremaining: 626ms\n",
      "184:\tlearn: 342.8790172\ttotal: 142ms\tremaining: 624ms\n",
      "185:\tlearn: 342.8180724\ttotal: 142ms\tremaining: 622ms\n",
      "186:\tlearn: 342.5647312\ttotal: 143ms\tremaining: 620ms\n",
      "187:\tlearn: 342.4920043\ttotal: 143ms\tremaining: 618ms\n",
      "188:\tlearn: 342.3115280\ttotal: 144ms\tremaining: 616ms\n",
      "189:\tlearn: 342.2377705\ttotal: 144ms\tremaining: 613ms\n",
      "190:\tlearn: 342.1131822\ttotal: 144ms\tremaining: 611ms\n",
      "191:\tlearn: 342.0266761\ttotal: 145ms\tremaining: 610ms\n",
      "192:\tlearn: 341.6532657\ttotal: 145ms\tremaining: 608ms\n",
      "193:\tlearn: 341.5734239\ttotal: 146ms\tremaining: 606ms\n",
      "194:\tlearn: 341.2029608\ttotal: 146ms\tremaining: 604ms\n",
      "195:\tlearn: 341.1452498\ttotal: 147ms\tremaining: 602ms\n",
      "196:\tlearn: 341.0751792\ttotal: 147ms\tremaining: 600ms\n",
      "197:\tlearn: 340.7006926\ttotal: 148ms\tremaining: 599ms\n",
      "198:\tlearn: 340.3225617\ttotal: 148ms\tremaining: 597ms\n",
      "199:\tlearn: 340.2445174\ttotal: 149ms\tremaining: 595ms\n",
      "200:\tlearn: 340.1379190\ttotal: 149ms\tremaining: 593ms\n",
      "201:\tlearn: 339.8295716\ttotal: 150ms\tremaining: 591ms\n",
      "202:\tlearn: 339.7637186\ttotal: 150ms\tremaining: 589ms\n",
      "203:\tlearn: 339.6228704\ttotal: 151ms\tremaining: 588ms\n",
      "204:\tlearn: 339.4590900\ttotal: 151ms\tremaining: 586ms\n",
      "205:\tlearn: 339.3341060\ttotal: 152ms\tremaining: 584ms\n",
      "206:\tlearn: 339.2160318\ttotal: 152ms\tremaining: 582ms\n",
      "207:\tlearn: 339.0960298\ttotal: 153ms\tremaining: 581ms\n",
      "208:\tlearn: 339.0375385\ttotal: 153ms\tremaining: 579ms\n",
      "209:\tlearn: 338.9735817\ttotal: 154ms\tremaining: 578ms\n",
      "210:\tlearn: 338.5692254\ttotal: 154ms\tremaining: 576ms\n",
      "211:\tlearn: 338.5053193\ttotal: 155ms\tremaining: 574ms\n",
      "212:\tlearn: 338.4247873\ttotal: 155ms\tremaining: 573ms\n",
      "213:\tlearn: 338.2598402\ttotal: 155ms\tremaining: 571ms\n",
      "214:\tlearn: 338.1892564\ttotal: 156ms\tremaining: 570ms\n",
      "215:\tlearn: 338.0876957\ttotal: 157ms\tremaining: 568ms\n",
      "216:\tlearn: 337.9319515\ttotal: 157ms\tremaining: 567ms\n",
      "217:\tlearn: 337.8806851\ttotal: 158ms\tremaining: 565ms\n",
      "218:\tlearn: 337.8259076\ttotal: 158ms\tremaining: 563ms\n",
      "219:\tlearn: 337.7371962\ttotal: 158ms\tremaining: 561ms\n",
      "220:\tlearn: 337.6246994\ttotal: 159ms\tremaining: 560ms\n",
      "221:\tlearn: 337.5919524\ttotal: 159ms\tremaining: 558ms\n",
      "222:\tlearn: 337.4433482\ttotal: 160ms\tremaining: 556ms\n",
      "223:\tlearn: 337.3301302\ttotal: 160ms\tremaining: 555ms\n",
      "224:\tlearn: 336.9630574\ttotal: 161ms\tremaining: 553ms\n",
      "225:\tlearn: 336.8739448\ttotal: 161ms\tremaining: 552ms\n",
      "226:\tlearn: 336.8276240\ttotal: 161ms\tremaining: 550ms\n",
      "227:\tlearn: 336.6927551\ttotal: 162ms\tremaining: 548ms\n",
      "228:\tlearn: 336.6161507\ttotal: 162ms\tremaining: 547ms\n",
      "229:\tlearn: 336.5127901\ttotal: 163ms\tremaining: 546ms\n",
      "230:\tlearn: 336.3816083\ttotal: 163ms\tremaining: 544ms\n",
      "231:\tlearn: 336.2903750\ttotal: 164ms\tremaining: 543ms\n",
      "232:\tlearn: 336.1723263\ttotal: 164ms\tremaining: 541ms\n",
      "233:\tlearn: 336.0651086\ttotal: 165ms\tremaining: 540ms\n",
      "234:\tlearn: 335.9069646\ttotal: 165ms\tremaining: 539ms\n",
      "235:\tlearn: 335.8230838\ttotal: 166ms\tremaining: 537ms\n",
      "236:\tlearn: 335.7347208\ttotal: 166ms\tremaining: 536ms\n",
      "237:\tlearn: 335.6836422\ttotal: 167ms\tremaining: 534ms\n",
      "238:\tlearn: 335.5476590\ttotal: 168ms\tremaining: 533ms\n",
      "239:\tlearn: 335.4692761\ttotal: 168ms\tremaining: 532ms\n",
      "240:\tlearn: 335.3921665\ttotal: 169ms\tremaining: 531ms\n",
      "241:\tlearn: 335.0846467\ttotal: 169ms\tremaining: 529ms\n",
      "242:\tlearn: 335.0247805\ttotal: 170ms\tremaining: 528ms\n",
      "243:\tlearn: 334.8350598\ttotal: 170ms\tremaining: 527ms\n",
      "244:\tlearn: 334.7403948\ttotal: 171ms\tremaining: 526ms\n",
      "245:\tlearn: 334.6352325\ttotal: 171ms\tremaining: 524ms\n",
      "246:\tlearn: 334.1966873\ttotal: 172ms\tremaining: 523ms\n",
      "247:\tlearn: 334.1284106\ttotal: 172ms\tremaining: 522ms\n",
      "248:\tlearn: 334.0562776\ttotal: 173ms\tremaining: 520ms\n",
      "249:\tlearn: 333.9872697\ttotal: 173ms\tremaining: 519ms\n",
      "250:\tlearn: 333.9423800\ttotal: 174ms\tremaining: 519ms\n",
      "251:\tlearn: 333.8532104\ttotal: 175ms\tremaining: 518ms\n",
      "252:\tlearn: 333.7817127\ttotal: 175ms\tremaining: 517ms\n",
      "253:\tlearn: 333.7245112\ttotal: 176ms\tremaining: 516ms\n",
      "254:\tlearn: 333.6577839\ttotal: 176ms\tremaining: 515ms\n",
      "255:\tlearn: 333.5644208\ttotal: 177ms\tremaining: 513ms\n",
      "256:\tlearn: 333.2579897\ttotal: 177ms\tremaining: 512ms\n",
      "257:\tlearn: 332.9655560\ttotal: 178ms\tremaining: 511ms\n",
      "258:\tlearn: 332.8715078\ttotal: 178ms\tremaining: 510ms\n",
      "259:\tlearn: 332.7881299\ttotal: 179ms\tremaining: 508ms\n",
      "260:\tlearn: 332.4924417\ttotal: 179ms\tremaining: 507ms\n",
      "261:\tlearn: 332.4263585\ttotal: 180ms\tremaining: 506ms\n",
      "262:\tlearn: 332.3249968\ttotal: 180ms\tremaining: 505ms\n",
      "263:\tlearn: 332.2265149\ttotal: 181ms\tremaining: 504ms\n",
      "264:\tlearn: 332.1670270\ttotal: 181ms\tremaining: 503ms\n",
      "265:\tlearn: 332.0770314\ttotal: 182ms\tremaining: 501ms\n",
      "266:\tlearn: 332.0152523\ttotal: 182ms\tremaining: 500ms\n",
      "267:\tlearn: 331.8948932\ttotal: 183ms\tremaining: 499ms\n",
      "268:\tlearn: 331.8395854\ttotal: 183ms\tremaining: 498ms\n",
      "269:\tlearn: 331.7625500\ttotal: 184ms\tremaining: 497ms\n",
      "270:\tlearn: 331.6473925\ttotal: 184ms\tremaining: 496ms\n",
      "271:\tlearn: 331.5701617\ttotal: 185ms\tremaining: 494ms\n",
      "272:\tlearn: 331.4943198\ttotal: 185ms\tremaining: 493ms\n",
      "273:\tlearn: 331.4005752\ttotal: 186ms\tremaining: 492ms\n",
      "274:\tlearn: 331.3275124\ttotal: 186ms\tremaining: 491ms\n",
      "275:\tlearn: 331.2817334\ttotal: 187ms\tremaining: 490ms\n",
      "276:\tlearn: 330.9403265\ttotal: 187ms\tremaining: 489ms\n",
      "277:\tlearn: 330.8894666\ttotal: 188ms\tremaining: 488ms\n",
      "278:\tlearn: 330.8208729\ttotal: 188ms\tremaining: 486ms\n",
      "279:\tlearn: 330.7704036\ttotal: 189ms\tremaining: 485ms\n",
      "280:\tlearn: 330.6945213\ttotal: 189ms\tremaining: 484ms\n",
      "281:\tlearn: 330.6241321\ttotal: 190ms\tremaining: 483ms\n",
      "282:\tlearn: 330.5720937\ttotal: 190ms\tremaining: 482ms\n",
      "283:\tlearn: 330.5262337\ttotal: 191ms\tremaining: 481ms\n",
      "284:\tlearn: 330.1908811\ttotal: 191ms\tremaining: 480ms\n",
      "285:\tlearn: 329.8277797\ttotal: 192ms\tremaining: 479ms\n",
      "286:\tlearn: 329.6334020\ttotal: 192ms\tremaining: 478ms\n",
      "287:\tlearn: 329.5793998\ttotal: 193ms\tremaining: 477ms\n",
      "288:\tlearn: 329.5303396\ttotal: 193ms\tremaining: 476ms\n",
      "289:\tlearn: 329.4909832\ttotal: 194ms\tremaining: 474ms\n",
      "290:\tlearn: 329.4336570\ttotal: 194ms\tremaining: 473ms\n",
      "291:\tlearn: 329.4109862\ttotal: 195ms\tremaining: 472ms\n",
      "292:\tlearn: 329.3643818\ttotal: 195ms\tremaining: 471ms\n",
      "293:\tlearn: 329.3423467\ttotal: 196ms\tremaining: 470ms\n",
      "294:\tlearn: 329.2770574\ttotal: 196ms\tremaining: 469ms\n",
      "295:\tlearn: 329.0950294\ttotal: 197ms\tremaining: 468ms\n",
      "296:\tlearn: 328.8208014\ttotal: 197ms\tremaining: 467ms\n",
      "297:\tlearn: 328.7853240\ttotal: 198ms\tremaining: 466ms\n",
      "298:\tlearn: 328.7320220\ttotal: 198ms\tremaining: 465ms\n",
      "299:\tlearn: 328.3352270\ttotal: 199ms\tremaining: 464ms\n",
      "300:\tlearn: 328.0018298\ttotal: 199ms\tremaining: 463ms\n",
      "301:\tlearn: 327.9556609\ttotal: 200ms\tremaining: 462ms\n",
      "302:\tlearn: 327.6284777\ttotal: 200ms\tremaining: 461ms\n",
      "303:\tlearn: 327.3074560\ttotal: 201ms\tremaining: 460ms\n",
      "304:\tlearn: 327.0379484\ttotal: 201ms\tremaining: 459ms\n",
      "305:\tlearn: 326.9940151\ttotal: 202ms\tremaining: 458ms\n",
      "306:\tlearn: 326.8634205\ttotal: 202ms\tremaining: 457ms\n",
      "307:\tlearn: 326.8207686\ttotal: 203ms\tremaining: 456ms\n",
      "308:\tlearn: 326.5038769\ttotal: 203ms\tremaining: 455ms\n",
      "309:\tlearn: 326.4415462\ttotal: 204ms\tremaining: 454ms\n",
      "310:\tlearn: 326.0958586\ttotal: 204ms\tremaining: 453ms\n",
      "311:\tlearn: 326.0590512\ttotal: 205ms\tremaining: 452ms\n",
      "312:\tlearn: 325.8006685\ttotal: 205ms\tremaining: 451ms\n",
      "313:\tlearn: 325.7786500\ttotal: 206ms\tremaining: 450ms\n",
      "314:\tlearn: 325.4685281\ttotal: 206ms\tremaining: 449ms\n",
      "315:\tlearn: 325.3279429\ttotal: 207ms\tremaining: 448ms\n",
      "316:\tlearn: 325.2022029\ttotal: 207ms\tremaining: 447ms\n",
      "317:\tlearn: 324.8993921\ttotal: 208ms\tremaining: 446ms\n",
      "318:\tlearn: 324.8349590\ttotal: 209ms\tremaining: 445ms\n",
      "319:\tlearn: 324.6856661\ttotal: 209ms\tremaining: 444ms\n",
      "320:\tlearn: 324.4421895\ttotal: 209ms\tremaining: 443ms\n",
      "321:\tlearn: 324.3684026\ttotal: 210ms\tremaining: 442ms\n",
      "322:\tlearn: 324.0707616\ttotal: 210ms\tremaining: 441ms\n",
      "323:\tlearn: 324.0270752\ttotal: 211ms\tremaining: 440ms\n",
      "324:\tlearn: 323.8930239\ttotal: 212ms\tremaining: 439ms\n",
      "325:\tlearn: 323.8628569\ttotal: 212ms\tremaining: 438ms\n",
      "326:\tlearn: 323.8104641\ttotal: 213ms\tremaining: 437ms\n",
      "327:\tlearn: 323.6644624\ttotal: 213ms\tremaining: 437ms\n",
      "328:\tlearn: 323.3390510\ttotal: 214ms\tremaining: 436ms\n",
      "329:\tlearn: 323.2192657\ttotal: 214ms\tremaining: 435ms\n",
      "330:\tlearn: 323.0904080\ttotal: 215ms\tremaining: 434ms\n",
      "331:\tlearn: 322.7957732\ttotal: 215ms\tremaining: 433ms\n",
      "332:\tlearn: 322.7604284\ttotal: 216ms\tremaining: 432ms\n",
      "333:\tlearn: 322.5501047\ttotal: 216ms\tremaining: 431ms\n",
      "334:\tlearn: 322.2332551\ttotal: 217ms\tremaining: 430ms\n",
      "335:\tlearn: 322.0758953\ttotal: 217ms\tremaining: 429ms\n",
      "336:\tlearn: 321.9237984\ttotal: 218ms\tremaining: 428ms\n",
      "337:\tlearn: 321.7834004\ttotal: 218ms\tremaining: 427ms\n",
      "338:\tlearn: 321.6620945\ttotal: 219ms\tremaining: 426ms\n",
      "339:\tlearn: 321.5158215\ttotal: 219ms\tremaining: 425ms\n",
      "340:\tlearn: 321.2725463\ttotal: 220ms\tremaining: 425ms\n",
      "341:\tlearn: 321.2143491\ttotal: 220ms\tremaining: 424ms\n",
      "342:\tlearn: 320.9368769\ttotal: 221ms\tremaining: 423ms\n",
      "343:\tlearn: 320.8813334\ttotal: 221ms\tremaining: 422ms\n",
      "344:\tlearn: 320.8268899\ttotal: 222ms\tremaining: 421ms\n",
      "345:\tlearn: 320.6675400\ttotal: 222ms\tremaining: 420ms\n",
      "346:\tlearn: 320.6091302\ttotal: 223ms\tremaining: 419ms\n",
      "347:\tlearn: 320.2907968\ttotal: 223ms\tremaining: 418ms\n",
      "348:\tlearn: 320.1491100\ttotal: 224ms\tremaining: 417ms\n",
      "349:\tlearn: 320.0895038\ttotal: 224ms\tremaining: 416ms\n",
      "350:\tlearn: 320.0093814\ttotal: 225ms\tremaining: 415ms\n",
      "351:\tlearn: 319.8693522\ttotal: 225ms\tremaining: 415ms\n",
      "352:\tlearn: 319.6374070\ttotal: 226ms\tremaining: 414ms\n",
      "353:\tlearn: 319.5000640\ttotal: 226ms\tremaining: 413ms\n",
      "354:\tlearn: 319.3013522\ttotal: 227ms\tremaining: 412ms\n",
      "355:\tlearn: 319.2431548\ttotal: 227ms\tremaining: 411ms\n",
      "356:\tlearn: 319.1602537\ttotal: 228ms\tremaining: 410ms\n",
      "357:\tlearn: 319.0876081\ttotal: 228ms\tremaining: 409ms\n",
      "358:\tlearn: 318.8838978\ttotal: 229ms\tremaining: 408ms\n",
      "359:\tlearn: 318.8588410\ttotal: 229ms\tremaining: 408ms\n",
      "360:\tlearn: 318.6588162\ttotal: 230ms\tremaining: 407ms\n",
      "361:\tlearn: 318.4285030\ttotal: 230ms\tremaining: 406ms\n",
      "362:\tlearn: 318.3159820\ttotal: 231ms\tremaining: 405ms\n",
      "363:\tlearn: 318.1961086\ttotal: 231ms\tremaining: 404ms\n",
      "364:\tlearn: 318.0355521\ttotal: 232ms\tremaining: 403ms\n",
      "365:\tlearn: 317.8039484\ttotal: 232ms\tremaining: 402ms\n",
      "366:\tlearn: 317.6514332\ttotal: 233ms\tremaining: 402ms\n",
      "367:\tlearn: 317.4641547\ttotal: 233ms\tremaining: 401ms\n",
      "368:\tlearn: 317.3688575\ttotal: 235ms\tremaining: 402ms\n",
      "369:\tlearn: 317.2432582\ttotal: 236ms\tremaining: 401ms\n",
      "370:\tlearn: 317.0932972\ttotal: 237ms\tremaining: 401ms\n",
      "371:\tlearn: 316.8636514\ttotal: 237ms\tremaining: 400ms\n",
      "372:\tlearn: 316.6536431\ttotal: 238ms\tremaining: 400ms\n",
      "373:\tlearn: 316.4407797\ttotal: 238ms\tremaining: 399ms\n",
      "374:\tlearn: 316.1885083\ttotal: 239ms\tremaining: 398ms\n",
      "375:\tlearn: 316.0655978\ttotal: 239ms\tremaining: 397ms\n",
      "376:\tlearn: 315.9519012\ttotal: 240ms\tremaining: 396ms\n",
      "377:\tlearn: 315.7175716\ttotal: 240ms\tremaining: 395ms\n",
      "378:\tlearn: 315.4837669\ttotal: 241ms\tremaining: 394ms\n",
      "379:\tlearn: 315.2542865\ttotal: 241ms\tremaining: 394ms\n",
      "380:\tlearn: 315.1083241\ttotal: 242ms\tremaining: 393ms\n",
      "381:\tlearn: 315.0545738\ttotal: 242ms\tremaining: 392ms\n",
      "382:\tlearn: 314.8626349\ttotal: 243ms\tremaining: 391ms\n",
      "383:\tlearn: 314.7298174\ttotal: 243ms\tremaining: 390ms\n",
      "384:\tlearn: 314.5176072\ttotal: 244ms\tremaining: 390ms\n",
      "385:\tlearn: 314.2999829\ttotal: 244ms\tremaining: 389ms\n",
      "386:\tlearn: 314.1718399\ttotal: 245ms\tremaining: 388ms\n",
      "387:\tlearn: 313.9264511\ttotal: 245ms\tremaining: 387ms\n",
      "388:\tlearn: 313.7794496\ttotal: 246ms\tremaining: 386ms\n",
      "389:\tlearn: 313.6205939\ttotal: 247ms\tremaining: 386ms\n",
      "390:\tlearn: 313.4904952\ttotal: 247ms\tremaining: 385ms\n",
      "391:\tlearn: 313.4314158\ttotal: 248ms\tremaining: 384ms\n",
      "392:\tlearn: 313.2483619\ttotal: 248ms\tremaining: 383ms\n",
      "393:\tlearn: 313.1951792\ttotal: 249ms\tremaining: 382ms\n",
      "394:\tlearn: 313.1411842\ttotal: 249ms\tremaining: 381ms\n",
      "395:\tlearn: 313.0700967\ttotal: 250ms\tremaining: 381ms\n",
      "396:\tlearn: 313.0200488\ttotal: 251ms\tremaining: 381ms\n",
      "397:\tlearn: 312.8649551\ttotal: 251ms\tremaining: 380ms\n",
      "398:\tlearn: 312.7271952\ttotal: 252ms\tremaining: 379ms\n",
      "399:\tlearn: 312.6780116\ttotal: 252ms\tremaining: 378ms\n",
      "400:\tlearn: 312.4270371\ttotal: 253ms\tremaining: 378ms\n",
      "401:\tlearn: 312.3434046\ttotal: 253ms\tremaining: 377ms\n",
      "402:\tlearn: 312.2130007\ttotal: 254ms\tremaining: 376ms\n",
      "403:\tlearn: 312.0798240\ttotal: 254ms\tremaining: 375ms\n",
      "404:\tlearn: 311.8547353\ttotal: 255ms\tremaining: 374ms\n",
      "405:\tlearn: 311.7190018\ttotal: 255ms\tremaining: 373ms\n",
      "406:\tlearn: 311.4082072\ttotal: 256ms\tremaining: 373ms\n",
      "407:\tlearn: 311.2487983\ttotal: 256ms\tremaining: 372ms\n",
      "408:\tlearn: 311.0949811\ttotal: 257ms\tremaining: 371ms\n",
      "409:\tlearn: 311.0661261\ttotal: 257ms\tremaining: 370ms\n",
      "410:\tlearn: 311.0180838\ttotal: 258ms\tremaining: 370ms\n",
      "411:\tlearn: 310.8250785\ttotal: 258ms\tremaining: 369ms\n",
      "412:\tlearn: 310.7778410\ttotal: 259ms\tremaining: 368ms\n",
      "413:\tlearn: 310.6652820\ttotal: 259ms\tremaining: 367ms\n",
      "414:\tlearn: 310.5479828\ttotal: 260ms\tremaining: 366ms\n",
      "415:\tlearn: 310.3188423\ttotal: 260ms\tremaining: 366ms\n",
      "416:\tlearn: 310.2685860\ttotal: 261ms\tremaining: 365ms\n",
      "417:\tlearn: 310.0440378\ttotal: 261ms\tremaining: 364ms\n",
      "418:\tlearn: 309.9211225\ttotal: 262ms\tremaining: 363ms\n",
      "419:\tlearn: 309.7833919\ttotal: 262ms\tremaining: 362ms\n",
      "420:\tlearn: 309.5761295\ttotal: 263ms\tremaining: 362ms\n",
      "421:\tlearn: 309.4671644\ttotal: 263ms\tremaining: 361ms\n",
      "422:\tlearn: 309.3557000\ttotal: 264ms\tremaining: 360ms\n",
      "423:\tlearn: 309.3043841\ttotal: 264ms\tremaining: 359ms\n",
      "424:\tlearn: 309.0900312\ttotal: 265ms\tremaining: 358ms\n",
      "425:\tlearn: 308.9844839\ttotal: 265ms\tremaining: 357ms\n",
      "426:\tlearn: 308.9355584\ttotal: 266ms\tremaining: 357ms\n",
      "427:\tlearn: 308.8425009\ttotal: 266ms\tremaining: 356ms\n",
      "428:\tlearn: 308.7013477\ttotal: 267ms\tremaining: 355ms\n",
      "429:\tlearn: 308.5862983\ttotal: 267ms\tremaining: 354ms\n",
      "430:\tlearn: 308.4796935\ttotal: 268ms\tremaining: 354ms\n",
      "431:\tlearn: 308.4319867\ttotal: 268ms\tremaining: 353ms\n",
      "432:\tlearn: 308.3115305\ttotal: 269ms\tremaining: 352ms\n",
      "433:\tlearn: 308.1109937\ttotal: 269ms\tremaining: 351ms\n",
      "434:\tlearn: 308.0497318\ttotal: 270ms\tremaining: 350ms\n",
      "435:\tlearn: 308.0052137\ttotal: 271ms\tremaining: 351ms\n",
      "436:\tlearn: 307.9130683\ttotal: 272ms\tremaining: 351ms\n",
      "437:\tlearn: 307.7733822\ttotal: 273ms\tremaining: 350ms\n",
      "438:\tlearn: 307.5504290\ttotal: 274ms\tremaining: 351ms\n",
      "439:\tlearn: 307.5025436\ttotal: 275ms\tremaining: 350ms\n",
      "440:\tlearn: 307.2941849\ttotal: 276ms\tremaining: 350ms\n",
      "441:\tlearn: 307.2121297\ttotal: 277ms\tremaining: 350ms\n",
      "442:\tlearn: 307.0803985\ttotal: 278ms\tremaining: 350ms\n",
      "443:\tlearn: 307.0358912\ttotal: 280ms\tremaining: 350ms\n",
      "444:\tlearn: 306.9197972\ttotal: 281ms\tremaining: 350ms\n",
      "445:\tlearn: 306.7170273\ttotal: 282ms\tremaining: 350ms\n",
      "446:\tlearn: 306.5052733\ttotal: 282ms\tremaining: 349ms\n",
      "447:\tlearn: 306.2905948\ttotal: 283ms\tremaining: 348ms\n",
      "448:\tlearn: 306.2278975\ttotal: 283ms\tremaining: 348ms\n",
      "449:\tlearn: 306.0688009\ttotal: 284ms\tremaining: 347ms\n",
      "450:\tlearn: 305.9653017\ttotal: 284ms\tremaining: 346ms\n",
      "451:\tlearn: 305.8549819\ttotal: 285ms\tremaining: 345ms\n",
      "452:\tlearn: 305.7599222\ttotal: 285ms\tremaining: 344ms\n",
      "453:\tlearn: 305.6625194\ttotal: 286ms\tremaining: 344ms\n",
      "454:\tlearn: 305.6174384\ttotal: 286ms\tremaining: 343ms\n",
      "455:\tlearn: 305.5132123\ttotal: 287ms\tremaining: 342ms\n",
      "456:\tlearn: 305.4013001\ttotal: 287ms\tremaining: 342ms\n",
      "457:\tlearn: 305.2228835\ttotal: 288ms\tremaining: 341ms\n",
      "458:\tlearn: 305.1321468\ttotal: 288ms\tremaining: 340ms\n",
      "459:\tlearn: 305.0514038\ttotal: 289ms\tremaining: 339ms\n",
      "460:\tlearn: 304.8492469\ttotal: 290ms\tremaining: 339ms\n",
      "461:\tlearn: 304.7639600\ttotal: 290ms\tremaining: 338ms\n",
      "462:\tlearn: 304.5588731\ttotal: 291ms\tremaining: 337ms\n",
      "463:\tlearn: 304.3765456\ttotal: 291ms\tremaining: 336ms\n",
      "464:\tlearn: 304.2645386\ttotal: 292ms\tremaining: 336ms\n",
      "465:\tlearn: 304.0791673\ttotal: 292ms\tremaining: 335ms\n",
      "466:\tlearn: 304.0391203\ttotal: 293ms\tremaining: 334ms\n",
      "467:\tlearn: 303.9579777\ttotal: 293ms\tremaining: 333ms\n",
      "468:\tlearn: 303.7966406\ttotal: 294ms\tremaining: 333ms\n",
      "469:\tlearn: 303.7163975\ttotal: 294ms\tremaining: 332ms\n",
      "470:\tlearn: 303.6246642\ttotal: 295ms\tremaining: 331ms\n",
      "471:\tlearn: 303.4271847\ttotal: 295ms\tremaining: 330ms\n",
      "472:\tlearn: 303.3260824\ttotal: 296ms\tremaining: 330ms\n",
      "473:\tlearn: 303.2309537\ttotal: 296ms\tremaining: 329ms\n",
      "474:\tlearn: 303.1852442\ttotal: 297ms\tremaining: 328ms\n",
      "475:\tlearn: 303.1222017\ttotal: 297ms\tremaining: 327ms\n",
      "476:\tlearn: 302.9541164\ttotal: 298ms\tremaining: 327ms\n",
      "477:\tlearn: 302.7953243\ttotal: 298ms\tremaining: 326ms\n",
      "478:\tlearn: 302.7235202\ttotal: 299ms\tremaining: 325ms\n",
      "479:\tlearn: 302.6692340\ttotal: 299ms\tremaining: 324ms\n",
      "480:\tlearn: 302.5131504\ttotal: 300ms\tremaining: 324ms\n",
      "481:\tlearn: 302.4675960\ttotal: 300ms\tremaining: 323ms\n",
      "482:\tlearn: 302.2227761\ttotal: 301ms\tremaining: 322ms\n",
      "483:\tlearn: 302.1128636\ttotal: 301ms\tremaining: 321ms\n",
      "484:\tlearn: 301.9621471\ttotal: 302ms\tremaining: 321ms\n",
      "485:\tlearn: 301.8457018\ttotal: 302ms\tremaining: 320ms\n",
      "486:\tlearn: 301.6830691\ttotal: 303ms\tremaining: 319ms\n",
      "487:\tlearn: 301.6205003\ttotal: 304ms\tremaining: 318ms\n",
      "488:\tlearn: 301.5434050\ttotal: 304ms\tremaining: 318ms\n",
      "489:\tlearn: 301.4999336\ttotal: 305ms\tremaining: 317ms\n",
      "490:\tlearn: 301.4705571\ttotal: 305ms\tremaining: 316ms\n",
      "491:\tlearn: 301.3001461\ttotal: 306ms\tremaining: 315ms\n",
      "492:\tlearn: 301.2239170\ttotal: 306ms\tremaining: 315ms\n",
      "493:\tlearn: 301.1352095\ttotal: 307ms\tremaining: 314ms\n",
      "494:\tlearn: 301.0635389\ttotal: 307ms\tremaining: 313ms\n",
      "495:\tlearn: 300.8761114\ttotal: 308ms\tremaining: 313ms\n",
      "496:\tlearn: 300.8495860\ttotal: 308ms\tremaining: 312ms\n",
      "497:\tlearn: 300.7849418\ttotal: 309ms\tremaining: 311ms\n",
      "498:\tlearn: 300.6015033\ttotal: 309ms\tremaining: 311ms\n",
      "499:\tlearn: 300.5134773\ttotal: 310ms\tremaining: 310ms\n",
      "500:\tlearn: 300.4759575\ttotal: 310ms\tremaining: 309ms\n",
      "501:\tlearn: 300.4275991\ttotal: 311ms\tremaining: 308ms\n",
      "502:\tlearn: 300.2488007\ttotal: 311ms\tremaining: 308ms\n",
      "503:\tlearn: 300.1521386\ttotal: 312ms\tremaining: 307ms\n",
      "504:\tlearn: 300.0526899\ttotal: 312ms\tremaining: 306ms\n",
      "505:\tlearn: 299.9279954\ttotal: 313ms\tremaining: 305ms\n",
      "506:\tlearn: 299.8681243\ttotal: 313ms\tremaining: 305ms\n",
      "507:\tlearn: 299.8013191\ttotal: 314ms\tremaining: 304ms\n",
      "508:\tlearn: 299.7656686\ttotal: 314ms\tremaining: 303ms\n",
      "509:\tlearn: 299.6801483\ttotal: 315ms\tremaining: 303ms\n",
      "510:\tlearn: 299.5189219\ttotal: 316ms\tremaining: 302ms\n",
      "511:\tlearn: 299.4585675\ttotal: 316ms\tremaining: 301ms\n",
      "512:\tlearn: 299.3877071\ttotal: 317ms\tremaining: 301ms\n",
      "513:\tlearn: 299.3184938\ttotal: 317ms\tremaining: 300ms\n",
      "514:\tlearn: 299.2416343\ttotal: 318ms\tremaining: 299ms\n",
      "515:\tlearn: 299.1580646\ttotal: 318ms\tremaining: 298ms\n",
      "516:\tlearn: 298.8850082\ttotal: 319ms\tremaining: 298ms\n",
      "517:\tlearn: 298.7285297\ttotal: 319ms\tremaining: 297ms\n",
      "518:\tlearn: 298.6414002\ttotal: 320ms\tremaining: 296ms\n",
      "519:\tlearn: 298.6029926\ttotal: 320ms\tremaining: 296ms\n",
      "520:\tlearn: 298.5415140\ttotal: 323ms\tremaining: 297ms\n",
      "521:\tlearn: 298.3586675\ttotal: 324ms\tremaining: 297ms\n",
      "522:\tlearn: 298.3033694\ttotal: 325ms\tremaining: 296ms\n",
      "523:\tlearn: 298.2314637\ttotal: 325ms\tremaining: 296ms\n",
      "524:\tlearn: 298.1584126\ttotal: 326ms\tremaining: 295ms\n",
      "525:\tlearn: 298.0940322\ttotal: 327ms\tremaining: 294ms\n",
      "526:\tlearn: 297.9400555\ttotal: 327ms\tremaining: 294ms\n",
      "527:\tlearn: 297.8699323\ttotal: 328ms\tremaining: 293ms\n",
      "528:\tlearn: 297.6599883\ttotal: 329ms\tremaining: 293ms\n",
      "529:\tlearn: 297.6122626\ttotal: 329ms\tremaining: 292ms\n",
      "530:\tlearn: 297.4657129\ttotal: 330ms\tremaining: 292ms\n",
      "531:\tlearn: 297.4479326\ttotal: 331ms\tremaining: 291ms\n",
      "532:\tlearn: 297.4377956\ttotal: 331ms\tremaining: 290ms\n",
      "533:\tlearn: 297.2625692\ttotal: 332ms\tremaining: 290ms\n",
      "534:\tlearn: 297.0807416\ttotal: 332ms\tremaining: 289ms\n",
      "535:\tlearn: 296.8152559\ttotal: 333ms\tremaining: 288ms\n",
      "536:\tlearn: 296.6557332\ttotal: 333ms\tremaining: 287ms\n",
      "537:\tlearn: 296.6159779\ttotal: 334ms\tremaining: 287ms\n",
      "538:\tlearn: 296.5364813\ttotal: 334ms\tremaining: 286ms\n",
      "539:\tlearn: 296.2800064\ttotal: 335ms\tremaining: 285ms\n",
      "540:\tlearn: 296.2201783\ttotal: 335ms\tremaining: 284ms\n",
      "541:\tlearn: 296.1830613\ttotal: 336ms\tremaining: 284ms\n",
      "542:\tlearn: 296.1148668\ttotal: 336ms\tremaining: 283ms\n",
      "543:\tlearn: 295.9922886\ttotal: 336ms\tremaining: 282ms\n",
      "544:\tlearn: 295.9375682\ttotal: 337ms\tremaining: 281ms\n",
      "545:\tlearn: 295.8936572\ttotal: 337ms\tremaining: 280ms\n",
      "546:\tlearn: 295.7985923\ttotal: 337ms\tremaining: 279ms\n",
      "547:\tlearn: 295.6581901\ttotal: 338ms\tremaining: 278ms\n",
      "548:\tlearn: 295.5713403\ttotal: 338ms\tremaining: 278ms\n",
      "549:\tlearn: 295.3338974\ttotal: 338ms\tremaining: 277ms\n",
      "550:\tlearn: 295.2464252\ttotal: 339ms\tremaining: 276ms\n",
      "551:\tlearn: 295.1509035\ttotal: 339ms\tremaining: 275ms\n",
      "552:\tlearn: 294.9856358\ttotal: 339ms\tremaining: 274ms\n",
      "553:\tlearn: 294.8406609\ttotal: 340ms\tremaining: 273ms\n",
      "554:\tlearn: 294.6692008\ttotal: 340ms\tremaining: 273ms\n",
      "555:\tlearn: 294.4203059\ttotal: 340ms\tremaining: 272ms\n",
      "556:\tlearn: 294.2443424\ttotal: 341ms\tremaining: 271ms\n",
      "557:\tlearn: 294.1765056\ttotal: 341ms\tremaining: 270ms\n",
      "558:\tlearn: 294.1201224\ttotal: 342ms\tremaining: 269ms\n",
      "559:\tlearn: 293.9791146\ttotal: 342ms\tremaining: 269ms\n",
      "560:\tlearn: 293.9075261\ttotal: 343ms\tremaining: 268ms\n",
      "561:\tlearn: 293.7164774\ttotal: 344ms\tremaining: 268ms\n",
      "562:\tlearn: 293.6502653\ttotal: 344ms\tremaining: 267ms\n",
      "563:\tlearn: 293.5964646\ttotal: 349ms\tremaining: 270ms\n",
      "564:\tlearn: 293.5705265\ttotal: 349ms\tremaining: 269ms\n",
      "565:\tlearn: 293.5261802\ttotal: 350ms\tremaining: 268ms\n",
      "566:\tlearn: 293.4182460\ttotal: 351ms\tremaining: 268ms\n",
      "567:\tlearn: 293.3553677\ttotal: 351ms\tremaining: 267ms\n",
      "568:\tlearn: 293.2166059\ttotal: 352ms\tremaining: 266ms\n",
      "569:\tlearn: 293.1846117\ttotal: 352ms\tremaining: 266ms\n",
      "570:\tlearn: 293.1257563\ttotal: 353ms\tremaining: 265ms\n",
      "571:\tlearn: 293.0282004\ttotal: 353ms\tremaining: 264ms\n",
      "572:\tlearn: 292.9996427\ttotal: 354ms\tremaining: 264ms\n",
      "573:\tlearn: 292.9329708\ttotal: 354ms\tremaining: 263ms\n",
      "574:\tlearn: 292.9017541\ttotal: 355ms\tremaining: 262ms\n",
      "575:\tlearn: 292.8448644\ttotal: 356ms\tremaining: 262ms\n",
      "576:\tlearn: 292.7845332\ttotal: 356ms\tremaining: 261ms\n",
      "577:\tlearn: 292.6868821\ttotal: 357ms\tremaining: 260ms\n",
      "578:\tlearn: 292.6565127\ttotal: 357ms\tremaining: 260ms\n",
      "579:\tlearn: 292.5989844\ttotal: 358ms\tremaining: 259ms\n",
      "580:\tlearn: 292.4995656\ttotal: 358ms\tremaining: 258ms\n",
      "581:\tlearn: 292.4602901\ttotal: 359ms\tremaining: 258ms\n",
      "582:\tlearn: 292.4259215\ttotal: 360ms\tremaining: 258ms\n",
      "583:\tlearn: 292.1971919\ttotal: 361ms\tremaining: 257ms\n",
      "584:\tlearn: 292.1032289\ttotal: 361ms\tremaining: 256ms\n",
      "585:\tlearn: 292.0178477\ttotal: 362ms\tremaining: 255ms\n",
      "586:\tlearn: 292.0009370\ttotal: 362ms\tremaining: 255ms\n",
      "587:\tlearn: 291.9718483\ttotal: 363ms\tremaining: 254ms\n",
      "588:\tlearn: 291.9496078\ttotal: 363ms\tremaining: 254ms\n",
      "589:\tlearn: 291.8992430\ttotal: 364ms\tremaining: 253ms\n",
      "590:\tlearn: 291.8533652\ttotal: 364ms\tremaining: 252ms\n",
      "591:\tlearn: 291.8159815\ttotal: 365ms\tremaining: 251ms\n",
      "592:\tlearn: 291.8050872\ttotal: 365ms\tremaining: 251ms\n",
      "593:\tlearn: 291.7348621\ttotal: 366ms\tremaining: 250ms\n",
      "594:\tlearn: 291.6262708\ttotal: 366ms\tremaining: 249ms\n",
      "595:\tlearn: 291.5968225\ttotal: 367ms\tremaining: 249ms\n",
      "596:\tlearn: 291.5433619\ttotal: 367ms\tremaining: 248ms\n",
      "597:\tlearn: 291.3156009\ttotal: 368ms\tremaining: 247ms\n",
      "598:\tlearn: 291.2441846\ttotal: 368ms\tremaining: 247ms\n",
      "599:\tlearn: 291.1877810\ttotal: 369ms\tremaining: 246ms\n",
      "600:\tlearn: 291.1327265\ttotal: 369ms\tremaining: 245ms\n",
      "601:\tlearn: 291.1072888\ttotal: 370ms\tremaining: 245ms\n",
      "602:\tlearn: 290.8994980\ttotal: 370ms\tremaining: 244ms\n",
      "603:\tlearn: 290.8532449\ttotal: 371ms\tremaining: 243ms\n",
      "604:\tlearn: 290.7968876\ttotal: 371ms\tremaining: 242ms\n",
      "605:\tlearn: 290.7212260\ttotal: 372ms\tremaining: 242ms\n",
      "606:\tlearn: 290.6353993\ttotal: 372ms\tremaining: 241ms\n",
      "607:\tlearn: 290.4213738\ttotal: 373ms\tremaining: 240ms\n",
      "608:\tlearn: 290.2867689\ttotal: 373ms\tremaining: 240ms\n",
      "609:\tlearn: 290.2790840\ttotal: 374ms\tremaining: 239ms\n",
      "610:\tlearn: 290.2476156\ttotal: 374ms\tremaining: 238ms\n",
      "611:\tlearn: 290.0647970\ttotal: 375ms\tremaining: 238ms\n",
      "612:\tlearn: 290.0379159\ttotal: 375ms\tremaining: 237ms\n",
      "613:\tlearn: 290.0077896\ttotal: 376ms\tremaining: 236ms\n",
      "614:\tlearn: 289.9044812\ttotal: 376ms\tremaining: 236ms\n",
      "615:\tlearn: 289.8425721\ttotal: 377ms\tremaining: 235ms\n",
      "616:\tlearn: 289.7760752\ttotal: 378ms\tremaining: 234ms\n",
      "617:\tlearn: 289.7106601\ttotal: 378ms\tremaining: 234ms\n",
      "618:\tlearn: 289.5523641\ttotal: 379ms\tremaining: 233ms\n",
      "619:\tlearn: 289.4822461\ttotal: 379ms\tremaining: 232ms\n",
      "620:\tlearn: 289.4319603\ttotal: 380ms\tremaining: 232ms\n",
      "621:\tlearn: 289.3628933\ttotal: 380ms\tremaining: 231ms\n",
      "622:\tlearn: 289.2742231\ttotal: 381ms\tremaining: 230ms\n",
      "623:\tlearn: 289.1948318\ttotal: 381ms\tremaining: 230ms\n",
      "624:\tlearn: 289.1184594\ttotal: 382ms\tremaining: 229ms\n",
      "625:\tlearn: 289.0298139\ttotal: 382ms\tremaining: 228ms\n",
      "626:\tlearn: 288.9800086\ttotal: 383ms\tremaining: 228ms\n",
      "627:\tlearn: 288.9565511\ttotal: 383ms\tremaining: 227ms\n",
      "628:\tlearn: 288.7583864\ttotal: 384ms\tremaining: 226ms\n",
      "629:\tlearn: 288.6632389\ttotal: 384ms\tremaining: 226ms\n",
      "630:\tlearn: 288.5155393\ttotal: 385ms\tremaining: 225ms\n",
      "631:\tlearn: 288.3609385\ttotal: 385ms\tremaining: 224ms\n",
      "632:\tlearn: 288.3053263\ttotal: 386ms\tremaining: 224ms\n",
      "633:\tlearn: 288.2531249\ttotal: 386ms\tremaining: 223ms\n",
      "634:\tlearn: 288.2214616\ttotal: 387ms\tremaining: 222ms\n",
      "635:\tlearn: 288.2077454\ttotal: 387ms\tremaining: 222ms\n",
      "636:\tlearn: 288.0631958\ttotal: 388ms\tremaining: 221ms\n",
      "637:\tlearn: 288.0368047\ttotal: 388ms\tremaining: 220ms\n",
      "638:\tlearn: 287.9084459\ttotal: 389ms\tremaining: 220ms\n",
      "639:\tlearn: 287.8856386\ttotal: 389ms\tremaining: 219ms\n",
      "640:\tlearn: 287.8071360\ttotal: 390ms\tremaining: 218ms\n",
      "641:\tlearn: 287.7054767\ttotal: 391ms\tremaining: 218ms\n",
      "642:\tlearn: 287.6404850\ttotal: 391ms\tremaining: 217ms\n",
      "643:\tlearn: 287.5836238\ttotal: 392ms\tremaining: 216ms\n",
      "644:\tlearn: 287.5378060\ttotal: 392ms\tremaining: 216ms\n",
      "645:\tlearn: 287.4752419\ttotal: 393ms\tremaining: 215ms\n",
      "646:\tlearn: 287.4383678\ttotal: 393ms\tremaining: 214ms\n",
      "647:\tlearn: 287.3860834\ttotal: 394ms\tremaining: 214ms\n",
      "648:\tlearn: 287.3602183\ttotal: 394ms\tremaining: 213ms\n",
      "649:\tlearn: 287.3220604\ttotal: 395ms\tremaining: 213ms\n",
      "650:\tlearn: 287.1228345\ttotal: 395ms\tremaining: 212ms\n",
      "651:\tlearn: 286.9641241\ttotal: 396ms\tremaining: 211ms\n",
      "652:\tlearn: 286.9340806\ttotal: 396ms\tremaining: 211ms\n",
      "653:\tlearn: 286.7812657\ttotal: 397ms\tremaining: 210ms\n",
      "654:\tlearn: 286.7195184\ttotal: 397ms\tremaining: 209ms\n",
      "655:\tlearn: 286.5623213\ttotal: 398ms\tremaining: 209ms\n",
      "656:\tlearn: 286.4850544\ttotal: 398ms\tremaining: 208ms\n",
      "657:\tlearn: 286.4014881\ttotal: 399ms\tremaining: 207ms\n",
      "658:\tlearn: 286.2770208\ttotal: 399ms\tremaining: 207ms\n",
      "659:\tlearn: 286.0991128\ttotal: 400ms\tremaining: 206ms\n",
      "660:\tlearn: 286.0617659\ttotal: 400ms\tremaining: 205ms\n",
      "661:\tlearn: 286.0198416\ttotal: 401ms\tremaining: 205ms\n",
      "662:\tlearn: 285.9803598\ttotal: 402ms\tremaining: 204ms\n",
      "663:\tlearn: 285.8085615\ttotal: 402ms\tremaining: 203ms\n",
      "664:\tlearn: 285.7357708\ttotal: 403ms\tremaining: 203ms\n",
      "665:\tlearn: 285.7064412\ttotal: 403ms\tremaining: 202ms\n",
      "666:\tlearn: 285.6709817\ttotal: 404ms\tremaining: 202ms\n",
      "667:\tlearn: 285.6388891\ttotal: 404ms\tremaining: 201ms\n",
      "668:\tlearn: 285.5902762\ttotal: 405ms\tremaining: 200ms\n",
      "669:\tlearn: 285.4193635\ttotal: 405ms\tremaining: 200ms\n",
      "670:\tlearn: 285.3105148\ttotal: 406ms\tremaining: 199ms\n",
      "671:\tlearn: 285.2892841\ttotal: 406ms\tremaining: 198ms\n",
      "672:\tlearn: 285.2527679\ttotal: 407ms\tremaining: 198ms\n",
      "673:\tlearn: 285.2348457\ttotal: 407ms\tremaining: 197ms\n",
      "674:\tlearn: 285.1902320\ttotal: 408ms\tremaining: 196ms\n",
      "675:\tlearn: 285.1247597\ttotal: 408ms\tremaining: 196ms\n",
      "676:\tlearn: 285.0663655\ttotal: 409ms\tremaining: 195ms\n",
      "677:\tlearn: 284.8874276\ttotal: 409ms\tremaining: 194ms\n",
      "678:\tlearn: 284.7629178\ttotal: 410ms\tremaining: 194ms\n",
      "679:\tlearn: 284.7107673\ttotal: 410ms\tremaining: 193ms\n",
      "680:\tlearn: 284.6597455\ttotal: 411ms\tremaining: 192ms\n",
      "681:\tlearn: 284.5797301\ttotal: 411ms\tremaining: 192ms\n",
      "682:\tlearn: 284.5595498\ttotal: 412ms\tremaining: 191ms\n",
      "683:\tlearn: 284.5370449\ttotal: 412ms\tremaining: 191ms\n",
      "684:\tlearn: 284.5129004\ttotal: 413ms\tremaining: 190ms\n",
      "685:\tlearn: 284.4571405\ttotal: 413ms\tremaining: 189ms\n",
      "686:\tlearn: 284.3575519\ttotal: 414ms\tremaining: 189ms\n",
      "687:\tlearn: 284.3451823\ttotal: 414ms\tremaining: 188ms\n",
      "688:\tlearn: 284.2144013\ttotal: 415ms\tremaining: 187ms\n",
      "689:\tlearn: 284.0811335\ttotal: 415ms\tremaining: 187ms\n",
      "690:\tlearn: 284.0037471\ttotal: 416ms\tremaining: 186ms\n",
      "691:\tlearn: 283.9281445\ttotal: 416ms\tremaining: 185ms\n",
      "692:\tlearn: 283.9155756\ttotal: 417ms\tremaining: 185ms\n",
      "693:\tlearn: 283.8245075\ttotal: 417ms\tremaining: 184ms\n",
      "694:\tlearn: 283.6996684\ttotal: 418ms\tremaining: 183ms\n",
      "695:\tlearn: 283.5734602\ttotal: 419ms\tremaining: 183ms\n",
      "696:\tlearn: 283.5437933\ttotal: 419ms\tremaining: 182ms\n",
      "697:\tlearn: 283.5154677\ttotal: 420ms\tremaining: 182ms\n",
      "698:\tlearn: 283.3849304\ttotal: 420ms\tremaining: 181ms\n",
      "699:\tlearn: 283.3665234\ttotal: 421ms\tremaining: 180ms\n",
      "700:\tlearn: 283.2927271\ttotal: 421ms\tremaining: 180ms\n",
      "701:\tlearn: 283.1943170\ttotal: 422ms\tremaining: 179ms\n",
      "702:\tlearn: 283.1656178\ttotal: 422ms\tremaining: 178ms\n",
      "703:\tlearn: 283.1102622\ttotal: 423ms\tremaining: 178ms\n",
      "704:\tlearn: 282.9679059\ttotal: 423ms\tremaining: 177ms\n",
      "705:\tlearn: 282.9470453\ttotal: 424ms\tremaining: 176ms\n",
      "706:\tlearn: 282.9087636\ttotal: 424ms\tremaining: 176ms\n",
      "707:\tlearn: 282.8899160\ttotal: 424ms\tremaining: 175ms\n",
      "708:\tlearn: 282.8378389\ttotal: 425ms\tremaining: 174ms\n",
      "709:\tlearn: 282.7878160\ttotal: 425ms\tremaining: 174ms\n",
      "710:\tlearn: 282.6631450\ttotal: 426ms\tremaining: 173ms\n",
      "711:\tlearn: 282.6329607\ttotal: 426ms\tremaining: 172ms\n",
      "712:\tlearn: 282.5628620\ttotal: 427ms\tremaining: 172ms\n",
      "713:\tlearn: 282.4245026\ttotal: 428ms\tremaining: 171ms\n",
      "714:\tlearn: 282.3921637\ttotal: 428ms\tremaining: 171ms\n",
      "715:\tlearn: 282.2767052\ttotal: 429ms\tremaining: 170ms\n",
      "716:\tlearn: 282.2199081\ttotal: 429ms\tremaining: 169ms\n",
      "717:\tlearn: 282.1406046\ttotal: 430ms\tremaining: 169ms\n",
      "718:\tlearn: 282.0635950\ttotal: 430ms\tremaining: 168ms\n",
      "719:\tlearn: 282.0345986\ttotal: 431ms\tremaining: 168ms\n",
      "720:\tlearn: 281.9122482\ttotal: 432ms\tremaining: 167ms\n",
      "721:\tlearn: 281.8401632\ttotal: 432ms\tremaining: 166ms\n",
      "722:\tlearn: 281.7923844\ttotal: 433ms\tremaining: 166ms\n",
      "723:\tlearn: 281.7739376\ttotal: 433ms\tremaining: 165ms\n",
      "724:\tlearn: 281.6658037\ttotal: 434ms\tremaining: 165ms\n",
      "725:\tlearn: 281.6192920\ttotal: 434ms\tremaining: 164ms\n",
      "726:\tlearn: 281.5611172\ttotal: 435ms\tremaining: 163ms\n",
      "727:\tlearn: 281.5294481\ttotal: 435ms\tremaining: 163ms\n",
      "728:\tlearn: 281.4174341\ttotal: 436ms\tremaining: 162ms\n",
      "729:\tlearn: 281.3648306\ttotal: 436ms\tremaining: 161ms\n",
      "730:\tlearn: 281.3327892\ttotal: 437ms\tremaining: 161ms\n",
      "731:\tlearn: 281.2949465\ttotal: 437ms\tremaining: 160ms\n",
      "732:\tlearn: 281.1747232\ttotal: 438ms\tremaining: 159ms\n",
      "733:\tlearn: 281.0770568\ttotal: 438ms\tremaining: 159ms\n",
      "734:\tlearn: 281.0169247\ttotal: 439ms\tremaining: 158ms\n",
      "735:\tlearn: 280.9008658\ttotal: 439ms\tremaining: 158ms\n",
      "736:\tlearn: 280.8269738\ttotal: 440ms\tremaining: 157ms\n",
      "737:\tlearn: 280.8088726\ttotal: 440ms\tremaining: 156ms\n",
      "738:\tlearn: 280.6900197\ttotal: 441ms\tremaining: 156ms\n",
      "739:\tlearn: 280.6709167\ttotal: 441ms\tremaining: 155ms\n",
      "740:\tlearn: 280.5679921\ttotal: 442ms\tremaining: 154ms\n",
      "741:\tlearn: 280.4686424\ttotal: 442ms\tremaining: 154ms\n",
      "742:\tlearn: 280.4056370\ttotal: 443ms\tremaining: 153ms\n",
      "743:\tlearn: 280.3781849\ttotal: 443ms\tremaining: 153ms\n",
      "744:\tlearn: 280.3383107\ttotal: 444ms\tremaining: 152ms\n",
      "745:\tlearn: 280.3114567\ttotal: 444ms\tremaining: 151ms\n",
      "746:\tlearn: 280.2757593\ttotal: 445ms\tremaining: 151ms\n",
      "747:\tlearn: 280.2373545\ttotal: 445ms\tremaining: 150ms\n",
      "748:\tlearn: 280.1931577\ttotal: 446ms\tremaining: 149ms\n",
      "749:\tlearn: 280.1621126\ttotal: 446ms\tremaining: 149ms\n",
      "750:\tlearn: 280.1259558\ttotal: 447ms\tremaining: 148ms\n",
      "751:\tlearn: 280.1041596\ttotal: 447ms\tremaining: 148ms\n",
      "752:\tlearn: 280.0763197\ttotal: 448ms\tremaining: 147ms\n",
      "753:\tlearn: 279.9632623\ttotal: 448ms\tremaining: 146ms\n",
      "754:\tlearn: 279.9342361\ttotal: 449ms\tremaining: 146ms\n",
      "755:\tlearn: 279.9132943\ttotal: 449ms\tremaining: 145ms\n",
      "756:\tlearn: 279.7972837\ttotal: 450ms\tremaining: 144ms\n",
      "757:\tlearn: 279.7731242\ttotal: 450ms\tremaining: 144ms\n",
      "758:\tlearn: 279.7579911\ttotal: 451ms\tremaining: 143ms\n",
      "759:\tlearn: 279.7353282\ttotal: 451ms\tremaining: 143ms\n",
      "760:\tlearn: 279.6977193\ttotal: 452ms\tremaining: 142ms\n",
      "761:\tlearn: 279.5928039\ttotal: 452ms\tremaining: 141ms\n",
      "762:\tlearn: 279.5645825\ttotal: 453ms\tremaining: 141ms\n",
      "763:\tlearn: 279.5576820\ttotal: 453ms\tremaining: 140ms\n",
      "764:\tlearn: 279.5312318\ttotal: 454ms\tremaining: 139ms\n",
      "765:\tlearn: 279.3988543\ttotal: 454ms\tremaining: 139ms\n",
      "766:\tlearn: 279.2747479\ttotal: 455ms\tremaining: 138ms\n",
      "767:\tlearn: 279.2578399\ttotal: 455ms\tremaining: 138ms\n",
      "768:\tlearn: 279.2418746\ttotal: 456ms\tremaining: 137ms\n",
      "769:\tlearn: 279.2117696\ttotal: 456ms\tremaining: 136ms\n",
      "770:\tlearn: 279.1633879\ttotal: 457ms\tremaining: 136ms\n",
      "771:\tlearn: 279.0456852\ttotal: 457ms\tremaining: 135ms\n",
      "772:\tlearn: 279.0237269\ttotal: 458ms\tremaining: 134ms\n",
      "773:\tlearn: 278.8518364\ttotal: 458ms\tremaining: 134ms\n",
      "774:\tlearn: 278.8352152\ttotal: 459ms\tremaining: 133ms\n",
      "775:\tlearn: 278.8110565\ttotal: 459ms\tremaining: 133ms\n",
      "776:\tlearn: 278.6632882\ttotal: 460ms\tremaining: 132ms\n",
      "777:\tlearn: 278.6166948\ttotal: 460ms\tremaining: 131ms\n",
      "778:\tlearn: 278.5990621\ttotal: 461ms\tremaining: 131ms\n",
      "779:\tlearn: 278.5815926\ttotal: 461ms\tremaining: 130ms\n",
      "780:\tlearn: 278.4560672\ttotal: 462ms\tremaining: 129ms\n",
      "781:\tlearn: 278.3506915\ttotal: 462ms\tremaining: 129ms\n",
      "782:\tlearn: 278.2752693\ttotal: 463ms\tremaining: 128ms\n",
      "783:\tlearn: 278.2614480\ttotal: 463ms\tremaining: 128ms\n",
      "784:\tlearn: 278.2285555\ttotal: 464ms\tremaining: 127ms\n",
      "785:\tlearn: 278.2116970\ttotal: 464ms\tremaining: 126ms\n",
      "786:\tlearn: 278.1600868\ttotal: 465ms\tremaining: 126ms\n",
      "787:\tlearn: 278.0956349\ttotal: 465ms\tremaining: 125ms\n",
      "788:\tlearn: 277.9756990\ttotal: 466ms\tremaining: 125ms\n",
      "789:\tlearn: 277.9010704\ttotal: 466ms\tremaining: 124ms\n",
      "790:\tlearn: 277.8174889\ttotal: 467ms\tremaining: 123ms\n",
      "791:\tlearn: 277.7712406\ttotal: 467ms\tremaining: 123ms\n",
      "792:\tlearn: 277.6181583\ttotal: 468ms\tremaining: 122ms\n",
      "793:\tlearn: 277.5990586\ttotal: 468ms\tremaining: 121ms\n",
      "794:\tlearn: 277.5513297\ttotal: 469ms\tremaining: 121ms\n",
      "795:\tlearn: 277.5088390\ttotal: 469ms\tremaining: 120ms\n",
      "796:\tlearn: 277.4906342\ttotal: 470ms\tremaining: 120ms\n",
      "797:\tlearn: 277.3839267\ttotal: 470ms\tremaining: 119ms\n",
      "798:\tlearn: 277.3439426\ttotal: 471ms\tremaining: 118ms\n",
      "799:\tlearn: 277.3008650\ttotal: 471ms\tremaining: 118ms\n",
      "800:\tlearn: 277.2732279\ttotal: 472ms\tremaining: 117ms\n",
      "801:\tlearn: 277.2603817\ttotal: 472ms\tremaining: 117ms\n",
      "802:\tlearn: 277.2455790\ttotal: 473ms\tremaining: 116ms\n",
      "803:\tlearn: 277.0986559\ttotal: 473ms\tremaining: 115ms\n",
      "804:\tlearn: 277.0744469\ttotal: 474ms\tremaining: 115ms\n",
      "805:\tlearn: 276.9747824\ttotal: 474ms\tremaining: 114ms\n",
      "806:\tlearn: 276.9496346\ttotal: 475ms\tremaining: 114ms\n",
      "807:\tlearn: 276.9006302\ttotal: 475ms\tremaining: 113ms\n",
      "808:\tlearn: 276.8524088\ttotal: 476ms\tremaining: 112ms\n",
      "809:\tlearn: 276.8220311\ttotal: 476ms\tremaining: 112ms\n",
      "810:\tlearn: 276.7884742\ttotal: 477ms\tremaining: 111ms\n",
      "811:\tlearn: 276.7668644\ttotal: 477ms\tremaining: 110ms\n",
      "812:\tlearn: 276.7421754\ttotal: 478ms\tremaining: 110ms\n",
      "813:\tlearn: 276.7262215\ttotal: 478ms\tremaining: 109ms\n",
      "814:\tlearn: 276.7069242\ttotal: 479ms\tremaining: 109ms\n",
      "815:\tlearn: 276.6854626\ttotal: 479ms\tremaining: 108ms\n",
      "816:\tlearn: 276.5691099\ttotal: 480ms\tremaining: 107ms\n",
      "817:\tlearn: 276.4658667\ttotal: 480ms\tremaining: 107ms\n",
      "818:\tlearn: 276.3883132\ttotal: 481ms\tremaining: 106ms\n",
      "819:\tlearn: 276.2732367\ttotal: 481ms\tremaining: 106ms\n",
      "820:\tlearn: 276.2555252\ttotal: 482ms\tremaining: 105ms\n",
      "821:\tlearn: 276.1971843\ttotal: 482ms\tremaining: 104ms\n",
      "822:\tlearn: 276.1311418\ttotal: 483ms\tremaining: 104ms\n",
      "823:\tlearn: 276.1068430\ttotal: 483ms\tremaining: 103ms\n",
      "824:\tlearn: 276.0115616\ttotal: 484ms\tremaining: 103ms\n",
      "825:\tlearn: 275.9841377\ttotal: 484ms\tremaining: 102ms\n",
      "826:\tlearn: 275.9160536\ttotal: 485ms\tremaining: 101ms\n",
      "827:\tlearn: 275.8695166\ttotal: 485ms\tremaining: 101ms\n",
      "828:\tlearn: 275.7818316\ttotal: 486ms\tremaining: 100ms\n",
      "829:\tlearn: 275.7355192\ttotal: 486ms\tremaining: 99.6ms\n",
      "830:\tlearn: 275.7111756\ttotal: 487ms\tremaining: 99ms\n",
      "831:\tlearn: 275.6384313\ttotal: 487ms\tremaining: 98.4ms\n",
      "832:\tlearn: 275.5250060\ttotal: 488ms\tremaining: 97.8ms\n",
      "833:\tlearn: 275.4265111\ttotal: 488ms\tremaining: 97.2ms\n",
      "834:\tlearn: 275.3832726\ttotal: 489ms\tremaining: 96.6ms\n",
      "835:\tlearn: 275.2725253\ttotal: 489ms\tremaining: 96ms\n",
      "836:\tlearn: 275.2659535\ttotal: 490ms\tremaining: 95.4ms\n",
      "837:\tlearn: 275.2458945\ttotal: 490ms\tremaining: 94.8ms\n",
      "838:\tlearn: 275.2056742\ttotal: 491ms\tremaining: 94.2ms\n",
      "839:\tlearn: 275.1951752\ttotal: 491ms\tremaining: 93.6ms\n",
      "840:\tlearn: 275.1681221\ttotal: 492ms\tremaining: 93ms\n",
      "841:\tlearn: 275.1162415\ttotal: 492ms\tremaining: 92.4ms\n",
      "842:\tlearn: 275.1035692\ttotal: 493ms\tremaining: 91.8ms\n",
      "843:\tlearn: 275.0069367\ttotal: 493ms\tremaining: 91.2ms\n",
      "844:\tlearn: 274.9875002\ttotal: 494ms\tremaining: 90.6ms\n",
      "845:\tlearn: 274.9706245\ttotal: 494ms\tremaining: 90ms\n",
      "846:\tlearn: 274.9499803\ttotal: 495ms\tremaining: 89.4ms\n",
      "847:\tlearn: 274.8464718\ttotal: 495ms\tremaining: 88.8ms\n",
      "848:\tlearn: 274.8241356\ttotal: 496ms\tremaining: 88.2ms\n",
      "849:\tlearn: 274.8057259\ttotal: 496ms\tremaining: 87.6ms\n",
      "850:\tlearn: 274.7917671\ttotal: 497ms\tremaining: 87ms\n",
      "851:\tlearn: 274.7343030\ttotal: 497ms\tremaining: 86.4ms\n",
      "852:\tlearn: 274.6271067\ttotal: 498ms\tremaining: 85.8ms\n",
      "853:\tlearn: 274.5304727\ttotal: 498ms\tremaining: 85.2ms\n",
      "854:\tlearn: 274.4927755\ttotal: 499ms\tremaining: 84.6ms\n",
      "855:\tlearn: 274.4018559\ttotal: 499ms\tremaining: 84ms\n",
      "856:\tlearn: 274.3608373\ttotal: 500ms\tremaining: 83.4ms\n",
      "857:\tlearn: 274.3381687\ttotal: 500ms\tremaining: 82.8ms\n",
      "858:\tlearn: 274.2554258\ttotal: 501ms\tremaining: 82.2ms\n",
      "859:\tlearn: 274.2048671\ttotal: 501ms\tremaining: 81.6ms\n",
      "860:\tlearn: 274.1423303\ttotal: 502ms\tremaining: 81ms\n",
      "861:\tlearn: 274.1236756\ttotal: 502ms\tremaining: 80.4ms\n",
      "862:\tlearn: 274.1032662\ttotal: 503ms\tremaining: 79.8ms\n",
      "863:\tlearn: 274.0249316\ttotal: 504ms\tremaining: 79.3ms\n",
      "864:\tlearn: 273.9122188\ttotal: 504ms\tremaining: 78.7ms\n",
      "865:\tlearn: 273.8905454\ttotal: 504ms\tremaining: 78.1ms\n",
      "866:\tlearn: 273.7900372\ttotal: 505ms\tremaining: 77.5ms\n",
      "867:\tlearn: 273.6504670\ttotal: 506ms\tremaining: 76.9ms\n",
      "868:\tlearn: 273.6369533\ttotal: 506ms\tremaining: 76.3ms\n",
      "869:\tlearn: 273.6210117\ttotal: 507ms\tremaining: 75.7ms\n",
      "870:\tlearn: 273.5362577\ttotal: 507ms\tremaining: 75.1ms\n",
      "871:\tlearn: 273.4931998\ttotal: 507ms\tremaining: 74.5ms\n",
      "872:\tlearn: 273.4896976\ttotal: 508ms\tremaining: 73.9ms\n",
      "873:\tlearn: 273.4515564\ttotal: 508ms\tremaining: 73.3ms\n",
      "874:\tlearn: 273.4310982\ttotal: 509ms\tremaining: 72.7ms\n",
      "875:\tlearn: 273.3499872\ttotal: 509ms\tremaining: 72.1ms\n",
      "876:\tlearn: 273.3136649\ttotal: 510ms\tremaining: 71.5ms\n",
      "877:\tlearn: 273.2632111\ttotal: 511ms\tremaining: 70.9ms\n",
      "878:\tlearn: 273.1606882\ttotal: 512ms\tremaining: 70.4ms\n",
      "879:\tlearn: 273.1409054\ttotal: 512ms\tremaining: 69.8ms\n",
      "880:\tlearn: 273.0542487\ttotal: 513ms\tremaining: 69.2ms\n",
      "881:\tlearn: 272.9588906\ttotal: 513ms\tremaining: 68.7ms\n",
      "882:\tlearn: 272.8945474\ttotal: 514ms\tremaining: 68.1ms\n",
      "883:\tlearn: 272.8557994\ttotal: 514ms\tremaining: 67.5ms\n",
      "884:\tlearn: 272.8182923\ttotal: 515ms\tremaining: 66.9ms\n",
      "885:\tlearn: 272.7331594\ttotal: 515ms\tremaining: 66.3ms\n",
      "886:\tlearn: 272.7175716\ttotal: 516ms\tremaining: 65.7ms\n",
      "887:\tlearn: 272.6970275\ttotal: 516ms\tremaining: 65.1ms\n",
      "888:\tlearn: 272.6787474\ttotal: 517ms\tremaining: 64.5ms\n",
      "889:\tlearn: 272.6254287\ttotal: 518ms\tremaining: 64ms\n",
      "890:\tlearn: 272.6129150\ttotal: 518ms\tremaining: 63.4ms\n",
      "891:\tlearn: 272.4781428\ttotal: 519ms\tremaining: 62.8ms\n",
      "892:\tlearn: 272.3897990\ttotal: 519ms\tremaining: 62.2ms\n",
      "893:\tlearn: 272.3668933\ttotal: 520ms\tremaining: 61.6ms\n",
      "894:\tlearn: 272.2560720\ttotal: 520ms\tremaining: 61ms\n",
      "895:\tlearn: 272.2398404\ttotal: 521ms\tremaining: 60.4ms\n",
      "896:\tlearn: 272.1575347\ttotal: 521ms\tremaining: 59.9ms\n",
      "897:\tlearn: 272.1420854\ttotal: 522ms\tremaining: 59.3ms\n",
      "898:\tlearn: 272.0526791\ttotal: 522ms\tremaining: 58.7ms\n",
      "899:\tlearn: 271.9727735\ttotal: 523ms\tremaining: 58.1ms\n",
      "900:\tlearn: 271.9336397\ttotal: 524ms\tremaining: 57.5ms\n",
      "901:\tlearn: 271.9172490\ttotal: 524ms\tremaining: 56.9ms\n",
      "902:\tlearn: 271.8802493\ttotal: 524ms\tremaining: 56.3ms\n",
      "903:\tlearn: 271.8690434\ttotal: 525ms\tremaining: 55.7ms\n",
      "904:\tlearn: 271.8560428\ttotal: 525ms\tremaining: 55.1ms\n",
      "905:\tlearn: 271.8009264\ttotal: 526ms\tremaining: 54.6ms\n",
      "906:\tlearn: 271.7944129\ttotal: 526ms\tremaining: 54ms\n",
      "907:\tlearn: 271.7581448\ttotal: 527ms\tremaining: 53.4ms\n",
      "908:\tlearn: 271.6642475\ttotal: 527ms\tremaining: 52.8ms\n",
      "909:\tlearn: 271.5826864\ttotal: 528ms\tremaining: 52.2ms\n",
      "910:\tlearn: 271.4877599\ttotal: 530ms\tremaining: 51.7ms\n",
      "911:\tlearn: 271.4473522\ttotal: 533ms\tremaining: 51.4ms\n",
      "912:\tlearn: 271.4190884\ttotal: 537ms\tremaining: 51.1ms\n",
      "913:\tlearn: 271.3803904\ttotal: 538ms\tremaining: 50.6ms\n",
      "914:\tlearn: 271.2920913\ttotal: 539ms\tremaining: 50.1ms\n",
      "915:\tlearn: 271.1988334\ttotal: 540ms\tremaining: 49.5ms\n",
      "916:\tlearn: 271.1939665\ttotal: 540ms\tremaining: 48.9ms\n",
      "917:\tlearn: 271.1780678\ttotal: 541ms\tremaining: 48.3ms\n",
      "918:\tlearn: 271.1315787\ttotal: 541ms\tremaining: 47.7ms\n",
      "919:\tlearn: 271.0966606\ttotal: 542ms\tremaining: 47.1ms\n",
      "920:\tlearn: 271.0162396\ttotal: 543ms\tremaining: 46.6ms\n",
      "921:\tlearn: 270.9970304\ttotal: 544ms\tremaining: 46ms\n",
      "922:\tlearn: 270.8921567\ttotal: 545ms\tremaining: 45.5ms\n",
      "923:\tlearn: 270.8127370\ttotal: 547ms\tremaining: 45ms\n",
      "924:\tlearn: 270.7055626\ttotal: 547ms\tremaining: 44.4ms\n",
      "925:\tlearn: 270.6880640\ttotal: 549ms\tremaining: 43.8ms\n",
      "926:\tlearn: 270.6762652\ttotal: 550ms\tremaining: 43.3ms\n",
      "927:\tlearn: 270.5987088\ttotal: 551ms\tremaining: 42.7ms\n",
      "928:\tlearn: 270.5573659\ttotal: 552ms\tremaining: 42.2ms\n",
      "929:\tlearn: 270.5369034\ttotal: 554ms\tremaining: 41.7ms\n",
      "930:\tlearn: 270.4115359\ttotal: 555ms\tremaining: 41.1ms\n",
      "931:\tlearn: 270.3905818\ttotal: 556ms\tremaining: 40.6ms\n",
      "932:\tlearn: 270.3670735\ttotal: 557ms\tremaining: 40ms\n",
      "933:\tlearn: 270.3475948\ttotal: 558ms\tremaining: 39.5ms\n",
      "934:\tlearn: 270.2907695\ttotal: 559ms\tremaining: 38.9ms\n",
      "935:\tlearn: 270.2496702\ttotal: 560ms\tremaining: 38.3ms\n",
      "936:\tlearn: 270.2145176\ttotal: 560ms\tremaining: 37.7ms\n",
      "937:\tlearn: 270.1828391\ttotal: 561ms\tremaining: 37.1ms\n",
      "938:\tlearn: 270.1765958\ttotal: 561ms\tremaining: 36.5ms\n",
      "939:\tlearn: 270.1101901\ttotal: 562ms\tremaining: 35.9ms\n",
      "940:\tlearn: 270.0996829\ttotal: 562ms\tremaining: 35.2ms\n",
      "941:\tlearn: 270.0911925\ttotal: 563ms\tremaining: 34.6ms\n",
      "942:\tlearn: 270.0401357\ttotal: 563ms\tremaining: 34ms\n",
      "943:\tlearn: 269.9509796\ttotal: 564ms\tremaining: 33.4ms\n",
      "944:\tlearn: 269.9139593\ttotal: 564ms\tremaining: 32.8ms\n",
      "945:\tlearn: 269.8098324\ttotal: 565ms\tremaining: 32.2ms\n",
      "946:\tlearn: 269.7918757\ttotal: 565ms\tremaining: 31.6ms\n",
      "947:\tlearn: 269.7804621\ttotal: 566ms\tremaining: 31ms\n",
      "948:\tlearn: 269.6530896\ttotal: 566ms\tremaining: 30.4ms\n",
      "949:\tlearn: 269.6369967\ttotal: 567ms\tremaining: 29.8ms\n",
      "950:\tlearn: 269.6270074\ttotal: 567ms\tremaining: 29.2ms\n",
      "951:\tlearn: 269.5846531\ttotal: 568ms\tremaining: 28.6ms\n",
      "952:\tlearn: 269.4968590\ttotal: 568ms\tremaining: 28ms\n",
      "953:\tlearn: 269.4768782\ttotal: 569ms\tremaining: 27.4ms\n",
      "954:\tlearn: 269.4391145\ttotal: 569ms\tremaining: 26.8ms\n",
      "955:\tlearn: 269.4017970\ttotal: 570ms\tremaining: 26.2ms\n",
      "956:\tlearn: 269.3912223\ttotal: 570ms\tremaining: 25.6ms\n",
      "957:\tlearn: 269.3806682\ttotal: 571ms\tremaining: 25ms\n",
      "958:\tlearn: 269.3698725\ttotal: 572ms\tremaining: 24.4ms\n",
      "959:\tlearn: 269.3148320\ttotal: 572ms\tremaining: 23.8ms\n",
      "960:\tlearn: 269.2815586\ttotal: 573ms\tremaining: 23.2ms\n",
      "961:\tlearn: 269.1829857\ttotal: 573ms\tremaining: 22.6ms\n",
      "962:\tlearn: 269.1437904\ttotal: 574ms\tremaining: 22ms\n",
      "963:\tlearn: 269.1333126\ttotal: 574ms\tremaining: 21.4ms\n",
      "964:\tlearn: 269.0696219\ttotal: 575ms\tremaining: 20.8ms\n",
      "965:\tlearn: 269.0042389\ttotal: 575ms\tremaining: 20.2ms\n",
      "966:\tlearn: 268.9084506\ttotal: 576ms\tremaining: 19.6ms\n",
      "967:\tlearn: 268.8932038\ttotal: 576ms\tremaining: 19ms\n",
      "968:\tlearn: 268.8897954\ttotal: 577ms\tremaining: 18.4ms\n",
      "969:\tlearn: 268.8696940\ttotal: 577ms\tremaining: 17.9ms\n",
      "970:\tlearn: 268.7828085\ttotal: 578ms\tremaining: 17.3ms\n",
      "971:\tlearn: 268.6539407\ttotal: 578ms\tremaining: 16.7ms\n",
      "972:\tlearn: 268.5783171\ttotal: 579ms\tremaining: 16.1ms\n",
      "973:\tlearn: 268.5674808\ttotal: 579ms\tremaining: 15.5ms\n",
      "974:\tlearn: 268.5359265\ttotal: 580ms\tremaining: 14.9ms\n",
      "975:\tlearn: 268.4814772\ttotal: 580ms\tremaining: 14.3ms\n",
      "976:\tlearn: 268.4419379\ttotal: 581ms\tremaining: 13.7ms\n",
      "977:\tlearn: 268.4147820\ttotal: 581ms\tremaining: 13.1ms\n",
      "978:\tlearn: 268.3546354\ttotal: 582ms\tremaining: 12.5ms\n",
      "979:\tlearn: 268.3467302\ttotal: 582ms\tremaining: 11.9ms\n",
      "980:\tlearn: 268.3159293\ttotal: 583ms\tremaining: 11.3ms\n",
      "981:\tlearn: 268.2586954\ttotal: 583ms\tremaining: 10.7ms\n",
      "982:\tlearn: 268.2222053\ttotal: 584ms\tremaining: 10.1ms\n",
      "983:\tlearn: 268.1517970\ttotal: 584ms\tremaining: 9.5ms\n",
      "984:\tlearn: 268.0654596\ttotal: 585ms\tremaining: 8.91ms\n",
      "985:\tlearn: 268.0257097\ttotal: 585ms\tremaining: 8.31ms\n",
      "986:\tlearn: 267.8960060\ttotal: 586ms\tremaining: 7.72ms\n",
      "987:\tlearn: 267.8770999\ttotal: 586ms\tremaining: 7.12ms\n",
      "988:\tlearn: 267.8077407\ttotal: 587ms\tremaining: 6.53ms\n",
      "989:\tlearn: 267.7815128\ttotal: 587ms\tremaining: 5.93ms\n",
      "990:\tlearn: 267.7717027\ttotal: 588ms\tremaining: 5.34ms\n",
      "991:\tlearn: 267.7046939\ttotal: 588ms\tremaining: 4.75ms\n",
      "992:\tlearn: 267.6643423\ttotal: 589ms\tremaining: 4.15ms\n",
      "993:\tlearn: 267.5919587\ttotal: 589ms\tremaining: 3.56ms\n",
      "994:\tlearn: 267.5733929\ttotal: 590ms\tremaining: 2.96ms\n",
      "995:\tlearn: 267.5355830\ttotal: 590ms\tremaining: 2.37ms\n",
      "996:\tlearn: 267.4550871\ttotal: 591ms\tremaining: 1.78ms\n",
      "997:\tlearn: 267.3485135\ttotal: 592ms\tremaining: 1.19ms\n",
      "998:\tlearn: 267.3444872\ttotal: 592ms\tremaining: 592us\n",
      "999:\tlearn: 267.2609664\ttotal: 593ms\tremaining: 0us\n"
     ]
    }
   ],
   "source": [
    "catb = CatBoostRegressor()\n",
    "catb_model = catb.fit(X_train, y_train)"
   ]
  },
  {
   "cell_type": "markdown",
   "metadata": {},
   "source": [
    "## Tahmin"
   ]
  },
  {
   "cell_type": "code",
   "execution_count": null,
   "metadata": {},
   "outputs": [],
   "source": [
    "y_pred = catb_model.predict(X_test)\n",
    "np.sqrt(mean_squared_error(y_test, y_pred))"
   ]
  },
  {
   "cell_type": "markdown",
   "metadata": {},
   "source": [
    "## Model Tuning"
   ]
  },
  {
   "cell_type": "code",
   "execution_count": null,
   "metadata": {},
   "outputs": [],
   "source": [
    "catb_grid = {\n",
    "    'iterations': [200,500,1000,2000],\n",
    "    'learning_rate': [0.01, 0.03, 0.05, 0.1],\n",
    "    'depth': [3,4,5,6,7,8] }"
   ]
  },
  {
   "cell_type": "code",
   "execution_count": null,
   "metadata": {},
   "outputs": [],
   "source": [
    "catb = CatBoostRegressor()\n",
    "catb_cv_model = GridSearchCV(catb, catb_grid, cv=5, n_jobs = -1, verbose = 2)"
   ]
  },
  {
   "cell_type": "code",
   "execution_count": null,
   "metadata": {},
   "outputs": [],
   "source": [
    "catb_cv_model.fit(X_train, y_train)"
   ]
  },
  {
   "cell_type": "code",
   "execution_count": null,
   "metadata": {},
   "outputs": [],
   "source": [
    "catb_cv_model.best_params_"
   ]
  },
  {
   "cell_type": "code",
   "execution_count": null,
   "metadata": {},
   "outputs": [],
   "source": [
    "catb_tuned = CatBoostRegressor(iterations = 200, \n",
    "                               learning_rate = 0.01, \n",
    "                               depth = 8)\n",
    "\n",
    "catb_tuned = catb_tuned.fit(X_train,y_train)"
   ]
  },
  {
   "cell_type": "code",
   "execution_count": null,
   "metadata": {},
   "outputs": [],
   "source": [
    "y_pred = catb_tuned.predict(X_test)\n",
    "np.sqrt(mean_squared_error(y_test, y_pred))"
   ]
  },
  {
   "cell_type": "code",
   "execution_count": 98,
   "metadata": {},
   "outputs": [
    {
     "name": "stdout",
     "output_type": "stream",
     "text": [
      "Requirement already satisfied: lightgbm in /home/gulce/anaconda3/lib/python3.9/site-packages (3.3.1)\n",
      "Requirement already satisfied: scikit-learn!=0.22.0 in /home/gulce/anaconda3/lib/python3.9/site-packages (from lightgbm) (0.24.2)\n",
      "Requirement already satisfied: wheel in /home/gulce/anaconda3/lib/python3.9/site-packages (from lightgbm) (0.37.0)\n",
      "Requirement already satisfied: numpy in /home/gulce/anaconda3/lib/python3.9/site-packages (from lightgbm) (1.20.3)\n",
      "Requirement already satisfied: scipy in /home/gulce/anaconda3/lib/python3.9/site-packages (from lightgbm) (1.7.1)\n",
      "Requirement already satisfied: threadpoolctl>=2.0.0 in /home/gulce/anaconda3/lib/python3.9/site-packages (from scikit-learn!=0.22.0->lightgbm) (2.2.0)\n",
      "Requirement already satisfied: joblib>=0.11 in /home/gulce/anaconda3/lib/python3.9/site-packages (from scikit-learn!=0.22.0->lightgbm) (1.1.0)\n"
     ]
    }
   ],
   "source": [
    "!pip install lightgbm"
   ]
  },
  {
   "cell_type": "code",
   "execution_count": 99,
   "metadata": {},
   "outputs": [],
   "source": [
    "from lightgbm import LGBMRegressor"
   ]
  },
  {
   "cell_type": "code",
   "execution_count": null,
   "metadata": {},
   "outputs": [],
   "source": [
    "#conda install -c conda-forge lightgbm"
   ]
  },
  {
   "cell_type": "code",
   "execution_count": null,
   "metadata": {},
   "outputs": [],
   "source": [
    "from lightgbm import LGBMRegressor"
   ]
  },
  {
   "cell_type": "code",
   "execution_count": null,
   "metadata": {},
   "outputs": [],
   "source": [
    "lgbm = LGBMRegressor()\n",
    "lgbm_model = lgbm.fit(X_train, y_train)"
   ]
  },
  {
   "cell_type": "markdown",
   "metadata": {},
   "source": [
    "## Tahmin"
   ]
  },
  {
   "cell_type": "code",
   "execution_count": null,
   "metadata": {},
   "outputs": [],
   "source": [
    "y_pred = lgbm_model.predict(X_test, \n",
    "                            num_iteration = lgbm_model.best_iteration_)"
   ]
  },
  {
   "cell_type": "code",
   "execution_count": null,
   "metadata": {},
   "outputs": [],
   "source": [
    "np.sqrt(mean_squared_error(y_test, y_pred))"
   ]
  },
  {
   "cell_type": "markdown",
   "metadata": {},
   "source": [
    "## Model Tuning"
   ]
  },
  {
   "cell_type": "code",
   "execution_count": null,
   "metadata": {},
   "outputs": [],
   "source": [
    "lgbm_model"
   ]
  },
  {
   "cell_type": "code",
   "execution_count": null,
   "metadata": {},
   "outputs": [],
   "source": [
    "lgbm_grid = {\n",
    "    'colsample_bytree': [0.4, 0.5,0.6,0.9,1],\n",
    "    'learning_rate': [0.01, 0.1, 0.5,1],\n",
    "    'n_estimators': [20, 40, 100, 200, 500,1000],\n",
    "    'max_depth': [1,2,3,4,5,6,7,8] }\n",
    "\n",
    "lgbm = LGBMRegressor()\n",
    "lgbm_cv_model = GridSearchCV(lgbm, lgbm_grid, cv=10, n_jobs = -1, verbose = 2)"
   ]
  },
  {
   "cell_type": "code",
   "execution_count": null,
   "metadata": {},
   "outputs": [],
   "source": [
    "lgbm_cv_model.fit(X_train, y_train)"
   ]
  },
  {
   "cell_type": "code",
   "execution_count": null,
   "metadata": {},
   "outputs": [],
   "source": [
    "lgbm_cv_model.best_params_"
   ]
  },
  {
   "cell_type": "code",
   "execution_count": null,
   "metadata": {},
   "outputs": [],
   "source": [
    "lgbm_tuned = LGBMRegressor(learning_rate = 0.1, \n",
    "                           max_depth = 7, \n",
    "                           n_estimators = 40,\n",
    "                          colsample_bytree = 0.6)\n",
    "\n",
    "lgbm_tuned = lgbm_tuned.fit(X_train,y_train)"
   ]
  },
  {
   "cell_type": "code",
   "execution_count": null,
   "metadata": {},
   "outputs": [],
   "source": [
    "y_pred = lgbm_tuned.predict(X_test)"
   ]
  },
  {
   "cell_type": "code",
   "execution_count": null,
   "metadata": {},
   "outputs": [],
   "source": [
    "np.sqrt(mean_squared_error(y_test, y_pred))"
   ]
  },
  {
   "cell_type": "markdown",
   "metadata": {},
   "source": [
    "# CatBoost"
   ]
  },
  {
   "cell_type": "code",
   "execution_count": null,
   "metadata": {},
   "outputs": [],
   "source": [
    "hit = pd.read_csv(\"Hitters.csv\")\n",
    "df = hit.copy()\n",
    "df = df.dropna()\n",
    "dms = pd.get_dummies(df[['League', 'Division', 'NewLeague']])\n",
    "y = df[\"Salary\"]\n",
    "X_ = df.drop(['Salary', 'League', 'Division', 'NewLeague'], axis=1).astype('float64')\n",
    "X = pd.concat([X_, dms[['League_N', 'Division_W', 'NewLeague_N']]], axis=1)\n",
    "X_train, X_test, y_train, y_test = train_test_split(X, y, \n",
    "                                                    test_size=0.25, \n",
    "                                                    random_state=42)\n"
   ]
  },
  {
   "cell_type": "code",
   "execution_count": 100,
   "metadata": {},
   "outputs": [
    {
     "name": "stdout",
     "output_type": "stream",
     "text": [
      "Requirement already satisfied: catboost in /home/gulce/anaconda3/lib/python3.9/site-packages (1.0.3)\n",
      "Requirement already satisfied: scipy in /home/gulce/anaconda3/lib/python3.9/site-packages (from catboost) (1.7.1)\n",
      "Requirement already satisfied: numpy>=1.16.0 in /home/gulce/anaconda3/lib/python3.9/site-packages (from catboost) (1.20.3)\n",
      "Requirement already satisfied: pandas>=0.24.0 in /home/gulce/anaconda3/lib/python3.9/site-packages (from catboost) (1.3.4)\n",
      "Requirement already satisfied: six in /home/gulce/anaconda3/lib/python3.9/site-packages (from catboost) (1.16.0)\n",
      "Requirement already satisfied: matplotlib in /home/gulce/anaconda3/lib/python3.9/site-packages (from catboost) (3.4.3)\n",
      "Requirement already satisfied: plotly in /home/gulce/anaconda3/lib/python3.9/site-packages (from catboost) (5.5.0)\n",
      "Requirement already satisfied: graphviz in /home/gulce/anaconda3/lib/python3.9/site-packages (from catboost) (0.19.1)\n",
      "Requirement already satisfied: python-dateutil>=2.7.3 in /home/gulce/anaconda3/lib/python3.9/site-packages (from pandas>=0.24.0->catboost) (2.8.2)\n",
      "Requirement already satisfied: pytz>=2017.3 in /home/gulce/anaconda3/lib/python3.9/site-packages (from pandas>=0.24.0->catboost) (2021.3)\n",
      "Requirement already satisfied: cycler>=0.10 in /home/gulce/anaconda3/lib/python3.9/site-packages (from matplotlib->catboost) (0.10.0)\n",
      "Requirement already satisfied: pillow>=6.2.0 in /home/gulce/anaconda3/lib/python3.9/site-packages (from matplotlib->catboost) (8.4.0)\n",
      "Requirement already satisfied: pyparsing>=2.2.1 in /home/gulce/anaconda3/lib/python3.9/site-packages (from matplotlib->catboost) (3.0.4)\n",
      "Requirement already satisfied: kiwisolver>=1.0.1 in /home/gulce/anaconda3/lib/python3.9/site-packages (from matplotlib->catboost) (1.3.1)\n",
      "Requirement already satisfied: tenacity>=6.2.0 in /home/gulce/anaconda3/lib/python3.9/site-packages (from plotly->catboost) (8.0.1)\n"
     ]
    }
   ],
   "source": [
    "!pip install catboost"
   ]
  },
  {
   "cell_type": "code",
   "execution_count": 101,
   "metadata": {},
   "outputs": [],
   "source": [
    "from catboost import CatBoostRegressor"
   ]
  },
  {
   "cell_type": "code",
   "execution_count": null,
   "metadata": {},
   "outputs": [],
   "source": [
    "catb = CatBoostRegressor()\n",
    "catb_model = catb.fit(X_train, y_train)"
   ]
  },
  {
   "cell_type": "markdown",
   "metadata": {},
   "source": [
    "## Tahmin"
   ]
  },
  {
   "cell_type": "code",
   "execution_count": null,
   "metadata": {},
   "outputs": [],
   "source": [
    "y_pred = catb_model.predict(X_test)\n",
    "np.sqrt(mean_squared_error(y_test, y_pred))"
   ]
  },
  {
   "cell_type": "markdown",
   "metadata": {},
   "source": [
    "## Model Tuning"
   ]
  },
  {
   "cell_type": "code",
   "execution_count": null,
   "metadata": {},
   "outputs": [],
   "source": [
    "catb_grid = {\n",
    "    'iterations': [200,500,1000,2000],\n",
    "    'learning_rate': [0.01, 0.03, 0.05, 0.1],\n",
    "    'depth': [3,4,5,6,7,8] }"
   ]
  },
  {
   "cell_type": "code",
   "execution_count": null,
   "metadata": {},
   "outputs": [],
   "source": [
    "catb = CatBoostRegressor()\n",
    "catb_cv_model = GridSearchCV(catb, catb_grid, cv=5, n_jobs = -1, verbose = 2)"
   ]
  },
  {
   "cell_type": "code",
   "execution_count": null,
   "metadata": {},
   "outputs": [],
   "source": [
    "catb_cv_model.fit(X_train, y_train)"
   ]
  },
  {
   "cell_type": "code",
   "execution_count": null,
   "metadata": {},
   "outputs": [],
   "source": [
    "catb_cv_model.best_params_"
   ]
  },
  {
   "cell_type": "code",
   "execution_count": null,
   "metadata": {},
   "outputs": [],
   "source": [
    "catb_tuned = CatBoostRegressor(iterations = 200, \n",
    "                               learning_rate = 0.01, \n",
    "                               depth = 8)\n",
    "\n",
    "catb_tuned = catb_tuned.fit(X_train,y_train)"
   ]
  },
  {
   "cell_type": "code",
   "execution_count": null,
   "metadata": {},
   "outputs": [],
   "source": [
    "y_pred = catb_tuned.predict(X_test)\n",
    "np.sqrt(mean_squared_error(y_test, y_pred))"
   ]
  },
  {
   "cell_type": "code",
   "execution_count": 102,
   "metadata": {},
   "outputs": [
    {
     "name": "stdout",
     "output_type": "stream",
     "text": [
      "Requirement already satisfied: lightgbm in /home/gulce/anaconda3/lib/python3.9/site-packages (3.3.1)\n",
      "Requirement already satisfied: scipy in /home/gulce/anaconda3/lib/python3.9/site-packages (from lightgbm) (1.7.1)\n",
      "Requirement already satisfied: numpy in /home/gulce/anaconda3/lib/python3.9/site-packages (from lightgbm) (1.20.3)\n",
      "Requirement already satisfied: scikit-learn!=0.22.0 in /home/gulce/anaconda3/lib/python3.9/site-packages (from lightgbm) (0.24.2)\n",
      "Requirement already satisfied: wheel in /home/gulce/anaconda3/lib/python3.9/site-packages (from lightgbm) (0.37.0)\n",
      "Requirement already satisfied: joblib>=0.11 in /home/gulce/anaconda3/lib/python3.9/site-packages (from scikit-learn!=0.22.0->lightgbm) (1.1.0)\n",
      "Requirement already satisfied: threadpoolctl>=2.0.0 in /home/gulce/anaconda3/lib/python3.9/site-packages (from scikit-learn!=0.22.0->lightgbm) (2.2.0)\n"
     ]
    }
   ],
   "source": [
    "!pip install lightgbm"
   ]
  },
  {
   "cell_type": "code",
   "execution_count": 103,
   "metadata": {},
   "outputs": [],
   "source": [
    "from lightgbm import LGBMRegressor"
   ]
  },
  {
   "cell_type": "code",
   "execution_count": null,
   "metadata": {},
   "outputs": [],
   "source": [
    "#conda install -c conda-forge lightgbm"
   ]
  },
  {
   "cell_type": "code",
   "execution_count": null,
   "metadata": {},
   "outputs": [],
   "source": [
    "from lightgbm import LGBMRegressor"
   ]
  },
  {
   "cell_type": "code",
   "execution_count": null,
   "metadata": {},
   "outputs": [],
   "source": [
    "lgbm = LGBMRegressor()\n",
    "lgbm_model = lgbm.fit(X_train, y_train)"
   ]
  },
  {
   "cell_type": "markdown",
   "metadata": {},
   "source": [
    "## Tahmin"
   ]
  },
  {
   "cell_type": "code",
   "execution_count": null,
   "metadata": {},
   "outputs": [],
   "source": [
    "y_pred = lgbm_model.predict(X_test, \n",
    "                            num_iteration = lgbm_model.best_iteration_)"
   ]
  },
  {
   "cell_type": "code",
   "execution_count": null,
   "metadata": {},
   "outputs": [],
   "source": [
    "np.sqrt(mean_squared_error(y_test, y_pred))"
   ]
  },
  {
   "cell_type": "markdown",
   "metadata": {},
   "source": [
    "## Model Tuning"
   ]
  },
  {
   "cell_type": "code",
   "execution_count": null,
   "metadata": {},
   "outputs": [],
   "source": [
    "lgbm_model"
   ]
  },
  {
   "cell_type": "code",
   "execution_count": null,
   "metadata": {},
   "outputs": [],
   "source": [
    "lgbm_grid = {\n",
    "    'colsample_bytree': [0.4, 0.5,0.6,0.9,1],\n",
    "    'learning_rate': [0.01, 0.1, 0.5,1],\n",
    "    'n_estimators': [20, 40, 100, 200, 500,1000],\n",
    "    'max_depth': [1,2,3,4,5,6,7,8] }\n",
    "\n",
    "lgbm = LGBMRegressor()\n",
    "lgbm_cv_model = GridSearchCV(lgbm, lgbm_grid, cv=10, n_jobs = -1, verbose = 2)"
   ]
  },
  {
   "cell_type": "code",
   "execution_count": null,
   "metadata": {},
   "outputs": [],
   "source": [
    "lgbm_cv_model.fit(X_train, y_train)"
   ]
  },
  {
   "cell_type": "code",
   "execution_count": null,
   "metadata": {},
   "outputs": [],
   "source": [
    "lgbm_cv_model.best_params_"
   ]
  },
  {
   "cell_type": "code",
   "execution_count": null,
   "metadata": {},
   "outputs": [],
   "source": [
    "lgbm_tuned = LGBMRegressor(learning_rate = 0.1, \n",
    "                           max_depth = 7, \n",
    "                           n_estimators = 40,\n",
    "                          colsample_bytree = 0.6)\n",
    "\n",
    "lgbm_tuned = lgbm_tuned.fit(X_train,y_train)"
   ]
  },
  {
   "cell_type": "code",
   "execution_count": null,
   "metadata": {},
   "outputs": [],
   "source": [
    "y_pred = lgbm_tuned.predict(X_test)"
   ]
  },
  {
   "cell_type": "code",
   "execution_count": null,
   "metadata": {},
   "outputs": [],
   "source": [
    "np.sqrt(mean_squared_error(y_test, y_pred))"
   ]
  },
  {
   "cell_type": "markdown",
   "metadata": {},
   "source": [
    "# CatBoost"
   ]
  },
  {
   "cell_type": "code",
   "execution_count": null,
   "metadata": {},
   "outputs": [],
   "source": [
    "hit = pd.read_csv(\"Hitters.csv\")\n",
    "df = hit.copy()\n",
    "df = df.dropna()\n",
    "dms = pd.get_dummies(df[['League', 'Division', 'NewLeague']])\n",
    "y = df[\"Salary\"]\n",
    "X_ = df.drop(['Salary', 'League', 'Division', 'NewLeague'], axis=1).astype('float64')\n",
    "X = pd.concat([X_, dms[['League_N', 'Division_W', 'NewLeague_N']]], axis=1)\n",
    "X_train, X_test, y_train, y_test = train_test_split(X, y, \n",
    "                                                    test_size=0.25, \n",
    "                                                    random_state=42)\n"
   ]
  },
  {
   "cell_type": "code",
   "execution_count": 10,
   "metadata": {},
   "outputs": [
    {
     "name": "stdout",
     "output_type": "stream",
     "text": [
      "Requirement already satisfied: catboost in /home/gulce/anaconda3/lib/python3.7/site-packages (1.0.3)\n",
      "Requirement already satisfied: numpy>=1.16.0 in /home/gulce/anaconda3/lib/python3.7/site-packages (from catboost) (1.21.4)\n",
      "Requirement already satisfied: graphviz in /home/gulce/anaconda3/lib/python3.7/site-packages (from catboost) (0.19.1)\n",
      "Requirement already satisfied: plotly in /home/gulce/anaconda3/lib/python3.7/site-packages (from catboost) (5.4.0)\n",
      "Requirement already satisfied: six in /home/gulce/anaconda3/lib/python3.7/site-packages (from catboost) (1.11.0)\n",
      "Requirement already satisfied: scipy in /home/gulce/anaconda3/lib/python3.7/site-packages (from catboost) (1.1.0)\n",
      "Requirement already satisfied: matplotlib in /home/gulce/anaconda3/lib/python3.7/site-packages (from catboost) (2.2.3)\n",
      "Requirement already satisfied: pandas>=0.24.0 in /home/gulce/anaconda3/lib/python3.7/site-packages (from catboost) (1.1.5)\n",
      "Requirement already satisfied: python-dateutil>=2.7.3 in /home/gulce/anaconda3/lib/python3.7/site-packages (from pandas>=0.24.0->catboost) (2.7.3)\n",
      "Requirement already satisfied: pytz>=2017.2 in /home/gulce/anaconda3/lib/python3.7/site-packages (from pandas>=0.24.0->catboost) (2018.5)\n",
      "Requirement already satisfied: cycler>=0.10 in /home/gulce/anaconda3/lib/python3.7/site-packages (from matplotlib->catboost) (0.10.0)\n",
      "Requirement already satisfied: pyparsing!=2.0.4,!=2.1.2,!=2.1.6,>=2.0.1 in /home/gulce/anaconda3/lib/python3.7/site-packages (from matplotlib->catboost) (2.2.0)\n",
      "Requirement already satisfied: kiwisolver>=1.0.1 in /home/gulce/anaconda3/lib/python3.7/site-packages (from matplotlib->catboost) (1.0.1)\n",
      "Requirement already satisfied: tenacity>=6.2.0 in /home/gulce/anaconda3/lib/python3.7/site-packages (from plotly->catboost) (8.0.1)\n",
      "Requirement already satisfied: setuptools in /home/gulce/anaconda3/lib/python3.7/site-packages (from kiwisolver>=1.0.1->matplotlib->catboost) (40.2.0)\n"
     ]
    }
   ],
   "source": [
    "!pip install catboost"
   ]
  },
  {
   "cell_type": "code",
   "execution_count": 11,
   "metadata": {},
   "outputs": [
    {
     "ename": "ValueError",
     "evalue": "numpy.ufunc size changed, may indicate binary incompatibility. Expected 216 from C header, got 192 from PyObject",
     "output_type": "error",
     "traceback": [
      "\u001b[0;31m---------------------------------------------------------------------------\u001b[0m",
      "\u001b[0;31mValueError\u001b[0m                                Traceback (most recent call last)",
      "\u001b[0;32m<ipython-input-11-d222a454d36a>\u001b[0m in \u001b[0;36m<module>\u001b[0;34m()\u001b[0m\n\u001b[0;32m----> 1\u001b[0;31m \u001b[0;32mfrom\u001b[0m \u001b[0mcatboost\u001b[0m \u001b[0;32mimport\u001b[0m \u001b[0mCatBoostRegressor\u001b[0m\u001b[0;34m\u001b[0m\u001b[0m\n\u001b[0m",
      "\u001b[0;32m~/anaconda3/lib/python3.7/site-packages/catboost/__init__.py\u001b[0m in \u001b[0;36m<module>\u001b[0;34m()\u001b[0m\n\u001b[0;32m----> 1\u001b[0;31m from .core import (\n\u001b[0m\u001b[1;32m      2\u001b[0m     \u001b[0mFeaturesData\u001b[0m\u001b[0;34m,\u001b[0m \u001b[0mEFstrType\u001b[0m\u001b[0;34m,\u001b[0m \u001b[0mEShapCalcType\u001b[0m\u001b[0;34m,\u001b[0m \u001b[0mEFeaturesSelectionAlgorithm\u001b[0m\u001b[0;34m,\u001b[0m \u001b[0mPool\u001b[0m\u001b[0;34m,\u001b[0m \u001b[0mCatBoost\u001b[0m\u001b[0;34m,\u001b[0m\u001b[0;34m\u001b[0m\u001b[0m\n\u001b[1;32m      3\u001b[0m     \u001b[0mCatBoostClassifier\u001b[0m\u001b[0;34m,\u001b[0m \u001b[0mCatBoostRegressor\u001b[0m\u001b[0;34m,\u001b[0m \u001b[0mCatBoostRanker\u001b[0m\u001b[0;34m,\u001b[0m \u001b[0mCatBoostError\u001b[0m\u001b[0;34m,\u001b[0m \u001b[0mcv\u001b[0m\u001b[0;34m,\u001b[0m \u001b[0mtrain\u001b[0m\u001b[0;34m,\u001b[0m \u001b[0msum_models\u001b[0m\u001b[0;34m,\u001b[0m \u001b[0m_have_equal_features\u001b[0m\u001b[0;34m,\u001b[0m\u001b[0;34m\u001b[0m\u001b[0m\n\u001b[1;32m      4\u001b[0m     \u001b[0mto_regressor\u001b[0m\u001b[0;34m,\u001b[0m \u001b[0mto_classifier\u001b[0m\u001b[0;34m,\u001b[0m \u001b[0mto_ranker\u001b[0m\u001b[0;34m,\u001b[0m \u001b[0mMultiRegressionCustomMetric\u001b[0m\u001b[0;34m,\u001b[0m \u001b[0mMultiRegressionCustomObjective\u001b[0m\u001b[0;34m,\u001b[0m\u001b[0;34m\u001b[0m\u001b[0m\n\u001b[1;32m      5\u001b[0m     \u001b[0mMultiTargetCustomMetric\u001b[0m\u001b[0;34m,\u001b[0m \u001b[0mMultiTargetCustomObjective\u001b[0m\u001b[0;34m\u001b[0m\u001b[0m\n",
      "\u001b[0;32m~/anaconda3/lib/python3.7/site-packages/catboost/core.py\u001b[0m in \u001b[0;36m<module>\u001b[0;34m()\u001b[0m\n\u001b[1;32m     41\u001b[0m \u001b[0m_typeof\u001b[0m \u001b[0;34m=\u001b[0m \u001b[0mtype\u001b[0m\u001b[0;34m\u001b[0m\u001b[0m\n\u001b[1;32m     42\u001b[0m \u001b[0;34m\u001b[0m\u001b[0m\n\u001b[0;32m---> 43\u001b[0;31m \u001b[0;32mfrom\u001b[0m \u001b[0;34m.\u001b[0m\u001b[0mplot_helpers\u001b[0m \u001b[0;32mimport\u001b[0m \u001b[0msave_plot_file\u001b[0m\u001b[0;34m,\u001b[0m \u001b[0mtry_plot_offline\u001b[0m\u001b[0;34m\u001b[0m\u001b[0m\n\u001b[0m\u001b[1;32m     44\u001b[0m \u001b[0;32mfrom\u001b[0m \u001b[0;34m.\u001b[0m \u001b[0;32mimport\u001b[0m \u001b[0m_catboost\u001b[0m\u001b[0;34m\u001b[0m\u001b[0m\n\u001b[1;32m     45\u001b[0m \u001b[0;32mfrom\u001b[0m \u001b[0;34m.\u001b[0m\u001b[0mmetrics\u001b[0m \u001b[0;32mimport\u001b[0m \u001b[0mBuiltinMetric\u001b[0m\u001b[0;34m\u001b[0m\u001b[0m\n",
      "\u001b[0;32m~/anaconda3/lib/python3.7/site-packages/catboost/plot_helpers.py\u001b[0m in \u001b[0;36m<module>\u001b[0;34m()\u001b[0m\n\u001b[1;32m      1\u001b[0m \u001b[0;32mimport\u001b[0m \u001b[0mwarnings\u001b[0m\u001b[0;34m\u001b[0m\u001b[0m\n\u001b[1;32m      2\u001b[0m \u001b[0;34m\u001b[0m\u001b[0m\n\u001b[0;32m----> 3\u001b[0;31m \u001b[0;32mfrom\u001b[0m \u001b[0;34m.\u001b[0m \u001b[0;32mimport\u001b[0m \u001b[0m_catboost\u001b[0m\u001b[0;34m\u001b[0m\u001b[0m\n\u001b[0m\u001b[1;32m      4\u001b[0m \u001b[0mfspath\u001b[0m \u001b[0;34m=\u001b[0m \u001b[0m_catboost\u001b[0m\u001b[0;34m.\u001b[0m\u001b[0mfspath\u001b[0m\u001b[0;34m\u001b[0m\u001b[0m\n\u001b[1;32m      5\u001b[0m \u001b[0;34m\u001b[0m\u001b[0m\n",
      "\u001b[0;32m_catboost.pyx\u001b[0m in \u001b[0;36minit _catboost\u001b[0;34m()\u001b[0m\n",
      "\u001b[0;31mValueError\u001b[0m: numpy.ufunc size changed, may indicate binary incompatibility. Expected 216 from C header, got 192 from PyObject"
     ]
    }
   ],
   "source": [
    "from catboost import CatBoostRegressor"
   ]
  },
  {
   "cell_type": "code",
   "execution_count": null,
   "metadata": {},
   "outputs": [],
   "source": [
    "catb = CatBoostRegressor()\n",
    "catb_model = catb.fit(X_train, y_train)"
   ]
  },
  {
   "cell_type": "markdown",
   "metadata": {},
   "source": [
    "## Tahmin"
   ]
  },
  {
   "cell_type": "code",
   "execution_count": null,
   "metadata": {},
   "outputs": [],
   "source": [
    "y_pred = catb_model.predict(X_test)\n",
    "np.sqrt(mean_squared_error(y_test, y_pred))"
   ]
  },
  {
   "cell_type": "markdown",
   "metadata": {},
   "source": [
    "## Model Tuning"
   ]
  },
  {
   "cell_type": "code",
   "execution_count": null,
   "metadata": {},
   "outputs": [],
   "source": [
    "catb_grid = {\n",
    "    'iterations': [200,500,1000,2000],\n",
    "    'learning_rate': [0.01, 0.03, 0.05, 0.1],\n",
    "    'depth': [3,4,5,6,7,8] }"
   ]
  },
  {
   "cell_type": "code",
   "execution_count": null,
   "metadata": {},
   "outputs": [],
   "source": [
    "catb = CatBoostRegressor()\n",
    "catb_cv_model = GridSearchCV(catb, catb_grid, cv=5, n_jobs = -1, verbose = 2)"
   ]
  },
  {
   "cell_type": "code",
   "execution_count": null,
   "metadata": {},
   "outputs": [],
   "source": [
    "catb_cv_model.fit(X_train, y_train)"
   ]
  },
  {
   "cell_type": "code",
   "execution_count": null,
   "metadata": {},
   "outputs": [],
   "source": [
    "catb_cv_model.best_params_"
   ]
  },
  {
   "cell_type": "code",
   "execution_count": null,
   "metadata": {},
   "outputs": [],
   "source": [
    "catb_tuned = CatBoostRegressor(iterations = 200, \n",
    "                               learning_rate = 0.01, \n",
    "                               depth = 8)\n",
    "\n",
    "catb_tuned = catb_tuned.fit(X_train,y_train)"
   ]
  },
  {
   "cell_type": "code",
   "execution_count": null,
   "metadata": {},
   "outputs": [],
   "source": [
    "y_pred = catb_tuned.predict(X_test)\n",
    "np.sqrt(mean_squared_error(y_test, y_pred))"
   ]
  },
  {
   "cell_type": "code",
   "execution_count": 12,
   "metadata": {},
   "outputs": [
    {
     "name": "stdout",
     "output_type": "stream",
     "text": [
      "Requirement already satisfied: lightgbm in /home/gulce/anaconda3/lib/python3.7/site-packages (3.3.1)\n",
      "Requirement already satisfied: numpy in /home/gulce/anaconda3/lib/python3.7/site-packages (from lightgbm) (1.21.4)\n",
      "Requirement already satisfied: scikit-learn!=0.22.0 in /home/gulce/anaconda3/lib/python3.7/site-packages (from lightgbm) (1.0.1)\n",
      "Requirement already satisfied: wheel in /home/gulce/anaconda3/lib/python3.7/site-packages (from lightgbm) (0.31.1)\n",
      "Requirement already satisfied: scipy in /home/gulce/anaconda3/lib/python3.7/site-packages (from lightgbm) (1.1.0)\n",
      "Requirement already satisfied: joblib>=0.11 in /home/gulce/anaconda3/lib/python3.7/site-packages (from scikit-learn!=0.22.0->lightgbm) (1.1.0)\n",
      "Requirement already satisfied: threadpoolctl>=2.0.0 in /home/gulce/anaconda3/lib/python3.7/site-packages (from scikit-learn!=0.22.0->lightgbm) (3.0.0)\n"
     ]
    }
   ],
   "source": [
    "!pip install lightgbm"
   ]
  },
  {
   "cell_type": "code",
   "execution_count": null,
   "metadata": {},
   "outputs": [],
   "source": [
    "from lightgbm import LGBMRegressor"
   ]
  },
  {
   "cell_type": "code",
   "execution_count": 14,
   "metadata": {},
   "outputs": [
    {
     "ename": "SyntaxError",
     "evalue": "invalid syntax (<ipython-input-14-1139cc5c6a5e>, line 1)",
     "output_type": "error",
     "traceback": [
      "\u001b[0;36m  File \u001b[0;32m\"<ipython-input-14-1139cc5c6a5e>\"\u001b[0;36m, line \u001b[0;32m1\u001b[0m\n\u001b[0;31m    conda install-c conda-forge lightgbm\u001b[0m\n\u001b[0m                ^\u001b[0m\n\u001b[0;31mSyntaxError\u001b[0m\u001b[0;31m:\u001b[0m invalid syntax\n"
     ]
    }
   ],
   "source": [
    "#conda install -c conda-forge lightgbm"
   ]
  },
  {
   "cell_type": "code",
   "execution_count": null,
   "metadata": {},
   "outputs": [],
   "source": [
    "from lightgbm import LGBMRegressor"
   ]
  },
  {
   "cell_type": "code",
   "execution_count": null,
   "metadata": {},
   "outputs": [],
   "source": [
    "lgbm = LGBMRegressor()\n",
    "lgbm_model = lgbm.fit(X_train, y_train)"
   ]
  },
  {
   "cell_type": "markdown",
   "metadata": {},
   "source": [
    "## Tahmin"
   ]
  },
  {
   "cell_type": "code",
   "execution_count": null,
   "metadata": {},
   "outputs": [],
   "source": [
    "y_pred = lgbm_model.predict(X_test, \n",
    "                            num_iteration = lgbm_model.best_iteration_)"
   ]
  },
  {
   "cell_type": "code",
   "execution_count": null,
   "metadata": {},
   "outputs": [],
   "source": [
    "np.sqrt(mean_squared_error(y_test, y_pred))"
   ]
  },
  {
   "cell_type": "markdown",
   "metadata": {},
   "source": [
    "## Model Tuning"
   ]
  },
  {
   "cell_type": "code",
   "execution_count": null,
   "metadata": {},
   "outputs": [],
   "source": [
    "lgbm_model"
   ]
  },
  {
   "cell_type": "code",
   "execution_count": null,
   "metadata": {},
   "outputs": [],
   "source": [
    "lgbm_grid = {\n",
    "    'colsample_bytree': [0.4, 0.5,0.6,0.9,1],\n",
    "    'learning_rate': [0.01, 0.1, 0.5,1],\n",
    "    'n_estimators': [20, 40, 100, 200, 500,1000],\n",
    "    'max_depth': [1,2,3,4,5,6,7,8] }\n",
    "\n",
    "lgbm = LGBMRegressor()\n",
    "lgbm_cv_model = GridSearchCV(lgbm, lgbm_grid, cv=10, n_jobs = -1, verbose = 2)"
   ]
  },
  {
   "cell_type": "code",
   "execution_count": null,
   "metadata": {},
   "outputs": [],
   "source": [
    "lgbm_cv_model.fit(X_train, y_train)"
   ]
  },
  {
   "cell_type": "code",
   "execution_count": null,
   "metadata": {},
   "outputs": [],
   "source": [
    "lgbm_cv_model.best_params_"
   ]
  },
  {
   "cell_type": "code",
   "execution_count": null,
   "metadata": {},
   "outputs": [],
   "source": [
    "lgbm_tuned = LGBMRegressor(learning_rate = 0.1, \n",
    "                           max_depth = 7, \n",
    "                           n_estimators = 40,\n",
    "                          colsample_bytree = 0.6)\n",
    "\n",
    "lgbm_tuned = lgbm_tuned.fit(X_train,y_train)"
   ]
  },
  {
   "cell_type": "code",
   "execution_count": null,
   "metadata": {},
   "outputs": [],
   "source": [
    "y_pred = lgbm_tuned.predict(X_test)"
   ]
  },
  {
   "cell_type": "code",
   "execution_count": null,
   "metadata": {},
   "outputs": [],
   "source": [
    "np.sqrt(mean_squared_error(y_test, y_pred))"
   ]
  },
  {
   "cell_type": "markdown",
   "metadata": {},
   "source": [
    "# CatBoost"
   ]
  },
  {
   "cell_type": "code",
   "execution_count": null,
   "metadata": {},
   "outputs": [],
   "source": [
    "hit = pd.read_csv(\"Hitters.csv\")\n",
    "df = hit.copy()\n",
    "df = df.dropna()\n",
    "dms = pd.get_dummies(df[['League', 'Division', 'NewLeague']])\n",
    "y = df[\"Salary\"]\n",
    "X_ = df.drop(['Salary', 'League', 'Division', 'NewLeague'], axis=1).astype('float64')\n",
    "X = pd.concat([X_, dms[['League_N', 'Division_W', 'NewLeague_N']]], axis=1)\n",
    "X_train, X_test, y_train, y_test = train_test_split(X, y, \n",
    "                                                    test_size=0.25, \n",
    "                                                    random_state=42)\n"
   ]
  },
  {
   "cell_type": "code",
   "execution_count": 15,
   "metadata": {},
   "outputs": [
    {
     "name": "stdout",
     "output_type": "stream",
     "text": [
      "Requirement already satisfied: catboost in /home/gulce/anaconda3/lib/python3.7/site-packages (1.0.3)\n",
      "Requirement already satisfied: six in /home/gulce/anaconda3/lib/python3.7/site-packages (from catboost) (1.11.0)\n",
      "Requirement already satisfied: plotly in /home/gulce/anaconda3/lib/python3.7/site-packages (from catboost) (5.4.0)\n",
      "Requirement already satisfied: pandas>=0.24.0 in /home/gulce/anaconda3/lib/python3.7/site-packages (from catboost) (1.1.5)\n",
      "Requirement already satisfied: matplotlib in /home/gulce/anaconda3/lib/python3.7/site-packages (from catboost) (2.2.3)\n",
      "Requirement already satisfied: graphviz in /home/gulce/anaconda3/lib/python3.7/site-packages (from catboost) (0.19.1)\n",
      "Requirement already satisfied: scipy in /home/gulce/anaconda3/lib/python3.7/site-packages (from catboost) (1.1.0)\n",
      "Requirement already satisfied: numpy>=1.16.0 in /home/gulce/anaconda3/lib/python3.7/site-packages (from catboost) (1.21.4)\n",
      "Requirement already satisfied: pytz>=2017.2 in /home/gulce/anaconda3/lib/python3.7/site-packages (from pandas>=0.24.0->catboost) (2018.5)\n",
      "Requirement already satisfied: python-dateutil>=2.7.3 in /home/gulce/anaconda3/lib/python3.7/site-packages (from pandas>=0.24.0->catboost) (2.7.3)\n",
      "Requirement already satisfied: cycler>=0.10 in /home/gulce/anaconda3/lib/python3.7/site-packages (from matplotlib->catboost) (0.10.0)\n",
      "Requirement already satisfied: pyparsing!=2.0.4,!=2.1.2,!=2.1.6,>=2.0.1 in /home/gulce/anaconda3/lib/python3.7/site-packages (from matplotlib->catboost) (2.2.0)\n",
      "Requirement already satisfied: kiwisolver>=1.0.1 in /home/gulce/anaconda3/lib/python3.7/site-packages (from matplotlib->catboost) (1.0.1)\n",
      "Requirement already satisfied: tenacity>=6.2.0 in /home/gulce/anaconda3/lib/python3.7/site-packages (from plotly->catboost) (8.0.1)\n",
      "Requirement already satisfied: setuptools in /home/gulce/anaconda3/lib/python3.7/site-packages (from kiwisolver>=1.0.1->matplotlib->catboost) (40.2.0)\n"
     ]
    }
   ],
   "source": [
    "!pip install catboost"
   ]
  },
  {
   "cell_type": "code",
   "execution_count": 16,
   "metadata": {},
   "outputs": [
    {
     "ename": "ValueError",
     "evalue": "numpy.ufunc size changed, may indicate binary incompatibility. Expected 216 from C header, got 192 from PyObject",
     "output_type": "error",
     "traceback": [
      "\u001b[0;31m---------------------------------------------------------------------------\u001b[0m",
      "\u001b[0;31mValueError\u001b[0m                                Traceback (most recent call last)",
      "\u001b[0;32m<ipython-input-16-d222a454d36a>\u001b[0m in \u001b[0;36m<module>\u001b[0;34m()\u001b[0m\n\u001b[0;32m----> 1\u001b[0;31m \u001b[0;32mfrom\u001b[0m \u001b[0mcatboost\u001b[0m \u001b[0;32mimport\u001b[0m \u001b[0mCatBoostRegressor\u001b[0m\u001b[0;34m\u001b[0m\u001b[0m\n\u001b[0m",
      "\u001b[0;32m~/anaconda3/lib/python3.7/site-packages/catboost/__init__.py\u001b[0m in \u001b[0;36m<module>\u001b[0;34m()\u001b[0m\n\u001b[0;32m----> 1\u001b[0;31m from .core import (\n\u001b[0m\u001b[1;32m      2\u001b[0m     \u001b[0mFeaturesData\u001b[0m\u001b[0;34m,\u001b[0m \u001b[0mEFstrType\u001b[0m\u001b[0;34m,\u001b[0m \u001b[0mEShapCalcType\u001b[0m\u001b[0;34m,\u001b[0m \u001b[0mEFeaturesSelectionAlgorithm\u001b[0m\u001b[0;34m,\u001b[0m \u001b[0mPool\u001b[0m\u001b[0;34m,\u001b[0m \u001b[0mCatBoost\u001b[0m\u001b[0;34m,\u001b[0m\u001b[0;34m\u001b[0m\u001b[0m\n\u001b[1;32m      3\u001b[0m     \u001b[0mCatBoostClassifier\u001b[0m\u001b[0;34m,\u001b[0m \u001b[0mCatBoostRegressor\u001b[0m\u001b[0;34m,\u001b[0m \u001b[0mCatBoostRanker\u001b[0m\u001b[0;34m,\u001b[0m \u001b[0mCatBoostError\u001b[0m\u001b[0;34m,\u001b[0m \u001b[0mcv\u001b[0m\u001b[0;34m,\u001b[0m \u001b[0mtrain\u001b[0m\u001b[0;34m,\u001b[0m \u001b[0msum_models\u001b[0m\u001b[0;34m,\u001b[0m \u001b[0m_have_equal_features\u001b[0m\u001b[0;34m,\u001b[0m\u001b[0;34m\u001b[0m\u001b[0m\n\u001b[1;32m      4\u001b[0m     \u001b[0mto_regressor\u001b[0m\u001b[0;34m,\u001b[0m \u001b[0mto_classifier\u001b[0m\u001b[0;34m,\u001b[0m \u001b[0mto_ranker\u001b[0m\u001b[0;34m,\u001b[0m \u001b[0mMultiRegressionCustomMetric\u001b[0m\u001b[0;34m,\u001b[0m \u001b[0mMultiRegressionCustomObjective\u001b[0m\u001b[0;34m,\u001b[0m\u001b[0;34m\u001b[0m\u001b[0m\n\u001b[1;32m      5\u001b[0m     \u001b[0mMultiTargetCustomMetric\u001b[0m\u001b[0;34m,\u001b[0m \u001b[0mMultiTargetCustomObjective\u001b[0m\u001b[0;34m\u001b[0m\u001b[0m\n",
      "\u001b[0;32m~/anaconda3/lib/python3.7/site-packages/catboost/core.py\u001b[0m in \u001b[0;36m<module>\u001b[0;34m()\u001b[0m\n\u001b[1;32m     41\u001b[0m \u001b[0m_typeof\u001b[0m \u001b[0;34m=\u001b[0m \u001b[0mtype\u001b[0m\u001b[0;34m\u001b[0m\u001b[0m\n\u001b[1;32m     42\u001b[0m \u001b[0;34m\u001b[0m\u001b[0m\n\u001b[0;32m---> 43\u001b[0;31m \u001b[0;32mfrom\u001b[0m \u001b[0;34m.\u001b[0m\u001b[0mplot_helpers\u001b[0m \u001b[0;32mimport\u001b[0m \u001b[0msave_plot_file\u001b[0m\u001b[0;34m,\u001b[0m \u001b[0mtry_plot_offline\u001b[0m\u001b[0;34m\u001b[0m\u001b[0m\n\u001b[0m\u001b[1;32m     44\u001b[0m \u001b[0;32mfrom\u001b[0m \u001b[0;34m.\u001b[0m \u001b[0;32mimport\u001b[0m \u001b[0m_catboost\u001b[0m\u001b[0;34m\u001b[0m\u001b[0m\n\u001b[1;32m     45\u001b[0m \u001b[0;32mfrom\u001b[0m \u001b[0;34m.\u001b[0m\u001b[0mmetrics\u001b[0m \u001b[0;32mimport\u001b[0m \u001b[0mBuiltinMetric\u001b[0m\u001b[0;34m\u001b[0m\u001b[0m\n",
      "\u001b[0;32m~/anaconda3/lib/python3.7/site-packages/catboost/plot_helpers.py\u001b[0m in \u001b[0;36m<module>\u001b[0;34m()\u001b[0m\n\u001b[1;32m      1\u001b[0m \u001b[0;32mimport\u001b[0m \u001b[0mwarnings\u001b[0m\u001b[0;34m\u001b[0m\u001b[0m\n\u001b[1;32m      2\u001b[0m \u001b[0;34m\u001b[0m\u001b[0m\n\u001b[0;32m----> 3\u001b[0;31m \u001b[0;32mfrom\u001b[0m \u001b[0;34m.\u001b[0m \u001b[0;32mimport\u001b[0m \u001b[0m_catboost\u001b[0m\u001b[0;34m\u001b[0m\u001b[0m\n\u001b[0m\u001b[1;32m      4\u001b[0m \u001b[0mfspath\u001b[0m \u001b[0;34m=\u001b[0m \u001b[0m_catboost\u001b[0m\u001b[0;34m.\u001b[0m\u001b[0mfspath\u001b[0m\u001b[0;34m\u001b[0m\u001b[0m\n\u001b[1;32m      5\u001b[0m \u001b[0;34m\u001b[0m\u001b[0m\n",
      "\u001b[0;32m_catboost.pyx\u001b[0m in \u001b[0;36minit _catboost\u001b[0;34m()\u001b[0m\n",
      "\u001b[0;31mValueError\u001b[0m: numpy.ufunc size changed, may indicate binary incompatibility. Expected 216 from C header, got 192 from PyObject"
     ]
    }
   ],
   "source": [
    "from catboost import CatBoostRegressor"
   ]
  },
  {
   "cell_type": "code",
   "execution_count": null,
   "metadata": {},
   "outputs": [],
   "source": [
    "catb = CatBoostRegressor()\n",
    "catb_model = catb.fit(X_train, y_train)"
   ]
  },
  {
   "cell_type": "markdown",
   "metadata": {},
   "source": [
    "## Tahmin"
   ]
  },
  {
   "cell_type": "code",
   "execution_count": null,
   "metadata": {},
   "outputs": [],
   "source": [
    "y_pred = catb_model.predict(X_test)\n",
    "np.sqrt(mean_squared_error(y_test, y_pred))"
   ]
  },
  {
   "cell_type": "markdown",
   "metadata": {},
   "source": [
    "## Model Tuning"
   ]
  },
  {
   "cell_type": "code",
   "execution_count": null,
   "metadata": {},
   "outputs": [],
   "source": [
    "catb_grid = {\n",
    "    'iterations': [200,500,1000,2000],\n",
    "    'learning_rate': [0.01, 0.03, 0.05, 0.1],\n",
    "    'depth': [3,4,5,6,7,8] }"
   ]
  },
  {
   "cell_type": "code",
   "execution_count": null,
   "metadata": {},
   "outputs": [],
   "source": [
    "catb = CatBoostRegressor()\n",
    "catb_cv_model = GridSearchCV(catb, catb_grid, cv=5, n_jobs = -1, verbose = 2)"
   ]
  },
  {
   "cell_type": "code",
   "execution_count": null,
   "metadata": {},
   "outputs": [],
   "source": [
    "catb_cv_model.fit(X_train, y_train)"
   ]
  },
  {
   "cell_type": "code",
   "execution_count": null,
   "metadata": {},
   "outputs": [],
   "source": [
    "catb_cv_model.best_params_"
   ]
  },
  {
   "cell_type": "code",
   "execution_count": null,
   "metadata": {},
   "outputs": [],
   "source": [
    "catb_tuned = CatBoostRegressor(iterations = 200, \n",
    "                               learning_rate = 0.01, \n",
    "                               depth = 8)\n",
    "\n",
    "catb_tuned = catb_tuned.fit(X_train,y_train)"
   ]
  },
  {
   "cell_type": "code",
   "execution_count": null,
   "metadata": {},
   "outputs": [],
   "source": [
    "y_pred = catb_tuned.predict(X_test)\n",
    "np.sqrt(mean_squared_error(y_test, y_pred))"
   ]
  },
  {
   "cell_type": "code",
   "execution_count": null,
   "metadata": {},
   "outputs": [],
   "source": [
    "# en iyi sonuç GBM alg çıktı "
   ]
  },
  {
   "cell_type": "code",
   "execution_count": null,
   "metadata": {},
   "outputs": [],
   "source": []
  },
  {
   "cell_type": "code",
   "execution_count": null,
   "metadata": {},
   "outputs": [],
   "source": []
  },
  {
   "cell_type": "code",
   "execution_count": null,
   "metadata": {},
   "outputs": [],
   "source": []
  },
  {
   "cell_type": "code",
   "execution_count": null,
   "metadata": {},
   "outputs": [],
   "source": []
  },
  {
   "cell_type": "code",
   "execution_count": null,
   "metadata": {},
   "outputs": [],
   "source": []
  }
 ],
 "metadata": {
  "kernelspec": {
   "display_name": "Python 3 (ipykernel)",
   "language": "python",
   "name": "python3"
  },
  "language_info": {
   "codemirror_mode": {
    "name": "ipython",
    "version": 3
   },
   "file_extension": ".py",
   "mimetype": "text/x-python",
   "name": "python",
   "nbconvert_exporter": "python",
   "pygments_lexer": "ipython3",
   "version": "3.9.7"
  }
 },
 "nbformat": 4,
 "nbformat_minor": 4
}
